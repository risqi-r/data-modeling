{
 "cells": [
  {
   "cell_type": "markdown",
   "metadata": {},
   "source": [
    "# Graded Challenge 2\n",
    "_Graded Challenge_ ini dibuat guna mengevaluasi pembelajaran pada Hacktiv8 Data Science Fulltime Program khususnya pada konsep klasifikasi terutama _Logistic Regression_ dan SVM.\n",
    "\n",
    "_Graded Challenge_ Risqi Rahmatullah Batch 007\n",
    "\n",
    "## Deskripsi\n",
    "\n",
    "### Deskripsi Data\n",
    "\n",
    "This dataset contains about 10 years of daily weather observations from many locations across Australia.\n",
    "\n",
    "**Column meanings**\n",
    "\n",
    "To save space on the screen, most of the columns have abbreviated headings:\n",
    "\n",
    "<table cellpadding=2 cellspacing=0 border=\"1\" class=\"notes\">\n",
    "<colgroup span=\"2\">\n",
    "<colgroup>\n",
    "<colgroup>\n",
    "<thead>\n",
    "<tr class=\"t\">\n",
    "<th style='text-align:center' class=\"cc\" colspan=\"2\" scope=\"colgroup\">Heading</th>\n",
    "<th style='text-align:center' class=\"cc\" scope=\"colgroup\">Meaning<br></th>\n",
    "<th style='text-align:center' class=\"ca\" scope=\"colgroup\">Units<br></th>\n",
    "</tr>\n",
    "</thead>\n",
    "<tbody>\n",
    "<tr>\n",
    "<th style='text-align:left' class=\"bc\" colspan=\"2\" scope=\"row\">Date</th>\n",
    "<td style='text-align:left' class=\"bc\">Day of the month</td>\n",
    "<td style='text-align:left' class=\"ba\">&nbsp;</td>\n",
    "</tr>\n",
    "<tr>\n",
    "<th style='text-align:left' class=\"cc\" colspan=\"2\" scope=\"row\">Day</th>\n",
    "<td style='text-align:left' class=\"cc\">Day of the week</td>\n",
    "<td style='text-align:left' class=\"ca\">first two letters</td>\n",
    "</tr>\n",
    "</tbody>\n",
    "<tbody>\n",
    "<tr>\n",
    "<th style='text-align:left' class=\"cb\" rowspan=\"2\" scope=\"rowgroup\">Temps</th>\n",
    "<th style='text-align:left' class=\"bc\" scope=\"row\">Min</th>\n",
    "<td style='text-align:left' class=\"bc\">Minimum temperature in the 24 hours to 9am.<br />Sometimes only known to the nearest whole degree.</td>\n",
    "<td style='text-align:left' class=\"ba\">degrees Celsius</td>\n",
    "</tr>\n",
    "<tr>\n",
    "<th style='text-align:left' class=\"cc\" scope=\"row\">Max</th>\n",
    "<td style='text-align:left' class=\"cc\">Maximum temperature in the 24 hours from 9am.<br />Sometimes only known to the nearest whole degree.</td>\n",
    "<td style='text-align:left' class=\"ca\">degrees Celsius</td>\n",
    "</tr>\n",
    "</tbody>\n",
    "<tbody>\n",
    "<tr>\n",
    "<th style='text-align:left' class=\"cc\" colspan=\"2\" scope=\"row\">Rainfall</th>\n",
    "<td style='text-align:left' class=\"cc\">Precipitation (rainfall) in the 24 hours to 9am.<br />Sometimes only known to the nearest whole millimetre.</td>\n",
    "<td style='text-align:left' class=\"ca\">millimetres</td>\n",
    "</tr>\n",
    "<tr>\n",
    "<th style='text-align:left' class=\"cc\" colspan=\"2\" scope=\"row\">Evaporation</th>\n",
    "<td style='text-align:left' class=\"cc\">&quot;Class A&quot; pan evaporation in the 24 hours to 9am</td>\n",
    "<td style='text-align:left' class=\"ca\">millimetres</td>\n",
    "</tr>\n",
    "<tr>\n",
    "<th style='text-align:left' class=\"cc\" colspan=\"2\" scope=\"row\">Sun </th>\n",
    "<td style='text-align:left' class=\"cc\">Bright sunshine in the 24 hours to midnight</td>\n",
    "<td style='text-align:left' class=\"ca\">hours</td>\n",
    "</tr>\n",
    "</tbody>\n",
    "<tbody>\n",
    "<tr>\n",
    "<th style='text-align:left' class=\"cb\" rowspan=\"3\" scope=\"rowgroup\">Max wind gust</th>\n",
    "<th style='text-align:left' class=\"bc\" scope=\"row\">Dir</th>\n",
    "<td style='text-align:left' class=\"bc\">Direction of strongest gust in the 24 hours to midnight</td>\n",
    "<td style='text-align:left' class=\"ca\">16 compass points</td>\n",
    "</tr>\n",
    "<tr>\n",
    "<th style='text-align:left' class=\"bc\" scope=\"row\">Speed</th>\n",
    "<td style='text-align:left' class=\"bc\">Speed of strongest wind gust in the 24 hours to midnight</td>\n",
    "<td style='text-align:left' class=\"ba\">kilometres per hour</td>\n",
    "</tr>\n",
    "<tr>\n",
    "<th style='text-align:left' class=\"cc\" scope=\"row\">Time</th>\n",
    "<td style='text-align:left' class=\"cc\">Time of strongest wind gust</td>\n",
    "<td style='text-align:left' class=\"ca\">local time hh:mm</td>\n",
    "</tr>\n",
    "</tbody>\n",
    "<tbody>\n",
    "<tr>\n",
    "<th style='text-align:left' class=\"cb\" rowspan=\"6\" scope=\"rowgroup\">9 am</th>\n",
    "<th style='text-align:left' class=\"bc\" scope=\"row\">Temp</th>\n",
    "<td style='text-align:left' class=\"bc\">Temperature at 9 am</td>\n",
    "<td style='text-align:left' class=\"ba\">degrees Celsius</td>\n",
    "</tr>\n",
    "<tr>\n",
    "<th style='text-align:left' class=\"bc\" scope=\"row\">Humidity</th>\n",
    "<td style='text-align:left' class=\"bc\">Relative humidity at 9 am</td>\n",
    "<td style='text-align:left' class=\"ba\">percent</td>\n",
    "</tr>\n",
    "<tr>\n",
    "<th style='text-align:left' class=\"bc\" scope=\"row\">Cloud</th>\n",
    "<td style='text-align:left' class=\"bc\">Fraction of sky obscured by cloud at 9 am</td>\n",
    "<td style='text-align:left' class=\"ba\">eighths</td>\n",
    "</tr>\n",
    "<tr>\n",
    "<th style='text-align:left' class=\"bc\" scope=\"row\">WindDir</th>\n",
    "<td style='text-align:left' class=\"bc\">Wind direction averaged over 10 minutes prior to 9 am</td>\n",
    "<td style='text-align:left' class=\"ba\">compass points</td>\n",
    "</tr>\n",
    "<tr>\n",
    "<th style='text-align:left' class=\"bc\" scope=\"row\">WindSpeed</th>\n",
    "<td style='text-align:left' class=\"bc\">Wind speed averaged over 10 minutes prior to 9 am</td>\n",
    "<td style='text-align:left' class=\"ba\">kilometres per hour</td>\n",
    "</tr>\n",
    "<tr>\n",
    "<th style='text-align:left' class=\"cc\" scope=\"row\">Pressure</th>\n",
    "<td style='text-align:left' class=\"cc\">Atmospheric pressure reduced to mean sea level at 9 am</td>\n",
    "<td style='text-align:left' class=\"ca\">hectopascals</td>\n",
    "</tr>\n",
    "</tbody>\n",
    "<tbody>\n",
    "<tr>\n",
    "<th style='text-align:left' class=\"ab\" rowspan=\"6\" scope=\"rowgroup\">3 pm</th>\n",
    "<th style='text-align:left' class=\"bc\" scope=\"row\">Temp</th>\n",
    "<td style='text-align:left' class=\"bc\">Temperature at 3 pm</td>\n",
    "<td style='text-align:left' class=\"ba\">degrees Celsius</td>\n",
    "</tr>\n",
    "<tr>\n",
    "<th style='text-align:left' class=\"bc\" scope=\"row\">Humidity</th>\n",
    "<td style='text-align:left' class=\"bc\">Relative humidity at 3 pm</td>\n",
    "<td style='text-align:left' class=\"ba\">percent</td>\n",
    "</tr>\n",
    "<tr>\n",
    "<th style='text-align:left' class=\"bc\" scope=\"row\">Cloud</th>\n",
    "<td style='text-align:left' class=\"bc\">Fraction of sky obscured by cloud at 3 pm</td>\n",
    "<td style='text-align:left' class=\"ba\">eighths</td>\n",
    "</tr>\n",
    "<tr>\n",
    "<th style='text-align:left' class=\"bc\" scope=\"row\">WindDir</th>\n",
    "<td style='text-align:left' class=\"bc\">Wind direction averaged over 10 minutes prior to 3 pm</td>\n",
    "<td style='text-align:left' class=\"ba\">compass points</td>\n",
    "</tr>\n",
    "<tr>\n",
    "<th style='text-align:left' class=\"bc\" scope=\"row\">WindSpeed</th>\n",
    "<td style='text-align:left' class=\"bc\">Wind speed averaged over 10 minutes prior to 3 pm</td>\n",
    "<td style='text-align:left' class=\"ba\">kilometres per hour</td>\n",
    "</tr>\n",
    "<tr>\n",
    "<th style='text-align:left' class=\"ac\" scope=\"row\">Pressure</th>\n",
    "<td style='text-align:left' class=\"ac\">Atmospheric pressure reduced to mean sea level at 3 pm</td>\n",
    "<td style='text-align:left' class=\"aa\">hectopascals</td>\n",
    "</tr>\n",
    "</tbody>\n",
    "</table>"
   ]
  },
  {
   "cell_type": "markdown",
   "metadata": {},
   "source": [
    "RainTomorrow is the target variable to predict. It means -- did it rain the next day, Yes or No? This column is Yes if the rain for that day was 1mm or more.\n",
    "\n",
    "Source & Acknowledgements\n",
    "Observations were drawn from numerous weather stations. The daily observations are available from http://www.bom.gov.au/climate/data.\n",
    "An example of latest weather observations in Canberra: http://www.bom.gov.au/climate/dwo/IDCJDW2801.latest.shtml\n",
    "\n",
    "Definitions adapted from http://www.bom.gov.au/climate/dwo/IDCJDW0000.shtml\n",
    "Data source: http://www.bom.gov.au/climate/dwo/ and http://www.bom.gov.au/climate/data.\n",
    "\n",
    "Copyright Commonwealth of Australia 2010, Bureau of Meteorology.\n",
    "\n",
    "## Sasaran Tugas\n",
    "Graded Challenge 2 ini dibuat guna mengevaluasi konsep Logistic Regression dan SVM sebagai berikut:\n",
    "\n",
    "- Mampu memahami konsep Classification dengan Logistic Regression dan SVM\n",
    "- Mampu mempersiapkan data untuk digunakan dalam model Logistic Regression dan SVM\n",
    "- Mampu mengimplementasikan Logistic Regression dan SVM untuk membuat prediksi"
   ]
  },
  {
   "cell_type": "markdown",
   "metadata": {},
   "source": [
    "## _Libraries_"
   ]
  },
  {
   "cell_type": "code",
   "execution_count": 1,
   "metadata": {},
   "outputs": [],
   "source": [
    "import pandas as pd\n",
    "import numpy as np\n",
    "import matplotlib.pyplot as plt\n",
    "import seaborn as sns\n",
    "from sklearn.model_selection import train_test_split\n",
    "from feature_engine.outliers import Winsorizer\n",
    "from sklearn.impute import SimpleImputer\n",
    "from sklearn.preprocessing import MinMaxScaler, LabelEncoder, OneHotEncoder\n",
    "from sklearn.pipeline import Pipeline\n",
    "from sklearn.compose import ColumnTransformer\n",
    "from sklearn.linear_model import LogisticRegression\n",
    "from sklearn.svm import SVC\n",
    "from sklearn.metrics import confusion_matrix, accuracy_score, classification_report"
   ]
  },
  {
   "cell_type": "markdown",
   "metadata": {},
   "source": [
    "## Pemuatan Data"
   ]
  },
  {
   "cell_type": "code",
   "execution_count": 2,
   "metadata": {
    "scrolled": true
   },
   "outputs": [
    {
     "data": {
      "text/html": [
       "<div>\n",
       "<style scoped>\n",
       "    .dataframe tbody tr th:only-of-type {\n",
       "        vertical-align: middle;\n",
       "    }\n",
       "\n",
       "    .dataframe tbody tr th {\n",
       "        vertical-align: top;\n",
       "    }\n",
       "\n",
       "    .dataframe thead th {\n",
       "        text-align: right;\n",
       "    }\n",
       "</style>\n",
       "<table border=\"1\" class=\"dataframe\">\n",
       "  <thead>\n",
       "    <tr style=\"text-align: right;\">\n",
       "      <th></th>\n",
       "      <th>Date</th>\n",
       "      <th>Location</th>\n",
       "      <th>MinTemp</th>\n",
       "      <th>MaxTemp</th>\n",
       "      <th>Rainfall</th>\n",
       "      <th>Evaporation</th>\n",
       "      <th>Sunshine</th>\n",
       "      <th>WindGustDir</th>\n",
       "      <th>WindGustSpeed</th>\n",
       "      <th>WindDir9am</th>\n",
       "      <th>...</th>\n",
       "      <th>Humidity9am</th>\n",
       "      <th>Humidity3pm</th>\n",
       "      <th>Pressure9am</th>\n",
       "      <th>Pressure3pm</th>\n",
       "      <th>Cloud9am</th>\n",
       "      <th>Cloud3pm</th>\n",
       "      <th>Temp9am</th>\n",
       "      <th>Temp3pm</th>\n",
       "      <th>RainToday</th>\n",
       "      <th>RainTomorrow</th>\n",
       "    </tr>\n",
       "  </thead>\n",
       "  <tbody>\n",
       "    <tr>\n",
       "      <th>0</th>\n",
       "      <td>2008-12-01</td>\n",
       "      <td>Albury</td>\n",
       "      <td>13.4</td>\n",
       "      <td>22.9</td>\n",
       "      <td>0.6</td>\n",
       "      <td>NaN</td>\n",
       "      <td>NaN</td>\n",
       "      <td>W</td>\n",
       "      <td>44.0</td>\n",
       "      <td>W</td>\n",
       "      <td>...</td>\n",
       "      <td>71.0</td>\n",
       "      <td>22.0</td>\n",
       "      <td>1007.7</td>\n",
       "      <td>1007.1</td>\n",
       "      <td>8.0</td>\n",
       "      <td>NaN</td>\n",
       "      <td>16.9</td>\n",
       "      <td>21.8</td>\n",
       "      <td>No</td>\n",
       "      <td>No</td>\n",
       "    </tr>\n",
       "    <tr>\n",
       "      <th>1</th>\n",
       "      <td>2008-12-02</td>\n",
       "      <td>Albury</td>\n",
       "      <td>7.4</td>\n",
       "      <td>25.1</td>\n",
       "      <td>0.0</td>\n",
       "      <td>NaN</td>\n",
       "      <td>NaN</td>\n",
       "      <td>WNW</td>\n",
       "      <td>44.0</td>\n",
       "      <td>NNW</td>\n",
       "      <td>...</td>\n",
       "      <td>44.0</td>\n",
       "      <td>25.0</td>\n",
       "      <td>1010.6</td>\n",
       "      <td>1007.8</td>\n",
       "      <td>NaN</td>\n",
       "      <td>NaN</td>\n",
       "      <td>17.2</td>\n",
       "      <td>24.3</td>\n",
       "      <td>No</td>\n",
       "      <td>No</td>\n",
       "    </tr>\n",
       "    <tr>\n",
       "      <th>2</th>\n",
       "      <td>2008-12-03</td>\n",
       "      <td>Albury</td>\n",
       "      <td>12.9</td>\n",
       "      <td>25.7</td>\n",
       "      <td>0.0</td>\n",
       "      <td>NaN</td>\n",
       "      <td>NaN</td>\n",
       "      <td>WSW</td>\n",
       "      <td>46.0</td>\n",
       "      <td>W</td>\n",
       "      <td>...</td>\n",
       "      <td>38.0</td>\n",
       "      <td>30.0</td>\n",
       "      <td>1007.6</td>\n",
       "      <td>1008.7</td>\n",
       "      <td>NaN</td>\n",
       "      <td>2.0</td>\n",
       "      <td>21.0</td>\n",
       "      <td>23.2</td>\n",
       "      <td>No</td>\n",
       "      <td>No</td>\n",
       "    </tr>\n",
       "    <tr>\n",
       "      <th>3</th>\n",
       "      <td>2008-12-04</td>\n",
       "      <td>Albury</td>\n",
       "      <td>9.2</td>\n",
       "      <td>28.0</td>\n",
       "      <td>0.0</td>\n",
       "      <td>NaN</td>\n",
       "      <td>NaN</td>\n",
       "      <td>NE</td>\n",
       "      <td>24.0</td>\n",
       "      <td>SE</td>\n",
       "      <td>...</td>\n",
       "      <td>45.0</td>\n",
       "      <td>16.0</td>\n",
       "      <td>1017.6</td>\n",
       "      <td>1012.8</td>\n",
       "      <td>NaN</td>\n",
       "      <td>NaN</td>\n",
       "      <td>18.1</td>\n",
       "      <td>26.5</td>\n",
       "      <td>No</td>\n",
       "      <td>No</td>\n",
       "    </tr>\n",
       "    <tr>\n",
       "      <th>4</th>\n",
       "      <td>2008-12-05</td>\n",
       "      <td>Albury</td>\n",
       "      <td>17.5</td>\n",
       "      <td>32.3</td>\n",
       "      <td>1.0</td>\n",
       "      <td>NaN</td>\n",
       "      <td>NaN</td>\n",
       "      <td>W</td>\n",
       "      <td>41.0</td>\n",
       "      <td>ENE</td>\n",
       "      <td>...</td>\n",
       "      <td>82.0</td>\n",
       "      <td>33.0</td>\n",
       "      <td>1010.8</td>\n",
       "      <td>1006.0</td>\n",
       "      <td>7.0</td>\n",
       "      <td>8.0</td>\n",
       "      <td>17.8</td>\n",
       "      <td>29.7</td>\n",
       "      <td>No</td>\n",
       "      <td>No</td>\n",
       "    </tr>\n",
       "  </tbody>\n",
       "</table>\n",
       "<p>5 rows × 23 columns</p>\n",
       "</div>"
      ],
      "text/plain": [
       "         Date Location  MinTemp  MaxTemp  Rainfall  Evaporation  Sunshine  \\\n",
       "0  2008-12-01   Albury     13.4     22.9       0.6          NaN       NaN   \n",
       "1  2008-12-02   Albury      7.4     25.1       0.0          NaN       NaN   \n",
       "2  2008-12-03   Albury     12.9     25.7       0.0          NaN       NaN   \n",
       "3  2008-12-04   Albury      9.2     28.0       0.0          NaN       NaN   \n",
       "4  2008-12-05   Albury     17.5     32.3       1.0          NaN       NaN   \n",
       "\n",
       "  WindGustDir  WindGustSpeed WindDir9am  ... Humidity9am  Humidity3pm  \\\n",
       "0           W           44.0          W  ...        71.0         22.0   \n",
       "1         WNW           44.0        NNW  ...        44.0         25.0   \n",
       "2         WSW           46.0          W  ...        38.0         30.0   \n",
       "3          NE           24.0         SE  ...        45.0         16.0   \n",
       "4           W           41.0        ENE  ...        82.0         33.0   \n",
       "\n",
       "   Pressure9am  Pressure3pm  Cloud9am  Cloud3pm  Temp9am  Temp3pm  RainToday  \\\n",
       "0       1007.7       1007.1       8.0       NaN     16.9     21.8         No   \n",
       "1       1010.6       1007.8       NaN       NaN     17.2     24.3         No   \n",
       "2       1007.6       1008.7       NaN       2.0     21.0     23.2         No   \n",
       "3       1017.6       1012.8       NaN       NaN     18.1     26.5         No   \n",
       "4       1010.8       1006.0       7.0       8.0     17.8     29.7         No   \n",
       "\n",
       "   RainTomorrow  \n",
       "0            No  \n",
       "1            No  \n",
       "2            No  \n",
       "3            No  \n",
       "4            No  \n",
       "\n",
       "[5 rows x 23 columns]"
      ]
     },
     "execution_count": 2,
     "metadata": {},
     "output_type": "execute_result"
    }
   ],
   "source": [
    "# memuat data\n",
    "weather_raw = pd.read_csv('weatherAUS.csv')\n",
    "weather_raw.head()"
   ]
  },
  {
   "cell_type": "code",
   "execution_count": 3,
   "metadata": {},
   "outputs": [
    {
     "name": "stdout",
     "output_type": "stream",
     "text": [
      "<class 'pandas.core.frame.DataFrame'>\n",
      "RangeIndex: 145460 entries, 0 to 145459\n",
      "Data columns (total 23 columns):\n",
      " #   Column         Non-Null Count   Dtype  \n",
      "---  ------         --------------   -----  \n",
      " 0   Date           145460 non-null  object \n",
      " 1   Location       145460 non-null  object \n",
      " 2   MinTemp        143975 non-null  float64\n",
      " 3   MaxTemp        144199 non-null  float64\n",
      " 4   Rainfall       142199 non-null  float64\n",
      " 5   Evaporation    82670 non-null   float64\n",
      " 6   Sunshine       75625 non-null   float64\n",
      " 7   WindGustDir    135134 non-null  object \n",
      " 8   WindGustSpeed  135197 non-null  float64\n",
      " 9   WindDir9am     134894 non-null  object \n",
      " 10  WindDir3pm     141232 non-null  object \n",
      " 11  WindSpeed9am   143693 non-null  float64\n",
      " 12  WindSpeed3pm   142398 non-null  float64\n",
      " 13  Humidity9am    142806 non-null  float64\n",
      " 14  Humidity3pm    140953 non-null  float64\n",
      " 15  Pressure9am    130395 non-null  float64\n",
      " 16  Pressure3pm    130432 non-null  float64\n",
      " 17  Cloud9am       89572 non-null   float64\n",
      " 18  Cloud3pm       86102 non-null   float64\n",
      " 19  Temp9am        143693 non-null  float64\n",
      " 20  Temp3pm        141851 non-null  float64\n",
      " 21  RainToday      142199 non-null  object \n",
      " 22  RainTomorrow   142193 non-null  object \n",
      "dtypes: float64(16), object(7)\n",
      "memory usage: 25.5+ MB\n"
     ]
    }
   ],
   "source": [
    "# ringkasan informasi tentang data\n",
    "weather_raw.info()"
   ]
  },
  {
   "cell_type": "markdown",
   "metadata": {},
   "source": [
    "## Pembersihan Data"
   ]
  },
  {
   "cell_type": "code",
   "execution_count": 4,
   "metadata": {},
   "outputs": [],
   "source": [
    "# mengubah nama kolom agar mudah dalam penulisan\n",
    "weather_raw.columns = [x.lower() for x in weather_raw.columns]"
   ]
  },
  {
   "cell_type": "code",
   "execution_count": 5,
   "metadata": {},
   "outputs": [],
   "source": [
    "# mengubah tipe data kolom 'Date' menjadi datetime\n",
    "weather_raw['date'] = pd.to_datetime(weather_raw.date, infer_datetime_format=True)"
   ]
  },
  {
   "cell_type": "code",
   "execution_count": 6,
   "metadata": {},
   "outputs": [
    {
     "data": {
      "text/html": [
       "<div>\n",
       "<style scoped>\n",
       "    .dataframe tbody tr th:only-of-type {\n",
       "        vertical-align: middle;\n",
       "    }\n",
       "\n",
       "    .dataframe tbody tr th {\n",
       "        vertical-align: top;\n",
       "    }\n",
       "\n",
       "    .dataframe thead th {\n",
       "        text-align: right;\n",
       "    }\n",
       "</style>\n",
       "<table border=\"1\" class=\"dataframe\">\n",
       "  <thead>\n",
       "    <tr style=\"text-align: right;\">\n",
       "      <th></th>\n",
       "      <th>location</th>\n",
       "      <th>mintemp</th>\n",
       "      <th>maxtemp</th>\n",
       "      <th>rainfall</th>\n",
       "      <th>evaporation</th>\n",
       "      <th>sunshine</th>\n",
       "      <th>windgustdir</th>\n",
       "      <th>windgustspeed</th>\n",
       "      <th>winddir9am</th>\n",
       "      <th>winddir3pm</th>\n",
       "      <th>...</th>\n",
       "      <th>pressure3pm</th>\n",
       "      <th>cloud9am</th>\n",
       "      <th>cloud3pm</th>\n",
       "      <th>temp9am</th>\n",
       "      <th>temp3pm</th>\n",
       "      <th>raintoday</th>\n",
       "      <th>raintomorrow</th>\n",
       "      <th>year</th>\n",
       "      <th>month</th>\n",
       "      <th>day</th>\n",
       "    </tr>\n",
       "  </thead>\n",
       "  <tbody>\n",
       "    <tr>\n",
       "      <th>0</th>\n",
       "      <td>Albury</td>\n",
       "      <td>13.4</td>\n",
       "      <td>22.9</td>\n",
       "      <td>0.6</td>\n",
       "      <td>NaN</td>\n",
       "      <td>NaN</td>\n",
       "      <td>W</td>\n",
       "      <td>44.0</td>\n",
       "      <td>W</td>\n",
       "      <td>WNW</td>\n",
       "      <td>...</td>\n",
       "      <td>1007.1</td>\n",
       "      <td>8.0</td>\n",
       "      <td>NaN</td>\n",
       "      <td>16.9</td>\n",
       "      <td>21.8</td>\n",
       "      <td>No</td>\n",
       "      <td>No</td>\n",
       "      <td>2008</td>\n",
       "      <td>12</td>\n",
       "      <td>1</td>\n",
       "    </tr>\n",
       "    <tr>\n",
       "      <th>1</th>\n",
       "      <td>Albury</td>\n",
       "      <td>7.4</td>\n",
       "      <td>25.1</td>\n",
       "      <td>0.0</td>\n",
       "      <td>NaN</td>\n",
       "      <td>NaN</td>\n",
       "      <td>WNW</td>\n",
       "      <td>44.0</td>\n",
       "      <td>NNW</td>\n",
       "      <td>WSW</td>\n",
       "      <td>...</td>\n",
       "      <td>1007.8</td>\n",
       "      <td>NaN</td>\n",
       "      <td>NaN</td>\n",
       "      <td>17.2</td>\n",
       "      <td>24.3</td>\n",
       "      <td>No</td>\n",
       "      <td>No</td>\n",
       "      <td>2008</td>\n",
       "      <td>12</td>\n",
       "      <td>2</td>\n",
       "    </tr>\n",
       "    <tr>\n",
       "      <th>2</th>\n",
       "      <td>Albury</td>\n",
       "      <td>12.9</td>\n",
       "      <td>25.7</td>\n",
       "      <td>0.0</td>\n",
       "      <td>NaN</td>\n",
       "      <td>NaN</td>\n",
       "      <td>WSW</td>\n",
       "      <td>46.0</td>\n",
       "      <td>W</td>\n",
       "      <td>WSW</td>\n",
       "      <td>...</td>\n",
       "      <td>1008.7</td>\n",
       "      <td>NaN</td>\n",
       "      <td>2.0</td>\n",
       "      <td>21.0</td>\n",
       "      <td>23.2</td>\n",
       "      <td>No</td>\n",
       "      <td>No</td>\n",
       "      <td>2008</td>\n",
       "      <td>12</td>\n",
       "      <td>3</td>\n",
       "    </tr>\n",
       "    <tr>\n",
       "      <th>3</th>\n",
       "      <td>Albury</td>\n",
       "      <td>9.2</td>\n",
       "      <td>28.0</td>\n",
       "      <td>0.0</td>\n",
       "      <td>NaN</td>\n",
       "      <td>NaN</td>\n",
       "      <td>NE</td>\n",
       "      <td>24.0</td>\n",
       "      <td>SE</td>\n",
       "      <td>E</td>\n",
       "      <td>...</td>\n",
       "      <td>1012.8</td>\n",
       "      <td>NaN</td>\n",
       "      <td>NaN</td>\n",
       "      <td>18.1</td>\n",
       "      <td>26.5</td>\n",
       "      <td>No</td>\n",
       "      <td>No</td>\n",
       "      <td>2008</td>\n",
       "      <td>12</td>\n",
       "      <td>4</td>\n",
       "    </tr>\n",
       "    <tr>\n",
       "      <th>4</th>\n",
       "      <td>Albury</td>\n",
       "      <td>17.5</td>\n",
       "      <td>32.3</td>\n",
       "      <td>1.0</td>\n",
       "      <td>NaN</td>\n",
       "      <td>NaN</td>\n",
       "      <td>W</td>\n",
       "      <td>41.0</td>\n",
       "      <td>ENE</td>\n",
       "      <td>NW</td>\n",
       "      <td>...</td>\n",
       "      <td>1006.0</td>\n",
       "      <td>7.0</td>\n",
       "      <td>8.0</td>\n",
       "      <td>17.8</td>\n",
       "      <td>29.7</td>\n",
       "      <td>No</td>\n",
       "      <td>No</td>\n",
       "      <td>2008</td>\n",
       "      <td>12</td>\n",
       "      <td>5</td>\n",
       "    </tr>\n",
       "  </tbody>\n",
       "</table>\n",
       "<p>5 rows × 25 columns</p>\n",
       "</div>"
      ],
      "text/plain": [
       "  location  mintemp  maxtemp  rainfall  evaporation  sunshine windgustdir  \\\n",
       "0   Albury     13.4     22.9       0.6          NaN       NaN           W   \n",
       "1   Albury      7.4     25.1       0.0          NaN       NaN         WNW   \n",
       "2   Albury     12.9     25.7       0.0          NaN       NaN         WSW   \n",
       "3   Albury      9.2     28.0       0.0          NaN       NaN          NE   \n",
       "4   Albury     17.5     32.3       1.0          NaN       NaN           W   \n",
       "\n",
       "   windgustspeed winddir9am winddir3pm  ...  pressure3pm  cloud9am  cloud3pm  \\\n",
       "0           44.0          W        WNW  ...       1007.1       8.0       NaN   \n",
       "1           44.0        NNW        WSW  ...       1007.8       NaN       NaN   \n",
       "2           46.0          W        WSW  ...       1008.7       NaN       2.0   \n",
       "3           24.0         SE          E  ...       1012.8       NaN       NaN   \n",
       "4           41.0        ENE         NW  ...       1006.0       7.0       8.0   \n",
       "\n",
       "   temp9am  temp3pm  raintoday  raintomorrow  year  month  day  \n",
       "0     16.9     21.8         No            No  2008     12    1  \n",
       "1     17.2     24.3         No            No  2008     12    2  \n",
       "2     21.0     23.2         No            No  2008     12    3  \n",
       "3     18.1     26.5         No            No  2008     12    4  \n",
       "4     17.8     29.7         No            No  2008     12    5  \n",
       "\n",
       "[5 rows x 25 columns]"
      ]
     },
     "execution_count": 6,
     "metadata": {},
     "output_type": "execute_result"
    }
   ],
   "source": [
    "# membuat kolom tahun, bulan, dan tanggal dari kolom 'date'\n",
    "weather_raw['year'] = weather_raw['date'].dt.year\n",
    "weather_raw['month'] = weather_raw['date'].dt.month\n",
    "weather_raw['day'] = weather_raw['date'].dt.day\n",
    "weather_raw.drop(['date'], axis=1, inplace=True)\n",
    "weather_raw.head()"
   ]
  },
  {
   "cell_type": "code",
   "execution_count": 7,
   "metadata": {},
   "outputs": [
    {
     "name": "stdout",
     "output_type": "stream",
     "text": [
      "['year', 'month', 'day', 'location', 'mintemp', 'maxtemp', 'rainfall', 'evaporation', 'sunshine', 'windgustdir', 'windgustspeed', 'winddir9am', 'winddir3pm', 'windspeed9am', 'windspeed3pm', 'humidity9am', 'humidity3pm', 'pressure9am', 'pressure3pm', 'cloud9am', 'cloud3pm', 'temp9am', 'temp3pm', 'raintoday', 'raintomorrow']\n"
     ]
    },
    {
     "data": {
      "text/html": [
       "<div>\n",
       "<style scoped>\n",
       "    .dataframe tbody tr th:only-of-type {\n",
       "        vertical-align: middle;\n",
       "    }\n",
       "\n",
       "    .dataframe tbody tr th {\n",
       "        vertical-align: top;\n",
       "    }\n",
       "\n",
       "    .dataframe thead th {\n",
       "        text-align: right;\n",
       "    }\n",
       "</style>\n",
       "<table border=\"1\" class=\"dataframe\">\n",
       "  <thead>\n",
       "    <tr style=\"text-align: right;\">\n",
       "      <th></th>\n",
       "      <th>year</th>\n",
       "      <th>month</th>\n",
       "      <th>day</th>\n",
       "      <th>location</th>\n",
       "      <th>mintemp</th>\n",
       "      <th>maxtemp</th>\n",
       "      <th>rainfall</th>\n",
       "      <th>evaporation</th>\n",
       "      <th>sunshine</th>\n",
       "      <th>windgustdir</th>\n",
       "      <th>...</th>\n",
       "      <th>humidity9am</th>\n",
       "      <th>humidity3pm</th>\n",
       "      <th>pressure9am</th>\n",
       "      <th>pressure3pm</th>\n",
       "      <th>cloud9am</th>\n",
       "      <th>cloud3pm</th>\n",
       "      <th>temp9am</th>\n",
       "      <th>temp3pm</th>\n",
       "      <th>raintoday</th>\n",
       "      <th>raintomorrow</th>\n",
       "    </tr>\n",
       "  </thead>\n",
       "  <tbody>\n",
       "    <tr>\n",
       "      <th>0</th>\n",
       "      <td>2008</td>\n",
       "      <td>12</td>\n",
       "      <td>1</td>\n",
       "      <td>Albury</td>\n",
       "      <td>13.4</td>\n",
       "      <td>22.9</td>\n",
       "      <td>0.6</td>\n",
       "      <td>NaN</td>\n",
       "      <td>NaN</td>\n",
       "      <td>W</td>\n",
       "      <td>...</td>\n",
       "      <td>71.0</td>\n",
       "      <td>22.0</td>\n",
       "      <td>1007.7</td>\n",
       "      <td>1007.1</td>\n",
       "      <td>8.0</td>\n",
       "      <td>NaN</td>\n",
       "      <td>16.9</td>\n",
       "      <td>21.8</td>\n",
       "      <td>No</td>\n",
       "      <td>No</td>\n",
       "    </tr>\n",
       "    <tr>\n",
       "      <th>1</th>\n",
       "      <td>2008</td>\n",
       "      <td>12</td>\n",
       "      <td>2</td>\n",
       "      <td>Albury</td>\n",
       "      <td>7.4</td>\n",
       "      <td>25.1</td>\n",
       "      <td>0.0</td>\n",
       "      <td>NaN</td>\n",
       "      <td>NaN</td>\n",
       "      <td>WNW</td>\n",
       "      <td>...</td>\n",
       "      <td>44.0</td>\n",
       "      <td>25.0</td>\n",
       "      <td>1010.6</td>\n",
       "      <td>1007.8</td>\n",
       "      <td>NaN</td>\n",
       "      <td>NaN</td>\n",
       "      <td>17.2</td>\n",
       "      <td>24.3</td>\n",
       "      <td>No</td>\n",
       "      <td>No</td>\n",
       "    </tr>\n",
       "    <tr>\n",
       "      <th>2</th>\n",
       "      <td>2008</td>\n",
       "      <td>12</td>\n",
       "      <td>3</td>\n",
       "      <td>Albury</td>\n",
       "      <td>12.9</td>\n",
       "      <td>25.7</td>\n",
       "      <td>0.0</td>\n",
       "      <td>NaN</td>\n",
       "      <td>NaN</td>\n",
       "      <td>WSW</td>\n",
       "      <td>...</td>\n",
       "      <td>38.0</td>\n",
       "      <td>30.0</td>\n",
       "      <td>1007.6</td>\n",
       "      <td>1008.7</td>\n",
       "      <td>NaN</td>\n",
       "      <td>2.0</td>\n",
       "      <td>21.0</td>\n",
       "      <td>23.2</td>\n",
       "      <td>No</td>\n",
       "      <td>No</td>\n",
       "    </tr>\n",
       "    <tr>\n",
       "      <th>3</th>\n",
       "      <td>2008</td>\n",
       "      <td>12</td>\n",
       "      <td>4</td>\n",
       "      <td>Albury</td>\n",
       "      <td>9.2</td>\n",
       "      <td>28.0</td>\n",
       "      <td>0.0</td>\n",
       "      <td>NaN</td>\n",
       "      <td>NaN</td>\n",
       "      <td>NE</td>\n",
       "      <td>...</td>\n",
       "      <td>45.0</td>\n",
       "      <td>16.0</td>\n",
       "      <td>1017.6</td>\n",
       "      <td>1012.8</td>\n",
       "      <td>NaN</td>\n",
       "      <td>NaN</td>\n",
       "      <td>18.1</td>\n",
       "      <td>26.5</td>\n",
       "      <td>No</td>\n",
       "      <td>No</td>\n",
       "    </tr>\n",
       "    <tr>\n",
       "      <th>4</th>\n",
       "      <td>2008</td>\n",
       "      <td>12</td>\n",
       "      <td>5</td>\n",
       "      <td>Albury</td>\n",
       "      <td>17.5</td>\n",
       "      <td>32.3</td>\n",
       "      <td>1.0</td>\n",
       "      <td>NaN</td>\n",
       "      <td>NaN</td>\n",
       "      <td>W</td>\n",
       "      <td>...</td>\n",
       "      <td>82.0</td>\n",
       "      <td>33.0</td>\n",
       "      <td>1010.8</td>\n",
       "      <td>1006.0</td>\n",
       "      <td>7.0</td>\n",
       "      <td>8.0</td>\n",
       "      <td>17.8</td>\n",
       "      <td>29.7</td>\n",
       "      <td>No</td>\n",
       "      <td>No</td>\n",
       "    </tr>\n",
       "  </tbody>\n",
       "</table>\n",
       "<p>5 rows × 25 columns</p>\n",
       "</div>"
      ],
      "text/plain": [
       "   year  month  day location  mintemp  maxtemp  rainfall  evaporation  \\\n",
       "0  2008     12    1   Albury     13.4     22.9       0.6          NaN   \n",
       "1  2008     12    2   Albury      7.4     25.1       0.0          NaN   \n",
       "2  2008     12    3   Albury     12.9     25.7       0.0          NaN   \n",
       "3  2008     12    4   Albury      9.2     28.0       0.0          NaN   \n",
       "4  2008     12    5   Albury     17.5     32.3       1.0          NaN   \n",
       "\n",
       "   sunshine windgustdir  ...  humidity9am humidity3pm pressure9am  \\\n",
       "0       NaN           W  ...         71.0        22.0      1007.7   \n",
       "1       NaN         WNW  ...         44.0        25.0      1010.6   \n",
       "2       NaN         WSW  ...         38.0        30.0      1007.6   \n",
       "3       NaN          NE  ...         45.0        16.0      1017.6   \n",
       "4       NaN           W  ...         82.0        33.0      1010.8   \n",
       "\n",
       "   pressure3pm  cloud9am  cloud3pm  temp9am  temp3pm  raintoday  raintomorrow  \n",
       "0       1007.1       8.0       NaN     16.9     21.8         No            No  \n",
       "1       1007.8       NaN       NaN     17.2     24.3         No            No  \n",
       "2       1008.7       NaN       2.0     21.0     23.2         No            No  \n",
       "3       1012.8       NaN       NaN     18.1     26.5         No            No  \n",
       "4       1006.0       7.0       8.0     17.8     29.7         No            No  \n",
       "\n",
       "[5 rows x 25 columns]"
      ]
     },
     "execution_count": 7,
     "metadata": {},
     "output_type": "execute_result"
    }
   ],
   "source": [
    "# memindahkan kolom tahun, bulan, dan tanggal ke indeks awal\n",
    "cols = weather_raw.columns.tolist()\n",
    "cols = cols[-3:] + cols[:-3]\n",
    "print(cols)\n",
    "weather_raw = weather_raw[cols]\n",
    "weather_raw.head()"
   ]
  },
  {
   "cell_type": "markdown",
   "metadata": {},
   "source": [
    "Baris yang tidak memiliki nilai pada variabel target akan dihapus karena tidak dapat digunakan dalam pemodelan."
   ]
  },
  {
   "cell_type": "code",
   "execution_count": 8,
   "metadata": {},
   "outputs": [
    {
     "data": {
      "text/plain": [
       "3267"
      ]
     },
     "execution_count": 8,
     "metadata": {},
     "output_type": "execute_result"
    }
   ],
   "source": [
    "# menghitung jumlah _missing values_ pada variabel target\n",
    "weather_raw['raintomorrow'].isna().sum()"
   ]
  },
  {
   "cell_type": "code",
   "execution_count": 9,
   "metadata": {},
   "outputs": [
    {
     "name": "stdout",
     "output_type": "stream",
     "text": [
      "Jumlah baris sebelum dihapus: 145460\n",
      "Jumlah baris setelah dihapus: 142193\n"
     ]
    }
   ],
   "source": [
    "# menghapus baris yang tidak memiliki nilai pada variabel target: kolom 'RainTomorrow'\n",
    "print('Jumlah baris sebelum dihapus:', weather_raw.shape[0])\n",
    "weather = weather_raw[~weather_raw['raintomorrow'].isna()]\n",
    "print('Jumlah baris setelah dihapus:', weather.shape[0])"
   ]
  },
  {
   "cell_type": "markdown",
   "metadata": {},
   "source": [
    "## Eksplorasi Data"
   ]
  },
  {
   "cell_type": "markdown",
   "metadata": {},
   "source": [
    "### Sebaran Data"
   ]
  },
  {
   "cell_type": "code",
   "execution_count": 10,
   "metadata": {},
   "outputs": [
    {
     "data": {
      "text/plain": [
       "No     77.581878\n",
       "Yes    22.418122\n",
       "Name: raintomorrow, dtype: float64"
      ]
     },
     "metadata": {},
     "output_type": "display_data"
    }
   ],
   "source": [
    "# melihat persentasi jumlah nilai variabel target\n",
    "vc = weather['raintomorrow'].value_counts()\n",
    "display(vc / vc.sum() * 100)"
   ]
  },
  {
   "cell_type": "code",
   "execution_count": 11,
   "metadata": {},
   "outputs": [
    {
     "data": {
      "image/png": "[encoded data removed]",
      "text/plain": [
       "<Figure size 432x288 with 1 Axes>"
      ]
     },
     "metadata": {
      "needs_background": "light"
     },
     "output_type": "display_data"
    }
   ],
   "source": [
    "# grafik proporsi nilai variabel target\n",
    "vc.index = vc.index.astype(str)\n",
    "plt.bar(vc.index, vc)\n",
    "xlocs, xlabs = plt.xticks()\n",
    "for i, v in enumerate(vc):\n",
    "    plt.text(xlocs[i]-0.12, v+1000, str(v))\n",
    "plt.show()"
   ]
  },
  {
   "cell_type": "markdown",
   "metadata": {},
   "source": [
    "Terlihat data label tidak seimbang. Jumlah nilai 'Yes' lebih kecil sekitar 3x dibanding jumlah nilai 'No'."
   ]
  },
  {
   "cell_type": "code",
   "execution_count": 12,
   "metadata": {
    "scrolled": false
   },
   "outputs": [
    {
     "data": {
      "image/png": "[encoded data removed]",
      "text/plain": [
       "<Figure size 1080x1080 with 20 Axes>"
      ]
     },
     "metadata": {
      "needs_background": "light"
     },
     "output_type": "display_data"
    }
   ],
   "source": [
    "# melihat sebaran fitur numerik\n",
    "weather.hist(figsize=(15,15))\n",
    "plt.show()"
   ]
  },
  {
   "cell_type": "markdown",
   "metadata": {},
   "source": [
    "Terlihat hanya beberapa kolom saja yang mendekati distribusi normal, seperti 'mintemp'. 'maxtemp', 'windgustspeed', dan 'humidity3pm'"
   ]
  },
  {
   "cell_type": "markdown",
   "metadata": {},
   "source": [
    "### Korelasi"
   ]
  },
  {
   "cell_type": "code",
   "execution_count": 13,
   "metadata": {
    "scrolled": false
   },
   "outputs": [
    {
     "data": {
      "image/png": "[encoded data removed]",
      "text/plain": [
       "<Figure size 1080x576 with 2 Axes>"
      ]
     },
     "metadata": {
      "needs_background": "light"
     },
     "output_type": "display_data"
    }
   ],
   "source": [
    "# melihat korelasi data numerik dengan variabel target\n",
    "plt.figure(figsize = (15,8))\n",
    "sns.heatmap(weather.replace({'Yes': 1, 'No': 0}).corr(), annot=True)\n",
    "plt.show()"
   ]
  },
  {
   "cell_type": "code",
   "execution_count": 14,
   "metadata": {
    "scrolled": true
   },
   "outputs": [
    {
     "name": "stdout",
     "output_type": "stream",
     "text": [
      "location\n"
     ]
    },
    {
     "data": {
      "text/plain": [
       "Adelaide           -0.000546\n",
       "Albany              0.026435\n",
       "Albury             -0.006678\n",
       "AliceSprings       -0.050845\n",
       "BadgerysCreek      -0.008716\n",
       "Ballarat            0.011935\n",
       "Bendigo            -0.013790\n",
       "Brisbane            0.000042\n",
       "Cairns              0.032937\n",
       "Canberra           -0.015111\n",
       "Cobar              -0.033373\n",
       "CoffsHarbour        0.024477\n",
       "Dartmoor            0.031061\n",
       "Darwin              0.015529\n",
       "GoldCoast           0.012590\n",
       "Hobart              0.005275\n",
       "Katherine          -0.013684\n",
       "Launceston          0.002357\n",
       "Melbourne           0.011714\n",
       "MelbourneAirport   -0.002526\n",
       "Mildura            -0.040684\n",
       "Moree              -0.029557\n",
       "MountGambier        0.028111\n",
       "MountGinini         0.019937\n",
       "Newcastle           0.008103\n",
       "Nhil               -0.017715\n",
       "NorahHead           0.017972\n",
       "NorfolkIsland       0.030043\n",
       "Nuriootpa          -0.009501\n",
       "PearceRAAF         -0.013952\n",
       "Penrith            -0.008200\n",
       "Perth              -0.008060\n",
       "PerthAirport       -0.012603\n",
       "Portland            0.049709\n",
       "Richmond           -0.012013\n",
       "Sale               -0.003467\n",
       "SalmonGums         -0.022514\n",
       "Sydney              0.013023\n",
       "SydneyAirport       0.011764\n",
       "Townsville         -0.018784\n",
       "Tuggeranong        -0.012219\n",
       "Uluru              -0.036880\n",
       "WaggaWagga         -0.015451\n",
       "Walpole             0.038352\n",
       "Watsonia            0.007708\n",
       "Williamtown         0.016213\n",
       "Witchcliffe         0.025690\n",
       "Wollongong          0.005209\n",
       "Woomera            -0.055041\n",
       "raintomorrow        1.000000\n",
       "Name: raintomorrow, dtype: float64"
      ]
     },
     "metadata": {},
     "output_type": "display_data"
    },
    {
     "name": "stdout",
     "output_type": "stream",
     "text": [
      "\n",
      "windgustdir\n"
     ]
    },
    {
     "data": {
      "text/plain": [
       "E              -0.047167\n",
       "ENE            -0.036876\n",
       "ESE            -0.033431\n",
       "N               0.029520\n",
       "NE             -0.020473\n",
       "NNE             0.003152\n",
       "NNW             0.031521\n",
       "NW              0.035844\n",
       "S               0.000750\n",
       "SE             -0.024128\n",
       "SSE            -0.018087\n",
       "SSW            -0.002347\n",
       "SW             -0.011768\n",
       "W               0.027620\n",
       "WNW             0.034027\n",
       "WSW             0.006235\n",
       "raintomorrow    1.000000\n",
       "Name: raintomorrow, dtype: float64"
      ]
     },
     "metadata": {},
     "output_type": "display_data"
    },
    {
     "name": "stdout",
     "output_type": "stream",
     "text": [
      "\n",
      "winddir9am\n"
     ]
    },
    {
     "data": {
      "text/plain": [
       "E              -0.048973\n",
       "ENE            -0.027439\n",
       "ESE            -0.043324\n",
       "N               0.059376\n",
       "NE             -0.008993\n",
       "NNE             0.026075\n",
       "NNW             0.049680\n",
       "NW              0.033464\n",
       "S              -0.015866\n",
       "SE             -0.038665\n",
       "SSE            -0.028376\n",
       "SSW            -0.001870\n",
       "SW              0.004506\n",
       "W               0.022007\n",
       "WNW             0.025794\n",
       "WSW             0.012443\n",
       "raintomorrow    1.000000\n",
       "Name: raintomorrow, dtype: float64"
      ]
     },
     "metadata": {},
     "output_type": "display_data"
    },
    {
     "name": "stdout",
     "output_type": "stream",
     "text": [
      "\n",
      "winddir3pm\n"
     ]
    },
    {
     "data": {
      "text/plain": [
       "E              -0.031654\n",
       "ENE            -0.026009\n",
       "ESE            -0.032798\n",
       "N               0.033694\n",
       "NE             -0.020965\n",
       "NNE             0.010732\n",
       "NNW             0.033642\n",
       "NW              0.035246\n",
       "S              -0.005155\n",
       "SE             -0.023014\n",
       "SSE            -0.020589\n",
       "SSW            -0.000489\n",
       "SW             -0.017183\n",
       "W               0.020274\n",
       "WNW             0.032407\n",
       "WSW             0.000110\n",
       "raintomorrow    1.000000\n",
       "Name: raintomorrow, dtype: float64"
      ]
     },
     "metadata": {},
     "output_type": "display_data"
    },
    {
     "name": "stdout",
     "output_type": "stream",
     "text": [
      "\n",
      "raintoday\n"
     ]
    },
    {
     "data": {
      "text/plain": [
       "No             -0.316281\n",
       "Yes             0.306555\n",
       "raintomorrow    1.000000\n",
       "Name: raintomorrow, dtype: float64"
      ]
     },
     "metadata": {},
     "output_type": "display_data"
    },
    {
     "name": "stdout",
     "output_type": "stream",
     "text": [
      "\n",
      "raintomorrow\n"
     ]
    },
    {
     "data": {
      "text/plain": [
       "No             -1.0\n",
       "Yes             1.0\n",
       "raintomorrow    1.0\n",
       "Name: raintomorrow, dtype: float64"
      ]
     },
     "metadata": {},
     "output_type": "display_data"
    },
    {
     "name": "stdout",
     "output_type": "stream",
     "text": [
      "\n"
     ]
    }
   ],
   "source": [
    "# melihat korelasi data non numerik dengan variabel target\n",
    "for col in list(weather.select_dtypes(['object']).columns):\n",
    "    print(col)\n",
    "    display(pd.concat([pd.get_dummies(weather[col]), weather['raintomorrow'].replace({'Yes': 1, 'No': 0})],\n",
    "                      axis=1).corr()['raintomorrow'])\n",
    "    print()"
   ]
  },
  {
   "cell_type": "markdown",
   "metadata": {},
   "source": [
    "Hanya beberapa kolom yang memiliki nilai absolut korelasi dengan kolom target ('raintomorrow') lebih dari 0,2 yaitu 'rainfall', 'sunshine', 'windgustspeed', 'humidity9am', 'humidity3pm', 'pressure9am', 'pressure3pm', 'cloud9am', 'cloud3pm', dan 'raintoday'."
   ]
  },
  {
   "cell_type": "code",
   "execution_count": 15,
   "metadata": {},
   "outputs": [],
   "source": [
    "# seleksi kolom yang memiliki nilai absolut korelasi > 0.2 pada variabel target\n",
    "corr_cols = ['rainfall', 'sunshine', 'windgustspeed', 'humidity9am', 'humidity3pm',\n",
    "             'pressure9am', 'pressure3pm', 'cloud9am', 'cloud3pm', 'raintoday']"
   ]
  },
  {
   "cell_type": "markdown",
   "metadata": {},
   "source": [
    "## Pra-pemrosesan Data"
   ]
  },
  {
   "cell_type": "markdown",
   "metadata": {},
   "source": [
    "### Pemisahan Data _Train_ dan Data _Test_"
   ]
  },
  {
   "cell_type": "code",
   "execution_count": 16,
   "metadata": {
    "scrolled": true
   },
   "outputs": [
    {
     "name": "stdout",
     "output_type": "stream",
     "text": [
      "Jumlah data train: 99535\n",
      "Jumlah data test: 42658\n"
     ]
    }
   ],
   "source": [
    "# corr yes, handling outlier dan scaling, impute missing values with mean, onehotenc categoric\n",
    "fitur = weather.drop(['raintomorrow'], axis=1)\n",
    "target = weather['raintomorrow']\n",
    "\n",
    "# variabel target tidak seimbang jadi kita memakai parameter stratify\n",
    "X_train, X_test, y_train, y_test = train_test_split(fitur, target, test_size=0.3, random_state=3, stratify=target)\n",
    "\n",
    "print('Jumlah data train:', X_train.shape[0])\n",
    "print('Jumlah data test:', X_test.shape[0])"
   ]
  },
  {
   "cell_type": "markdown",
   "metadata": {},
   "source": [
    "Khusus untuk model SVM, kolom yang digunakan hanya kolom yang memiliki nilai korelasi absolut lebih dari 0,2. Ini dilakukan agar perhitungan model lebih cepat."
   ]
  },
  {
   "cell_type": "code",
   "execution_count": 17,
   "metadata": {},
   "outputs": [],
   "source": [
    "X_train_corr = X_train[corr_cols]\n",
    "X_test_corr = X_test[corr_cols]"
   ]
  },
  {
   "cell_type": "markdown",
   "metadata": {},
   "source": [
    "Variabel ini khusus digunakan untuk pipeline pada model inference"
   ]
  },
  {
   "cell_type": "code",
   "execution_count": 18,
   "metadata": {},
   "outputs": [],
   "source": [
    "X_train_pipe = X_train.copy()"
   ]
  },
  {
   "cell_type": "markdown",
   "metadata": {},
   "source": [
    "### Penanganan Pencilan"
   ]
  },
  {
   "cell_type": "code",
   "execution_count": 19,
   "metadata": {
    "scrolled": false
   },
   "outputs": [
    {
     "name": "stdout",
     "output_type": "stream",
     "text": [
      "-----month-----\n",
      "lower: -6.0 upper: 18.0\n",
      "Jumlah outliers: 95284\n",
      "Persentase jumlah outliers: 95.73%\n",
      "\n",
      "-----day-----\n",
      "lower: -14.5 upper: 45.5\n",
      "Jumlah outliers: 97882\n",
      "Persentase jumlah outliers: 98.34%\n",
      "\n",
      "-----mintemp-----\n",
      "lower: -6.200000000000001 upper: 30.6\n",
      "Jumlah outliers: 97100\n",
      "Persentase jumlah outliers: 97.55%\n",
      "\n",
      "-----maxtemp-----\n",
      "lower: 2.4499999999999975 upper: 43.65\n",
      "Jumlah outliers: 15790\n",
      "Persentase jumlah outliers: 15.86%\n",
      "\n",
      "-----rainfall-----\n",
      "lower: -1.2000000000000002 upper: 2.0\n",
      "Jumlah outliers: 80075\n",
      "Persentase jumlah outliers: 80.45%\n",
      "\n",
      "-----evaporation-----\n",
      "lower: -4.600000000000001 upper: 14.600000000000001\n",
      "Jumlah outliers: 94280\n",
      "Persentase jumlah outliers: 94.72%\n",
      "\n",
      "-----sunshine-----\n",
      "lower: -4.05 upper: 19.549999999999997\n",
      "Jumlah outliers: 95638\n",
      "Persentase jumlah outliers: 96.08%\n",
      "\n",
      "-----windgustspeed-----\n",
      "lower: 5.5 upper: 73.5\n",
      "Jumlah outliers: 10393\n",
      "Persentase jumlah outliers: 10.44%\n",
      "\n",
      "-----windspeed9am-----\n",
      "lower: -11.0 upper: 37.0\n",
      "Jumlah outliers: 97541\n",
      "Persentase jumlah outliers: 98.0%\n",
      "\n",
      "-----windspeed3pm-----\n",
      "lower: -3.5 upper: 40.5\n",
      "Jumlah outliers: 97722\n",
      "Persentase jumlah outliers: 98.18%\n",
      "\n",
      "-----humidity9am-----\n",
      "lower: 18.0 upper: 122.0\n",
      "Jumlah outliers: 3167\n",
      "Persentase jumlah outliers: 3.18%\n",
      "\n",
      "-----humidity3pm-----\n",
      "lower: -9.0 upper: 111.0\n",
      "Jumlah outliers: 98488\n",
      "Persentase jumlah outliers: 98.95%\n",
      "\n",
      "-----cloud9am-----\n",
      "lower: -8.0 upper: 16.0\n",
      "Jumlah outliers: 94715\n",
      "Persentase jumlah outliers: 95.16%\n",
      "\n",
      "-----cloud3pm-----\n",
      "lower: -5.5 upper: 14.5\n",
      "Jumlah outliers: 94212\n",
      "Persentase jumlah outliers: 94.65%\n",
      "\n",
      "-----temp9am-----\n",
      "lower: -1.900000000000004 upper: 35.7\n",
      "Jumlah outliers: 97465\n",
      "Persentase jumlah outliers: 97.92%\n",
      "\n",
      "-----temp3pm-----\n",
      "lower: 1.9000000000000057 upper: 41.099999999999994\n",
      "Jumlah outliers: 17673\n",
      "Persentase jumlah outliers: 17.76%\n",
      "\n"
     ]
    }
   ],
   "source": [
    "num_cols = list(X_train.select_dtypes(include=np.number).columns)\n",
    "# code ini sudah tau kalau pakai corr columns\n",
    "for col in num_cols:\n",
    "    q1 = X_train[col].quantile(0.25)\n",
    "    q3 = X_train[col].quantile(0.75)\n",
    "    IQR = q3 - q1\n",
    "    lower = q1 - 1.5 * IQR\n",
    "    upper = q3 + 1.5 * IQR\n",
    "    outliers = ((X_train['rainfall'] > lower) & (X_train['rainfall'] < upper)).sum()\n",
    "    if outliers > 0:\n",
    "        print(f'-----{col}-----')\n",
    "        print('lower:', lower, 'upper:', upper)\n",
    "        print('Jumlah outliers:', outliers)\n",
    "        print(f'Persentase jumlah outliers: {round(outliers/len(X_train) * 100, 2)}%')\n",
    "        print()"
   ]
  },
  {
   "cell_type": "markdown",
   "metadata": {},
   "source": [
    "Ada sangat banyak kolom yang memiliki pencilan dan jumlah pencilan setiap kolom juga banyak. Dalam tugas kali ini, kita akan menggunakan model regresi logistik dan support-vector machine (svm), padahal kedua model tersebut sensitif terhadap pencilan. Sehingga, tidak disarankan menggunakan kedua model tersebut untuk permodelan data ini. Namun, tugas ini mengharuskan menggunakan kedua model tersebut, maka kita akan menggunakan metode Winsorizer untuk menangani pencilan setiap kolom."
   ]
  },
  {
   "cell_type": "code",
   "execution_count": 20,
   "metadata": {},
   "outputs": [],
   "source": [
    "# metode Winsorizer\n",
    "winso = Winsorizer(capping_method='iqr', tail='both', fold=1.5, variables=num_cols, missing_values='ignore')\n",
    "X_train = winso.fit_transform(X_train)\n",
    "X_test = winso.transform(X_test)"
   ]
  },
  {
   "cell_type": "markdown",
   "metadata": {},
   "source": [
    "### Penanganan Nilai yang Hilang"
   ]
  },
  {
   "cell_type": "code",
   "execution_count": 21,
   "metadata": {
    "scrolled": false
   },
   "outputs": [
    {
     "data": {
      "text/plain": [
       "year              0.000000\n",
       "month             0.000000\n",
       "day               0.000000\n",
       "mintemp           0.447079\n",
       "maxtemp           0.220023\n",
       "rainfall          0.972522\n",
       "evaporation      42.764857\n",
       "sunshine         47.651580\n",
       "windgustspeed     6.500226\n",
       "windspeed9am      0.971518\n",
       "windspeed3pm      1.897825\n",
       "humidity9am       1.239765\n",
       "humidity3pm       2.561913\n",
       "pressure9am       9.872909\n",
       "pressure3pm       9.848797\n",
       "cloud9am         37.723414\n",
       "cloud3pm         40.165771\n",
       "temp9am           0.646004\n",
       "temp3pm           1.957101\n",
       "dtype: float64"
      ]
     },
     "execution_count": 21,
     "metadata": {},
     "output_type": "execute_result"
    }
   ],
   "source": [
    "# menghitung persentase data yang memiliki nilai yang hilang\n",
    "X_train[num_cols].isna().sum() / len(X_train) * 100"
   ]
  },
  {
   "cell_type": "code",
   "execution_count": 22,
   "metadata": {},
   "outputs": [
    {
     "data": {
      "text/plain": [
       "location       0.000000\n",
       "windgustdir    6.542422\n",
       "winddir9am     6.988497\n",
       "winddir3pm     2.704576\n",
       "raintoday      0.972522\n",
       "dtype: float64"
      ]
     },
     "execution_count": 22,
     "metadata": {},
     "output_type": "execute_result"
    }
   ],
   "source": [
    "cat_cols = list(X_train.select_dtypes(['object']).columns)\n",
    "X_train[cat_cols].isna().sum() / len(X_train) * 100"
   ]
  },
  {
   "cell_type": "markdown",
   "metadata": {},
   "source": [
    "Sebagian besar kolom numerik tidak terdistribusi normal, sehingga nilai yang hilang akan diisi nilai median. Sedangkan, nilai yang hilang pada kolom kategorik akan diisi dengan 'Unknown'."
   ]
  },
  {
   "cell_type": "code",
   "execution_count": 23,
   "metadata": {},
   "outputs": [],
   "source": [
    "# mengisi nilai yang hilang\n",
    "num_imputer = SimpleImputer(strategy=\"median\")\n",
    "cat_imputer = SimpleImputer(strategy=\"constant\", fill_value='Unknown')\n",
    "\n",
    "# numeric\n",
    "X_train[num_cols] = num_imputer.fit_transform(X_train[num_cols])\n",
    "X_test[num_cols] = num_imputer.transform(X_test[num_cols])\n",
    "\n",
    "# categoric\n",
    "X_train[cat_cols] = cat_imputer.fit_transform(X_train[cat_cols])\n",
    "X_test[cat_cols] = cat_imputer.transform(X_test[cat_cols])"
   ]
  },
  {
   "cell_type": "markdown",
   "metadata": {},
   "source": [
    "### _Feature Scaling_"
   ]
  },
  {
   "cell_type": "markdown",
   "metadata": {},
   "source": [
    "Sebagian besar fitur numerik tidak terdistribusi normal sehingga metode _feature scaling_ yang digunakan dalah normalisasi (_Min Max Scaler_)."
   ]
  },
  {
   "cell_type": "code",
   "execution_count": 24,
   "metadata": {},
   "outputs": [],
   "source": [
    "# normalisasi\n",
    "norm = MinMaxScaler()\n",
    "X_train[num_cols] = norm.fit_transform(X_train[num_cols])\n",
    "X_test[num_cols] = norm.transform(X_test[num_cols])"
   ]
  },
  {
   "cell_type": "markdown",
   "metadata": {},
   "source": [
    "### _Encoding_"
   ]
  },
  {
   "cell_type": "markdown",
   "metadata": {},
   "source": [
    "#### _Label Encoding_"
   ]
  },
  {
   "cell_type": "code",
   "execution_count": 25,
   "metadata": {},
   "outputs": [],
   "source": [
    "lenc = LabelEncoder()\n",
    "y_train = lenc.fit_transform(y_train)\n",
    "y_test = lenc.transform(y_test)"
   ]
  },
  {
   "cell_type": "markdown",
   "metadata": {},
   "source": [
    "#### _Feature Encoding_"
   ]
  },
  {
   "cell_type": "code",
   "execution_count": 26,
   "metadata": {},
   "outputs": [
    {
     "name": "stderr",
     "output_type": "stream",
     "text": [
      "C:\\Anaconda3\\lib\\site-packages\\pandas\\core\\frame.py:3678: PerformanceWarning: DataFrame is highly fragmented.  This is usually the result of calling `frame.insert` many times, which has poor performance.  Consider joining all columns at once using pd.concat(axis=1) instead.  To get a de-fragmented frame, use `newframe = frame.copy()`\n",
      "  self[col] = igetitem(value, i)\n",
      "C:\\Anaconda3\\lib\\site-packages\\pandas\\core\\frame.py:3678: PerformanceWarning: DataFrame is highly fragmented.  This is usually the result of calling `frame.insert` many times, which has poor performance.  Consider joining all columns at once using pd.concat(axis=1) instead.  To get a de-fragmented frame, use `newframe = frame.copy()`\n",
      "  self[col] = igetitem(value, i)\n"
     ]
    }
   ],
   "source": [
    "ohenc = OneHotEncoder(sparse=False, handle_unknown='ignore')\n",
    "ohenc.fit(X_train[cat_cols])\n",
    "ohenc_cols = list(ohenc.get_feature_names())\n",
    "X_train[ohenc_cols] = ohenc.transform(X_train[cat_cols])\n",
    "X_test[list(ohenc.get_feature_names())] = ohenc.transform(X_test[cat_cols])\n",
    "\n",
    "X_train.drop(cat_cols, axis=1, inplace=True)\n",
    "X_test.drop(cat_cols, axis=1, inplace=True)"
   ]
  },
  {
   "cell_type": "markdown",
   "metadata": {},
   "source": [
    "### Pra-pemrosesan data khusus untuk SVM"
   ]
  },
  {
   "cell_type": "markdown",
   "metadata": {},
   "source": [
    "Pra-pemrosesan sama dengan regresi logistik tetapi menggunakan kolom yang memiliki korelasi absolut lebih dari 0,2. Sehingga, perlu dilakukan pra-pemrosesan tersendiri untuk SVM."
   ]
  },
  {
   "cell_type": "code",
   "execution_count": 27,
   "metadata": {},
   "outputs": [],
   "source": [
    "num_cols_c = list(X_train_corr.select_dtypes(include=np.number).columns)\n",
    "cat_cols_c = list(X_train_corr.select_dtypes(['object']).columns)"
   ]
  },
  {
   "cell_type": "markdown",
   "metadata": {},
   "source": [
    "#### Penanganan Pencilan"
   ]
  },
  {
   "cell_type": "code",
   "execution_count": 28,
   "metadata": {},
   "outputs": [],
   "source": [
    "# metode Winsorizer\n",
    "winso_corr= Winsorizer(capping_method='iqr', tail='both', fold=1.5, variables=num_cols_c, missing_values='ignore')\n",
    "X_train_corr = winso_corr.fit_transform(X_train_corr)\n",
    "X_test_corr = winso_corr.transform(X_test_corr)"
   ]
  },
  {
   "cell_type": "markdown",
   "metadata": {},
   "source": [
    "#### Penanganan Nilai yang Hilang"
   ]
  },
  {
   "cell_type": "code",
   "execution_count": 29,
   "metadata": {},
   "outputs": [],
   "source": [
    "num_imp_corr = SimpleImputer(strategy=\"median\")\n",
    "cat_imp_corr = SimpleImputer(strategy=\"constant\", fill_value='Unknown')\n",
    "\n",
    "# numeric\n",
    "X_train_corr[num_cols_c] = num_imp_corr.fit_transform(X_train_corr[num_cols_c])\n",
    "X_test_corr[num_cols_c] = num_imp_corr.transform(X_test_corr[num_cols_c])\n",
    "\n",
    "# categoric\n",
    "X_train_corr[cat_cols_c] = cat_imp_corr.fit_transform(X_train_corr[cat_cols_c])\n",
    "X_test_corr[cat_cols_c] = cat_imp_corr.transform(X_test_corr[cat_cols_c])"
   ]
  },
  {
   "cell_type": "markdown",
   "metadata": {},
   "source": [
    "#### Feature Scaling"
   ]
  },
  {
   "cell_type": "code",
   "execution_count": 30,
   "metadata": {},
   "outputs": [],
   "source": [
    "# normalisasi\n",
    "norm_corr = MinMaxScaler()\n",
    "X_train_corr[num_cols_c] = norm_corr.fit_transform(X_train_corr[num_cols_c])\n",
    "X_test_corr[num_cols_c] = norm_corr.transform(X_test_corr[num_cols_c])"
   ]
  },
  {
   "cell_type": "markdown",
   "metadata": {},
   "source": [
    "#### _Feature Encoding_"
   ]
  },
  {
   "cell_type": "code",
   "execution_count": 31,
   "metadata": {},
   "outputs": [],
   "source": [
    "ohenc_corr = OneHotEncoder(sparse=False, handle_unknown='ignore')\n",
    "ohenc_corr.fit(X_train_corr[cat_cols_c])\n",
    "ohenc_corr_cols = list(ohenc_corr.get_feature_names())\n",
    "X_train_corr[ohenc_corr_cols] = ohenc_corr.transform(X_train_corr[cat_cols_c])\n",
    "X_test_corr[list(ohenc_corr.get_feature_names())] = ohenc_corr.transform(X_test_corr[cat_cols_c])\n",
    "\n",
    "X_train_corr.drop(cat_cols_c, axis=1, inplace=True)\n",
    "X_test_corr.drop(cat_cols_c, axis=1, inplace=True)"
   ]
  },
  {
   "cell_type": "markdown",
   "metadata": {},
   "source": [
    "## Pendefinisian Model"
   ]
  },
  {
   "cell_type": "markdown",
   "metadata": {},
   "source": [
    "### Logistic Regression"
   ]
  },
  {
   "cell_type": "code",
   "execution_count": 32,
   "metadata": {},
   "outputs": [],
   "source": [
    "logreg = LogisticRegression(solver='sag')"
   ]
  },
  {
   "cell_type": "markdown",
   "metadata": {},
   "source": [
    "Algoritma yang digunakan pada regresi logistik ini adalah Stochastic Average Gradient (sag) karena dataset yang digunakan cukup besar."
   ]
  },
  {
   "cell_type": "markdown",
   "metadata": {},
   "source": [
    "### Support Vector Machine"
   ]
  },
  {
   "cell_type": "code",
   "execution_count": 33,
   "metadata": {},
   "outputs": [],
   "source": [
    "svc = SVC(kernel='linear')"
   ]
  },
  {
   "cell_type": "markdown",
   "metadata": {},
   "source": [
    "Untuk model awal yang lebih sederhana, kernel yang digunakan adalah linear."
   ]
  },
  {
   "cell_type": "markdown",
   "metadata": {},
   "source": [
    "## Pelatihan Model"
   ]
  },
  {
   "cell_type": "markdown",
   "metadata": {},
   "source": [
    "### Logistic Regression"
   ]
  },
  {
   "cell_type": "code",
   "execution_count": 34,
   "metadata": {},
   "outputs": [
    {
     "name": "stdout",
     "output_type": "stream",
     "text": [
      "Skor akurasi data train: 0.8495705028381976\n",
      "Skor akurasi data test: 0.8459374560457593\n"
     ]
    }
   ],
   "source": [
    "logreg.fit(X_train, y_train)\n",
    "y_pred_lr = logreg.predict(X_test)\n",
    "\n",
    "print('Skor akurasi data train:', logreg.score(X_train, y_train))\n",
    "print('Skor akurasi data test:', logreg.score(X_test, y_test))"
   ]
  },
  {
   "cell_type": "markdown",
   "metadata": {},
   "source": [
    "### Support Vector Machine"
   ]
  },
  {
   "cell_type": "code",
   "execution_count": 35,
   "metadata": {
    "scrolled": true
   },
   "outputs": [
    {
     "name": "stdout",
     "output_type": "stream",
     "text": [
      "train: 0.8428894358768273\n",
      "test: 0.839795583477894\n"
     ]
    }
   ],
   "source": [
    "svc.fit(X_train_corr, y_train)\n",
    "y_pred_svc = svc.predict(X_test_corr)\n",
    "\n",
    "print('train:', svc.score(X_train_corr, y_train))\n",
    "print('test:', svc.score(X_test_corr, y_test))"
   ]
  },
  {
   "cell_type": "markdown",
   "metadata": {},
   "source": [
    "Nilai skor akurasi data train dan test hampir sama, menunjukkan model tidak overfitting."
   ]
  },
  {
   "cell_type": "markdown",
   "metadata": {},
   "source": [
    "## Evaluasi Model"
   ]
  },
  {
   "cell_type": "markdown",
   "metadata": {},
   "source": [
    "### Logistic Regression"
   ]
  },
  {
   "cell_type": "code",
   "execution_count": 36,
   "metadata": {
    "scrolled": false
   },
   "outputs": [
    {
     "data": {
      "image/png": "[encoded data removed]",
      "text/plain": [
       "<Figure size 432x432 with 2 Axes>"
      ]
     },
     "metadata": {
      "needs_background": "light"
     },
     "output_type": "display_data"
    },
    {
     "name": "stdout",
     "output_type": "stream",
     "text": [
      "              precision    recall  f1-score   support\n",
      "\n",
      "           0       0.87      0.94      0.90     33095\n",
      "           1       0.72      0.51      0.60      9563\n",
      "\n",
      "    accuracy                           0.85     42658\n",
      "   macro avg       0.80      0.73      0.75     42658\n",
      "weighted avg       0.84      0.85      0.84     42658\n",
      "\n",
      "Model Akurasi : 84.59374560457593\n"
     ]
    }
   ],
   "source": [
    "plt.figure(figsize=(6, 6))\n",
    "ax = plt.subplot()\n",
    "cm = confusion_matrix(y_test, y_pred_lr)\n",
    "sns.heatmap(cm, annot=True, ax = ax, fmt = 'g' ,cmap=plt.cm.Blues)\n",
    "ax.set_xlabel('Label Prediksi')\n",
    "ax.set_ylabel('Label Aktual')\n",
    "plt.show()\n",
    "\n",
    "print(classification_report(y_test, y_pred_lr))\n",
    "print(\"Model Akurasi :\",accuracy_score(y_test, y_pred_lr)*100)"
   ]
  },
  {
   "cell_type": "markdown",
   "metadata": {},
   "source": [
    "### Support Vector Machine"
   ]
  },
  {
   "cell_type": "code",
   "execution_count": 37,
   "metadata": {},
   "outputs": [
    {
     "data": {
      "image/png": "[encoded data removed]",
      "text/plain": [
       "<Figure size 432x432 with 2 Axes>"
      ]
     },
     "metadata": {
      "needs_background": "light"
     },
     "output_type": "display_data"
    },
    {
     "name": "stdout",
     "output_type": "stream",
     "text": [
      "              precision    recall  f1-score   support\n",
      "\n",
      "           0       0.86      0.95      0.90     33095\n",
      "           1       0.73      0.46      0.56      9563\n",
      "\n",
      "    accuracy                           0.84     42658\n",
      "   macro avg       0.79      0.70      0.73     42658\n",
      "weighted avg       0.83      0.84      0.83     42658\n",
      "\n",
      "Model Akurasi : 83.97955834778939\n"
     ]
    }
   ],
   "source": [
    "plt.figure(figsize=(6, 6))\n",
    "ax = plt.subplot()\n",
    "cm = confusion_matrix(y_test, y_pred_svc)\n",
    "sns.heatmap(cm, annot=True, ax = ax, fmt = 'g' ,cmap=plt.cm.Blues)\n",
    "ax.set_xlabel('Label Prediksi')\n",
    "ax.set_ylabel('Label Aktual')\n",
    "plt.show()\n",
    "\n",
    "print(classification_report(y_test, y_pred_svc))\n",
    "print(\"Model Akurasi :\",accuracy_score(y_test, y_pred_svc)*100)"
   ]
  },
  {
   "cell_type": "markdown",
   "metadata": {},
   "source": [
    "Model pada studi kasus dari data ini berusaha untuk memprediksi apakah hujan terjadi besok sehingga, kita bisa bersiap dalam menghadapi hujan. Oleh karena itu, label yang dianggap positif adalah nilai 1 (Yes). Selanjutnya, kesalahan dalam model yang perlu dihindari adalah salah memprediksi besok tidak hujan, padahal besok terjadi hujan (FN). Jadi, kita bisa berfokus pada nilai precision pada baris bernilai 1. \n",
    "\n",
    "Nilai precison 0,73 pada SVM lebih baik dibandingkan model regresi logistik (0,72), meskipun nilai rata-rata akurasi regresi logistik (0,85) lebih baik dibandingkan SVM. Namun, perbandingan perlu catatan tambahan bahwa pada model yang menggunakan regresi logistik menggunakan seluruh kolom sedangkan SVM hanya menggunakan kolom yang berkorelasi absolut lebih dari 0,2."
   ]
  },
  {
   "cell_type": "markdown",
   "metadata": {},
   "source": [
    "## Model Inference"
   ]
  },
  {
   "cell_type": "markdown",
   "metadata": {},
   "source": [
    "### Pemuatan Data\n",
    "Data yang digunakan untuk mencoba model adalah data awal yang memiliki nilai yang hilang pada kolom target."
   ]
  },
  {
   "cell_type": "code",
   "execution_count": 38,
   "metadata": {},
   "outputs": [
    {
     "name": "stderr",
     "output_type": "stream",
     "text": [
      "C:\\Anaconda3\\lib\\site-packages\\pandas\\core\\frame.py:4906: SettingWithCopyWarning: \n",
      "A value is trying to be set on a copy of a slice from a DataFrame\n",
      "\n",
      "See the caveats in the documentation: https://pandas.pydata.org/pandas-docs/stable/user_guide/indexing.html#returning-a-view-versus-a-copy\n",
      "  return super().drop(\n"
     ]
    },
    {
     "data": {
      "text/html": [
       "<div>\n",
       "<style scoped>\n",
       "    .dataframe tbody tr th:only-of-type {\n",
       "        vertical-align: middle;\n",
       "    }\n",
       "\n",
       "    .dataframe tbody tr th {\n",
       "        vertical-align: top;\n",
       "    }\n",
       "\n",
       "    .dataframe thead th {\n",
       "        text-align: right;\n",
       "    }\n",
       "</style>\n",
       "<table border=\"1\" class=\"dataframe\">\n",
       "  <thead>\n",
       "    <tr style=\"text-align: right;\">\n",
       "      <th></th>\n",
       "      <th>year</th>\n",
       "      <th>month</th>\n",
       "      <th>day</th>\n",
       "      <th>location</th>\n",
       "      <th>mintemp</th>\n",
       "      <th>maxtemp</th>\n",
       "      <th>rainfall</th>\n",
       "      <th>evaporation</th>\n",
       "      <th>sunshine</th>\n",
       "      <th>windgustdir</th>\n",
       "      <th>...</th>\n",
       "      <th>windspeed3pm</th>\n",
       "      <th>humidity9am</th>\n",
       "      <th>humidity3pm</th>\n",
       "      <th>pressure9am</th>\n",
       "      <th>pressure3pm</th>\n",
       "      <th>cloud9am</th>\n",
       "      <th>cloud3pm</th>\n",
       "      <th>temp9am</th>\n",
       "      <th>temp3pm</th>\n",
       "      <th>raintoday</th>\n",
       "    </tr>\n",
       "  </thead>\n",
       "  <tbody>\n",
       "    <tr>\n",
       "      <th>14</th>\n",
       "      <td>2008</td>\n",
       "      <td>12</td>\n",
       "      <td>15</td>\n",
       "      <td>Albury</td>\n",
       "      <td>8.4</td>\n",
       "      <td>24.6</td>\n",
       "      <td>0.0</td>\n",
       "      <td>NaN</td>\n",
       "      <td>NaN</td>\n",
       "      <td>NaN</td>\n",
       "      <td>...</td>\n",
       "      <td>30.0</td>\n",
       "      <td>57.0</td>\n",
       "      <td>32.0</td>\n",
       "      <td>1009.7</td>\n",
       "      <td>1008.7</td>\n",
       "      <td>NaN</td>\n",
       "      <td>NaN</td>\n",
       "      <td>15.9</td>\n",
       "      <td>23.5</td>\n",
       "      <td>No</td>\n",
       "    </tr>\n",
       "    <tr>\n",
       "      <th>283</th>\n",
       "      <td>2009</td>\n",
       "      <td>9</td>\n",
       "      <td>10</td>\n",
       "      <td>Albury</td>\n",
       "      <td>2.6</td>\n",
       "      <td>NaN</td>\n",
       "      <td>0.0</td>\n",
       "      <td>NaN</td>\n",
       "      <td>NaN</td>\n",
       "      <td>NaN</td>\n",
       "      <td>...</td>\n",
       "      <td>13.0</td>\n",
       "      <td>71.0</td>\n",
       "      <td>55.0</td>\n",
       "      <td>1017.8</td>\n",
       "      <td>1017.6</td>\n",
       "      <td>NaN</td>\n",
       "      <td>6.0</td>\n",
       "      <td>9.7</td>\n",
       "      <td>14.3</td>\n",
       "      <td>No</td>\n",
       "    </tr>\n",
       "    <tr>\n",
       "      <th>435</th>\n",
       "      <td>2010</td>\n",
       "      <td>2</td>\n",
       "      <td>9</td>\n",
       "      <td>Albury</td>\n",
       "      <td>22.1</td>\n",
       "      <td>35.1</td>\n",
       "      <td>0.0</td>\n",
       "      <td>NaN</td>\n",
       "      <td>NaN</td>\n",
       "      <td>NaN</td>\n",
       "      <td>...</td>\n",
       "      <td>11.0</td>\n",
       "      <td>58.0</td>\n",
       "      <td>37.0</td>\n",
       "      <td>1020.9</td>\n",
       "      <td>1017.8</td>\n",
       "      <td>NaN</td>\n",
       "      <td>1.0</td>\n",
       "      <td>26.9</td>\n",
       "      <td>33.5</td>\n",
       "      <td>No</td>\n",
       "    </tr>\n",
       "    <tr>\n",
       "      <th>437</th>\n",
       "      <td>2010</td>\n",
       "      <td>2</td>\n",
       "      <td>11</td>\n",
       "      <td>Albury</td>\n",
       "      <td>21.5</td>\n",
       "      <td>35.0</td>\n",
       "      <td>0.0</td>\n",
       "      <td>NaN</td>\n",
       "      <td>NaN</td>\n",
       "      <td>NaN</td>\n",
       "      <td>...</td>\n",
       "      <td>7.0</td>\n",
       "      <td>76.0</td>\n",
       "      <td>35.0</td>\n",
       "      <td>1015.8</td>\n",
       "      <td>1010.3</td>\n",
       "      <td>NaN</td>\n",
       "      <td>8.0</td>\n",
       "      <td>24.2</td>\n",
       "      <td>33.1</td>\n",
       "      <td>No</td>\n",
       "    </tr>\n",
       "    <tr>\n",
       "      <th>443</th>\n",
       "      <td>2010</td>\n",
       "      <td>2</td>\n",
       "      <td>17</td>\n",
       "      <td>Albury</td>\n",
       "      <td>15.5</td>\n",
       "      <td>30.6</td>\n",
       "      <td>0.0</td>\n",
       "      <td>NaN</td>\n",
       "      <td>NaN</td>\n",
       "      <td>NaN</td>\n",
       "      <td>...</td>\n",
       "      <td>11.0</td>\n",
       "      <td>66.0</td>\n",
       "      <td>30.0</td>\n",
       "      <td>1015.9</td>\n",
       "      <td>1013.8</td>\n",
       "      <td>NaN</td>\n",
       "      <td>NaN</td>\n",
       "      <td>19.4</td>\n",
       "      <td>30.0</td>\n",
       "      <td>No</td>\n",
       "    </tr>\n",
       "  </tbody>\n",
       "</table>\n",
       "<p>5 rows × 24 columns</p>\n",
       "</div>"
      ],
      "text/plain": [
       "     year  month  day location  mintemp  maxtemp  rainfall  evaporation  \\\n",
       "14   2008     12   15   Albury      8.4     24.6       0.0          NaN   \n",
       "283  2009      9   10   Albury      2.6      NaN       0.0          NaN   \n",
       "435  2010      2    9   Albury     22.1     35.1       0.0          NaN   \n",
       "437  2010      2   11   Albury     21.5     35.0       0.0          NaN   \n",
       "443  2010      2   17   Albury     15.5     30.6       0.0          NaN   \n",
       "\n",
       "     sunshine windgustdir  ...  windspeed3pm humidity9am humidity3pm  \\\n",
       "14        NaN         NaN  ...          30.0        57.0        32.0   \n",
       "283       NaN         NaN  ...          13.0        71.0        55.0   \n",
       "435       NaN         NaN  ...          11.0        58.0        37.0   \n",
       "437       NaN         NaN  ...           7.0        76.0        35.0   \n",
       "443       NaN         NaN  ...          11.0        66.0        30.0   \n",
       "\n",
       "     pressure9am  pressure3pm  cloud9am  cloud3pm  temp9am  temp3pm  raintoday  \n",
       "14        1009.7       1008.7       NaN       NaN     15.9     23.5         No  \n",
       "283       1017.8       1017.6       NaN       6.0      9.7     14.3         No  \n",
       "435       1020.9       1017.8       NaN       1.0     26.9     33.5         No  \n",
       "437       1015.8       1010.3       NaN       8.0     24.2     33.1         No  \n",
       "443       1015.9       1013.8       NaN       NaN     19.4     30.0         No  \n",
       "\n",
       "[5 rows x 24 columns]"
      ]
     },
     "execution_count": 38,
     "metadata": {},
     "output_type": "execute_result"
    }
   ],
   "source": [
    "# mengambil data awal memiliki nilai yang hilang pada kolom target.\n",
    "inf_data = weather_raw[weather_raw['raintomorrow'].isna()]\n",
    "inf_data.drop(['raintomorrow'], axis=1, inplace=True)\n",
    "inf_data.head()"
   ]
  },
  {
   "cell_type": "markdown",
   "metadata": {},
   "source": [
    "### Pipeline pra-pemrosesan data"
   ]
  },
  {
   "cell_type": "code",
   "execution_count": 39,
   "metadata": {},
   "outputs": [],
   "source": [
    "num_pipeline = Pipeline([\n",
    "    ('winso', Winsorizer(capping_method='iqr', tail='both', fold=1.5, variables=num_cols, missing_values='ignore')),\n",
    "    ('num_imputer', SimpleImputer(strategy=\"median\")),\n",
    "    ('norm_scaler', MinMaxScaler()),\n",
    "    ])\n",
    "\n",
    "cat_pipeline = Pipeline([\n",
    "    ('cat_imputer', SimpleImputer(strategy=\"constant\", fill_value='Unknown')),\n",
    "    ('encoder', OneHotEncoder(handle_unknown='ignore')),\n",
    "    ])\n",
    "\n",
    "full_pipeline = ColumnTransformer([\n",
    "        (\"num\", num_pipeline, num_cols),\n",
    "        (\"cat\", cat_pipeline, cat_cols),\n",
    "    ])"
   ]
  },
  {
   "cell_type": "markdown",
   "metadata": {},
   "source": [
    "### Pemodelan"
   ]
  },
  {
   "cell_type": "code",
   "execution_count": 40,
   "metadata": {},
   "outputs": [
    {
     "name": "stderr",
     "output_type": "stream",
     "text": [
      "C:\\Anaconda3\\lib\\site-packages\\sklearn\\linear_model\\_sag.py:329: ConvergenceWarning: The max_iter was reached which means the coef_ did not converge\n",
      "  warnings.warn(\"The max_iter was reached which means \"\n"
     ]
    }
   ],
   "source": [
    "X_train_pipe = full_pipeline.fit_transform(X_train_pipe)\n",
    "X_test_inf = full_pipeline.transform(inf_data)\n",
    "\n",
    "logreg_pipe = LogisticRegression(solver='sag')\n",
    "logreg_pipe.fit(X_train_pipe, y_train)\n",
    "y_pred_inf = logreg_pipe.predict(X_test_inf)"
   ]
  },
  {
   "cell_type": "code",
   "execution_count": 41,
   "metadata": {},
   "outputs": [
    {
     "name": "stderr",
     "output_type": "stream",
     "text": [
      "<ipython-input-41-9c7193797c98>:1: SettingWithCopyWarning: \n",
      "A value is trying to be set on a copy of a slice from a DataFrame.\n",
      "Try using .loc[row_indexer,col_indexer] = value instead\n",
      "\n",
      "See the caveats in the documentation: https://pandas.pydata.org/pandas-docs/stable/user_guide/indexing.html#returning-a-view-versus-a-copy\n",
      "  inf_data['raintomorrow'] = y_pred_inf\n"
     ]
    },
    {
     "data": {
      "text/html": [
       "<div>\n",
       "<style scoped>\n",
       "    .dataframe tbody tr th:only-of-type {\n",
       "        vertical-align: middle;\n",
       "    }\n",
       "\n",
       "    .dataframe tbody tr th {\n",
       "        vertical-align: top;\n",
       "    }\n",
       "\n",
       "    .dataframe thead th {\n",
       "        text-align: right;\n",
       "    }\n",
       "</style>\n",
       "<table border=\"1\" class=\"dataframe\">\n",
       "  <thead>\n",
       "    <tr style=\"text-align: right;\">\n",
       "      <th></th>\n",
       "      <th>year</th>\n",
       "      <th>month</th>\n",
       "      <th>day</th>\n",
       "      <th>location</th>\n",
       "      <th>mintemp</th>\n",
       "      <th>maxtemp</th>\n",
       "      <th>rainfall</th>\n",
       "      <th>evaporation</th>\n",
       "      <th>sunshine</th>\n",
       "      <th>windgustdir</th>\n",
       "      <th>...</th>\n",
       "      <th>humidity9am</th>\n",
       "      <th>humidity3pm</th>\n",
       "      <th>pressure9am</th>\n",
       "      <th>pressure3pm</th>\n",
       "      <th>cloud9am</th>\n",
       "      <th>cloud3pm</th>\n",
       "      <th>temp9am</th>\n",
       "      <th>temp3pm</th>\n",
       "      <th>raintoday</th>\n",
       "      <th>raintomorrow</th>\n",
       "    </tr>\n",
       "  </thead>\n",
       "  <tbody>\n",
       "    <tr>\n",
       "      <th>116624</th>\n",
       "      <td>2014</td>\n",
       "      <td>9</td>\n",
       "      <td>25</td>\n",
       "      <td>PearceRAAF</td>\n",
       "      <td>5.6</td>\n",
       "      <td>23.3</td>\n",
       "      <td>0.0</td>\n",
       "      <td>NaN</td>\n",
       "      <td>10.8</td>\n",
       "      <td>W</td>\n",
       "      <td>...</td>\n",
       "      <td>80.0</td>\n",
       "      <td>59.0</td>\n",
       "      <td>1020.7</td>\n",
       "      <td>1018.0</td>\n",
       "      <td>6.0</td>\n",
       "      <td>1.0</td>\n",
       "      <td>14.7</td>\n",
       "      <td>21.5</td>\n",
       "      <td>No</td>\n",
       "      <td>0</td>\n",
       "    </tr>\n",
       "    <tr>\n",
       "      <th>89839</th>\n",
       "      <td>2016</td>\n",
       "      <td>5</td>\n",
       "      <td>21</td>\n",
       "      <td>Cairns</td>\n",
       "      <td>23.5</td>\n",
       "      <td>25.9</td>\n",
       "      <td>NaN</td>\n",
       "      <td>NaN</td>\n",
       "      <td>NaN</td>\n",
       "      <td>SSE</td>\n",
       "      <td>...</td>\n",
       "      <td>96.0</td>\n",
       "      <td>93.0</td>\n",
       "      <td>1016.0</td>\n",
       "      <td>1013.2</td>\n",
       "      <td>NaN</td>\n",
       "      <td>7.0</td>\n",
       "      <td>24.2</td>\n",
       "      <td>25.2</td>\n",
       "      <td>NaN</td>\n",
       "      <td>1</td>\n",
       "    </tr>\n",
       "    <tr>\n",
       "      <th>14128</th>\n",
       "      <td>2014</td>\n",
       "      <td>11</td>\n",
       "      <td>21</td>\n",
       "      <td>Moree</td>\n",
       "      <td>25.8</td>\n",
       "      <td>40.5</td>\n",
       "      <td>NaN</td>\n",
       "      <td>NaN</td>\n",
       "      <td>NaN</td>\n",
       "      <td>N</td>\n",
       "      <td>...</td>\n",
       "      <td>50.0</td>\n",
       "      <td>15.0</td>\n",
       "      <td>1011.6</td>\n",
       "      <td>1006.9</td>\n",
       "      <td>NaN</td>\n",
       "      <td>1.0</td>\n",
       "      <td>29.2</td>\n",
       "      <td>39.9</td>\n",
       "      <td>NaN</td>\n",
       "      <td>0</td>\n",
       "    </tr>\n",
       "    <tr>\n",
       "      <th>45559</th>\n",
       "      <td>2017</td>\n",
       "      <td>5</td>\n",
       "      <td>29</td>\n",
       "      <td>Wollongong</td>\n",
       "      <td>11.6</td>\n",
       "      <td>16.9</td>\n",
       "      <td>0.2</td>\n",
       "      <td>NaN</td>\n",
       "      <td>NaN</td>\n",
       "      <td>WNW</td>\n",
       "      <td>...</td>\n",
       "      <td>46.0</td>\n",
       "      <td>33.0</td>\n",
       "      <td>1017.2</td>\n",
       "      <td>1018.4</td>\n",
       "      <td>NaN</td>\n",
       "      <td>NaN</td>\n",
       "      <td>12.3</td>\n",
       "      <td>16.4</td>\n",
       "      <td>No</td>\n",
       "      <td>0</td>\n",
       "    </tr>\n",
       "    <tr>\n",
       "      <th>97701</th>\n",
       "      <td>2012</td>\n",
       "      <td>5</td>\n",
       "      <td>12</td>\n",
       "      <td>Adelaide</td>\n",
       "      <td>8.0</td>\n",
       "      <td>17.0</td>\n",
       "      <td>NaN</td>\n",
       "      <td>NaN</td>\n",
       "      <td>NaN</td>\n",
       "      <td>W</td>\n",
       "      <td>...</td>\n",
       "      <td>73.0</td>\n",
       "      <td>41.0</td>\n",
       "      <td>1025.7</td>\n",
       "      <td>1023.7</td>\n",
       "      <td>NaN</td>\n",
       "      <td>NaN</td>\n",
       "      <td>12.0</td>\n",
       "      <td>16.3</td>\n",
       "      <td>NaN</td>\n",
       "      <td>0</td>\n",
       "    </tr>\n",
       "    <tr>\n",
       "      <th>42345</th>\n",
       "      <td>2016</td>\n",
       "      <td>12</td>\n",
       "      <td>6</td>\n",
       "      <td>Williamtown</td>\n",
       "      <td>21.2</td>\n",
       "      <td>27.0</td>\n",
       "      <td>NaN</td>\n",
       "      <td>NaN</td>\n",
       "      <td>NaN</td>\n",
       "      <td>SSW</td>\n",
       "      <td>...</td>\n",
       "      <td>87.0</td>\n",
       "      <td>80.0</td>\n",
       "      <td>1011.2</td>\n",
       "      <td>1009.8</td>\n",
       "      <td>7.0</td>\n",
       "      <td>6.0</td>\n",
       "      <td>22.4</td>\n",
       "      <td>23.6</td>\n",
       "      <td>NaN</td>\n",
       "      <td>1</td>\n",
       "    </tr>\n",
       "    <tr>\n",
       "      <th>69123</th>\n",
       "      <td>2014</td>\n",
       "      <td>1</td>\n",
       "      <td>3</td>\n",
       "      <td>Melbourne</td>\n",
       "      <td>13.9</td>\n",
       "      <td>22.3</td>\n",
       "      <td>0.0</td>\n",
       "      <td>6.2</td>\n",
       "      <td>10.5</td>\n",
       "      <td>SW</td>\n",
       "      <td>...</td>\n",
       "      <td>66.0</td>\n",
       "      <td>54.0</td>\n",
       "      <td>1003.8</td>\n",
       "      <td>1002.6</td>\n",
       "      <td>5.0</td>\n",
       "      <td>1.0</td>\n",
       "      <td>16.5</td>\n",
       "      <td>20.3</td>\n",
       "      <td>No</td>\n",
       "      <td>0</td>\n",
       "    </tr>\n",
       "    <tr>\n",
       "      <th>27141</th>\n",
       "      <td>2017</td>\n",
       "      <td>5</td>\n",
       "      <td>31</td>\n",
       "      <td>Penrith</td>\n",
       "      <td>6.3</td>\n",
       "      <td>16.6</td>\n",
       "      <td>0.0</td>\n",
       "      <td>NaN</td>\n",
       "      <td>NaN</td>\n",
       "      <td>SW</td>\n",
       "      <td>...</td>\n",
       "      <td>90.0</td>\n",
       "      <td>41.0</td>\n",
       "      <td>NaN</td>\n",
       "      <td>NaN</td>\n",
       "      <td>NaN</td>\n",
       "      <td>NaN</td>\n",
       "      <td>11.4</td>\n",
       "      <td>16.2</td>\n",
       "      <td>No</td>\n",
       "      <td>0</td>\n",
       "    </tr>\n",
       "    <tr>\n",
       "      <th>69011</th>\n",
       "      <td>2013</td>\n",
       "      <td>9</td>\n",
       "      <td>13</td>\n",
       "      <td>Melbourne</td>\n",
       "      <td>3.9</td>\n",
       "      <td>16.0</td>\n",
       "      <td>2.0</td>\n",
       "      <td>3.0</td>\n",
       "      <td>2.4</td>\n",
       "      <td>N</td>\n",
       "      <td>...</td>\n",
       "      <td>54.0</td>\n",
       "      <td>35.0</td>\n",
       "      <td>1018.0</td>\n",
       "      <td>1014.8</td>\n",
       "      <td>7.0</td>\n",
       "      <td>7.0</td>\n",
       "      <td>7.8</td>\n",
       "      <td>15.1</td>\n",
       "      <td>Yes</td>\n",
       "      <td>0</td>\n",
       "    </tr>\n",
       "    <tr>\n",
       "      <th>69687</th>\n",
       "      <td>2015</td>\n",
       "      <td>7</td>\n",
       "      <td>21</td>\n",
       "      <td>Melbourne</td>\n",
       "      <td>NaN</td>\n",
       "      <td>NaN</td>\n",
       "      <td>NaN</td>\n",
       "      <td>4.2</td>\n",
       "      <td>6.4</td>\n",
       "      <td>N</td>\n",
       "      <td>...</td>\n",
       "      <td>NaN</td>\n",
       "      <td>NaN</td>\n",
       "      <td>NaN</td>\n",
       "      <td>NaN</td>\n",
       "      <td>NaN</td>\n",
       "      <td>NaN</td>\n",
       "      <td>NaN</td>\n",
       "      <td>NaN</td>\n",
       "      <td>NaN</td>\n",
       "      <td>1</td>\n",
       "    </tr>\n",
       "  </tbody>\n",
       "</table>\n",
       "<p>10 rows × 25 columns</p>\n",
       "</div>"
      ],
      "text/plain": [
       "        year  month  day     location  mintemp  maxtemp  rainfall  \\\n",
       "116624  2014      9   25   PearceRAAF      5.6     23.3       0.0   \n",
       "89839   2016      5   21       Cairns     23.5     25.9       NaN   \n",
       "14128   2014     11   21        Moree     25.8     40.5       NaN   \n",
       "45559   2017      5   29   Wollongong     11.6     16.9       0.2   \n",
       "97701   2012      5   12     Adelaide      8.0     17.0       NaN   \n",
       "42345   2016     12    6  Williamtown     21.2     27.0       NaN   \n",
       "69123   2014      1    3    Melbourne     13.9     22.3       0.0   \n",
       "27141   2017      5   31      Penrith      6.3     16.6       0.0   \n",
       "69011   2013      9   13    Melbourne      3.9     16.0       2.0   \n",
       "69687   2015      7   21    Melbourne      NaN      NaN       NaN   \n",
       "\n",
       "        evaporation  sunshine windgustdir  ...  humidity9am humidity3pm  \\\n",
       "116624          NaN      10.8           W  ...         80.0        59.0   \n",
       "89839           NaN       NaN         SSE  ...         96.0        93.0   \n",
       "14128           NaN       NaN           N  ...         50.0        15.0   \n",
       "45559           NaN       NaN         WNW  ...         46.0        33.0   \n",
       "97701           NaN       NaN           W  ...         73.0        41.0   \n",
       "42345           NaN       NaN         SSW  ...         87.0        80.0   \n",
       "69123           6.2      10.5          SW  ...         66.0        54.0   \n",
       "27141           NaN       NaN          SW  ...         90.0        41.0   \n",
       "69011           3.0       2.4           N  ...         54.0        35.0   \n",
       "69687           4.2       6.4           N  ...          NaN         NaN   \n",
       "\n",
       "       pressure9am  pressure3pm  cloud9am  cloud3pm  temp9am  temp3pm  \\\n",
       "116624      1020.7       1018.0       6.0       1.0     14.7     21.5   \n",
       "89839       1016.0       1013.2       NaN       7.0     24.2     25.2   \n",
       "14128       1011.6       1006.9       NaN       1.0     29.2     39.9   \n",
       "45559       1017.2       1018.4       NaN       NaN     12.3     16.4   \n",
       "97701       1025.7       1023.7       NaN       NaN     12.0     16.3   \n",
       "42345       1011.2       1009.8       7.0       6.0     22.4     23.6   \n",
       "69123       1003.8       1002.6       5.0       1.0     16.5     20.3   \n",
       "27141          NaN          NaN       NaN       NaN     11.4     16.2   \n",
       "69011       1018.0       1014.8       7.0       7.0      7.8     15.1   \n",
       "69687          NaN          NaN       NaN       NaN      NaN      NaN   \n",
       "\n",
       "        raintoday  raintomorrow  \n",
       "116624         No             0  \n",
       "89839         NaN             1  \n",
       "14128         NaN             0  \n",
       "45559          No             0  \n",
       "97701         NaN             0  \n",
       "42345         NaN             1  \n",
       "69123          No             0  \n",
       "27141          No             0  \n",
       "69011         Yes             0  \n",
       "69687         NaN             1  \n",
       "\n",
       "[10 rows x 25 columns]"
      ]
     },
     "execution_count": 41,
     "metadata": {},
     "output_type": "execute_result"
    }
   ],
   "source": [
    "inf_data['raintomorrow'] = y_pred_inf\n",
    "inf_data.sample(10)"
   ]
  },
  {
   "cell_type": "markdown",
   "metadata": {},
   "source": [
    "## Pengambilan Kesimpulan"
   ]
  },
  {
   "cell_type": "markdown",
   "metadata": {},
   "source": [
    "- Pada analisis ini, model regresi logistik menggunakan seluruh kolom sedangkan model SVM hanya menggunakan kolom yang berkorelasi absolut lebih dari 0,2. Hal ini dilakukan dengan alasan agar pemodelan dengan SVM bisa dilakukan dengan cepat.\n",
    "- Model berusaha untuk memprediksi apakah hujan terjadi besok, sehingga label yang dianggap positif adalah nilai 1 (Yes). Selanjutnya, kesalahan dalam model yang perlu dihindari adalah salah memprediksi besok tidak hujan, padahal besok terjadi hujan (FN). Jadi, fokus evaluasi model pada nilai precision.\n",
    "- Model menggunakan SVM memiliki nilai precison 0,73 lebih baik dibandingkan model regresi logistik yang bernilai 0,72. Dari sisi lain, nilai rata-rata akurasi regresi logistik (0,85) lebih baik dibandingkan SVM (0,84). Namun, perbandingan ini perlu catatan tambahan bahwa pada model yang menggunakan regresi logistik menggunakan seluruh kolom sedangkan SVM hanya menggunakan kolom yang berkorelasi absolut lebih dari 0,2."
   ]
  }
 ],
 "metadata": {
  "kernelspec": {
   "display_name": "Python 3",
   "language": "python",
   "name": "python3"
  },
  "language_info": {
   "codemirror_mode": {
    "name": "ipython",
    "version": 3
   },
   "file_extension": ".py",
   "mimetype": "text/x-python",
   "name": "python",
   "nbconvert_exporter": "python",
   "pygments_lexer": "ipython3",
   "version": "3.8.5"
  },
  "varInspector": {
   "cols": {
    "lenName": 16,
    "lenType": 16,
    "lenVar": 40
   },
   "kernels_config": {
    "python": {
     "delete_cmd_postfix": "",
     "delete_cmd_prefix": "del ",
     "library": "var_list.py",
     "varRefreshCmd": "print(var_dic_list())"
    },
    "r": {
     "delete_cmd_postfix": ") ",
     "delete_cmd_prefix": "rm(",
     "library": "var_list.r",
     "varRefreshCmd": "cat(var_dic_list()) "
    }
   },
   "types_to_exclude": [
    "module",
    "function",
    "builtin_function_or_method",
    "instance",
    "_Feature"
   ],
   "window_display": false
  }
 },
 "nbformat": 4,
 "nbformat_minor": 4
}
