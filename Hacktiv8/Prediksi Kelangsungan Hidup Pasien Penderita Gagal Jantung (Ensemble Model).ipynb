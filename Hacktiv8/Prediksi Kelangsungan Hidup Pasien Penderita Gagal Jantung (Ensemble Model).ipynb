{
 "cells": [
  {
   "cell_type": "markdown",
   "metadata": {},
   "source": [
    "# Graded Challenge 3 Phase 1\n",
    "\n",
    "Graded Challenge ini dibuat guna mengevaluasi pembelajaran pada Hacktiv8 Data Science Fulltime Program khususnya pada konsep Ensemble Learning.\n",
    "\n",
    "Graded challenge ini dibuat oleh Risqi Rahmatullah Batch 007\n",
    "\n",
    "## Deskripsi Data\n",
    "\n",
    "Dataset contains the medical records of 299 heart failure patients collected at the Faisalabad Institute of Cardiology and at the Allied Hospital in Faisalabad (Punjab, Pakistan), during April–December 2015 [[52](https://bmcmedinformdecismak.biomedcentral.com/articles/10.1186/s12911-020-1023-5#ref-CR52), [66](https://bmcmedinformdecismak.biomedcentral.com/articles/10.1186/s12911-020-1023-5#ref-CR66)]. All 299 patients had left ventricular systolic dysfunction and had previous heart failures that put them in classes III or IV of New York Heart Association (NYHA) classification of the stages of heart failure [[67]](https://bmcmedinformdecismak.biomedcentral.com/articles/10.1186/s12911-020-1023-5#ref-CR67)\n",
    "\n",
    "**Table 1 Meanings, measurement units, and intervals of each feature of the dataset**\n",
    "<table class=\"data last-table\">\n",
    "    <thead class=\"c-article-table-head\">\n",
    "        <tr><th style='text-align:center' class=\"u-text-left \">Feature</th>\n",
    "            <th style='text-align:center' class=\"u-text-left \">Explanation</th>\n",
    "            <th style='text-align:center' class=\"u-text-left \">Measurement</th>\n",
    "            <th style='text-align:center' class=\"u-text-left \">Range</th>\n",
    "        </tr>\n",
    "    </thead>\n",
    "    <tbody>\n",
    "        <tr><td style='text-align:left' class=\"u-text-left \">Age</td>\n",
    "            <td style='text-align:left' class=\"u-text-left \">Age of the patient</td>\n",
    "            <td style='text-align:left' class=\"u-text-left \">Years</td><td style='text-align:left' class=\"u-text-left \">[40,..., 95]</td></tr><tr><td style='text-align:left' class=\"u-text-left \">Anaemia</td><td style='text-align:left' class=\"u-text-left \">Decrease of red blood cells or hemoglobin</td><td style='text-align:left' class=\"u-text-left \">Boolean</td><td style='text-align:left' class=\"u-text-left \">0, 1</td></tr><tr><td style='text-align:left' class=\"u-text-left \">High blood pressure</td><td style='text-align:left' class=\"u-text-left \">If a patient has hypertension</td><td style='text-align:left' class=\"u-text-left \">Boolean</td><td style='text-align:left' class=\"u-text-left \">0, 1</td></tr><tr><td style='text-align:left' class=\"u-text-left \">Creatinine phosphokinase</td><td style='text-align:left' class=\"u-text-left \">Level of the CPK enzyme in the blood</td><td style='text-align:left' class=\"u-text-left \">mcg/L</td><td style='text-align:left' class=\"u-text-left \">[23,..., 7861]</td></tr><tr><td style='text-align:left' class=\"u-text-left \">(CPK)</td><td style='text-align:left' class=\"u-text-left \"> </td><td style='text-align:left' class=\"u-text-left \"> </td><td style='text-align:left' class=\"u-text-left \"> </td></tr><tr><td style='text-align:left' class=\"u-text-left \">Diabetes</td><td style='text-align:left' class=\"u-text-left \">If the patient has diabetes</td><td style='text-align:left' class=\"u-text-left \">Boolean</td><td style='text-align:left' class=\"u-text-left \">0, 1</td></tr><tr><td style='text-align:left' class=\"u-text-left \">Ejection fraction</td><td style='text-align:left' class=\"u-text-left \">Percentage of blood leaving</td><td style='text-align:left' class=\"u-text-left \">Percentage</td><td style='text-align:left' class=\"u-text-left \">[14,..., 80]</td></tr><tr><td style='text-align:left' class=\"u-text-left \"> </td><td style='text-align:left' class=\"u-text-left \">the heart at each contraction</td><td style='text-align:left' class=\"u-text-left \"> </td><td style='text-align:left' class=\"u-text-left \"> </td></tr><tr><td style='text-align:left' class=\"u-text-left \">Sex</td><td style='text-align:left' class=\"u-text-left \">Woman or man</td><td style='text-align:left' class=\"u-text-left \">Binary</td><td style='text-align:left' class=\"u-text-left \">0, 1</td></tr><tr><td style='text-align:left' class=\"u-text-left \">Platelets</td><td style='text-align:left' class=\"u-text-left \">Platelets in the blood</td><td style='text-align:left' class=\"u-text-left \">kiloplatelets/mL</td><td style='text-align:left' class=\"u-text-left \">[25.01,..., 850.00]</td></tr><tr><td style='text-align:left' class=\"u-text-left \">Serum creatinine</td><td style='text-align:left' class=\"u-text-left \">Level of creatinine in the blood</td><td style='text-align:left' class=\"u-text-left \">mg/dL</td><td style='text-align:left' class=\"u-text-left \">[0.50,..., 9.40]</td></tr><tr><td style='text-align:left' class=\"u-text-left \">Serum sodium</td><td style='text-align:left' class=\"u-text-left \">Level of sodium in the blood</td><td style='text-align:left' class=\"u-text-left \">mEq/L</td><td style='text-align:left' class=\"u-text-left \">[114,..., 148]</td></tr><tr><td style='text-align:left' class=\"u-text-left \">Smoking</td><td style='text-align:left' class=\"u-text-left \">If the patient smokes</td><td style='text-align:left' class=\"u-text-left \">Boolean</td><td style='text-align:left' class=\"u-text-left \">0, 1</td></tr><tr><td style='text-align:left' class=\"u-text-left \">Time</td><td style='text-align:left' class=\"u-text-left \">Follow-up period</td><td style='text-align:left' class=\"u-text-left \">Days</td><td style='text-align:left' class=\"u-text-left \">[4,...,285]</td></tr><tr><td style='text-align:left' class=\"u-text-left \">(target) death event</td><td style='text-align:left' class=\"u-text-left \">If the patient died during the follow-up period</td><td style='text-align:left' class=\"u-text-left \">Boolean</td><td style='text-align:left' class=\"u-text-left \">0, 1</td></tr></tbody></table>\n",
    "\n",
    "mcg/L: micrograms per liter  \n",
    "mL: microliter  \n",
    "mEq/L: milliequivalents per litre\n",
    "\n",
    "**Citation**  \n",
    "Davide Chicco, Giuseppe Jurman: Machine learning can predict survival of patients with heart failure from serum creatinine and ejection fraction alone. BMC Medical Informatics and Decision Making 20, 16 (2020). ([link](https://bmcmedinformdecismak.biomedcentral.com/articles/10.1186/s12911-020-1023-5))\n",
    "\n",
    "## Sasaran Tugas\n",
    "_Graded Challenge_ 3 ini dibuat guna mengevaluasi konsep Ensemble sebagai berikut:\n",
    "- Mampu memahami konsep Classification dengan Ensemble Model.\n",
    "- Mampu mempersiapkan data untuk digunakan dalam Ensemble Model.\n",
    "- Mampu mengimplementasikan Ensemble Model untuk membuat prediksi."
   ]
  },
  {
   "cell_type": "markdown",
   "metadata": {},
   "source": [
    "## _Libraries_"
   ]
  },
  {
   "cell_type": "code",
   "execution_count": 1,
   "metadata": {},
   "outputs": [],
   "source": [
    "import pandas as pd\n",
    "import numpy as np\n",
    "import matplotlib.pyplot as plt\n",
    "import seaborn as sns\n",
    "from sklearn.model_selection import train_test_split, cross_val_score, GridSearchCV\n",
    "from sklearn.preprocessing import MinMaxScaler\n",
    "from sklearn.pipeline import Pipeline\n",
    "from sklearn.ensemble import RandomForestClassifier, GradientBoostingClassifier, AdaBoostClassifier\n",
    "from sklearn.metrics import confusion_matrix, accuracy_score, classification_report, make_scorer\n",
    "from sklearn.metrics import f1_score, precision_score, recall_score, roc_auc_score"
   ]
  },
  {
   "cell_type": "markdown",
   "metadata": {},
   "source": [
    "## Pemuatan Data"
   ]
  },
  {
   "cell_type": "code",
   "execution_count": 2,
   "metadata": {},
   "outputs": [
    {
     "data": {
      "text/html": [
       "<div>\n",
       "<style scoped>\n",
       "    .dataframe tbody tr th:only-of-type {\n",
       "        vertical-align: middle;\n",
       "    }\n",
       "\n",
       "    .dataframe tbody tr th {\n",
       "        vertical-align: top;\n",
       "    }\n",
       "\n",
       "    .dataframe thead th {\n",
       "        text-align: right;\n",
       "    }\n",
       "</style>\n",
       "<table border=\"1\" class=\"dataframe\">\n",
       "  <thead>\n",
       "    <tr style=\"text-align: right;\">\n",
       "      <th></th>\n",
       "      <th>age</th>\n",
       "      <th>anaemia</th>\n",
       "      <th>creatinine_phosphokinase</th>\n",
       "      <th>diabetes</th>\n",
       "      <th>ejection_fraction</th>\n",
       "      <th>high_blood_pressure</th>\n",
       "      <th>platelets</th>\n",
       "      <th>serum_creatinine</th>\n",
       "      <th>serum_sodium</th>\n",
       "      <th>sex</th>\n",
       "      <th>smoking</th>\n",
       "      <th>time</th>\n",
       "      <th>DEATH_EVENT</th>\n",
       "    </tr>\n",
       "  </thead>\n",
       "  <tbody>\n",
       "    <tr>\n",
       "      <th>0</th>\n",
       "      <td>75.0</td>\n",
       "      <td>0</td>\n",
       "      <td>582</td>\n",
       "      <td>0</td>\n",
       "      <td>20</td>\n",
       "      <td>1</td>\n",
       "      <td>265000.00</td>\n",
       "      <td>1.9</td>\n",
       "      <td>130</td>\n",
       "      <td>1</td>\n",
       "      <td>0</td>\n",
       "      <td>4</td>\n",
       "      <td>1</td>\n",
       "    </tr>\n",
       "    <tr>\n",
       "      <th>1</th>\n",
       "      <td>55.0</td>\n",
       "      <td>0</td>\n",
       "      <td>7861</td>\n",
       "      <td>0</td>\n",
       "      <td>38</td>\n",
       "      <td>0</td>\n",
       "      <td>263358.03</td>\n",
       "      <td>1.1</td>\n",
       "      <td>136</td>\n",
       "      <td>1</td>\n",
       "      <td>0</td>\n",
       "      <td>6</td>\n",
       "      <td>1</td>\n",
       "    </tr>\n",
       "    <tr>\n",
       "      <th>2</th>\n",
       "      <td>65.0</td>\n",
       "      <td>0</td>\n",
       "      <td>146</td>\n",
       "      <td>0</td>\n",
       "      <td>20</td>\n",
       "      <td>0</td>\n",
       "      <td>162000.00</td>\n",
       "      <td>1.3</td>\n",
       "      <td>129</td>\n",
       "      <td>1</td>\n",
       "      <td>1</td>\n",
       "      <td>7</td>\n",
       "      <td>1</td>\n",
       "    </tr>\n",
       "    <tr>\n",
       "      <th>3</th>\n",
       "      <td>50.0</td>\n",
       "      <td>1</td>\n",
       "      <td>111</td>\n",
       "      <td>0</td>\n",
       "      <td>20</td>\n",
       "      <td>0</td>\n",
       "      <td>210000.00</td>\n",
       "      <td>1.9</td>\n",
       "      <td>137</td>\n",
       "      <td>1</td>\n",
       "      <td>0</td>\n",
       "      <td>7</td>\n",
       "      <td>1</td>\n",
       "    </tr>\n",
       "    <tr>\n",
       "      <th>4</th>\n",
       "      <td>65.0</td>\n",
       "      <td>1</td>\n",
       "      <td>160</td>\n",
       "      <td>1</td>\n",
       "      <td>20</td>\n",
       "      <td>0</td>\n",
       "      <td>327000.00</td>\n",
       "      <td>2.7</td>\n",
       "      <td>116</td>\n",
       "      <td>0</td>\n",
       "      <td>0</td>\n",
       "      <td>8</td>\n",
       "      <td>1</td>\n",
       "    </tr>\n",
       "  </tbody>\n",
       "</table>\n",
       "</div>"
      ],
      "text/plain": [
       "    age  anaemia  creatinine_phosphokinase  diabetes  ejection_fraction  \\\n",
       "0  75.0        0                       582         0                 20   \n",
       "1  55.0        0                      7861         0                 38   \n",
       "2  65.0        0                       146         0                 20   \n",
       "3  50.0        1                       111         0                 20   \n",
       "4  65.0        1                       160         1                 20   \n",
       "\n",
       "   high_blood_pressure  platelets  serum_creatinine  serum_sodium  sex  \\\n",
       "0                    1  265000.00               1.9           130    1   \n",
       "1                    0  263358.03               1.1           136    1   \n",
       "2                    0  162000.00               1.3           129    1   \n",
       "3                    0  210000.00               1.9           137    1   \n",
       "4                    0  327000.00               2.7           116    0   \n",
       "\n",
       "   smoking  time  DEATH_EVENT  \n",
       "0        0     4            1  \n",
       "1        0     6            1  \n",
       "2        1     7            1  \n",
       "3        0     7            1  \n",
       "4        0     8            1  "
      ]
     },
     "execution_count": 2,
     "metadata": {},
     "output_type": "execute_result"
    }
   ],
   "source": [
    "heart_df = pd.read_csv('heart_failure_clinical_records_dataset.csv')\n",
    "heart_df.head()"
   ]
  },
  {
   "cell_type": "markdown",
   "metadata": {},
   "source": [
    "## Exploratory Data Analysis (EDA)"
   ]
  },
  {
   "cell_type": "code",
   "execution_count": 3,
   "metadata": {},
   "outputs": [
    {
     "name": "stdout",
     "output_type": "stream",
     "text": [
      "<class 'pandas.core.frame.DataFrame'>\n",
      "RangeIndex: 299 entries, 0 to 298\n",
      "Data columns (total 13 columns):\n",
      " #   Column                    Non-Null Count  Dtype  \n",
      "---  ------                    --------------  -----  \n",
      " 0   age                       299 non-null    float64\n",
      " 1   anaemia                   299 non-null    int64  \n",
      " 2   creatinine_phosphokinase  299 non-null    int64  \n",
      " 3   diabetes                  299 non-null    int64  \n",
      " 4   ejection_fraction         299 non-null    int64  \n",
      " 5   high_blood_pressure       299 non-null    int64  \n",
      " 6   platelets                 299 non-null    float64\n",
      " 7   serum_creatinine          299 non-null    float64\n",
      " 8   serum_sodium              299 non-null    int64  \n",
      " 9   sex                       299 non-null    int64  \n",
      " 10  smoking                   299 non-null    int64  \n",
      " 11  time                      299 non-null    int64  \n",
      " 12  DEATH_EVENT               299 non-null    int64  \n",
      "dtypes: float64(3), int64(10)\n",
      "memory usage: 30.5 KB\n"
     ]
    }
   ],
   "source": [
    "heart_df.info()"
   ]
  },
  {
   "cell_type": "code",
   "execution_count": 4,
   "metadata": {},
   "outputs": [],
   "source": [
    "# nama kolom dibuat non kapital\n",
    "heart_df.columns = heart_df.columns.str.lower()"
   ]
  },
  {
   "cell_type": "code",
   "execution_count": 5,
   "metadata": {},
   "outputs": [
    {
     "data": {
      "text/html": [
       "<div>\n",
       "<style scoped>\n",
       "    .dataframe tbody tr th:only-of-type {\n",
       "        vertical-align: middle;\n",
       "    }\n",
       "\n",
       "    .dataframe tbody tr th {\n",
       "        vertical-align: top;\n",
       "    }\n",
       "\n",
       "    .dataframe thead th {\n",
       "        text-align: right;\n",
       "    }\n",
       "</style>\n",
       "<table border=\"1\" class=\"dataframe\">\n",
       "  <thead>\n",
       "    <tr style=\"text-align: right;\">\n",
       "      <th></th>\n",
       "      <th>age</th>\n",
       "      <th>anaemia</th>\n",
       "      <th>creatinine_phosphokinase</th>\n",
       "      <th>diabetes</th>\n",
       "      <th>ejection_fraction</th>\n",
       "      <th>high_blood_pressure</th>\n",
       "      <th>platelets</th>\n",
       "      <th>serum_creatinine</th>\n",
       "      <th>serum_sodium</th>\n",
       "      <th>sex</th>\n",
       "      <th>smoking</th>\n",
       "      <th>time</th>\n",
       "      <th>death_event</th>\n",
       "    </tr>\n",
       "  </thead>\n",
       "  <tbody>\n",
       "    <tr>\n",
       "      <th>count</th>\n",
       "      <td>299.000000</td>\n",
       "      <td>299.000000</td>\n",
       "      <td>299.000000</td>\n",
       "      <td>299.000000</td>\n",
       "      <td>299.000000</td>\n",
       "      <td>299.000000</td>\n",
       "      <td>299.000000</td>\n",
       "      <td>299.00000</td>\n",
       "      <td>299.000000</td>\n",
       "      <td>299.000000</td>\n",
       "      <td>299.00000</td>\n",
       "      <td>299.000000</td>\n",
       "      <td>299.00000</td>\n",
       "    </tr>\n",
       "    <tr>\n",
       "      <th>mean</th>\n",
       "      <td>60.833893</td>\n",
       "      <td>0.431438</td>\n",
       "      <td>581.839465</td>\n",
       "      <td>0.418060</td>\n",
       "      <td>38.083612</td>\n",
       "      <td>0.351171</td>\n",
       "      <td>263358.029264</td>\n",
       "      <td>1.39388</td>\n",
       "      <td>136.625418</td>\n",
       "      <td>0.648829</td>\n",
       "      <td>0.32107</td>\n",
       "      <td>130.260870</td>\n",
       "      <td>0.32107</td>\n",
       "    </tr>\n",
       "    <tr>\n",
       "      <th>std</th>\n",
       "      <td>11.894809</td>\n",
       "      <td>0.496107</td>\n",
       "      <td>970.287881</td>\n",
       "      <td>0.494067</td>\n",
       "      <td>11.834841</td>\n",
       "      <td>0.478136</td>\n",
       "      <td>97804.236869</td>\n",
       "      <td>1.03451</td>\n",
       "      <td>4.412477</td>\n",
       "      <td>0.478136</td>\n",
       "      <td>0.46767</td>\n",
       "      <td>77.614208</td>\n",
       "      <td>0.46767</td>\n",
       "    </tr>\n",
       "    <tr>\n",
       "      <th>min</th>\n",
       "      <td>40.000000</td>\n",
       "      <td>0.000000</td>\n",
       "      <td>23.000000</td>\n",
       "      <td>0.000000</td>\n",
       "      <td>14.000000</td>\n",
       "      <td>0.000000</td>\n",
       "      <td>25100.000000</td>\n",
       "      <td>0.50000</td>\n",
       "      <td>113.000000</td>\n",
       "      <td>0.000000</td>\n",
       "      <td>0.00000</td>\n",
       "      <td>4.000000</td>\n",
       "      <td>0.00000</td>\n",
       "    </tr>\n",
       "    <tr>\n",
       "      <th>25%</th>\n",
       "      <td>51.000000</td>\n",
       "      <td>0.000000</td>\n",
       "      <td>116.500000</td>\n",
       "      <td>0.000000</td>\n",
       "      <td>30.000000</td>\n",
       "      <td>0.000000</td>\n",
       "      <td>212500.000000</td>\n",
       "      <td>0.90000</td>\n",
       "      <td>134.000000</td>\n",
       "      <td>0.000000</td>\n",
       "      <td>0.00000</td>\n",
       "      <td>73.000000</td>\n",
       "      <td>0.00000</td>\n",
       "    </tr>\n",
       "    <tr>\n",
       "      <th>50%</th>\n",
       "      <td>60.000000</td>\n",
       "      <td>0.000000</td>\n",
       "      <td>250.000000</td>\n",
       "      <td>0.000000</td>\n",
       "      <td>38.000000</td>\n",
       "      <td>0.000000</td>\n",
       "      <td>262000.000000</td>\n",
       "      <td>1.10000</td>\n",
       "      <td>137.000000</td>\n",
       "      <td>1.000000</td>\n",
       "      <td>0.00000</td>\n",
       "      <td>115.000000</td>\n",
       "      <td>0.00000</td>\n",
       "    </tr>\n",
       "    <tr>\n",
       "      <th>75%</th>\n",
       "      <td>70.000000</td>\n",
       "      <td>1.000000</td>\n",
       "      <td>582.000000</td>\n",
       "      <td>1.000000</td>\n",
       "      <td>45.000000</td>\n",
       "      <td>1.000000</td>\n",
       "      <td>303500.000000</td>\n",
       "      <td>1.40000</td>\n",
       "      <td>140.000000</td>\n",
       "      <td>1.000000</td>\n",
       "      <td>1.00000</td>\n",
       "      <td>203.000000</td>\n",
       "      <td>1.00000</td>\n",
       "    </tr>\n",
       "    <tr>\n",
       "      <th>max</th>\n",
       "      <td>95.000000</td>\n",
       "      <td>1.000000</td>\n",
       "      <td>7861.000000</td>\n",
       "      <td>1.000000</td>\n",
       "      <td>80.000000</td>\n",
       "      <td>1.000000</td>\n",
       "      <td>850000.000000</td>\n",
       "      <td>9.40000</td>\n",
       "      <td>148.000000</td>\n",
       "      <td>1.000000</td>\n",
       "      <td>1.00000</td>\n",
       "      <td>285.000000</td>\n",
       "      <td>1.00000</td>\n",
       "    </tr>\n",
       "  </tbody>\n",
       "</table>\n",
       "</div>"
      ],
      "text/plain": [
       "              age     anaemia  creatinine_phosphokinase    diabetes  \\\n",
       "count  299.000000  299.000000                299.000000  299.000000   \n",
       "mean    60.833893    0.431438                581.839465    0.418060   \n",
       "std     11.894809    0.496107                970.287881    0.494067   \n",
       "min     40.000000    0.000000                 23.000000    0.000000   \n",
       "25%     51.000000    0.000000                116.500000    0.000000   \n",
       "50%     60.000000    0.000000                250.000000    0.000000   \n",
       "75%     70.000000    1.000000                582.000000    1.000000   \n",
       "max     95.000000    1.000000               7861.000000    1.000000   \n",
       "\n",
       "       ejection_fraction  high_blood_pressure      platelets  \\\n",
       "count         299.000000           299.000000     299.000000   \n",
       "mean           38.083612             0.351171  263358.029264   \n",
       "std            11.834841             0.478136   97804.236869   \n",
       "min            14.000000             0.000000   25100.000000   \n",
       "25%            30.000000             0.000000  212500.000000   \n",
       "50%            38.000000             0.000000  262000.000000   \n",
       "75%            45.000000             1.000000  303500.000000   \n",
       "max            80.000000             1.000000  850000.000000   \n",
       "\n",
       "       serum_creatinine  serum_sodium         sex    smoking        time  \\\n",
       "count         299.00000    299.000000  299.000000  299.00000  299.000000   \n",
       "mean            1.39388    136.625418    0.648829    0.32107  130.260870   \n",
       "std             1.03451      4.412477    0.478136    0.46767   77.614208   \n",
       "min             0.50000    113.000000    0.000000    0.00000    4.000000   \n",
       "25%             0.90000    134.000000    0.000000    0.00000   73.000000   \n",
       "50%             1.10000    137.000000    1.000000    0.00000  115.000000   \n",
       "75%             1.40000    140.000000    1.000000    1.00000  203.000000   \n",
       "max             9.40000    148.000000    1.000000    1.00000  285.000000   \n",
       "\n",
       "       death_event  \n",
       "count    299.00000  \n",
       "mean       0.32107  \n",
       "std        0.46767  \n",
       "min        0.00000  \n",
       "25%        0.00000  \n",
       "50%        0.00000  \n",
       "75%        1.00000  \n",
       "max        1.00000  "
      ]
     },
     "execution_count": 5,
     "metadata": {},
     "output_type": "execute_result"
    }
   ],
   "source": [
    "# ringkasan statistik singkat\n",
    "heart_df.describe()"
   ]
  },
  {
   "cell_type": "code",
   "execution_count": 6,
   "metadata": {},
   "outputs": [
    {
     "name": "stdout",
     "output_type": "stream",
     "text": [
      "anaemia : [0 1]\n",
      "diabetes : [0 1]\n",
      "high_blood_pressure : [1 0]\n",
      "sex : [1 0]\n",
      "smoking : [0 1]\n",
      "death_event : [1 0]\n"
     ]
    }
   ],
   "source": [
    "# kolom yang memiliki nilai unik kurang dari 10\n",
    "for col in heart_df:\n",
    "    if heart_df[col].nunique() < 10:\n",
    "        print(col, ':', heart_df[col].unique())"
   ]
  },
  {
   "cell_type": "code",
   "execution_count": 7,
   "metadata": {},
   "outputs": [
    {
     "data": {
      "text/plain": [
       "0    67.892977\n",
       "1    32.107023\n",
       "Name: death_event, dtype: float64"
      ]
     },
     "execution_count": 7,
     "metadata": {},
     "output_type": "execute_result"
    }
   ],
   "source": [
    "# persentase proporsi variabel target\n",
    "vc = heart_df['death_event'].value_counts()\n",
    "vc / vc.sum() * 100"
   ]
  },
  {
   "cell_type": "code",
   "execution_count": 8,
   "metadata": {},
   "outputs": [
    {
     "data": {
      "image/png": "[encoded data removed]",
      "text/plain": [
       "<Figure size 432x288 with 1 Axes>"
      ]
     },
     "metadata": {
      "needs_background": "light"
     },
     "output_type": "display_data"
    }
   ],
   "source": [
    "# grafik proporsi variabel target\n",
    "vc.index = vc.index.astype(str)\n",
    "plt.bar(vc.index, vc)\n",
    "xlocs, xlabs = plt.xticks()\n",
    "for i, v in enumerate(vc):\n",
    "    plt.text(xlocs[i]-0.05, v+v/100, str(v))\n",
    "plt.show()"
   ]
  },
  {
   "cell_type": "markdown",
   "metadata": {},
   "source": [
    "Proposi variabel target bisa dikatakan seimbang meskipun jumlah nilai 0 dua kali lebih banyak dibanding nilai 1."
   ]
  },
  {
   "cell_type": "code",
   "execution_count": 9,
   "metadata": {},
   "outputs": [
    {
     "data": {
      "image/png": "[encoded data removed]",
      "text/plain": [
       "<Figure size 1080x720 with 16 Axes>"
      ]
     },
     "metadata": {
      "needs_background": "light"
     },
     "output_type": "display_data"
    }
   ],
   "source": [
    "# melihat sebaran fitur numerik\n",
    "heart_df.hist(figsize=(15,10))\n",
    "plt.show()"
   ]
  },
  {
   "cell_type": "markdown",
   "metadata": {},
   "source": [
    "Terlihat hanya kolom 'platelets' saja yang mendekati distribusi normal."
   ]
  },
  {
   "cell_type": "markdown",
   "metadata": {},
   "source": [
    "### Korelasi"
   ]
  },
  {
   "cell_type": "code",
   "execution_count": 10,
   "metadata": {
    "scrolled": false
   },
   "outputs": [
    {
     "data": {
      "image/png": "[encoded data removed]",
      "text/plain": [
       "<Figure size 720x360 with 2 Axes>"
      ]
     },
     "metadata": {
      "needs_background": "light"
     },
     "output_type": "display_data"
    }
   ],
   "source": [
    "# melihat korelasi data numerik dengan variabel target\n",
    "plt.figure(figsize = (10,5))\n",
    "sns.heatmap(heart_df.corr(), annot=True)\n",
    "plt.show()"
   ]
  },
  {
   "cell_type": "markdown",
   "metadata": {},
   "source": [
    "Ada lima fitur yang memiliki nilai korelasi absolut lebih dari 0,2 yaitu 'age', 'ejection_fraction', 'serum_creatinine', 'serum_sodium', dan 'time'"
   ]
  },
  {
   "cell_type": "markdown",
   "metadata": {},
   "source": [
    "**Fitur yang memiliki korelasi dengan target dilihat secara visual.**"
   ]
  },
  {
   "cell_type": "code",
   "execution_count": 11,
   "metadata": {
    "scrolled": true
   },
   "outputs": [
    {
     "data": {
      "image/png": "[encoded data removed]",
      "text/plain": [
       "<Figure size 430.25x360 with 1 Axes>"
      ]
     },
     "metadata": {
      "needs_background": "light"
     },
     "output_type": "display_data"
    },
    {
     "data": {
      "image/png": "[encoded data removed]",
      "text/plain": [
       "<Figure size 430.25x360 with 1 Axes>"
      ]
     },
     "metadata": {
      "needs_background": "light"
     },
     "output_type": "display_data"
    },
    {
     "data": {
      "image/png": "[encoded data removed]",
      "text/plain": [
       "<Figure size 430.25x360 with 1 Axes>"
      ]
     },
     "metadata": {
      "needs_background": "light"
     },
     "output_type": "display_data"
    },
    {
     "data": {
      "image/png": "[encoded data removed]",
      "text/plain": [
       "<Figure size 430.25x360 with 1 Axes>"
      ]
     },
     "metadata": {
      "needs_background": "light"
     },
     "output_type": "display_data"
    },
    {
     "data": {
      "image/png": "[encoded data removed]",
      "text/plain": [
       "<Figure size 430.25x360 with 1 Axes>"
      ]
     },
     "metadata": {
      "needs_background": "light"
     },
     "output_type": "display_data"
    }
   ],
   "source": [
    "# grafik distribusi fitur yang memiliki korelasi terhadap target\n",
    "fitcorr = ['age', 'ejection_fraction', 'serum_creatinine', 'serum_sodium', 'time']\n",
    "\n",
    "for f in fitcorr:\n",
    "    dp2 = sns.displot(heart_df, x=f, hue=\"death_event\", kind=\"kde\", fill=True)\n",
    "    dp2.fig.suptitle(f)\n",
    "plt.show()"
   ]
  },
  {
   "cell_type": "markdown",
   "metadata": {},
   "source": [
    "- Dari distribusi usia, usia di atas 80 semakin rentan meninggal dunia gagal jantung.\n",
    "- Ejection fraction di bawah 30 semakin rentan meninggal dunia gagal jantung.\n",
    "- Serum creatinine di bawah 2 dan terutama di atas 7 rentan meninggal dunia gagal jantung.\n",
    "- Serum sodium di bawah sekitar 128 sedikit rentan meninggal dunia gagal jantung.\n",
    "- Waktu periode _follow-up_ di bawah 50 hari rentan meninggal dunia gagal jantung."
   ]
  },
  {
   "cell_type": "markdown",
   "metadata": {},
   "source": [
    "**Fitur 'smoking' dan 'sex'**  \n",
    "Saya penasaran dengan fitur 'smoking' dan 'sex' yang saling berkorelasi cukup tinggi. Jadi, coba kita telisik secara visual."
   ]
  },
  {
   "cell_type": "code",
   "execution_count": 12,
   "metadata": {},
   "outputs": [
    {
     "data": {
      "image/png": "[encoded data removed]",
      "text/plain": [
       "<Figure size 432x432 with 2 Axes>"
      ]
     },
     "metadata": {
      "needs_background": "light"
     },
     "output_type": "display_data"
    }
   ],
   "source": [
    "plt.figure(figsize=(6, 6))\n",
    "plt.title('Jumlah Silang Antara Perokok dan Jenis Kelamin')\n",
    "ax = plt.subplot()\n",
    "cm = pd.crosstab(heart_df.smoking.replace({1: 'Merokok', 0: 'Tidak Merokok'}), heart_df.sex.replace({1: 'Pria', 0: 'Wanita'}))\n",
    "sns.heatmap(cm, annot=True, ax = ax, fmt = 'g', cmap=plt.cm.Blues)\n",
    "ax.set_xlabel('')\n",
    "ax.set_ylabel('')\n",
    "plt.show()"
   ]
  },
  {
   "cell_type": "markdown",
   "metadata": {},
   "source": [
    "Sudah hal umum diketahui bahwa jumlah perokok pria lebih banyak dibandingkan perokok wanita. Coba kita lihat lebih detail lagi dengan membandingkan jumlah meninggal dunia gagal jantung."
   ]
  },
  {
   "cell_type": "code",
   "execution_count": 13,
   "metadata": {},
   "outputs": [
    {
     "data": {
      "image/png": "[encoded data removed]",
      "text/plain": [
       "<Figure size 432x432 with 2 Axes>"
      ]
     },
     "metadata": {
      "needs_background": "light"
     },
     "output_type": "display_data"
    }
   ],
   "source": [
    "plt.figure(figsize=(6, 6))\n",
    "plt.title('Jumlah Silang Antara Perokok, Jenis Kelamin, dan Meninggal Dunia Gagal Jantung')\n",
    "ax = plt.subplot()\n",
    "cm = pd.crosstab([\n",
    "    heart_df.smoking.replace({1: 'Merokok', 0: 'Tidak Merokok'}),\n",
    "    heart_df.sex.replace({1: 'Pria', 0: 'Wanita'})],\n",
    "    heart_df.death_event.replace({1: 'Wafat', 0: 'Hidup'}),\n",
    ")\n",
    "sns.heatmap(cm, annot=True, ax = ax, fmt = 'g', cmap=plt.cm.Blues)\n",
    "ax.set_xlabel('')\n",
    "ax.set_ylabel('')\n",
    "plt.show()"
   ]
  },
  {
   "cell_type": "markdown",
   "metadata": {},
   "source": [
    "Pasien meninggal dunia gagal jantung di setiap kombinasi perokok dan jenis kelamin berjumlah dua kali lebih kecil dibanding pasien yang hidup, kecuali perokok wanita. Namun, jumlah data pada perokok wanita sedikit, sehingga tidak bisa disimpulkan secara umum."
   ]
  },
  {
   "cell_type": "markdown",
   "metadata": {},
   "source": [
    "## Pra-pemrosesan Data"
   ]
  },
  {
   "cell_type": "code",
   "execution_count": 14,
   "metadata": {},
   "outputs": [
    {
     "name": "stdout",
     "output_type": "stream",
     "text": [
      "Jumlah data train: 209\n",
      "Jumlah data test: 90\n"
     ]
    }
   ],
   "source": [
    "# pembagian data train dan data test\n",
    "X = heart_df.drop(['death_event'], axis=1)\n",
    "y = heart_df['death_event']\n",
    "\n",
    "X_train, X_test, y_train, y_test = train_test_split(X, y, test_size=0.3, random_state=3)\n",
    "\n",
    "print('Jumlah data train:', X_train.shape[0])\n",
    "print('Jumlah data test:', X_test.shape[0])"
   ]
  },
  {
   "cell_type": "markdown",
   "metadata": {},
   "source": [
    "### _Feature Scaling_"
   ]
  },
  {
   "cell_type": "markdown",
   "metadata": {},
   "source": [
    "Sebagian besar fitur tidak terdistribusi normal sehingga metode _feature scaling_ yang digunakan adalah normalisasi (_Min Max Scaler_)."
   ]
  },
  {
   "cell_type": "code",
   "execution_count": 15,
   "metadata": {},
   "outputs": [
    {
     "data": {
      "text/plain": [
       "array([[0.90909091, 1.        , 0.03920317, ..., 0.        , 0.        ,\n",
       "        0.89679715],\n",
       "       [0.36363636, 1.        , 0.07368152, ..., 1.        , 1.        ,\n",
       "        0.17793594],\n",
       "       [0.36363636, 0.        , 0.28489337, ..., 1.        , 0.        ,\n",
       "        0.39501779],\n",
       "       ...,\n",
       "       [0.36363636, 1.        , 0.13433789, ..., 1.        , 0.        ,\n",
       "        0.36654804],\n",
       "       [0.23636364, 0.        , 0.02260248, ..., 0.        , 0.        ,\n",
       "        0.74733096],\n",
       "       [0.18181818, 0.        , 0.0108543 , ..., 1.        , 1.        ,\n",
       "        0.40569395]])"
      ]
     },
     "execution_count": 15,
     "metadata": {},
     "output_type": "execute_result"
    }
   ],
   "source": [
    "# normalisasi\n",
    "norm = MinMaxScaler()\n",
    "norm.fit_transform(X_train)"
   ]
  },
  {
   "cell_type": "markdown",
   "metadata": {},
   "source": [
    "## Pendefinisian Model"
   ]
  },
  {
   "cell_type": "code",
   "execution_count": 16,
   "metadata": {},
   "outputs": [],
   "source": [
    "# Random Forest\n",
    "rfc_pipe = Pipeline([\n",
    "    (\"scaler\", MinMaxScaler()),\n",
    "    (\"randfor\", RandomForestClassifier(random_state=3))\n",
    "    ])"
   ]
  },
  {
   "cell_type": "code",
   "execution_count": 17,
   "metadata": {},
   "outputs": [],
   "source": [
    "# Ada Boost\n",
    "adab_pipe = Pipeline([\n",
    "    (\"scaler\", MinMaxScaler()),\n",
    "    (\"adaboost\", AdaBoostClassifier(random_state=3))\n",
    "    ])"
   ]
  },
  {
   "cell_type": "code",
   "execution_count": 18,
   "metadata": {},
   "outputs": [],
   "source": [
    "# Gradient Boost\n",
    "grab_pipe = Pipeline([\n",
    "    (\"scaler\", MinMaxScaler()),\n",
    "    (\"gradboost\", GradientBoostingClassifier(random_state=3))\n",
    "    ])"
   ]
  },
  {
   "cell_type": "markdown",
   "metadata": {},
   "source": [
    "## Pelatihan Model"
   ]
  },
  {
   "cell_type": "markdown",
   "metadata": {},
   "source": [
    "Dalam studi kasus ini, model mencoba untuk memprediksi apakah pasien akan meninggal dunia akibat gagal jantung, sehingga pada confusino matrix **label 1 dianggap positif**. Ada dua tipe kesalahan dalam model. Kesalahan tipe pertama (Type I Error/FP) yaitu salah menduga pasien akan meninggal dunia akibat gagal jantung. Kesalahan tipe kedua (Type II Error/FN) yaitu salah menduga pasien tidak akan meninggal dunia akibat gagal jantung. Kesalahan yang perlu diminimalkan adalah kesalahan tipe kedua karena menyangkut nyawa seseorang. Sehingga, **penilaian yang sesuai untuk menilai kinerja model adalah dari skor recall**."
   ]
  },
  {
   "cell_type": "code",
   "execution_count": 19,
   "metadata": {},
   "outputs": [],
   "source": [
    "# membuat kerangka pelatihan model\n",
    "model_pipelines = [rfc_pipe, adab_pipe, grab_pipe]\n",
    "model_names = [\n",
    "    'RandomForestClassifier',\n",
    "    'AdaBoostClassifier',\n",
    "    'GradientBoostingClassifier'\n",
    "]\n",
    "model_results = pd.DataFrame(index=model_names)"
   ]
  },
  {
   "cell_type": "code",
   "execution_count": 20,
   "metadata": {
    "scrolled": true
   },
   "outputs": [],
   "source": [
    "# melatih model dan menempatkan hasilnya pada dataframe\n",
    "if len(model_pipelines) == len(model_names):\n",
    "    for model, names in zip(model_pipelines, model_names):\n",
    "        model.fit(X_train, y_train)\n",
    "        ytrain_pred = model.predict(X_train) \n",
    "        ytest_pred = model.predict(X_test)\n",
    "        model_results.loc[names, 'Akurasi Data Train'] = model.score(X_train, y_train)\n",
    "        model_results.loc[names, 'Akurasi Data Test'] = model.score(X_test, y_test)\n",
    "        model_results.loc[names, 'ROC AUC Data Train'] = roc_auc_score(y_train, ytrain_pred)\n",
    "        model_results.loc[names, 'ROC AUC Data Test'] = roc_auc_score(y_test, ytest_pred)\n",
    "        model_results.loc[names, 'Recall'] = recall_score(y_test, ytest_pred)\n",
    "        model_results.loc[names, 'Skor F1'] = f1_score(y_test, ytest_pred)"
   ]
  },
  {
   "cell_type": "code",
   "execution_count": 21,
   "metadata": {},
   "outputs": [
    {
     "data": {
      "text/html": [
       "<div>\n",
       "<style scoped>\n",
       "    .dataframe tbody tr th:only-of-type {\n",
       "        vertical-align: middle;\n",
       "    }\n",
       "\n",
       "    .dataframe tbody tr th {\n",
       "        vertical-align: top;\n",
       "    }\n",
       "\n",
       "    .dataframe thead th {\n",
       "        text-align: right;\n",
       "    }\n",
       "</style>\n",
       "<table border=\"1\" class=\"dataframe\">\n",
       "  <thead>\n",
       "    <tr style=\"text-align: right;\">\n",
       "      <th></th>\n",
       "      <th>Akurasi Data Train</th>\n",
       "      <th>Akurasi Data Test</th>\n",
       "      <th>ROC AUC Data Train</th>\n",
       "      <th>ROC AUC Data Test</th>\n",
       "      <th>Recall</th>\n",
       "      <th>Skor F1</th>\n",
       "    </tr>\n",
       "  </thead>\n",
       "  <tbody>\n",
       "    <tr>\n",
       "      <th>RandomForestClassifier</th>\n",
       "      <td>1.000000</td>\n",
       "      <td>0.800000</td>\n",
       "      <td>1.000000</td>\n",
       "      <td>0.789146</td>\n",
       "      <td>0.758621</td>\n",
       "      <td>0.709677</td>\n",
       "    </tr>\n",
       "    <tr>\n",
       "      <th>AdaBoostClassifier</th>\n",
       "      <td>0.995215</td>\n",
       "      <td>0.766667</td>\n",
       "      <td>0.992537</td>\n",
       "      <td>0.737422</td>\n",
       "      <td>0.655172</td>\n",
       "      <td>0.644068</td>\n",
       "    </tr>\n",
       "    <tr>\n",
       "      <th>GradientBoostingClassifier</th>\n",
       "      <td>1.000000</td>\n",
       "      <td>0.777778</td>\n",
       "      <td>1.000000</td>\n",
       "      <td>0.772753</td>\n",
       "      <td>0.758621</td>\n",
       "      <td>0.687500</td>\n",
       "    </tr>\n",
       "  </tbody>\n",
       "</table>\n",
       "</div>"
      ],
      "text/plain": [
       "                            Akurasi Data Train  Akurasi Data Test  \\\n",
       "RandomForestClassifier                1.000000           0.800000   \n",
       "AdaBoostClassifier                    0.995215           0.766667   \n",
       "GradientBoostingClassifier            1.000000           0.777778   \n",
       "\n",
       "                            ROC AUC Data Train  ROC AUC Data Test    Recall  \\\n",
       "RandomForestClassifier                1.000000           0.789146  0.758621   \n",
       "AdaBoostClassifier                    0.992537           0.737422  0.655172   \n",
       "GradientBoostingClassifier            1.000000           0.772753  0.758621   \n",
       "\n",
       "                             Skor F1  \n",
       "RandomForestClassifier      0.709677  \n",
       "AdaBoostClassifier          0.644068  \n",
       "GradientBoostingClassifier  0.687500  "
      ]
     },
     "execution_count": 21,
     "metadata": {},
     "output_type": "execute_result"
    }
   ],
   "source": [
    "model_results"
   ]
  },
  {
   "cell_type": "markdown",
   "metadata": {},
   "source": [
    "Pada semua model, Nilai akurasi data train dan data test jauh berbeda. Ini menunjukkan semua model overfitting. Saya langsung lanjutkan ke _tuning hyperparameter_ dengan _cross validation_."
   ]
  },
  {
   "cell_type": "markdown",
   "metadata": {},
   "source": [
    "## Evaluasi Model"
   ]
  },
  {
   "cell_type": "markdown",
   "metadata": {},
   "source": [
    "### Tuning Hyperparameter"
   ]
  },
  {
   "cell_type": "code",
   "execution_count": 22,
   "metadata": {},
   "outputs": [],
   "source": [
    "# menentukan skor yang dihitung dalam gridsearchcv\n",
    "scoring = {'recall': make_scorer(recall_score),\n",
    "           'f1': make_scorer(f1_score),\n",
    "           'AUC': 'roc_auc',\n",
    "           'acc': make_scorer(accuracy_score)}"
   ]
  },
  {
   "cell_type": "markdown",
   "metadata": {},
   "source": [
    "#### Random Forest"
   ]
  },
  {
   "cell_type": "code",
   "execution_count": 23,
   "metadata": {},
   "outputs": [
    {
     "name": "stdout",
     "output_type": "stream",
     "text": [
      "Random Forest\n",
      "Best parameters: {'randfor__max_depth': 5, 'randfor__min_samples_leaf': 5, 'randfor__min_samples_split': 2, 'randfor__n_estimators': 10}\n",
      "Best cross-validation score: 0.7153846153846153\n"
     ]
    },
    {
     "data": {
      "text/html": [
       "<div>\n",
       "<style scoped>\n",
       "    .dataframe tbody tr th:only-of-type {\n",
       "        vertical-align: middle;\n",
       "    }\n",
       "\n",
       "    .dataframe tbody tr th {\n",
       "        vertical-align: top;\n",
       "    }\n",
       "\n",
       "    .dataframe thead th {\n",
       "        text-align: right;\n",
       "    }\n",
       "</style>\n",
       "<table border=\"1\" class=\"dataframe\">\n",
       "  <thead>\n",
       "    <tr style=\"text-align: right;\">\n",
       "      <th></th>\n",
       "      <th>params</th>\n",
       "      <th>mean_train_acc</th>\n",
       "      <th>mean_test_acc</th>\n",
       "      <th>mean_test_recall</th>\n",
       "      <th>mean_test_f1</th>\n",
       "      <th>mean_test_AUC</th>\n",
       "    </tr>\n",
       "  </thead>\n",
       "  <tbody>\n",
       "    <tr>\n",
       "      <th>128</th>\n",
       "      <td>{'randfor__max_depth': 5, 'randfor__min_sample...</td>\n",
       "      <td>0.922241</td>\n",
       "      <td>0.870616</td>\n",
       "      <td>0.715385</td>\n",
       "      <td>0.779017</td>\n",
       "      <td>0.925430</td>\n",
       "    </tr>\n",
       "    <tr>\n",
       "      <th>132</th>\n",
       "      <td>{'randfor__max_depth': 5, 'randfor__min_sample...</td>\n",
       "      <td>0.922241</td>\n",
       "      <td>0.870616</td>\n",
       "      <td>0.715385</td>\n",
       "      <td>0.779017</td>\n",
       "      <td>0.925430</td>\n",
       "    </tr>\n",
       "    <tr>\n",
       "      <th>157</th>\n",
       "      <td>{'randfor__max_depth': 5, 'randfor__min_sample...</td>\n",
       "      <td>0.903115</td>\n",
       "      <td>0.880256</td>\n",
       "      <td>0.715385</td>\n",
       "      <td>0.787488</td>\n",
       "      <td>0.930564</td>\n",
       "    </tr>\n",
       "    <tr>\n",
       "      <th>149</th>\n",
       "      <td>{'randfor__max_depth': 5, 'randfor__min_sample...</td>\n",
       "      <td>0.903115</td>\n",
       "      <td>0.880256</td>\n",
       "      <td>0.715385</td>\n",
       "      <td>0.787488</td>\n",
       "      <td>0.930564</td>\n",
       "    </tr>\n",
       "    <tr>\n",
       "      <th>213</th>\n",
       "      <td>{'randfor__max_depth': 10, 'randfor__min_sampl...</td>\n",
       "      <td>0.903115</td>\n",
       "      <td>0.880256</td>\n",
       "      <td>0.715385</td>\n",
       "      <td>0.787488</td>\n",
       "      <td>0.930033</td>\n",
       "    </tr>\n",
       "  </tbody>\n",
       "</table>\n",
       "</div>"
      ],
      "text/plain": [
       "                                                params  mean_train_acc  \\\n",
       "128  {'randfor__max_depth': 5, 'randfor__min_sample...        0.922241   \n",
       "132  {'randfor__max_depth': 5, 'randfor__min_sample...        0.922241   \n",
       "157  {'randfor__max_depth': 5, 'randfor__min_sample...        0.903115   \n",
       "149  {'randfor__max_depth': 5, 'randfor__min_sample...        0.903115   \n",
       "213  {'randfor__max_depth': 10, 'randfor__min_sampl...        0.903115   \n",
       "\n",
       "     mean_test_acc  mean_test_recall  mean_test_f1  mean_test_AUC  \n",
       "128       0.870616          0.715385      0.779017       0.925430  \n",
       "132       0.870616          0.715385      0.779017       0.925430  \n",
       "157       0.880256          0.715385      0.787488       0.930564  \n",
       "149       0.880256          0.715385      0.787488       0.930564  \n",
       "213       0.880256          0.715385      0.787488       0.930033  "
      ]
     },
     "execution_count": 23,
     "metadata": {},
     "output_type": "execute_result"
    }
   ],
   "source": [
    "param_grid = {\n",
    "    'randfor__n_estimators': [10, 50, 100, 250],\n",
    "    'randfor__max_depth': [2, 3, 5, 10],\n",
    "    'randfor__min_samples_leaf': [5, 10, 20, 50],\n",
    "    'randfor__min_samples_split': [2, 3, 5, 7]\n",
    "}\n",
    "\n",
    "grid_rf = GridSearchCV(rfc_pipe, param_grid, cv=5, n_jobs=-1, scoring=scoring, refit='recall', return_train_score=True)\n",
    "grid_rf.fit(X_train, y_train)\n",
    "print('Random Forest')\n",
    "print(\"Best parameters:\", grid_rf.best_params_)\n",
    "print(\"Best cross-validation score:\", grid_rf.best_score_)\n",
    "rf_results = pd.DataFrame(grid_rf.cv_results_)\n",
    "rf_results[['params',\n",
    "            'mean_train_acc',\n",
    "            'mean_test_acc',\n",
    "            'mean_test_recall',\n",
    "            'mean_test_f1',\n",
    "            'mean_test_AUC']].sort_values('mean_test_recall', ascending=False).head(5)"
   ]
  },
  {
   "cell_type": "markdown",
   "metadata": {},
   "source": [
    "#### Ada Boost"
   ]
  },
  {
   "cell_type": "code",
   "execution_count": 24,
   "metadata": {},
   "outputs": [
    {
     "name": "stdout",
     "output_type": "stream",
     "text": [
      "Ada Boost\n",
      "Best parameters: {'adaboost__n_estimators': 250}\n",
      "Best cross-validation score: 0.7153846153846154\n"
     ]
    },
    {
     "data": {
      "text/html": [
       "<div>\n",
       "<style scoped>\n",
       "    .dataframe tbody tr th:only-of-type {\n",
       "        vertical-align: middle;\n",
       "    }\n",
       "\n",
       "    .dataframe tbody tr th {\n",
       "        vertical-align: top;\n",
       "    }\n",
       "\n",
       "    .dataframe thead th {\n",
       "        text-align: right;\n",
       "    }\n",
       "</style>\n",
       "<table border=\"1\" class=\"dataframe\">\n",
       "  <thead>\n",
       "    <tr style=\"text-align: right;\">\n",
       "      <th></th>\n",
       "      <th>params</th>\n",
       "      <th>mean_train_acc</th>\n",
       "      <th>mean_test_acc</th>\n",
       "      <th>mean_test_recall</th>\n",
       "      <th>mean_test_f1</th>\n",
       "      <th>mean_test_AUC</th>\n",
       "    </tr>\n",
       "  </thead>\n",
       "  <tbody>\n",
       "    <tr>\n",
       "      <th>3</th>\n",
       "      <td>{'adaboost__n_estimators': 250}</td>\n",
       "      <td>1.000000</td>\n",
       "      <td>0.841696</td>\n",
       "      <td>0.715385</td>\n",
       "      <td>0.742352</td>\n",
       "      <td>0.874897</td>\n",
       "    </tr>\n",
       "    <tr>\n",
       "      <th>4</th>\n",
       "      <td>{'adaboost__n_estimators': 500}</td>\n",
       "      <td>1.000000</td>\n",
       "      <td>0.841812</td>\n",
       "      <td>0.702198</td>\n",
       "      <td>0.739427</td>\n",
       "      <td>0.883128</td>\n",
       "    </tr>\n",
       "    <tr>\n",
       "      <th>0</th>\n",
       "      <td>{'adaboost__n_estimators': 10}</td>\n",
       "      <td>0.922227</td>\n",
       "      <td>0.870848</td>\n",
       "      <td>0.701099</td>\n",
       "      <td>0.773550</td>\n",
       "      <td>0.902629</td>\n",
       "    </tr>\n",
       "    <tr>\n",
       "      <th>2</th>\n",
       "      <td>{'adaboost__n_estimators': 100}</td>\n",
       "      <td>1.000000</td>\n",
       "      <td>0.841580</td>\n",
       "      <td>0.700000</td>\n",
       "      <td>0.738557</td>\n",
       "      <td>0.886196</td>\n",
       "    </tr>\n",
       "    <tr>\n",
       "      <th>1</th>\n",
       "      <td>{'adaboost__n_estimators': 50}</td>\n",
       "      <td>0.998802</td>\n",
       "      <td>0.841580</td>\n",
       "      <td>0.684615</td>\n",
       "      <td>0.735923</td>\n",
       "      <td>0.886480</td>\n",
       "    </tr>\n",
       "  </tbody>\n",
       "</table>\n",
       "</div>"
      ],
      "text/plain": [
       "                            params  mean_train_acc  mean_test_acc  \\\n",
       "3  {'adaboost__n_estimators': 250}        1.000000       0.841696   \n",
       "4  {'adaboost__n_estimators': 500}        1.000000       0.841812   \n",
       "0   {'adaboost__n_estimators': 10}        0.922227       0.870848   \n",
       "2  {'adaboost__n_estimators': 100}        1.000000       0.841580   \n",
       "1   {'adaboost__n_estimators': 50}        0.998802       0.841580   \n",
       "\n",
       "   mean_test_recall  mean_test_f1  mean_test_AUC  \n",
       "3          0.715385      0.742352       0.874897  \n",
       "4          0.702198      0.739427       0.883128  \n",
       "0          0.701099      0.773550       0.902629  \n",
       "2          0.700000      0.738557       0.886196  \n",
       "1          0.684615      0.735923       0.886480  "
      ]
     },
     "execution_count": 24,
     "metadata": {},
     "output_type": "execute_result"
    }
   ],
   "source": [
    "param_grid = {\n",
    "    'adaboost__n_estimators': [10, 50, 100, 250, 500]\n",
    "}\n",
    "\n",
    "grid_adab = GridSearchCV(adab_pipe, param_grid, cv=5, n_jobs=-1, scoring=scoring, refit='recall', return_train_score=True)\n",
    "grid_adab.fit(X_train, y_train)\n",
    "print('Ada Boost')\n",
    "print(\"Best parameters:\", grid_adab.best_params_)\n",
    "print(\"Best cross-validation score:\", grid_adab.best_score_)\n",
    "adb_results = pd.DataFrame(grid_adab.cv_results_)\n",
    "adb_results[['params',\n",
    "            'mean_train_acc',\n",
    "            'mean_test_acc',\n",
    "            'mean_test_recall',\n",
    "            'mean_test_f1',\n",
    "            'mean_test_AUC']].sort_values('mean_test_recall', ascending=False).head(5)"
   ]
  },
  {
   "cell_type": "markdown",
   "metadata": {},
   "source": [
    "#### Gradient Boost"
   ]
  },
  {
   "cell_type": "code",
   "execution_count": 25,
   "metadata": {
    "scrolled": true
   },
   "outputs": [
    {
     "name": "stdout",
     "output_type": "stream",
     "text": [
      "Gradient Boosting\n",
      "Best parameters: {'gradboost__learning_rate': 1000.0, 'gradboost__n_estimators': 10}\n",
      "Best cross-validation score: 0.8065934065934066\n"
     ]
    },
    {
     "data": {
      "text/html": [
       "<div>\n",
       "<style scoped>\n",
       "    .dataframe tbody tr th:only-of-type {\n",
       "        vertical-align: middle;\n",
       "    }\n",
       "\n",
       "    .dataframe tbody tr th {\n",
       "        vertical-align: top;\n",
       "    }\n",
       "\n",
       "    .dataframe thead th {\n",
       "        text-align: right;\n",
       "    }\n",
       "</style>\n",
       "<table border=\"1\" class=\"dataframe\">\n",
       "  <thead>\n",
       "    <tr style=\"text-align: right;\">\n",
       "      <th></th>\n",
       "      <th>params</th>\n",
       "      <th>mean_train_acc</th>\n",
       "      <th>mean_test_acc</th>\n",
       "      <th>mean_test_recall</th>\n",
       "      <th>mean_test_f1</th>\n",
       "      <th>mean_test_AUC</th>\n",
       "    </tr>\n",
       "  </thead>\n",
       "  <tbody>\n",
       "    <tr>\n",
       "      <th>24</th>\n",
       "      <td>{'gradboost__learning_rate': 1000.0, 'gradboos...</td>\n",
       "      <td>0.713887</td>\n",
       "      <td>0.670267</td>\n",
       "      <td>0.806593</td>\n",
       "      <td>0.64015</td>\n",
       "      <td>0.677125</td>\n",
       "    </tr>\n",
       "    <tr>\n",
       "      <th>23</th>\n",
       "      <td>{'gradboost__learning_rate': 1000.0, 'gradboos...</td>\n",
       "      <td>0.713887</td>\n",
       "      <td>0.670267</td>\n",
       "      <td>0.806593</td>\n",
       "      <td>0.64015</td>\n",
       "      <td>0.677125</td>\n",
       "    </tr>\n",
       "    <tr>\n",
       "      <th>22</th>\n",
       "      <td>{'gradboost__learning_rate': 1000.0, 'gradboos...</td>\n",
       "      <td>0.713887</td>\n",
       "      <td>0.670267</td>\n",
       "      <td>0.806593</td>\n",
       "      <td>0.64015</td>\n",
       "      <td>0.677125</td>\n",
       "    </tr>\n",
       "    <tr>\n",
       "      <th>21</th>\n",
       "      <td>{'gradboost__learning_rate': 1000.0, 'gradboos...</td>\n",
       "      <td>0.713887</td>\n",
       "      <td>0.670267</td>\n",
       "      <td>0.806593</td>\n",
       "      <td>0.64015</td>\n",
       "      <td>0.677125</td>\n",
       "    </tr>\n",
       "    <tr>\n",
       "      <th>20</th>\n",
       "      <td>{'gradboost__learning_rate': 1000.0, 'gradboos...</td>\n",
       "      <td>0.713887</td>\n",
       "      <td>0.670267</td>\n",
       "      <td>0.806593</td>\n",
       "      <td>0.64015</td>\n",
       "      <td>0.677125</td>\n",
       "    </tr>\n",
       "  </tbody>\n",
       "</table>\n",
       "</div>"
      ],
      "text/plain": [
       "                                               params  mean_train_acc  \\\n",
       "24  {'gradboost__learning_rate': 1000.0, 'gradboos...        0.713887   \n",
       "23  {'gradboost__learning_rate': 1000.0, 'gradboos...        0.713887   \n",
       "22  {'gradboost__learning_rate': 1000.0, 'gradboos...        0.713887   \n",
       "21  {'gradboost__learning_rate': 1000.0, 'gradboos...        0.713887   \n",
       "20  {'gradboost__learning_rate': 1000.0, 'gradboos...        0.713887   \n",
       "\n",
       "    mean_test_acc  mean_test_recall  mean_test_f1  mean_test_AUC  \n",
       "24       0.670267          0.806593       0.64015       0.677125  \n",
       "23       0.670267          0.806593       0.64015       0.677125  \n",
       "22       0.670267          0.806593       0.64015       0.677125  \n",
       "21       0.670267          0.806593       0.64015       0.677125  \n",
       "20       0.670267          0.806593       0.64015       0.677125  "
      ]
     },
     "execution_count": 25,
     "metadata": {},
     "output_type": "execute_result"
    }
   ],
   "source": [
    "param_grid = {\n",
    "    'gradboost__n_estimators': [10, 50, 100, 250, 500],\n",
    "    'gradboost__learning_rate': np.logspace(-3,3,5)\n",
    "}\n",
    "\n",
    "grid_grad = GridSearchCV(grab_pipe, param_grid, cv=5, n_jobs=-1, scoring=scoring, refit='recall', return_train_score=True)\n",
    "grid_grad.fit(X_train, y_train)\n",
    "print('Gradient Boosting')\n",
    "print(\"Best parameters:\", grid_grad.best_params_)\n",
    "print(\"Best cross-validation score:\", grid_grad.best_score_)\n",
    "gb_results = pd.DataFrame(grid_grad.cv_results_)\n",
    "gb_results[['params',\n",
    "            'mean_train_acc',\n",
    "            'mean_test_acc',\n",
    "            'mean_test_recall',\n",
    "            'mean_test_f1',\n",
    "            'mean_test_AUC']].sort_values('mean_test_recall', ascending=False).head(5)"
   ]
  },
  {
   "cell_type": "markdown",
   "metadata": {},
   "source": [
    "#### Random Forest + Ada Boost"
   ]
  },
  {
   "cell_type": "markdown",
   "metadata": {},
   "source": [
    "Saya mencoba Ada Boost dengan base estimator Random Forest menggunakan parameter terbaik yang telah didapatkan."
   ]
  },
  {
   "cell_type": "code",
   "execution_count": 26,
   "metadata": {},
   "outputs": [
    {
     "name": "stdout",
     "output_type": "stream",
     "text": [
      "Random Forest + Ada Boost\n",
      "Parameter Awal:\n",
      "\n",
      "Best parameters: {'adaboost__n_estimators': 10}\n",
      "Best cross-validation score: 0.7318681318681319\n"
     ]
    },
    {
     "data": {
      "text/html": [
       "<div>\n",
       "<style scoped>\n",
       "    .dataframe tbody tr th:only-of-type {\n",
       "        vertical-align: middle;\n",
       "    }\n",
       "\n",
       "    .dataframe tbody tr th {\n",
       "        vertical-align: top;\n",
       "    }\n",
       "\n",
       "    .dataframe thead th {\n",
       "        text-align: right;\n",
       "    }\n",
       "</style>\n",
       "<table border=\"1\" class=\"dataframe\">\n",
       "  <thead>\n",
       "    <tr style=\"text-align: right;\">\n",
       "      <th></th>\n",
       "      <th>params</th>\n",
       "      <th>mean_train_acc</th>\n",
       "      <th>mean_test_acc</th>\n",
       "      <th>mean_test_recall</th>\n",
       "      <th>mean_test_f1</th>\n",
       "      <th>mean_test_AUC</th>\n",
       "    </tr>\n",
       "  </thead>\n",
       "  <tbody>\n",
       "    <tr>\n",
       "      <th>0</th>\n",
       "      <td>{'adaboost__n_estimators': 10}</td>\n",
       "      <td>1.0</td>\n",
       "      <td>0.866202</td>\n",
       "      <td>0.731868</td>\n",
       "      <td>0.772661</td>\n",
       "      <td>0.929184</td>\n",
       "    </tr>\n",
       "    <tr>\n",
       "      <th>2</th>\n",
       "      <td>{'adaboost__n_estimators': 100}</td>\n",
       "      <td>1.0</td>\n",
       "      <td>0.866086</td>\n",
       "      <td>0.716484</td>\n",
       "      <td>0.769726</td>\n",
       "      <td>0.928341</td>\n",
       "    </tr>\n",
       "    <tr>\n",
       "      <th>3</th>\n",
       "      <td>{'adaboost__n_estimators': 250}</td>\n",
       "      <td>1.0</td>\n",
       "      <td>0.866086</td>\n",
       "      <td>0.716484</td>\n",
       "      <td>0.769726</td>\n",
       "      <td>0.934094</td>\n",
       "    </tr>\n",
       "    <tr>\n",
       "      <th>1</th>\n",
       "      <td>{'adaboost__n_estimators': 50}</td>\n",
       "      <td>1.0</td>\n",
       "      <td>0.861208</td>\n",
       "      <td>0.702198</td>\n",
       "      <td>0.762932</td>\n",
       "      <td>0.931484</td>\n",
       "    </tr>\n",
       "    <tr>\n",
       "      <th>4</th>\n",
       "      <td>{'adaboost__n_estimators': 500}</td>\n",
       "      <td>1.0</td>\n",
       "      <td>0.865970</td>\n",
       "      <td>0.701099</td>\n",
       "      <td>0.766934</td>\n",
       "      <td>0.935644</td>\n",
       "    </tr>\n",
       "  </tbody>\n",
       "</table>\n",
       "</div>"
      ],
      "text/plain": [
       "                            params  mean_train_acc  mean_test_acc  \\\n",
       "0   {'adaboost__n_estimators': 10}             1.0       0.866202   \n",
       "2  {'adaboost__n_estimators': 100}             1.0       0.866086   \n",
       "3  {'adaboost__n_estimators': 250}             1.0       0.866086   \n",
       "1   {'adaboost__n_estimators': 50}             1.0       0.861208   \n",
       "4  {'adaboost__n_estimators': 500}             1.0       0.865970   \n",
       "\n",
       "   mean_test_recall  mean_test_f1  mean_test_AUC  \n",
       "0          0.731868      0.772661       0.929184  \n",
       "2          0.716484      0.769726       0.928341  \n",
       "3          0.716484      0.769726       0.934094  \n",
       "1          0.702198      0.762932       0.931484  \n",
       "4          0.701099      0.766934       0.935644  "
      ]
     },
     "execution_count": 26,
     "metadata": {},
     "output_type": "execute_result"
    }
   ],
   "source": [
    "# memasukkan parameter terbaik pada random forest\n",
    "best_params = grid_rf.best_params_\n",
    "estimator = rfc_pipe.set_params(**best_params).named_steps['randfor']\n",
    "\n",
    "# mengganti base estimator ada boost dengan random forest parameter terbaik\n",
    "adab_pipe.named_steps['adaboost'].set_params(base_estimator=estimator)\n",
    "\n",
    "# gridsearch\n",
    "param_grid = {\n",
    "    'adaboost__n_estimators': [10, 50, 100, 250, 500]\n",
    "}\n",
    "\n",
    "grid_rfab = GridSearchCV(adab_pipe, param_grid, cv=5, n_jobs=-1, scoring=scoring, refit='recall', return_train_score=True)\n",
    "grid_rfab.fit(X_train, y_train)\n",
    "print('Random Forest + Ada Boost')\n",
    "print('Parameter Awal:')\n",
    "print()\n",
    "print(\"Best parameters:\", grid_rfab.best_params_)\n",
    "print(\"Best cross-validation score:\", grid_rfab.best_score_)\n",
    "rfab_results = pd.DataFrame(grid_rfab.cv_results_)\n",
    "rfab_results[['params',\n",
    "            'mean_train_acc',\n",
    "            'mean_test_acc',\n",
    "            'mean_test_recall',\n",
    "            'mean_test_f1',\n",
    "            'mean_test_AUC']].sort_values('mean_test_recall', ascending=False).head(5)"
   ]
  },
  {
   "cell_type": "code",
   "execution_count": 27,
   "metadata": {},
   "outputs": [],
   "source": [
    "# membuat dataframe yang berisi kompilasi hasil kinerja model\n",
    "model_tuning = [grid_rf, grid_adab, grid_grad, grid_rfab]\n",
    "tuning_res_df = [rf_results, adb_results, gb_results, rfab_results]\n",
    "\n",
    "mod_names = model_names + ['Random Forest + Adaboost']\n",
    "tuning_results = pd.DataFrame(index=mod_names)\n",
    "\n",
    "if len(model_tuning) == len(mod_names):\n",
    "    for model, names, df in zip(model_tuning, mod_names, tuning_res_df):\n",
    "        tuning_results.loc[names, 'Rata-Rata Akurasi Data Train'] = df.loc[df['params'] == model.best_params_,'mean_train_acc'].values[0]\n",
    "        tuning_results.loc[names, 'Rata-Rata Akurasi Data Test'] = df.loc[df['params'] == model.best_params_,'mean_test_acc'].values[0]\n",
    "        tuning_results.loc[names, 'Rata-Rata ROC AUC'] = df.loc[df['params'] == model.best_params_,'mean_test_AUC'].values[0]\n",
    "        tuning_results.loc[names, 'Rata-Rata Recall'] = model.best_score_\n",
    "        tuning_results.loc[names, 'Rata-Rata F1 Score'] = df.loc[df['params'] == model.best_params_,'mean_test_f1'].values[0]\n",
    "        tuning_results.loc[names, 'Best Parameter'] = [model.best_params_]"
   ]
  },
  {
   "cell_type": "code",
   "execution_count": 28,
   "metadata": {},
   "outputs": [
    {
     "data": {
      "text/html": [
       "<div>\n",
       "<style scoped>\n",
       "    .dataframe tbody tr th:only-of-type {\n",
       "        vertical-align: middle;\n",
       "    }\n",
       "\n",
       "    .dataframe tbody tr th {\n",
       "        vertical-align: top;\n",
       "    }\n",
       "\n",
       "    .dataframe thead th {\n",
       "        text-align: right;\n",
       "    }\n",
       "</style>\n",
       "<table border=\"1\" class=\"dataframe\">\n",
       "  <thead>\n",
       "    <tr style=\"text-align: right;\">\n",
       "      <th></th>\n",
       "      <th>Rata-Rata Akurasi Data Train</th>\n",
       "      <th>Rata-Rata Akurasi Data Test</th>\n",
       "      <th>Rata-Rata ROC AUC</th>\n",
       "      <th>Rata-Rata Recall</th>\n",
       "      <th>Rata-Rata F1 Score</th>\n",
       "      <th>Best Parameter</th>\n",
       "    </tr>\n",
       "  </thead>\n",
       "  <tbody>\n",
       "    <tr>\n",
       "      <th>GradientBoostingClassifier</th>\n",
       "      <td>0.713887</td>\n",
       "      <td>0.670267</td>\n",
       "      <td>0.677125</td>\n",
       "      <td>0.806593</td>\n",
       "      <td>0.640150</td>\n",
       "      <td>{'gradboost__learning_rate': 1000.0, 'gradboos...</td>\n",
       "    </tr>\n",
       "    <tr>\n",
       "      <th>Random Forest + Adaboost</th>\n",
       "      <td>1.000000</td>\n",
       "      <td>0.866202</td>\n",
       "      <td>0.929184</td>\n",
       "      <td>0.731868</td>\n",
       "      <td>0.772661</td>\n",
       "      <td>{'adaboost__n_estimators': 10}</td>\n",
       "    </tr>\n",
       "    <tr>\n",
       "      <th>AdaBoostClassifier</th>\n",
       "      <td>1.000000</td>\n",
       "      <td>0.841696</td>\n",
       "      <td>0.874897</td>\n",
       "      <td>0.715385</td>\n",
       "      <td>0.742352</td>\n",
       "      <td>{'adaboost__n_estimators': 250}</td>\n",
       "    </tr>\n",
       "    <tr>\n",
       "      <th>RandomForestClassifier</th>\n",
       "      <td>0.922241</td>\n",
       "      <td>0.870616</td>\n",
       "      <td>0.925430</td>\n",
       "      <td>0.715385</td>\n",
       "      <td>0.779017</td>\n",
       "      <td>{'randfor__max_depth': 5, 'randfor__min_sample...</td>\n",
       "    </tr>\n",
       "  </tbody>\n",
       "</table>\n",
       "</div>"
      ],
      "text/plain": [
       "                            Rata-Rata Akurasi Data Train  \\\n",
       "GradientBoostingClassifier                      0.713887   \n",
       "Random Forest + Adaboost                        1.000000   \n",
       "AdaBoostClassifier                              1.000000   \n",
       "RandomForestClassifier                          0.922241   \n",
       "\n",
       "                            Rata-Rata Akurasi Data Test  Rata-Rata ROC AUC  \\\n",
       "GradientBoostingClassifier                     0.670267           0.677125   \n",
       "Random Forest + Adaboost                       0.866202           0.929184   \n",
       "AdaBoostClassifier                             0.841696           0.874897   \n",
       "RandomForestClassifier                         0.870616           0.925430   \n",
       "\n",
       "                            Rata-Rata Recall  Rata-Rata F1 Score  \\\n",
       "GradientBoostingClassifier          0.806593            0.640150   \n",
       "Random Forest + Adaboost            0.731868            0.772661   \n",
       "AdaBoostClassifier                  0.715385            0.742352   \n",
       "RandomForestClassifier              0.715385            0.779017   \n",
       "\n",
       "                                                               Best Parameter  \n",
       "GradientBoostingClassifier  {'gradboost__learning_rate': 1000.0, 'gradboos...  \n",
       "Random Forest + Adaboost                       {'adaboost__n_estimators': 10}  \n",
       "AdaBoostClassifier                            {'adaboost__n_estimators': 250}  \n",
       "RandomForestClassifier      {'randfor__max_depth': 5, 'randfor__min_sample...  "
      ]
     },
     "execution_count": 28,
     "metadata": {},
     "output_type": "execute_result"
    }
   ],
   "source": [
    "tuning_results.sort_values('Rata-Rata Recall', ascending=False)"
   ]
  },
  {
   "cell_type": "markdown",
   "metadata": {},
   "source": [
    "- Setelah tuning hyperparameter, model masih overfitting terutama Ada Boost dan Random Forest dengan Ada Boost. Dari sisi ini, Gradient Boost dan Random Forest masih lebih baik.\n",
    "- Namun untuk Gradient Boost, rata-rata recall-nya memang memiliki nilai tertinggi, tetapi skor AUC-nya sangat rendah dibanding model lain.\n",
    "- Terlepas dari masalah overfitting, Random Forest dengan Ada Boost memiliki nilai recall tertinggi kedua tetapi skor AUC-nya paling tinggi di antara model lain. Ini bisa dikatakan model memiliki kinerja terbaik di antara model lain. Terlebih, studi kasus ini menggunakan data medis yang mengharuskan memiliki kesalahan kecil. Sehingga, membutuhkan skor AUC tinggi.\n",
    "- Jika overfitting menjadi perhatian, Random Forest bisa dikatakan memiliki kinerja terbaik karena nilai akurasi data train dan data test tidak terpaut jauh. Skor AUC juga tergolong tinggi dan nilai recall tidak begitu rendah di antara model lain."
   ]
  },
  {
   "cell_type": "markdown",
   "metadata": {},
   "source": [
    "## Inferensi Model"
   ]
  },
  {
   "cell_type": "code",
   "execution_count": 31,
   "metadata": {},
   "outputs": [
    {
     "data": {
      "text/html": [
       "<div>\n",
       "<style scoped>\n",
       "    .dataframe tbody tr th:only-of-type {\n",
       "        vertical-align: middle;\n",
       "    }\n",
       "\n",
       "    .dataframe tbody tr th {\n",
       "        vertical-align: top;\n",
       "    }\n",
       "\n",
       "    .dataframe thead th {\n",
       "        text-align: right;\n",
       "    }\n",
       "</style>\n",
       "<table border=\"1\" class=\"dataframe\">\n",
       "  <thead>\n",
       "    <tr style=\"text-align: right;\">\n",
       "      <th></th>\n",
       "      <th>age</th>\n",
       "      <th>anaemia</th>\n",
       "      <th>creatinine_phosphokinase</th>\n",
       "      <th>diabetes</th>\n",
       "      <th>ejection_fraction</th>\n",
       "      <th>high_blood_pressure</th>\n",
       "      <th>platelets</th>\n",
       "      <th>serum_creatinine</th>\n",
       "      <th>serum_sodium</th>\n",
       "      <th>sex</th>\n",
       "      <th>smoking</th>\n",
       "      <th>time</th>\n",
       "    </tr>\n",
       "  </thead>\n",
       "  <tbody>\n",
       "    <tr>\n",
       "      <th>0</th>\n",
       "      <td>53.0</td>\n",
       "      <td>1</td>\n",
       "      <td>582</td>\n",
       "      <td>0</td>\n",
       "      <td>40</td>\n",
       "      <td>0</td>\n",
       "      <td>237000.00</td>\n",
       "      <td>1.18</td>\n",
       "      <td>138</td>\n",
       "      <td>1</td>\n",
       "      <td>0</td>\n",
       "      <td>115</td>\n",
       "    </tr>\n",
       "    <tr>\n",
       "      <th>1</th>\n",
       "      <td>77.0</td>\n",
       "      <td>0</td>\n",
       "      <td>64</td>\n",
       "      <td>1</td>\n",
       "      <td>35</td>\n",
       "      <td>0</td>\n",
       "      <td>263358.03</td>\n",
       "      <td>1.10</td>\n",
       "      <td>137</td>\n",
       "      <td>1</td>\n",
       "      <td>0</td>\n",
       "      <td>29</td>\n",
       "    </tr>\n",
       "    <tr>\n",
       "      <th>2</th>\n",
       "      <td>65.0</td>\n",
       "      <td>1</td>\n",
       "      <td>112</td>\n",
       "      <td>0</td>\n",
       "      <td>38</td>\n",
       "      <td>0</td>\n",
       "      <td>507000.00</td>\n",
       "      <td>1.70</td>\n",
       "      <td>140</td>\n",
       "      <td>1</td>\n",
       "      <td>0</td>\n",
       "      <td>197</td>\n",
       "    </tr>\n",
       "  </tbody>\n",
       "</table>\n",
       "</div>"
      ],
      "text/plain": [
       "    age  anaemia  creatinine_phosphokinase  diabetes  ejection_fraction  \\\n",
       "0  53.0        1                       582         0                 40   \n",
       "1  77.0        0                        64         1                 35   \n",
       "2  65.0        1                       112         0                 38   \n",
       "\n",
       "   high_blood_pressure  platelets  serum_creatinine  serum_sodium  sex  \\\n",
       "0                    0  237000.00              1.18           138    1   \n",
       "1                    0  263358.03              1.10           137    1   \n",
       "2                    0  507000.00              1.70           140    1   \n",
       "\n",
       "   smoking  time  \n",
       "0        0   115  \n",
       "1        0    29  \n",
       "2        0   197  "
      ]
     },
     "execution_count": 31,
     "metadata": {},
     "output_type": "execute_result"
    }
   ],
   "source": [
    "# membuat data dummy\n",
    "inf_df = pd.DataFrame(columns=heart_df.columns[:-1])\n",
    "\n",
    "# membuat nilai random dari sebaran data dari data mentah\n",
    "for col in heart_df.columns[:-1]:\n",
    "    inf_df[col] = heart_df[col].sample(3).values\n",
    "\n",
    "inf_df"
   ]
  },
  {
   "cell_type": "code",
   "execution_count": 32,
   "metadata": {},
   "outputs": [
    {
     "data": {
      "text/html": [
       "<div>\n",
       "<style scoped>\n",
       "    .dataframe tbody tr th:only-of-type {\n",
       "        vertical-align: middle;\n",
       "    }\n",
       "\n",
       "    .dataframe tbody tr th {\n",
       "        vertical-align: top;\n",
       "    }\n",
       "\n",
       "    .dataframe thead th {\n",
       "        text-align: right;\n",
       "    }\n",
       "</style>\n",
       "<table border=\"1\" class=\"dataframe\">\n",
       "  <thead>\n",
       "    <tr style=\"text-align: right;\">\n",
       "      <th></th>\n",
       "      <th>age</th>\n",
       "      <th>anaemia</th>\n",
       "      <th>creatinine_phosphokinase</th>\n",
       "      <th>diabetes</th>\n",
       "      <th>ejection_fraction</th>\n",
       "      <th>high_blood_pressure</th>\n",
       "      <th>platelets</th>\n",
       "      <th>serum_creatinine</th>\n",
       "      <th>serum_sodium</th>\n",
       "      <th>sex</th>\n",
       "      <th>smoking</th>\n",
       "      <th>time</th>\n",
       "      <th>death_event</th>\n",
       "    </tr>\n",
       "  </thead>\n",
       "  <tbody>\n",
       "    <tr>\n",
       "      <th>0</th>\n",
       "      <td>53.0</td>\n",
       "      <td>1</td>\n",
       "      <td>582</td>\n",
       "      <td>0</td>\n",
       "      <td>40</td>\n",
       "      <td>0</td>\n",
       "      <td>237000.00</td>\n",
       "      <td>1.18</td>\n",
       "      <td>138</td>\n",
       "      <td>1</td>\n",
       "      <td>0</td>\n",
       "      <td>115</td>\n",
       "      <td>no</td>\n",
       "    </tr>\n",
       "    <tr>\n",
       "      <th>1</th>\n",
       "      <td>77.0</td>\n",
       "      <td>0</td>\n",
       "      <td>64</td>\n",
       "      <td>1</td>\n",
       "      <td>35</td>\n",
       "      <td>0</td>\n",
       "      <td>263358.03</td>\n",
       "      <td>1.10</td>\n",
       "      <td>137</td>\n",
       "      <td>1</td>\n",
       "      <td>0</td>\n",
       "      <td>29</td>\n",
       "      <td>yes</td>\n",
       "    </tr>\n",
       "    <tr>\n",
       "      <th>2</th>\n",
       "      <td>65.0</td>\n",
       "      <td>1</td>\n",
       "      <td>112</td>\n",
       "      <td>0</td>\n",
       "      <td>38</td>\n",
       "      <td>0</td>\n",
       "      <td>507000.00</td>\n",
       "      <td>1.70</td>\n",
       "      <td>140</td>\n",
       "      <td>1</td>\n",
       "      <td>0</td>\n",
       "      <td>197</td>\n",
       "      <td>no</td>\n",
       "    </tr>\n",
       "  </tbody>\n",
       "</table>\n",
       "</div>"
      ],
      "text/plain": [
       "    age  anaemia  creatinine_phosphokinase  diabetes  ejection_fraction  \\\n",
       "0  53.0        1                       582         0                 40   \n",
       "1  77.0        0                        64         1                 35   \n",
       "2  65.0        1                       112         0                 38   \n",
       "\n",
       "   high_blood_pressure  platelets  serum_creatinine  serum_sodium  sex  \\\n",
       "0                    0  237000.00              1.18           138    1   \n",
       "1                    0  263358.03              1.10           137    1   \n",
       "2                    0  507000.00              1.70           140    1   \n",
       "\n",
       "   smoking  time death_event  \n",
       "0        0   115          no  \n",
       "1        0    29         yes  \n",
       "2        0   197          no  "
      ]
     },
     "execution_count": 32,
     "metadata": {},
     "output_type": "execute_result"
    }
   ],
   "source": [
    "# memprediksi data dummy\n",
    "yinf_pred = adab_pipe.predict(inf_df)\n",
    "yinf_pred = np.where(yinf_pred == 0, 'no', 'yes')\n",
    "inf_df['death_event'] = yinf_pred\n",
    "inf_df"
   ]
  },
  {
   "cell_type": "markdown",
   "metadata": {},
   "source": [
    "Dari kondisi pasien di atas, didapatkan hasil apakah pasien akan meninggal dunia gagal jantung pada kolom 'death_event'."
   ]
  },
  {
   "cell_type": "markdown",
   "metadata": {},
   "source": [
    "## Kesimpulan"
   ]
  },
  {
   "cell_type": "markdown",
   "metadata": {},
   "source": [
    "- Dari distribusi beberapa fitur, usia di atas 80, ejection fraction di bawah 30, waktu periode _follow-up_ di bawah 50 hari, serum creatinine di bawah 2 dan terutama di atas 7 rentan meninggal dunia gagal jantung. Sedikit rentan meninggal dunia gagal jantung jika serum sodium di bawah sekitar 128 .\n",
    "- Dalam studi kasus ini, model mencoba untuk memprediksi apakah pasien akan meninggal dunia gagal jantung, sehingga label 1 dianggap positif. Kesalahan yang perlu diminimalkan adalah salah menduga pasien tidak akan meninggal dunia karena menyangkut nyawa seseorang. Sehingga, penilaian yang sesuai untuk menilai kinerja model adalah skor recall.\n",
    "- Awalnya, ada tiga model dengan parameter bawaan yang digunakan (Random Forest, Ada Boost, dan Gradient Boost) dan hasilnya ketiga model tersebut _overfitting_. Setelah dilakukan tuning hyperparameter, model ditambah yaitu Random Forest dengan Ada Boost.\n",
    "- Hasil tuning hypermeter menunjukkan Random Forest dengan Ada Boost memiliki kombinasi skor recall dan auc terbaik, jika tidak memperhatikan masalah overfitting pada model tersebut.\n",
    "- Jika ingin menghindari masalah overfitting, Random Forest bisa menjadi pilihan. Random Forest memiliki nilai akurasi data train dan data test tidak terpaut jauh. Skor AUC juga tergolong tinggi dan nilai recall tidak begitu rendah di antara model lain."
   ]
  }
 ],
 "metadata": {
  "kernelspec": {
   "display_name": "Python 3",
   "language": "python",
   "name": "python3"
  },
  "language_info": {
   "codemirror_mode": {
    "name": "ipython",
    "version": 3
   },
   "file_extension": ".py",
   "mimetype": "text/x-python",
   "name": "python",
   "nbconvert_exporter": "python",
   "pygments_lexer": "ipython3",
   "version": "3.8.5"
  },
  "varInspector": {
   "cols": {
    "lenName": 16,
    "lenType": 16,
    "lenVar": 40
   },
   "kernels_config": {
    "python": {
     "delete_cmd_postfix": "",
     "delete_cmd_prefix": "del ",
     "library": "var_list.py",
     "varRefreshCmd": "print(var_dic_list())"
    },
    "r": {
     "delete_cmd_postfix": ") ",
     "delete_cmd_prefix": "rm(",
     "library": "var_list.r",
     "varRefreshCmd": "cat(var_dic_list()) "
    }
   },
   "types_to_exclude": [
    "module",
    "function",
    "builtin_function_or_method",
    "instance",
    "_Feature"
   ],
   "window_display": false
  }
 },
 "nbformat": 4,
 "nbformat_minor": 4
}
