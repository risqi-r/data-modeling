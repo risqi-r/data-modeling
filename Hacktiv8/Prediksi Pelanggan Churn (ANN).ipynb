{
  "nbformat": 4,
  "nbformat_minor": 0,
  "metadata": {
    "colab": {
      "name": "h8dsft_Milestone1P2_Risqi_R",
      "provenance": [],
      "collapsed_sections": []
    },
    "kernelspec": {
      "name": "python3",
      "display_name": "Python 3"
    },
    "language_info": {
      "name": "python"
    },
    "accelerator": "GPU"
  },
  "cells": [
    {
      "cell_type": "markdown",
      "source": [
        "# Milestone 1 Phase 2\n",
        "\n",
        "The milestones were created to evaluate learning in the Hacktiv8 Data Science Full Time Program Phase 2, especially on Artificial Neural Networks.\n",
        "\n",
        "The milestone written by Risqi Rahmatullah, Batch 007.\n",
        "\n",
        "## Description\n",
        "\n",
        "Each row represents a customer, each column contains customer’s attributes described on the column Metadata.\n",
        "\n",
        "The data set includes information about:\n",
        "\n",
        "- Customers who left within the last month – the column is called Churn  \n",
        "- Services that each customer has signed up for – phone, multiple lines, internet, online security, online backup, device protection, tech support, and streaming TV and movies  \n",
        "- Customer account information – how long they’ve been a customer, contract, payment method, paperless billing, monthly charges, and total charges  \n",
        "- Demographic info about customers – gender, age range, and if they have partners and dependents  \n",
        "\n",
        "Source: https://www.kaggle.com/blastchar/telco-customer-churn\n",
        "\n",
        "## Assignment Objectives\n",
        "\n",
        "*Milestones 1* ini dibuat guna mengevaluasi Pembelajaran Phase 2 :\n",
        "\n",
        "- Mampu memahami konsep Artificial Neural Network.\n",
        "- Mampu mempersiapkan data untuk digunakan dalam model Artificial Neural Network.\n",
        "- Mampu mengimplementasikan Artificial Neural Network dengan data yang diberikan.\n",
        "- Mampu menganalisis dan menjelaskan layer yang dibuat."
      ],
      "metadata": {
        "id": "jdi8WlObBMaq"
      }
    },
    {
      "cell_type": "markdown",
      "source": [
        "## Libraries"
      ],
      "metadata": {
        "id": "8sLDTiQjBJW-"
      }
    },
    {
      "cell_type": "code",
      "execution_count": 97,
      "metadata": {
        "id": "rtvwDCnv_qxi"
      },
      "outputs": [],
      "source": [
        "import pandas as pd\n",
        "import numpy as np\n",
        "import seaborn as sns\n",
        "import matplotlib.pyplot as plt\n",
        "import tensorflow as tf\n",
        "import pickle\n",
        "from sklearn.model_selection import train_test_split\n",
        "from sklearn.preprocessing import OneHotEncoder\n",
        "from sklearn.metrics import classification_report\n",
        "from tensorflow.keras.models import Sequential, Model\n",
        "from tensorflow.keras.layers import Normalization, StringLookup, IntegerLookup, CategoryEncoding\n",
        "from tensorflow.keras.layers import concatenate, Dense, Activation, Input, Dropout\n",
        "from tensorflow.keras.optimizers import Adam"
      ]
    },
    {
      "cell_type": "markdown",
      "source": [
        "## Data Loading"
      ],
      "metadata": {
        "id": "7seOuiBvAwmq"
      }
    },
    {
      "cell_type": "code",
      "source": [
        "telco = pd.read_csv(\"https://raw.githubusercontent.com/risqi-r/data-modeling/main/WA_Fn-UseC_-Telco-Customer-Churn.csv\")\n",
        "telco.head()"
      ],
      "metadata": {
        "colab": {
          "base_uri": "https://localhost:8080/",
          "height": 357
        },
        "id": "HAwYDkUhAth9",
        "outputId": "e0da4263-9299-4bb2-9b01-7651f5c643b1"
      },
      "execution_count": 61,
      "outputs": [
        {
          "output_type": "execute_result",
          "data": {
            "text/html": [
              "\n",
              "  <div id=\"df-c6dc70c4-db3a-4f45-a24a-012e35fa69c8\">\n",
              "    <div class=\"colab-df-container\">\n",
              "      <div>\n",
              "<style scoped>\n",
              "    .dataframe tbody tr th:only-of-type {\n",
              "        vertical-align: middle;\n",
              "    }\n",
              "\n",
              "    .dataframe tbody tr th {\n",
              "        vertical-align: top;\n",
              "    }\n",
              "\n",
              "    .dataframe thead th {\n",
              "        text-align: right;\n",
              "    }\n",
              "</style>\n",
              "<table border=\"1\" class=\"dataframe\">\n",
              "  <thead>\n",
              "    <tr style=\"text-align: right;\">\n",
              "      <th></th>\n",
              "      <th>customerID</th>\n",
              "      <th>gender</th>\n",
              "      <th>SeniorCitizen</th>\n",
              "      <th>Partner</th>\n",
              "      <th>Dependents</th>\n",
              "      <th>tenure</th>\n",
              "      <th>PhoneService</th>\n",
              "      <th>MultipleLines</th>\n",
              "      <th>InternetService</th>\n",
              "      <th>OnlineSecurity</th>\n",
              "      <th>OnlineBackup</th>\n",
              "      <th>DeviceProtection</th>\n",
              "      <th>TechSupport</th>\n",
              "      <th>StreamingTV</th>\n",
              "      <th>StreamingMovies</th>\n",
              "      <th>Contract</th>\n",
              "      <th>PaperlessBilling</th>\n",
              "      <th>PaymentMethod</th>\n",
              "      <th>MonthlyCharges</th>\n",
              "      <th>TotalCharges</th>\n",
              "      <th>Churn</th>\n",
              "    </tr>\n",
              "  </thead>\n",
              "  <tbody>\n",
              "    <tr>\n",
              "      <th>0</th>\n",
              "      <td>7590-VHVEG</td>\n",
              "      <td>Female</td>\n",
              "      <td>0</td>\n",
              "      <td>Yes</td>\n",
              "      <td>No</td>\n",
              "      <td>1</td>\n",
              "      <td>No</td>\n",
              "      <td>No phone service</td>\n",
              "      <td>DSL</td>\n",
              "      <td>No</td>\n",
              "      <td>Yes</td>\n",
              "      <td>No</td>\n",
              "      <td>No</td>\n",
              "      <td>No</td>\n",
              "      <td>No</td>\n",
              "      <td>Month-to-month</td>\n",
              "      <td>Yes</td>\n",
              "      <td>Electronic check</td>\n",
              "      <td>29.85</td>\n",
              "      <td>29.85</td>\n",
              "      <td>No</td>\n",
              "    </tr>\n",
              "    <tr>\n",
              "      <th>1</th>\n",
              "      <td>5575-GNVDE</td>\n",
              "      <td>Male</td>\n",
              "      <td>0</td>\n",
              "      <td>No</td>\n",
              "      <td>No</td>\n",
              "      <td>34</td>\n",
              "      <td>Yes</td>\n",
              "      <td>No</td>\n",
              "      <td>DSL</td>\n",
              "      <td>Yes</td>\n",
              "      <td>No</td>\n",
              "      <td>Yes</td>\n",
              "      <td>No</td>\n",
              "      <td>No</td>\n",
              "      <td>No</td>\n",
              "      <td>One year</td>\n",
              "      <td>No</td>\n",
              "      <td>Mailed check</td>\n",
              "      <td>56.95</td>\n",
              "      <td>1889.5</td>\n",
              "      <td>No</td>\n",
              "    </tr>\n",
              "    <tr>\n",
              "      <th>2</th>\n",
              "      <td>3668-QPYBK</td>\n",
              "      <td>Male</td>\n",
              "      <td>0</td>\n",
              "      <td>No</td>\n",
              "      <td>No</td>\n",
              "      <td>2</td>\n",
              "      <td>Yes</td>\n",
              "      <td>No</td>\n",
              "      <td>DSL</td>\n",
              "      <td>Yes</td>\n",
              "      <td>Yes</td>\n",
              "      <td>No</td>\n",
              "      <td>No</td>\n",
              "      <td>No</td>\n",
              "      <td>No</td>\n",
              "      <td>Month-to-month</td>\n",
              "      <td>Yes</td>\n",
              "      <td>Mailed check</td>\n",
              "      <td>53.85</td>\n",
              "      <td>108.15</td>\n",
              "      <td>Yes</td>\n",
              "    </tr>\n",
              "    <tr>\n",
              "      <th>3</th>\n",
              "      <td>7795-CFOCW</td>\n",
              "      <td>Male</td>\n",
              "      <td>0</td>\n",
              "      <td>No</td>\n",
              "      <td>No</td>\n",
              "      <td>45</td>\n",
              "      <td>No</td>\n",
              "      <td>No phone service</td>\n",
              "      <td>DSL</td>\n",
              "      <td>Yes</td>\n",
              "      <td>No</td>\n",
              "      <td>Yes</td>\n",
              "      <td>Yes</td>\n",
              "      <td>No</td>\n",
              "      <td>No</td>\n",
              "      <td>One year</td>\n",
              "      <td>No</td>\n",
              "      <td>Bank transfer (automatic)</td>\n",
              "      <td>42.30</td>\n",
              "      <td>1840.75</td>\n",
              "      <td>No</td>\n",
              "    </tr>\n",
              "    <tr>\n",
              "      <th>4</th>\n",
              "      <td>9237-HQITU</td>\n",
              "      <td>Female</td>\n",
              "      <td>0</td>\n",
              "      <td>No</td>\n",
              "      <td>No</td>\n",
              "      <td>2</td>\n",
              "      <td>Yes</td>\n",
              "      <td>No</td>\n",
              "      <td>Fiber optic</td>\n",
              "      <td>No</td>\n",
              "      <td>No</td>\n",
              "      <td>No</td>\n",
              "      <td>No</td>\n",
              "      <td>No</td>\n",
              "      <td>No</td>\n",
              "      <td>Month-to-month</td>\n",
              "      <td>Yes</td>\n",
              "      <td>Electronic check</td>\n",
              "      <td>70.70</td>\n",
              "      <td>151.65</td>\n",
              "      <td>Yes</td>\n",
              "    </tr>\n",
              "  </tbody>\n",
              "</table>\n",
              "</div>\n",
              "      <button class=\"colab-df-convert\" onclick=\"convertToInteractive('df-c6dc70c4-db3a-4f45-a24a-012e35fa69c8')\"\n",
              "              title=\"Convert this dataframe to an interactive table.\"\n",
              "              style=\"display:none;\">\n",
              "        \n",
              "  <svg xmlns=\"http://www.w3.org/2000/svg\" height=\"24px\"viewBox=\"0 0 24 24\"\n",
              "       width=\"24px\">\n",
              "    <path d=\"M0 0h24v24H0V0z\" fill=\"none\"/>\n",
              "    <path d=\"M18.56 5.44l.94 2.06.94-2.06 2.06-.94-2.06-.94-.94-2.06-.94 2.06-2.06.94zm-11 1L8.5 8.5l.94-2.06 2.06-.94-2.06-.94L8.5 2.5l-.94 2.06-2.06.94zm10 10l.94 2.06.94-2.06 2.06-.94-2.06-.94-.94-2.06-.94 2.06-2.06.94z\"/><path d=\"M17.41 7.96l-1.37-1.37c-.4-.4-.92-.59-1.43-.59-.52 0-1.04.2-1.43.59L10.3 9.45l-7.72 7.72c-.78.78-.78 2.05 0 2.83L4 21.41c.39.39.9.59 1.41.59.51 0 1.02-.2 1.41-.59l7.78-7.78 2.81-2.81c.8-.78.8-2.07 0-2.86zM5.41 20L4 18.59l7.72-7.72 1.47 1.35L5.41 20z\"/>\n",
              "  </svg>\n",
              "      </button>\n",
              "      \n",
              "  <style>\n",
              "    .colab-df-container {\n",
              "      display:flex;\n",
              "      flex-wrap:wrap;\n",
              "      gap: 12px;\n",
              "    }\n",
              "\n",
              "    .colab-df-convert {\n",
              "      background-color: #E8F0FE;\n",
              "      border: none;\n",
              "      border-radius: 50%;\n",
              "      cursor: pointer;\n",
              "      display: none;\n",
              "      fill: #1967D2;\n",
              "      height: 32px;\n",
              "      padding: 0 0 0 0;\n",
              "      width: 32px;\n",
              "    }\n",
              "\n",
              "    .colab-df-convert:hover {\n",
              "      background-color: #E2EBFA;\n",
              "      box-shadow: 0px 1px 2px rgba(60, 64, 67, 0.3), 0px 1px 3px 1px rgba(60, 64, 67, 0.15);\n",
              "      fill: #174EA6;\n",
              "    }\n",
              "\n",
              "    [theme=dark] .colab-df-convert {\n",
              "      background-color: #3B4455;\n",
              "      fill: #D2E3FC;\n",
              "    }\n",
              "\n",
              "    [theme=dark] .colab-df-convert:hover {\n",
              "      background-color: #434B5C;\n",
              "      box-shadow: 0px 1px 3px 1px rgba(0, 0, 0, 0.15);\n",
              "      filter: drop-shadow(0px 1px 2px rgba(0, 0, 0, 0.3));\n",
              "      fill: #FFFFFF;\n",
              "    }\n",
              "  </style>\n",
              "\n",
              "      <script>\n",
              "        const buttonEl =\n",
              "          document.querySelector('#df-c6dc70c4-db3a-4f45-a24a-012e35fa69c8 button.colab-df-convert');\n",
              "        buttonEl.style.display =\n",
              "          google.colab.kernel.accessAllowed ? 'block' : 'none';\n",
              "\n",
              "        async function convertToInteractive(key) {\n",
              "          const element = document.querySelector('#df-c6dc70c4-db3a-4f45-a24a-012e35fa69c8');\n",
              "          const dataTable =\n",
              "            await google.colab.kernel.invokeFunction('convertToInteractive',\n",
              "                                                     [key], {});\n",
              "          if (!dataTable) return;\n",
              "\n",
              "          const docLinkHtml = 'Like what you see? Visit the ' +\n",
              "            '<a target=\"_blank\" href=https://colab.research.google.com/notebooks/data_table.ipynb>data table notebook</a>'\n",
              "            + ' to learn more about interactive tables.';\n",
              "          element.innerHTML = '';\n",
              "          dataTable['output_type'] = 'display_data';\n",
              "          await google.colab.output.renderOutput(dataTable, element);\n",
              "          const docLink = document.createElement('div');\n",
              "          docLink.innerHTML = docLinkHtml;\n",
              "          element.appendChild(docLink);\n",
              "        }\n",
              "      </script>\n",
              "    </div>\n",
              "  </div>\n",
              "  "
            ],
            "text/plain": [
              "   customerID  gender  SeniorCitizen  ... MonthlyCharges TotalCharges  Churn\n",
              "0  7590-VHVEG  Female              0  ...          29.85        29.85     No\n",
              "1  5575-GNVDE    Male              0  ...          56.95       1889.5     No\n",
              "2  3668-QPYBK    Male              0  ...          53.85       108.15    Yes\n",
              "3  7795-CFOCW    Male              0  ...          42.30      1840.75     No\n",
              "4  9237-HQITU  Female              0  ...          70.70       151.65    Yes\n",
              "\n",
              "[5 rows x 21 columns]"
            ]
          },
          "metadata": {},
          "execution_count": 61
        }
      ]
    },
    {
      "cell_type": "code",
      "source": [
        "telco.info()"
      ],
      "metadata": {
        "colab": {
          "base_uri": "https://localhost:8080/"
        },
        "id": "mvboygf5Ccxa",
        "outputId": "7068b213-4599-404a-ddaf-65b9c897aa43"
      },
      "execution_count": 62,
      "outputs": [
        {
          "output_type": "stream",
          "name": "stdout",
          "text": [
            "<class 'pandas.core.frame.DataFrame'>\n",
            "RangeIndex: 7043 entries, 0 to 7042\n",
            "Data columns (total 21 columns):\n",
            " #   Column            Non-Null Count  Dtype  \n",
            "---  ------            --------------  -----  \n",
            " 0   customerID        7043 non-null   object \n",
            " 1   gender            7043 non-null   object \n",
            " 2   SeniorCitizen     7043 non-null   int64  \n",
            " 3   Partner           7043 non-null   object \n",
            " 4   Dependents        7043 non-null   object \n",
            " 5   tenure            7043 non-null   int64  \n",
            " 6   PhoneService      7043 non-null   object \n",
            " 7   MultipleLines     7043 non-null   object \n",
            " 8   InternetService   7043 non-null   object \n",
            " 9   OnlineSecurity    7043 non-null   object \n",
            " 10  OnlineBackup      7043 non-null   object \n",
            " 11  DeviceProtection  7043 non-null   object \n",
            " 12  TechSupport       7043 non-null   object \n",
            " 13  StreamingTV       7043 non-null   object \n",
            " 14  StreamingMovies   7043 non-null   object \n",
            " 15  Contract          7043 non-null   object \n",
            " 16  PaperlessBilling  7043 non-null   object \n",
            " 17  PaymentMethod     7043 non-null   object \n",
            " 18  MonthlyCharges    7043 non-null   float64\n",
            " 19  TotalCharges      7043 non-null   object \n",
            " 20  Churn             7043 non-null   object \n",
            "dtypes: float64(1), int64(2), object(18)\n",
            "memory usage: 1.1+ MB\n"
          ]
        }
      ]
    },
    {
      "cell_type": "code",
      "source": [
        "# lowercase columns\n",
        "telco.columns = telco.columns.str.lower()"
      ],
      "metadata": {
        "id": "8gmU0V01CenO"
      },
      "execution_count": 63,
      "outputs": []
    },
    {
      "cell_type": "code",
      "source": [
        "# drop useless column\n",
        "telco = telco.drop(['customerid'], axis=1)"
      ],
      "metadata": {
        "id": "EUDtqYOgsUtv"
      },
      "execution_count": 64,
      "outputs": []
    },
    {
      "cell_type": "code",
      "source": [
        "telco.describe()"
      ],
      "metadata": {
        "colab": {
          "base_uri": "https://localhost:8080/",
          "height": 300
        },
        "id": "WoNY8JpGCu9L",
        "outputId": "35f04ceb-00a3-467a-9aa5-ed739236ea4e"
      },
      "execution_count": 65,
      "outputs": [
        {
          "output_type": "execute_result",
          "data": {
            "text/html": [
              "\n",
              "  <div id=\"df-d024963d-a7b1-4147-bb0d-2732e860ab80\">\n",
              "    <div class=\"colab-df-container\">\n",
              "      <div>\n",
              "<style scoped>\n",
              "    .dataframe tbody tr th:only-of-type {\n",
              "        vertical-align: middle;\n",
              "    }\n",
              "\n",
              "    .dataframe tbody tr th {\n",
              "        vertical-align: top;\n",
              "    }\n",
              "\n",
              "    .dataframe thead th {\n",
              "        text-align: right;\n",
              "    }\n",
              "</style>\n",
              "<table border=\"1\" class=\"dataframe\">\n",
              "  <thead>\n",
              "    <tr style=\"text-align: right;\">\n",
              "      <th></th>\n",
              "      <th>seniorcitizen</th>\n",
              "      <th>tenure</th>\n",
              "      <th>monthlycharges</th>\n",
              "    </tr>\n",
              "  </thead>\n",
              "  <tbody>\n",
              "    <tr>\n",
              "      <th>count</th>\n",
              "      <td>7043.000000</td>\n",
              "      <td>7043.000000</td>\n",
              "      <td>7043.000000</td>\n",
              "    </tr>\n",
              "    <tr>\n",
              "      <th>mean</th>\n",
              "      <td>0.162147</td>\n",
              "      <td>32.371149</td>\n",
              "      <td>64.761692</td>\n",
              "    </tr>\n",
              "    <tr>\n",
              "      <th>std</th>\n",
              "      <td>0.368612</td>\n",
              "      <td>24.559481</td>\n",
              "      <td>30.090047</td>\n",
              "    </tr>\n",
              "    <tr>\n",
              "      <th>min</th>\n",
              "      <td>0.000000</td>\n",
              "      <td>0.000000</td>\n",
              "      <td>18.250000</td>\n",
              "    </tr>\n",
              "    <tr>\n",
              "      <th>25%</th>\n",
              "      <td>0.000000</td>\n",
              "      <td>9.000000</td>\n",
              "      <td>35.500000</td>\n",
              "    </tr>\n",
              "    <tr>\n",
              "      <th>50%</th>\n",
              "      <td>0.000000</td>\n",
              "      <td>29.000000</td>\n",
              "      <td>70.350000</td>\n",
              "    </tr>\n",
              "    <tr>\n",
              "      <th>75%</th>\n",
              "      <td>0.000000</td>\n",
              "      <td>55.000000</td>\n",
              "      <td>89.850000</td>\n",
              "    </tr>\n",
              "    <tr>\n",
              "      <th>max</th>\n",
              "      <td>1.000000</td>\n",
              "      <td>72.000000</td>\n",
              "      <td>118.750000</td>\n",
              "    </tr>\n",
              "  </tbody>\n",
              "</table>\n",
              "</div>\n",
              "      <button class=\"colab-df-convert\" onclick=\"convertToInteractive('df-d024963d-a7b1-4147-bb0d-2732e860ab80')\"\n",
              "              title=\"Convert this dataframe to an interactive table.\"\n",
              "              style=\"display:none;\">\n",
              "        \n",
              "  <svg xmlns=\"http://www.w3.org/2000/svg\" height=\"24px\"viewBox=\"0 0 24 24\"\n",
              "       width=\"24px\">\n",
              "    <path d=\"M0 0h24v24H0V0z\" fill=\"none\"/>\n",
              "    <path d=\"M18.56 5.44l.94 2.06.94-2.06 2.06-.94-2.06-.94-.94-2.06-.94 2.06-2.06.94zm-11 1L8.5 8.5l.94-2.06 2.06-.94-2.06-.94L8.5 2.5l-.94 2.06-2.06.94zm10 10l.94 2.06.94-2.06 2.06-.94-2.06-.94-.94-2.06-.94 2.06-2.06.94z\"/><path d=\"M17.41 7.96l-1.37-1.37c-.4-.4-.92-.59-1.43-.59-.52 0-1.04.2-1.43.59L10.3 9.45l-7.72 7.72c-.78.78-.78 2.05 0 2.83L4 21.41c.39.39.9.59 1.41.59.51 0 1.02-.2 1.41-.59l7.78-7.78 2.81-2.81c.8-.78.8-2.07 0-2.86zM5.41 20L4 18.59l7.72-7.72 1.47 1.35L5.41 20z\"/>\n",
              "  </svg>\n",
              "      </button>\n",
              "      \n",
              "  <style>\n",
              "    .colab-df-container {\n",
              "      display:flex;\n",
              "      flex-wrap:wrap;\n",
              "      gap: 12px;\n",
              "    }\n",
              "\n",
              "    .colab-df-convert {\n",
              "      background-color: #E8F0FE;\n",
              "      border: none;\n",
              "      border-radius: 50%;\n",
              "      cursor: pointer;\n",
              "      display: none;\n",
              "      fill: #1967D2;\n",
              "      height: 32px;\n",
              "      padding: 0 0 0 0;\n",
              "      width: 32px;\n",
              "    }\n",
              "\n",
              "    .colab-df-convert:hover {\n",
              "      background-color: #E2EBFA;\n",
              "      box-shadow: 0px 1px 2px rgba(60, 64, 67, 0.3), 0px 1px 3px 1px rgba(60, 64, 67, 0.15);\n",
              "      fill: #174EA6;\n",
              "    }\n",
              "\n",
              "    [theme=dark] .colab-df-convert {\n",
              "      background-color: #3B4455;\n",
              "      fill: #D2E3FC;\n",
              "    }\n",
              "\n",
              "    [theme=dark] .colab-df-convert:hover {\n",
              "      background-color: #434B5C;\n",
              "      box-shadow: 0px 1px 3px 1px rgba(0, 0, 0, 0.15);\n",
              "      filter: drop-shadow(0px 1px 2px rgba(0, 0, 0, 0.3));\n",
              "      fill: #FFFFFF;\n",
              "    }\n",
              "  </style>\n",
              "\n",
              "      <script>\n",
              "        const buttonEl =\n",
              "          document.querySelector('#df-d024963d-a7b1-4147-bb0d-2732e860ab80 button.colab-df-convert');\n",
              "        buttonEl.style.display =\n",
              "          google.colab.kernel.accessAllowed ? 'block' : 'none';\n",
              "\n",
              "        async function convertToInteractive(key) {\n",
              "          const element = document.querySelector('#df-d024963d-a7b1-4147-bb0d-2732e860ab80');\n",
              "          const dataTable =\n",
              "            await google.colab.kernel.invokeFunction('convertToInteractive',\n",
              "                                                     [key], {});\n",
              "          if (!dataTable) return;\n",
              "\n",
              "          const docLinkHtml = 'Like what you see? Visit the ' +\n",
              "            '<a target=\"_blank\" href=https://colab.research.google.com/notebooks/data_table.ipynb>data table notebook</a>'\n",
              "            + ' to learn more about interactive tables.';\n",
              "          element.innerHTML = '';\n",
              "          dataTable['output_type'] = 'display_data';\n",
              "          await google.colab.output.renderOutput(dataTable, element);\n",
              "          const docLink = document.createElement('div');\n",
              "          docLink.innerHTML = docLinkHtml;\n",
              "          element.appendChild(docLink);\n",
              "        }\n",
              "      </script>\n",
              "    </div>\n",
              "  </div>\n",
              "  "
            ],
            "text/plain": [
              "       seniorcitizen       tenure  monthlycharges\n",
              "count    7043.000000  7043.000000     7043.000000\n",
              "mean        0.162147    32.371149       64.761692\n",
              "std         0.368612    24.559481       30.090047\n",
              "min         0.000000     0.000000       18.250000\n",
              "25%         0.000000     9.000000       35.500000\n",
              "50%         0.000000    29.000000       70.350000\n",
              "75%         0.000000    55.000000       89.850000\n",
              "max         1.000000    72.000000      118.750000"
            ]
          },
          "metadata": {},
          "execution_count": 65
        }
      ]
    },
    {
      "cell_type": "code",
      "source": [
        "telco.describe(exclude=np.number)"
      ],
      "metadata": {
        "colab": {
          "base_uri": "https://localhost:8080/",
          "height": 256
        },
        "id": "Drg4RBsxFalg",
        "outputId": "7cc97295-9db7-47ad-db78-f7a6e5003050"
      },
      "execution_count": 66,
      "outputs": [
        {
          "output_type": "execute_result",
          "data": {
            "text/html": [
              "\n",
              "  <div id=\"df-81b67377-ec3f-47af-b745-4d7892031773\">\n",
              "    <div class=\"colab-df-container\">\n",
              "      <div>\n",
              "<style scoped>\n",
              "    .dataframe tbody tr th:only-of-type {\n",
              "        vertical-align: middle;\n",
              "    }\n",
              "\n",
              "    .dataframe tbody tr th {\n",
              "        vertical-align: top;\n",
              "    }\n",
              "\n",
              "    .dataframe thead th {\n",
              "        text-align: right;\n",
              "    }\n",
              "</style>\n",
              "<table border=\"1\" class=\"dataframe\">\n",
              "  <thead>\n",
              "    <tr style=\"text-align: right;\">\n",
              "      <th></th>\n",
              "      <th>gender</th>\n",
              "      <th>partner</th>\n",
              "      <th>dependents</th>\n",
              "      <th>phoneservice</th>\n",
              "      <th>multiplelines</th>\n",
              "      <th>internetservice</th>\n",
              "      <th>onlinesecurity</th>\n",
              "      <th>onlinebackup</th>\n",
              "      <th>deviceprotection</th>\n",
              "      <th>techsupport</th>\n",
              "      <th>streamingtv</th>\n",
              "      <th>streamingmovies</th>\n",
              "      <th>contract</th>\n",
              "      <th>paperlessbilling</th>\n",
              "      <th>paymentmethod</th>\n",
              "      <th>totalcharges</th>\n",
              "      <th>churn</th>\n",
              "    </tr>\n",
              "  </thead>\n",
              "  <tbody>\n",
              "    <tr>\n",
              "      <th>count</th>\n",
              "      <td>7043</td>\n",
              "      <td>7043</td>\n",
              "      <td>7043</td>\n",
              "      <td>7043</td>\n",
              "      <td>7043</td>\n",
              "      <td>7043</td>\n",
              "      <td>7043</td>\n",
              "      <td>7043</td>\n",
              "      <td>7043</td>\n",
              "      <td>7043</td>\n",
              "      <td>7043</td>\n",
              "      <td>7043</td>\n",
              "      <td>7043</td>\n",
              "      <td>7043</td>\n",
              "      <td>7043</td>\n",
              "      <td>7043</td>\n",
              "      <td>7043</td>\n",
              "    </tr>\n",
              "    <tr>\n",
              "      <th>unique</th>\n",
              "      <td>2</td>\n",
              "      <td>2</td>\n",
              "      <td>2</td>\n",
              "      <td>2</td>\n",
              "      <td>3</td>\n",
              "      <td>3</td>\n",
              "      <td>3</td>\n",
              "      <td>3</td>\n",
              "      <td>3</td>\n",
              "      <td>3</td>\n",
              "      <td>3</td>\n",
              "      <td>3</td>\n",
              "      <td>3</td>\n",
              "      <td>2</td>\n",
              "      <td>4</td>\n",
              "      <td>6531</td>\n",
              "      <td>2</td>\n",
              "    </tr>\n",
              "    <tr>\n",
              "      <th>top</th>\n",
              "      <td>Male</td>\n",
              "      <td>No</td>\n",
              "      <td>No</td>\n",
              "      <td>Yes</td>\n",
              "      <td>No</td>\n",
              "      <td>Fiber optic</td>\n",
              "      <td>No</td>\n",
              "      <td>No</td>\n",
              "      <td>No</td>\n",
              "      <td>No</td>\n",
              "      <td>No</td>\n",
              "      <td>No</td>\n",
              "      <td>Month-to-month</td>\n",
              "      <td>Yes</td>\n",
              "      <td>Electronic check</td>\n",
              "      <td></td>\n",
              "      <td>No</td>\n",
              "    </tr>\n",
              "    <tr>\n",
              "      <th>freq</th>\n",
              "      <td>3555</td>\n",
              "      <td>3641</td>\n",
              "      <td>4933</td>\n",
              "      <td>6361</td>\n",
              "      <td>3390</td>\n",
              "      <td>3096</td>\n",
              "      <td>3498</td>\n",
              "      <td>3088</td>\n",
              "      <td>3095</td>\n",
              "      <td>3473</td>\n",
              "      <td>2810</td>\n",
              "      <td>2785</td>\n",
              "      <td>3875</td>\n",
              "      <td>4171</td>\n",
              "      <td>2365</td>\n",
              "      <td>11</td>\n",
              "      <td>5174</td>\n",
              "    </tr>\n",
              "  </tbody>\n",
              "</table>\n",
              "</div>\n",
              "      <button class=\"colab-df-convert\" onclick=\"convertToInteractive('df-81b67377-ec3f-47af-b745-4d7892031773')\"\n",
              "              title=\"Convert this dataframe to an interactive table.\"\n",
              "              style=\"display:none;\">\n",
              "        \n",
              "  <svg xmlns=\"http://www.w3.org/2000/svg\" height=\"24px\"viewBox=\"0 0 24 24\"\n",
              "       width=\"24px\">\n",
              "    <path d=\"M0 0h24v24H0V0z\" fill=\"none\"/>\n",
              "    <path d=\"M18.56 5.44l.94 2.06.94-2.06 2.06-.94-2.06-.94-.94-2.06-.94 2.06-2.06.94zm-11 1L8.5 8.5l.94-2.06 2.06-.94-2.06-.94L8.5 2.5l-.94 2.06-2.06.94zm10 10l.94 2.06.94-2.06 2.06-.94-2.06-.94-.94-2.06-.94 2.06-2.06.94z\"/><path d=\"M17.41 7.96l-1.37-1.37c-.4-.4-.92-.59-1.43-.59-.52 0-1.04.2-1.43.59L10.3 9.45l-7.72 7.72c-.78.78-.78 2.05 0 2.83L4 21.41c.39.39.9.59 1.41.59.51 0 1.02-.2 1.41-.59l7.78-7.78 2.81-2.81c.8-.78.8-2.07 0-2.86zM5.41 20L4 18.59l7.72-7.72 1.47 1.35L5.41 20z\"/>\n",
              "  </svg>\n",
              "      </button>\n",
              "      \n",
              "  <style>\n",
              "    .colab-df-container {\n",
              "      display:flex;\n",
              "      flex-wrap:wrap;\n",
              "      gap: 12px;\n",
              "    }\n",
              "\n",
              "    .colab-df-convert {\n",
              "      background-color: #E8F0FE;\n",
              "      border: none;\n",
              "      border-radius: 50%;\n",
              "      cursor: pointer;\n",
              "      display: none;\n",
              "      fill: #1967D2;\n",
              "      height: 32px;\n",
              "      padding: 0 0 0 0;\n",
              "      width: 32px;\n",
              "    }\n",
              "\n",
              "    .colab-df-convert:hover {\n",
              "      background-color: #E2EBFA;\n",
              "      box-shadow: 0px 1px 2px rgba(60, 64, 67, 0.3), 0px 1px 3px 1px rgba(60, 64, 67, 0.15);\n",
              "      fill: #174EA6;\n",
              "    }\n",
              "\n",
              "    [theme=dark] .colab-df-convert {\n",
              "      background-color: #3B4455;\n",
              "      fill: #D2E3FC;\n",
              "    }\n",
              "\n",
              "    [theme=dark] .colab-df-convert:hover {\n",
              "      background-color: #434B5C;\n",
              "      box-shadow: 0px 1px 3px 1px rgba(0, 0, 0, 0.15);\n",
              "      filter: drop-shadow(0px 1px 2px rgba(0, 0, 0, 0.3));\n",
              "      fill: #FFFFFF;\n",
              "    }\n",
              "  </style>\n",
              "\n",
              "      <script>\n",
              "        const buttonEl =\n",
              "          document.querySelector('#df-81b67377-ec3f-47af-b745-4d7892031773 button.colab-df-convert');\n",
              "        buttonEl.style.display =\n",
              "          google.colab.kernel.accessAllowed ? 'block' : 'none';\n",
              "\n",
              "        async function convertToInteractive(key) {\n",
              "          const element = document.querySelector('#df-81b67377-ec3f-47af-b745-4d7892031773');\n",
              "          const dataTable =\n",
              "            await google.colab.kernel.invokeFunction('convertToInteractive',\n",
              "                                                     [key], {});\n",
              "          if (!dataTable) return;\n",
              "\n",
              "          const docLinkHtml = 'Like what you see? Visit the ' +\n",
              "            '<a target=\"_blank\" href=https://colab.research.google.com/notebooks/data_table.ipynb>data table notebook</a>'\n",
              "            + ' to learn more about interactive tables.';\n",
              "          element.innerHTML = '';\n",
              "          dataTable['output_type'] = 'display_data';\n",
              "          await google.colab.output.renderOutput(dataTable, element);\n",
              "          const docLink = document.createElement('div');\n",
              "          docLink.innerHTML = docLinkHtml;\n",
              "          element.appendChild(docLink);\n",
              "        }\n",
              "      </script>\n",
              "    </div>\n",
              "  </div>\n",
              "  "
            ],
            "text/plain": [
              "       gender partner dependents  ...     paymentmethod totalcharges churn\n",
              "count    7043    7043       7043  ...              7043         7043  7043\n",
              "unique      2       2          2  ...                 4         6531     2\n",
              "top      Male      No         No  ...  Electronic check                 No\n",
              "freq     3555    3641       4933  ...              2365           11  5174\n",
              "\n",
              "[4 rows x 17 columns]"
            ]
          },
          "metadata": {},
          "execution_count": 66
        }
      ]
    },
    {
      "cell_type": "code",
      "source": [
        "for col in telco.select_dtypes(['object']):\n",
        "  display(telco[col].value_counts())\n",
        "  print()"
      ],
      "metadata": {
        "colab": {
          "base_uri": "https://localhost:8080/",
          "height": 1000
        },
        "id": "gP14tL5xroj-",
        "outputId": "75e6941c-1243-41c4-a19c-6205109518f2"
      },
      "execution_count": 67,
      "outputs": [
        {
          "output_type": "display_data",
          "data": {
            "text/plain": [
              "Male      3555\n",
              "Female    3488\n",
              "Name: gender, dtype: int64"
            ]
          },
          "metadata": {}
        },
        {
          "output_type": "stream",
          "name": "stdout",
          "text": [
            "\n"
          ]
        },
        {
          "output_type": "display_data",
          "data": {
            "text/plain": [
              "No     3641\n",
              "Yes    3402\n",
              "Name: partner, dtype: int64"
            ]
          },
          "metadata": {}
        },
        {
          "output_type": "stream",
          "name": "stdout",
          "text": [
            "\n"
          ]
        },
        {
          "output_type": "display_data",
          "data": {
            "text/plain": [
              "No     4933\n",
              "Yes    2110\n",
              "Name: dependents, dtype: int64"
            ]
          },
          "metadata": {}
        },
        {
          "output_type": "stream",
          "name": "stdout",
          "text": [
            "\n"
          ]
        },
        {
          "output_type": "display_data",
          "data": {
            "text/plain": [
              "Yes    6361\n",
              "No      682\n",
              "Name: phoneservice, dtype: int64"
            ]
          },
          "metadata": {}
        },
        {
          "output_type": "stream",
          "name": "stdout",
          "text": [
            "\n"
          ]
        },
        {
          "output_type": "display_data",
          "data": {
            "text/plain": [
              "No                  3390\n",
              "Yes                 2971\n",
              "No phone service     682\n",
              "Name: multiplelines, dtype: int64"
            ]
          },
          "metadata": {}
        },
        {
          "output_type": "stream",
          "name": "stdout",
          "text": [
            "\n"
          ]
        },
        {
          "output_type": "display_data",
          "data": {
            "text/plain": [
              "Fiber optic    3096\n",
              "DSL            2421\n",
              "No             1526\n",
              "Name: internetservice, dtype: int64"
            ]
          },
          "metadata": {}
        },
        {
          "output_type": "stream",
          "name": "stdout",
          "text": [
            "\n"
          ]
        },
        {
          "output_type": "display_data",
          "data": {
            "text/plain": [
              "No                     3498\n",
              "Yes                    2019\n",
              "No internet service    1526\n",
              "Name: onlinesecurity, dtype: int64"
            ]
          },
          "metadata": {}
        },
        {
          "output_type": "stream",
          "name": "stdout",
          "text": [
            "\n"
          ]
        },
        {
          "output_type": "display_data",
          "data": {
            "text/plain": [
              "No                     3088\n",
              "Yes                    2429\n",
              "No internet service    1526\n",
              "Name: onlinebackup, dtype: int64"
            ]
          },
          "metadata": {}
        },
        {
          "output_type": "stream",
          "name": "stdout",
          "text": [
            "\n"
          ]
        },
        {
          "output_type": "display_data",
          "data": {
            "text/plain": [
              "No                     3095\n",
              "Yes                    2422\n",
              "No internet service    1526\n",
              "Name: deviceprotection, dtype: int64"
            ]
          },
          "metadata": {}
        },
        {
          "output_type": "stream",
          "name": "stdout",
          "text": [
            "\n"
          ]
        },
        {
          "output_type": "display_data",
          "data": {
            "text/plain": [
              "No                     3473\n",
              "Yes                    2044\n",
              "No internet service    1526\n",
              "Name: techsupport, dtype: int64"
            ]
          },
          "metadata": {}
        },
        {
          "output_type": "stream",
          "name": "stdout",
          "text": [
            "\n"
          ]
        },
        {
          "output_type": "display_data",
          "data": {
            "text/plain": [
              "No                     2810\n",
              "Yes                    2707\n",
              "No internet service    1526\n",
              "Name: streamingtv, dtype: int64"
            ]
          },
          "metadata": {}
        },
        {
          "output_type": "stream",
          "name": "stdout",
          "text": [
            "\n"
          ]
        },
        {
          "output_type": "display_data",
          "data": {
            "text/plain": [
              "No                     2785\n",
              "Yes                    2732\n",
              "No internet service    1526\n",
              "Name: streamingmovies, dtype: int64"
            ]
          },
          "metadata": {}
        },
        {
          "output_type": "stream",
          "name": "stdout",
          "text": [
            "\n"
          ]
        },
        {
          "output_type": "display_data",
          "data": {
            "text/plain": [
              "Month-to-month    3875\n",
              "Two year          1695\n",
              "One year          1473\n",
              "Name: contract, dtype: int64"
            ]
          },
          "metadata": {}
        },
        {
          "output_type": "stream",
          "name": "stdout",
          "text": [
            "\n"
          ]
        },
        {
          "output_type": "display_data",
          "data": {
            "text/plain": [
              "Yes    4171\n",
              "No     2872\n",
              "Name: paperlessbilling, dtype: int64"
            ]
          },
          "metadata": {}
        },
        {
          "output_type": "stream",
          "name": "stdout",
          "text": [
            "\n"
          ]
        },
        {
          "output_type": "display_data",
          "data": {
            "text/plain": [
              "Electronic check             2365\n",
              "Mailed check                 1612\n",
              "Bank transfer (automatic)    1544\n",
              "Credit card (automatic)      1522\n",
              "Name: paymentmethod, dtype: int64"
            ]
          },
          "metadata": {}
        },
        {
          "output_type": "stream",
          "name": "stdout",
          "text": [
            "\n"
          ]
        },
        {
          "output_type": "display_data",
          "data": {
            "text/plain": [
              "          11\n",
              "20.2      11\n",
              "19.75      9\n",
              "20.05      8\n",
              "19.9       8\n",
              "          ..\n",
              "6849.4     1\n",
              "692.35     1\n",
              "130.15     1\n",
              "3211.9     1\n",
              "6844.5     1\n",
              "Name: totalcharges, Length: 6531, dtype: int64"
            ]
          },
          "metadata": {}
        },
        {
          "output_type": "stream",
          "name": "stdout",
          "text": [
            "\n"
          ]
        },
        {
          "output_type": "display_data",
          "data": {
            "text/plain": [
              "No     5174\n",
              "Yes    1869\n",
              "Name: churn, dtype: int64"
            ]
          },
          "metadata": {}
        },
        {
          "output_type": "stream",
          "name": "stdout",
          "text": [
            "\n"
          ]
        }
      ]
    },
    {
      "cell_type": "markdown",
      "source": [
        "Feature 'totalcharges' contains missing values.  \n",
        "Feature 'totalcharges' will also be converted to numeric."
      ],
      "metadata": {
        "id": "UO2AYsw6tRiq"
      }
    },
    {
      "cell_type": "code",
      "source": [
        "telco.totalcharges = pd.to_numeric(telco.totalcharges, errors='coerce')\n",
        "telco.totalcharges.isnull().sum()"
      ],
      "metadata": {
        "colab": {
          "base_uri": "https://localhost:8080/"
        },
        "id": "B8ly4I2jt_QS",
        "outputId": "f3d30062-231f-4f98-9e33-ef09a12645b9"
      },
      "execution_count": 68,
      "outputs": [
        {
          "output_type": "execute_result",
          "data": {
            "text/plain": [
              "11"
            ]
          },
          "metadata": {},
          "execution_count": 68
        }
      ]
    },
    {
      "cell_type": "markdown",
      "source": [
        "The number of missing values is small so I prefer to remove it."
      ],
      "metadata": {
        "id": "Yrgec1Hd8d4I"
      }
    },
    {
      "cell_type": "code",
      "source": [
        "print(\"rows and columns before missing values are deleted:\", telco.shape)\n",
        "telco.dropna(inplace=True)\n",
        "print(\"rows and columns after missing values are deleted:\", telco.shape)"
      ],
      "metadata": {
        "colab": {
          "base_uri": "https://localhost:8080/"
        },
        "id": "FAdhBkpy88cK",
        "outputId": "35f070ee-8644-4deb-e7b3-73c71afeeac7"
      },
      "execution_count": 69,
      "outputs": [
        {
          "output_type": "stream",
          "name": "stdout",
          "text": [
            "rows and columns before missing values are deleted: (7043, 20)\n",
            "rows and columns after missing values are deleted: (7032, 20)\n"
          ]
        }
      ]
    },
    {
      "cell_type": "markdown",
      "source": [
        "## Exploratory Data Analysis (EDA)"
      ],
      "metadata": {
        "id": "TIenb999E8IF"
      }
    },
    {
      "cell_type": "markdown",
      "source": [
        "### Hubungan antara fitur dan label"
      ],
      "metadata": {
        "id": "ujYU8LpArAkZ"
      }
    },
    {
      "cell_type": "code",
      "source": [
        "# one hot encoding label\n",
        "df = telco.copy()\n",
        "df.churn = telco.churn.replace(('Yes', 'No'), (1, 0))\n",
        "\n",
        "# korelasi fitur numerik\n",
        "num_cols = ['tenure',\t'monthlycharges', 'totalcharges', 'churn']\n",
        "mask = np.triu(np.ones_like(df[num_cols].corr()))\n",
        "sns.heatmap(df[num_cols].corr(), annot=True, mask=mask)"
      ],
      "metadata": {
        "colab": {
          "base_uri": "https://localhost:8080/",
          "height": 353
        },
        "id": "vsm5gddlHGge",
        "outputId": "1abcceea-63d4-4aa7-9dcc-fe15482defd1"
      },
      "execution_count": 70,
      "outputs": [
        {
          "output_type": "execute_result",
          "data": {
            "text/plain": [
              "<matplotlib.axes._subplots.AxesSubplot at 0x7efacc39c390>"
            ]
          },
          "metadata": {},
          "execution_count": 70
        },
        {
          "output_type": "display_data",
          "data": {
            "image/png": "[encoded data removed]",
            "text/plain": [
              "<Figure size 432x288 with 2 Axes>"
            ]
          },
          "metadata": {
            "needs_background": "light"
          }
        }
      ]
    },
    {
      "cell_type": "code",
      "source": [
        "# grafik distribusi\n",
        "num_cols = ['tenure',\t'monthlycharges', 'totalcharges']\n",
        "\n",
        "for f in num_cols:\n",
        "    dp2 = sns.displot(telco, x=f, hue=\"churn\", kind=\"kde\", fill=False, height=5, aspect=3)\n",
        "    dp2.fig.suptitle(f)\n",
        "plt.show()"
      ],
      "metadata": {
        "colab": {
          "base_uri": "https://localhost:8080/",
          "height": 1000
        },
        "id": "nNJ8HLcZKK5o",
        "outputId": "26a50697-f8ff-416b-cbb9-abeb3971b9a2"
      },
      "execution_count": 71,
      "outputs": [
        {
          "output_type": "display_data",
          "data": {
            "image/png": "[encoded data removed]",
            "text/plain": [
              "<Figure size 1132x360 with 1 Axes>"
            ]
          },
          "metadata": {
            "needs_background": "light"
          }
        },
        {
          "output_type": "display_data",
          "data": {
            "image/png": "[encoded data removed]",
            "text/plain": [
              "<Figure size 1132x360 with 1 Axes>"
            ]
          },
          "metadata": {
            "needs_background": "light"
          }
        },
        {
          "output_type": "display_data",
          "data": {
            "image/png": "[encoded data removed]",
            "text/plain": [
              "<Figure size 1132x360 with 1 Axes>"
            ]
          },
          "metadata": {
            "needs_background": "light"
          }
        }
      ]
    },
    {
      "cell_type": "markdown",
      "source": [
        "- Fitur 'tenure': sebagian besar pelanggan yang hilang adalah pelanggan baru. Hal ini wajar karena pelanggan masih mencoba layanan telco. Nilai korelasi fitur ini terhadap label terbilang rendah, namun lebih tinggi dibanding fitur numerik lain. Bisa dikatakan, telco kurang mampu untuk mempertahankan pelanggan baru.\n",
        "- Fitur 'monthlycharges': sebagian besar pelanggan yang hilang adalah pelanggan yang memiliki tagihan tinggi. Saya menduga pelanggan ini adalah pelanggan yang mengalami kendala finansial.\n",
        "- Fitur 'totalcharges': sebagian besar pelanggan yang hilang adalah pelanggan baru. Hal ini sejalan dengan fitur 'tenure'."
      ],
      "metadata": {
        "id": "bXsGd_r4HgnD"
      }
    },
    {
      "cell_type": "code",
      "source": [
        "df = telco.drop(['churn'], axis=1)\n",
        "col_chart = 5\n",
        "row_chart = int(np.ceil(df.shape[1] / col_chart))\n",
        "\n",
        "# numeric to categoric\n",
        "df.seniorcitizen = telco.seniorcitizen.replace((1, 0), ('Yes', 'No'))\n",
        "\n",
        "plt.figure(figsize=(25, 15))\n",
        "for ind, col in enumerate(df.select_dtypes(['object'])):\n",
        "    plt.subplot(row_chart, col_chart, ind+1)\n",
        "    sns.countplot(x=telco.churn, hue=df[col])\n",
        "plt.show()"
      ],
      "metadata": {
        "colab": {
          "base_uri": "https://localhost:8080/",
          "height": 898
        },
        "id": "qCXnOe4kxM_H",
        "outputId": "459d6df1-0c89-40cc-c44b-b0b102c4c86a"
      },
      "execution_count": 72,
      "outputs": [
        {
          "output_type": "display_data",
          "data": {
            "image/png": "[encoded data removed]",
            "text/plain": [
              "<Figure size 1800x1080 with 16 Axes>"
            ]
          },
          "metadata": {
            "needs_background": "light"
          }
        }
      ]
    },
    {
      "cell_type": "markdown",
      "source": [
        "- Berdasarkan demografi pelanggan\n",
        "  - Jenis kelamin tidak ada pengaruh terhadap jumlah pelanggan yang hilang.\n",
        "  - Banyak dari pelanggan telco yang hilang adalah pelanggan yang berusia lanjut.\n",
        "  - Banyak dari pelanggan telco yang hilang adalah pelanggan yang tidak memiliki pasangan.\n",
        "  - Banyak dari pelanggan telco yang hilang adalah pelanggan yang tidak memiliki tanggungan.\n",
        "\n",
        "Saya menarik kesimpulan berdasarkan demografi pelanggan, pelanggan yang setia adalah sebagian besar pelanggan berkeluarga yang anaknya belum meninggalkan rumah. Sehingga, beberapa anggota keluarga atau bersama-sama menggunakan layanan telco di rumah.\n",
        "\n",
        "- Berdasarkan layanan\n",
        "  - Lebih sedikit dari pelanggan yang memiliki multi saluran (multiplines) yang bertahan atau pelanggan lebih setia pada telco\n",
        "  - Banyak pelanggan yang hilang adalah pengguna layanan internet fiber optik atau _online backup.\n",
        "  - Banyak pelanggan yang hilang adalah pengguna yang tidak menggunakan layanan _online security_, _device protection_, atau _tech support_.\n",
        "\n",
        "Saya menarik kesimpulan berdasarkan layanan, banyak pelanggan yang hilang adalah pelanggan yang memiliki kendala saat menikmati layanan telco, terutama layanan internet fiber optik. Pelanggan tidak menggunakan layanan _online security_, _device protection_, atau _tech support_ ini padahal layanan ini dapat membantu kendala teknis dari telco.\n",
        "\n",
        "- Berdasarkan informasi akun pelanggan\n",
        "  - Banyak pelanggan yang hilang adalah pelanggan yang membayar atau mengontrak dari bulan ke bulan. Pelanggan ini memiliki banyak alasan, seperti pelanggan sedang mencoba layanan telco, kemampuan finansial tidak lagi cukup, ada kendala di bulan tersebut, atau sebab lainnya.\n",
        "  - Banyak pelanggan yang hilang adalah pelanggan yang tidak menggunakan tagihan kertas, atau pelanggan yang membayar dengan cek elektronik. Saya hanya bisa menduga, mungkin ada kendala teknis atau birokrasi yang menyulitkan."
      ],
      "metadata": {
        "id": "lezvUa-Kyd2X"
      }
    },
    {
      "cell_type": "markdown",
      "source": [
        "## Data Pre-processing"
      ],
      "metadata": {
        "id": "2SSV-Sa1F2NI"
      }
    },
    {
      "cell_type": "code",
      "source": [
        "# label proportion\n",
        "telco.churn.value_counts() / len(telco) * 100"
      ],
      "metadata": {
        "colab": {
          "base_uri": "https://localhost:8080/"
        },
        "id": "xqEp3niIlsEp",
        "outputId": "10beb2dd-8ad8-496c-df4d-8731ac0934c1"
      },
      "execution_count": 73,
      "outputs": [
        {
          "output_type": "execute_result",
          "data": {
            "text/plain": [
              "No     73.421502\n",
              "Yes    26.578498\n",
              "Name: churn, dtype: float64"
            ]
          },
          "metadata": {},
          "execution_count": 73
        }
      ]
    },
    {
      "cell_type": "markdown",
      "source": [
        "Saya menganggap data label seimbang, walaupun perbedaan proporsi data label sepertiga kali."
      ],
      "metadata": {
        "id": "PCwVVRB-vHnC"
      }
    },
    {
      "cell_type": "code",
      "source": [
        "X = telco.drop(['churn'], axis=1)\n",
        "y = telco.churn.replace(('Yes', 'No'), (1, 0))\n",
        "\n",
        "X_train, X_test, y_train, y_test = train_test_split(X, y, test_size=0.2, random_state=3)\n",
        "X_train, X_val, y_train, y_val = train_test_split(X_train, y_train, test_size=0.2, random_state=3)\n",
        "print(\"Row and column test data:\", X_test.shape)\n",
        "print(\"Row and column train data:\", X_train.shape)\n",
        "print(\"Row and column validation data:\", X_val.shape)\n"
      ],
      "metadata": {
        "colab": {
          "base_uri": "https://localhost:8080/"
        },
        "id": "lEE88vHeF4-K",
        "outputId": "5828cee6-cab4-4abd-fcac-b46e35d80efd"
      },
      "execution_count": 74,
      "outputs": [
        {
          "output_type": "stream",
          "name": "stdout",
          "text": [
            "Row and column test data: (1407, 19)\n",
            "Row and column train data: (4500, 19)\n",
            "Row and column validation data: (1125, 19)\n"
          ]
        }
      ]
    },
    {
      "cell_type": "code",
      "source": [
        "# list numeric and categoric columns\n",
        "num_cols = list(X_train.select_dtypes(np.number).columns)\n",
        "cat_cols = list(X_train.select_dtypes(['object']).columns)"
      ],
      "metadata": {
        "id": "zmy-jwAKwgDN"
      },
      "execution_count": 75,
      "outputs": []
    },
    {
      "cell_type": "markdown",
      "source": [
        "### Data pre-precessing for Sequential API"
      ],
      "metadata": {
        "id": "al8tZy16vzf-"
      }
    },
    {
      "cell_type": "code",
      "source": [
        "# one hot encoding\n",
        "X_train_scaled = pd.DataFrame()\n",
        "X_val_scaled = pd.DataFrame()\n",
        "X_test_scaled = pd.DataFrame()\n",
        "\n",
        "X_train_scaled[num_cols] = X_train[num_cols]\n",
        "X_val_scaled[num_cols] = X_val[num_cols]\n",
        "X_test_scaled[num_cols] = X_test[num_cols]\n",
        "\n",
        "enc = OneHotEncoder(handle_unknown='ignore', sparse=False)\n",
        "X_train_scaled[enc.get_feature_names_out()] = enc.fit_transform(X_train[cat_cols])\n",
        "X_val_scaled[enc.get_feature_names_out()] = enc.transform(X_val[cat_cols])\n",
        "X_test_scaled[enc.get_feature_names_out()] = enc.transform(X_test[cat_cols])"
      ],
      "metadata": {
        "id": "SuxwiztrxbhM"
      },
      "execution_count": 76,
      "outputs": []
    },
    {
      "cell_type": "code",
      "source": [
        "# normalization\n",
        "normalizer = tf.keras.layers.Normalization(axis=-1)\n",
        "normalizer.adapt(X_train_scaled)"
      ],
      "metadata": {
        "id": "q3vp6hYs1-kW"
      },
      "execution_count": 77,
      "outputs": []
    },
    {
      "cell_type": "code",
      "source": [
        "strain_ds = tf.data.Dataset.from_tensor_slices((X_train_scaled, y_train))\n",
        "sval_ds = tf.data.Dataset.from_tensor_slices((X_val_scaled, y_val))"
      ],
      "metadata": {
        "id": "zyniA3Sc0Wu1"
      },
      "execution_count": 78,
      "outputs": []
    },
    {
      "cell_type": "markdown",
      "source": [
        "### Data pre-precessing for Functional API"
      ],
      "metadata": {
        "id": "x4qiTl4IvtFf"
      }
    },
    {
      "cell_type": "code",
      "source": [
        "def df_to_dataset(features, labels, shuffle=True, batch_size=32):\n",
        "  dataframe = pd.concat([features, labels], axis=1)\n",
        "  df = dataframe.copy()\n",
        "  df = {key: value[:,tf.newaxis] for key, value in dataframe.items()}\n",
        "  ds = tf.data.Dataset.from_tensor_slices((dict(df), labels))\n",
        "  if shuffle:\n",
        "    ds = ds.shuffle(buffer_size=len(dataframe))\n",
        "  ds = ds.batch(batch_size)\n",
        "  ds = ds.prefetch(batch_size)\n",
        "  return ds"
      ],
      "metadata": {
        "id": "o1KC8jHRiThe"
      },
      "execution_count": 79,
      "outputs": []
    },
    {
      "cell_type": "code",
      "source": [
        "#numeric columns\n",
        "def get_normalization_layer(name, dataset):\n",
        "  # Create a Normalization layer for the feature.\n",
        "  normalizer = Normalization(axis=None)\n",
        "\n",
        "  # Prepare a Dataset that only yields the feature.\n",
        "  feature_ds = dataset.map(lambda x, y: x[name])\n",
        "\n",
        "  # Learn the statistics of the data.\n",
        "  normalizer.adapt(feature_ds)\n",
        "\n",
        "  return normalizer"
      ],
      "metadata": {
        "id": "sI3aC3CliwUG"
      },
      "execution_count": 80,
      "outputs": []
    },
    {
      "cell_type": "code",
      "source": [
        "# categorical columns\n",
        "def get_category_encoding_layer(name, dataset, dtype, max_tokens=None):\n",
        "  # Create a layer that turns strings into integer indices.\n",
        "  if dtype == 'string':\n",
        "    index = StringLookup(max_tokens=max_tokens)\n",
        "  # Otherwise, create a layer that turns integer values into integer indices.\n",
        "  else:\n",
        "    index = IntegerLookup(max_tokens=max_tokens)\n",
        "\n",
        "  # Prepare a `tf.data.Dataset` that only yields the feature.\n",
        "  feature_ds = dataset.map(lambda x, y: x[name])\n",
        "\n",
        "  # Learn the set of possible values and assign them a fixed integer index.\n",
        "  index.adapt(feature_ds)\n",
        "\n",
        "  # Encode the integer indices.\n",
        "  encoder = CategoryEncoding(num_tokens=index.vocabulary_size())\n",
        "\n",
        "  # Apply multi-hot encoding to the indices. The lambda function captures the\n",
        "  # layer, so you can use them, or include them in the Keras Functional model later.\n",
        "  return lambda feature: encoder(index(feature))"
      ],
      "metadata": {
        "id": "w5c8nau-i6Rk"
      },
      "execution_count": 81,
      "outputs": []
    },
    {
      "cell_type": "code",
      "source": [
        "batch_size = 32\n",
        "train_ds = df_to_dataset(X_train, y_train, batch_size=batch_size)\n",
        "val_ds = df_to_dataset(X_val, y_val, shuffle=False, batch_size=batch_size)\n",
        "test_ds = df_to_dataset(X_test, y_test, shuffle=False, batch_size=batch_size)"
      ],
      "metadata": {
        "colab": {
          "base_uri": "https://localhost:8080/"
        },
        "id": "ji_Rs-dsi9XO",
        "outputId": "47c33767-aa47-4f57-cfac-3ef59cdea09e"
      },
      "execution_count": 82,
      "outputs": [
        {
          "output_type": "stream",
          "name": "stderr",
          "text": [
            "/usr/local/lib/python3.7/dist-packages/ipykernel_launcher.py:4: FutureWarning: Support for multi-dimensional indexing (e.g. `obj[:, None]`) is deprecated and will be removed in a future version.  Convert to a numpy array before indexing instead.\n",
            "  after removing the cwd from sys.path.\n"
          ]
        }
      ]
    },
    {
      "cell_type": "code",
      "source": [
        "all_inputs = []\n",
        "encoded_features = []\n",
        "\n",
        "# Numerical features.\n",
        "for header in num_cols:\n",
        "  numeric_col = tf.keras.Input(shape=(1,), name=header)\n",
        "  normalization_layer = get_normalization_layer(header, train_ds)\n",
        "  encoded_numeric_col = normalization_layer(numeric_col)\n",
        "  all_inputs.append(numeric_col)\n",
        "  encoded_features.append(encoded_numeric_col)"
      ],
      "metadata": {
        "id": "AduCx8YHpriw"
      },
      "execution_count": 83,
      "outputs": []
    },
    {
      "cell_type": "code",
      "source": [
        "for header in cat_cols:\n",
        "  categorical_col = tf.keras.Input(shape=(1,), name=header, dtype='string')\n",
        "  encoding_layer = get_category_encoding_layer(name=header,\n",
        "                                               dataset=train_ds,\n",
        "                                               dtype='string',\n",
        "                                               max_tokens=5)\n",
        "  encoded_categorical_col = encoding_layer(categorical_col)\n",
        "  all_inputs.append(categorical_col)\n",
        "  encoded_features.append(encoded_categorical_col)"
      ],
      "metadata": {
        "id": "fD3GZWp6pvUq"
      },
      "execution_count": 84,
      "outputs": []
    },
    {
      "cell_type": "code",
      "source": [
        "all_features = tf.keras.layers.concatenate(encoded_features)"
      ],
      "metadata": {
        "id": "cuwaL0zWekN0"
      },
      "execution_count": 85,
      "outputs": []
    },
    {
      "cell_type": "markdown",
      "source": [
        "## Model Definition"
      ],
      "metadata": {
        "id": "8j48ETu2BGPz"
      }
    },
    {
      "cell_type": "code",
      "source": [
        "def seq_API():\n",
        "  model = tf.keras.Sequential([\n",
        "    normalizer,\n",
        "    tf.keras.layers.Dense(20, activation='relu'),\n",
        "    tf.keras.layers.Dense(10, activation='relu'),\n",
        "    tf.keras.layers.Dense(1, activation='sigmoid')\n",
        "  ])\n",
        "  return model"
      ],
      "metadata": {
        "id": "NdbHLvIi0YR8"
      },
      "execution_count": 86,
      "outputs": []
    },
    {
      "cell_type": "code",
      "source": [
        "def func_API(input, features):\n",
        "  hidden_1 = Dense(20, activation='relu')(features)\n",
        "  hidden_2 = Dense(10, activation='relu')(hidden_1)\n",
        "  output = Dense(1, activation='sigmoid')(hidden_2)\n",
        "\n",
        "  model = Model(inputs=input, outputs=output)\n",
        "  return model"
      ],
      "metadata": {
        "id": "IPCAsVsrb7Uj"
      },
      "execution_count": 87,
      "outputs": []
    },
    {
      "cell_type": "markdown",
      "source": [
        "## Model Training"
      ],
      "metadata": {
        "id": "TtW1-uK2BK88"
      }
    },
    {
      "cell_type": "markdown",
      "source": [
        "### Sequential API"
      ],
      "metadata": {
        "id": "F5fHulMd5_8U"
      }
    },
    {
      "cell_type": "code",
      "source": [
        "s_model = seq_API()\n",
        "\n",
        "s_model.compile(optimizer='adam',\n",
        "                loss=tf.keras.losses.BinaryCrossentropy(from_logits=True),\n",
        "                metrics=['accuracy'])\n",
        "\n",
        "train_batches = strain_ds.shuffle(1000).batch(batch_size)\n",
        "val_batches = sval_ds.shuffle(1000).batch(batch_size)\n",
        "\n",
        "s_model_hist = s_model.fit(train_batches, epochs=100, validation_data=val_batches)"
      ],
      "metadata": {
        "colab": {
          "base_uri": "https://localhost:8080/"
        },
        "id": "QSq4Mg-JsiRP",
        "outputId": "04cc469a-8986-4b9f-df19-ae626749e2d8"
      },
      "execution_count": 88,
      "outputs": [
        {
          "output_type": "stream",
          "name": "stdout",
          "text": [
            "Epoch 1/100\n"
          ]
        },
        {
          "output_type": "stream",
          "name": "stderr",
          "text": [
            "/usr/local/lib/python3.7/dist-packages/tensorflow/python/util/dispatch.py:1082: UserWarning: \"`binary_crossentropy` received `from_logits=True`, but the `output` argument was produced by a sigmoid or softmax activation and thus does not represent logits. Was this intended?\"\n",
            "  return dispatch_target(*args, **kwargs)\n"
          ]
        },
        {
          "output_type": "stream",
          "name": "stdout",
          "text": [
            "141/141 [==============================] - 2s 5ms/step - loss: 0.6451 - accuracy: 0.6444 - val_loss: 0.4921 - val_accuracy: 0.7724\n",
            "Epoch 2/100\n",
            "141/141 [==============================] - 0s 3ms/step - loss: 0.4391 - accuracy: 0.7951 - val_loss: 0.4653 - val_accuracy: 0.7867\n",
            "Epoch 3/100\n",
            "141/141 [==============================] - 1s 4ms/step - loss: 0.4221 - accuracy: 0.8051 - val_loss: 0.4588 - val_accuracy: 0.7840\n",
            "Epoch 4/100\n",
            "141/141 [==============================] - 1s 4ms/step - loss: 0.4152 - accuracy: 0.8071 - val_loss: 0.4543 - val_accuracy: 0.7867\n",
            "Epoch 5/100\n",
            "141/141 [==============================] - 0s 3ms/step - loss: 0.4109 - accuracy: 0.8073 - val_loss: 0.4512 - val_accuracy: 0.7867\n",
            "Epoch 6/100\n",
            "141/141 [==============================] - 0s 3ms/step - loss: 0.4071 - accuracy: 0.8104 - val_loss: 0.4542 - val_accuracy: 0.7884\n",
            "Epoch 7/100\n",
            "141/141 [==============================] - 0s 3ms/step - loss: 0.4053 - accuracy: 0.8127 - val_loss: 0.4517 - val_accuracy: 0.7893\n",
            "Epoch 8/100\n",
            "141/141 [==============================] - 0s 3ms/step - loss: 0.4027 - accuracy: 0.8140 - val_loss: 0.4482 - val_accuracy: 0.7938\n",
            "Epoch 9/100\n",
            "141/141 [==============================] - 0s 3ms/step - loss: 0.4006 - accuracy: 0.8156 - val_loss: 0.4480 - val_accuracy: 0.7911\n",
            "Epoch 10/100\n",
            "141/141 [==============================] - 1s 4ms/step - loss: 0.3982 - accuracy: 0.8142 - val_loss: 0.4477 - val_accuracy: 0.7929\n",
            "Epoch 11/100\n",
            "141/141 [==============================] - 1s 4ms/step - loss: 0.3965 - accuracy: 0.8191 - val_loss: 0.4502 - val_accuracy: 0.7911\n",
            "Epoch 12/100\n",
            "141/141 [==============================] - 0s 3ms/step - loss: 0.3954 - accuracy: 0.8164 - val_loss: 0.4505 - val_accuracy: 0.7867\n",
            "Epoch 13/100\n",
            "141/141 [==============================] - 0s 4ms/step - loss: 0.3944 - accuracy: 0.8200 - val_loss: 0.4494 - val_accuracy: 0.7884\n",
            "Epoch 14/100\n",
            "141/141 [==============================] - 0s 3ms/step - loss: 0.3939 - accuracy: 0.8180 - val_loss: 0.4488 - val_accuracy: 0.7929\n",
            "Epoch 15/100\n",
            "141/141 [==============================] - 0s 3ms/step - loss: 0.3924 - accuracy: 0.8182 - val_loss: 0.4465 - val_accuracy: 0.7947\n",
            "Epoch 16/100\n",
            "141/141 [==============================] - 1s 4ms/step - loss: 0.3910 - accuracy: 0.8193 - val_loss: 0.4506 - val_accuracy: 0.7911\n",
            "Epoch 17/100\n",
            "141/141 [==============================] - 1s 4ms/step - loss: 0.3889 - accuracy: 0.8218 - val_loss: 0.4564 - val_accuracy: 0.7884\n",
            "Epoch 18/100\n",
            "141/141 [==============================] - 1s 4ms/step - loss: 0.3891 - accuracy: 0.8220 - val_loss: 0.4515 - val_accuracy: 0.7867\n",
            "Epoch 19/100\n",
            "141/141 [==============================] - 1s 4ms/step - loss: 0.3869 - accuracy: 0.8233 - val_loss: 0.4515 - val_accuracy: 0.7884\n",
            "Epoch 20/100\n",
            "141/141 [==============================] - 0s 3ms/step - loss: 0.3857 - accuracy: 0.8200 - val_loss: 0.4541 - val_accuracy: 0.7902\n",
            "Epoch 21/100\n",
            "141/141 [==============================] - 0s 3ms/step - loss: 0.3846 - accuracy: 0.8200 - val_loss: 0.4546 - val_accuracy: 0.7893\n",
            "Epoch 22/100\n",
            "141/141 [==============================] - 0s 3ms/step - loss: 0.3831 - accuracy: 0.8231 - val_loss: 0.4558 - val_accuracy: 0.7911\n",
            "Epoch 23/100\n",
            "141/141 [==============================] - 0s 3ms/step - loss: 0.3829 - accuracy: 0.8218 - val_loss: 0.4586 - val_accuracy: 0.7858\n",
            "Epoch 24/100\n",
            "141/141 [==============================] - 0s 3ms/step - loss: 0.3814 - accuracy: 0.8244 - val_loss: 0.4544 - val_accuracy: 0.7920\n",
            "Epoch 25/100\n",
            "141/141 [==============================] - 0s 3ms/step - loss: 0.3803 - accuracy: 0.8209 - val_loss: 0.4575 - val_accuracy: 0.7858\n",
            "Epoch 26/100\n",
            "141/141 [==============================] - 0s 3ms/step - loss: 0.3798 - accuracy: 0.8256 - val_loss: 0.4567 - val_accuracy: 0.7902\n",
            "Epoch 27/100\n",
            "141/141 [==============================] - 1s 4ms/step - loss: 0.3790 - accuracy: 0.8224 - val_loss: 0.4597 - val_accuracy: 0.7876\n",
            "Epoch 28/100\n",
            "141/141 [==============================] - 1s 4ms/step - loss: 0.3777 - accuracy: 0.8253 - val_loss: 0.4582 - val_accuracy: 0.7822\n",
            "Epoch 29/100\n",
            "141/141 [==============================] - 0s 3ms/step - loss: 0.3767 - accuracy: 0.8251 - val_loss: 0.4630 - val_accuracy: 0.7831\n",
            "Epoch 30/100\n",
            "141/141 [==============================] - 0s 3ms/step - loss: 0.3768 - accuracy: 0.8251 - val_loss: 0.4592 - val_accuracy: 0.7911\n",
            "Epoch 31/100\n",
            "141/141 [==============================] - 0s 3ms/step - loss: 0.3751 - accuracy: 0.8289 - val_loss: 0.4608 - val_accuracy: 0.7822\n",
            "Epoch 32/100\n",
            "141/141 [==============================] - 1s 4ms/step - loss: 0.3744 - accuracy: 0.8264 - val_loss: 0.4622 - val_accuracy: 0.7813\n",
            "Epoch 33/100\n",
            "141/141 [==============================] - 1s 4ms/step - loss: 0.3729 - accuracy: 0.8280 - val_loss: 0.4684 - val_accuracy: 0.7902\n",
            "Epoch 34/100\n",
            "141/141 [==============================] - 1s 4ms/step - loss: 0.3727 - accuracy: 0.8287 - val_loss: 0.4650 - val_accuracy: 0.7858\n",
            "Epoch 35/100\n",
            "141/141 [==============================] - 0s 3ms/step - loss: 0.3731 - accuracy: 0.8256 - val_loss: 0.4639 - val_accuracy: 0.7831\n",
            "Epoch 36/100\n",
            "141/141 [==============================] - 0s 3ms/step - loss: 0.3705 - accuracy: 0.8291 - val_loss: 0.4674 - val_accuracy: 0.7822\n",
            "Epoch 37/100\n",
            "141/141 [==============================] - 1s 4ms/step - loss: 0.3708 - accuracy: 0.8256 - val_loss: 0.4643 - val_accuracy: 0.7822\n",
            "Epoch 38/100\n",
            "141/141 [==============================] - 0s 3ms/step - loss: 0.3694 - accuracy: 0.8296 - val_loss: 0.4678 - val_accuracy: 0.7760\n",
            "Epoch 39/100\n",
            "141/141 [==============================] - 1s 4ms/step - loss: 0.3683 - accuracy: 0.8298 - val_loss: 0.4702 - val_accuracy: 0.7813\n",
            "Epoch 40/100\n",
            "141/141 [==============================] - 1s 4ms/step - loss: 0.3677 - accuracy: 0.8333 - val_loss: 0.4660 - val_accuracy: 0.7760\n",
            "Epoch 41/100\n",
            "141/141 [==============================] - 1s 4ms/step - loss: 0.3662 - accuracy: 0.8327 - val_loss: 0.4697 - val_accuracy: 0.7760\n",
            "Epoch 42/100\n",
            "141/141 [==============================] - 0s 3ms/step - loss: 0.3655 - accuracy: 0.8296 - val_loss: 0.4693 - val_accuracy: 0.7796\n",
            "Epoch 43/100\n",
            "141/141 [==============================] - 0s 3ms/step - loss: 0.3663 - accuracy: 0.8300 - val_loss: 0.4681 - val_accuracy: 0.7769\n",
            "Epoch 44/100\n",
            "141/141 [==============================] - 0s 3ms/step - loss: 0.3643 - accuracy: 0.8327 - val_loss: 0.4702 - val_accuracy: 0.7769\n",
            "Epoch 45/100\n",
            "141/141 [==============================] - 0s 3ms/step - loss: 0.3625 - accuracy: 0.8327 - val_loss: 0.4728 - val_accuracy: 0.7769\n",
            "Epoch 46/100\n",
            "141/141 [==============================] - 0s 3ms/step - loss: 0.3614 - accuracy: 0.8353 - val_loss: 0.4697 - val_accuracy: 0.7778\n",
            "Epoch 47/100\n",
            "141/141 [==============================] - 0s 3ms/step - loss: 0.3629 - accuracy: 0.8336 - val_loss: 0.4745 - val_accuracy: 0.7751\n",
            "Epoch 48/100\n",
            "141/141 [==============================] - 0s 3ms/step - loss: 0.3612 - accuracy: 0.8342 - val_loss: 0.4744 - val_accuracy: 0.7769\n",
            "Epoch 49/100\n",
            "141/141 [==============================] - 1s 4ms/step - loss: 0.3607 - accuracy: 0.8353 - val_loss: 0.4768 - val_accuracy: 0.7742\n",
            "Epoch 50/100\n",
            "141/141 [==============================] - 1s 4ms/step - loss: 0.3597 - accuracy: 0.8353 - val_loss: 0.4761 - val_accuracy: 0.7787\n",
            "Epoch 51/100\n",
            "141/141 [==============================] - 0s 3ms/step - loss: 0.3586 - accuracy: 0.8342 - val_loss: 0.4805 - val_accuracy: 0.7707\n",
            "Epoch 52/100\n",
            "141/141 [==============================] - 1s 4ms/step - loss: 0.3587 - accuracy: 0.8347 - val_loss: 0.4827 - val_accuracy: 0.7716\n",
            "Epoch 53/100\n",
            "141/141 [==============================] - 0s 3ms/step - loss: 0.3575 - accuracy: 0.8360 - val_loss: 0.4780 - val_accuracy: 0.7707\n",
            "Epoch 54/100\n",
            "141/141 [==============================] - 1s 4ms/step - loss: 0.3569 - accuracy: 0.8389 - val_loss: 0.4797 - val_accuracy: 0.7680\n",
            "Epoch 55/100\n",
            "141/141 [==============================] - 0s 3ms/step - loss: 0.3554 - accuracy: 0.8382 - val_loss: 0.4819 - val_accuracy: 0.7724\n",
            "Epoch 56/100\n",
            "141/141 [==============================] - 1s 4ms/step - loss: 0.3556 - accuracy: 0.8358 - val_loss: 0.4783 - val_accuracy: 0.7707\n",
            "Epoch 57/100\n",
            "141/141 [==============================] - 1s 4ms/step - loss: 0.3550 - accuracy: 0.8360 - val_loss: 0.4927 - val_accuracy: 0.7636\n",
            "Epoch 58/100\n",
            "141/141 [==============================] - 0s 3ms/step - loss: 0.3550 - accuracy: 0.8369 - val_loss: 0.4844 - val_accuracy: 0.7653\n",
            "Epoch 59/100\n",
            "141/141 [==============================] - 0s 3ms/step - loss: 0.3542 - accuracy: 0.8384 - val_loss: 0.4867 - val_accuracy: 0.7724\n",
            "Epoch 60/100\n",
            "141/141 [==============================] - 1s 4ms/step - loss: 0.3543 - accuracy: 0.8378 - val_loss: 0.4805 - val_accuracy: 0.7724\n",
            "Epoch 61/100\n",
            "141/141 [==============================] - 1s 4ms/step - loss: 0.3529 - accuracy: 0.8347 - val_loss: 0.4861 - val_accuracy: 0.7662\n",
            "Epoch 62/100\n",
            "141/141 [==============================] - 1s 4ms/step - loss: 0.3521 - accuracy: 0.8376 - val_loss: 0.4835 - val_accuracy: 0.7716\n",
            "Epoch 63/100\n",
            "141/141 [==============================] - 1s 4ms/step - loss: 0.3513 - accuracy: 0.8400 - val_loss: 0.4837 - val_accuracy: 0.7680\n",
            "Epoch 64/100\n",
            "141/141 [==============================] - 1s 4ms/step - loss: 0.3510 - accuracy: 0.8402 - val_loss: 0.4916 - val_accuracy: 0.7618\n",
            "Epoch 65/100\n",
            "141/141 [==============================] - 1s 4ms/step - loss: 0.3508 - accuracy: 0.8382 - val_loss: 0.4866 - val_accuracy: 0.7707\n",
            "Epoch 66/100\n",
            "141/141 [==============================] - 0s 4ms/step - loss: 0.3502 - accuracy: 0.8422 - val_loss: 0.4907 - val_accuracy: 0.7716\n",
            "Epoch 67/100\n",
            "141/141 [==============================] - 1s 4ms/step - loss: 0.3489 - accuracy: 0.8427 - val_loss: 0.4900 - val_accuracy: 0.7724\n",
            "Epoch 68/100\n",
            "141/141 [==============================] - 1s 4ms/step - loss: 0.3470 - accuracy: 0.8436 - val_loss: 0.4921 - val_accuracy: 0.7627\n",
            "Epoch 69/100\n",
            "141/141 [==============================] - 0s 3ms/step - loss: 0.3475 - accuracy: 0.8411 - val_loss: 0.4906 - val_accuracy: 0.7627\n",
            "Epoch 70/100\n",
            "141/141 [==============================] - 1s 4ms/step - loss: 0.3471 - accuracy: 0.8416 - val_loss: 0.4942 - val_accuracy: 0.7636\n",
            "Epoch 71/100\n",
            "141/141 [==============================] - 1s 4ms/step - loss: 0.3467 - accuracy: 0.8411 - val_loss: 0.4931 - val_accuracy: 0.7662\n",
            "Epoch 72/100\n",
            "141/141 [==============================] - 0s 3ms/step - loss: 0.3467 - accuracy: 0.8402 - val_loss: 0.4853 - val_accuracy: 0.7653\n",
            "Epoch 73/100\n",
            "141/141 [==============================] - 1s 4ms/step - loss: 0.3461 - accuracy: 0.8413 - val_loss: 0.4929 - val_accuracy: 0.7698\n",
            "Epoch 74/100\n",
            "141/141 [==============================] - 1s 4ms/step - loss: 0.3468 - accuracy: 0.8431 - val_loss: 0.4913 - val_accuracy: 0.7671\n",
            "Epoch 75/100\n",
            "141/141 [==============================] - 0s 3ms/step - loss: 0.3452 - accuracy: 0.8411 - val_loss: 0.4960 - val_accuracy: 0.7644\n",
            "Epoch 76/100\n",
            "141/141 [==============================] - 1s 4ms/step - loss: 0.3423 - accuracy: 0.8440 - val_loss: 0.4950 - val_accuracy: 0.7636\n",
            "Epoch 77/100\n",
            "141/141 [==============================] - 0s 4ms/step - loss: 0.3442 - accuracy: 0.8413 - val_loss: 0.5015 - val_accuracy: 0.7680\n",
            "Epoch 78/100\n",
            "141/141 [==============================] - 1s 4ms/step - loss: 0.3424 - accuracy: 0.8458 - val_loss: 0.5032 - val_accuracy: 0.7609\n",
            "Epoch 79/100\n",
            "141/141 [==============================] - 1s 4ms/step - loss: 0.3429 - accuracy: 0.8467 - val_loss: 0.5012 - val_accuracy: 0.7689\n",
            "Epoch 80/100\n",
            "141/141 [==============================] - 1s 4ms/step - loss: 0.3427 - accuracy: 0.8438 - val_loss: 0.4965 - val_accuracy: 0.7653\n",
            "Epoch 81/100\n",
            "141/141 [==============================] - 1s 4ms/step - loss: 0.3406 - accuracy: 0.8424 - val_loss: 0.5013 - val_accuracy: 0.7627\n",
            "Epoch 82/100\n",
            "141/141 [==============================] - 0s 3ms/step - loss: 0.3416 - accuracy: 0.8433 - val_loss: 0.4993 - val_accuracy: 0.7644\n",
            "Epoch 83/100\n",
            "141/141 [==============================] - 1s 4ms/step - loss: 0.3414 - accuracy: 0.8429 - val_loss: 0.5041 - val_accuracy: 0.7636\n",
            "Epoch 84/100\n",
            "141/141 [==============================] - 1s 4ms/step - loss: 0.3404 - accuracy: 0.8467 - val_loss: 0.5026 - val_accuracy: 0.7698\n",
            "Epoch 85/100\n",
            "141/141 [==============================] - 1s 4ms/step - loss: 0.3410 - accuracy: 0.8429 - val_loss: 0.5026 - val_accuracy: 0.7618\n",
            "Epoch 86/100\n",
            "141/141 [==============================] - 0s 3ms/step - loss: 0.3399 - accuracy: 0.8467 - val_loss: 0.5058 - val_accuracy: 0.7573\n",
            "Epoch 87/100\n",
            "141/141 [==============================] - 1s 4ms/step - loss: 0.3387 - accuracy: 0.8471 - val_loss: 0.5114 - val_accuracy: 0.7600\n",
            "Epoch 88/100\n",
            "141/141 [==============================] - 0s 3ms/step - loss: 0.3390 - accuracy: 0.8442 - val_loss: 0.5018 - val_accuracy: 0.7582\n",
            "Epoch 89/100\n",
            "141/141 [==============================] - 0s 3ms/step - loss: 0.3387 - accuracy: 0.8449 - val_loss: 0.5039 - val_accuracy: 0.7618\n",
            "Epoch 90/100\n",
            "141/141 [==============================] - 1s 4ms/step - loss: 0.3384 - accuracy: 0.8476 - val_loss: 0.5045 - val_accuracy: 0.7609\n",
            "Epoch 91/100\n",
            "141/141 [==============================] - 1s 4ms/step - loss: 0.3378 - accuracy: 0.8458 - val_loss: 0.5025 - val_accuracy: 0.7644\n",
            "Epoch 92/100\n",
            "141/141 [==============================] - 0s 3ms/step - loss: 0.3369 - accuracy: 0.8491 - val_loss: 0.5080 - val_accuracy: 0.7582\n",
            "Epoch 93/100\n",
            "141/141 [==============================] - 1s 4ms/step - loss: 0.3373 - accuracy: 0.8422 - val_loss: 0.5063 - val_accuracy: 0.7627\n",
            "Epoch 94/100\n",
            "141/141 [==============================] - 0s 3ms/step - loss: 0.3364 - accuracy: 0.8482 - val_loss: 0.5080 - val_accuracy: 0.7609\n",
            "Epoch 95/100\n",
            "141/141 [==============================] - 1s 7ms/step - loss: 0.3355 - accuracy: 0.8491 - val_loss: 0.5119 - val_accuracy: 0.7591\n",
            "Epoch 96/100\n",
            "141/141 [==============================] - 1s 4ms/step - loss: 0.3358 - accuracy: 0.8500 - val_loss: 0.5167 - val_accuracy: 0.7600\n",
            "Epoch 97/100\n",
            "141/141 [==============================] - 1s 4ms/step - loss: 0.3342 - accuracy: 0.8493 - val_loss: 0.5146 - val_accuracy: 0.7591\n",
            "Epoch 98/100\n",
            "141/141 [==============================] - 1s 4ms/step - loss: 0.3342 - accuracy: 0.8484 - val_loss: 0.5098 - val_accuracy: 0.7582\n",
            "Epoch 99/100\n",
            "141/141 [==============================] - 0s 3ms/step - loss: 0.3329 - accuracy: 0.8531 - val_loss: 0.5099 - val_accuracy: 0.7591\n",
            "Epoch 100/100\n",
            "141/141 [==============================] - 0s 3ms/step - loss: 0.3327 - accuracy: 0.8487 - val_loss: 0.5079 - val_accuracy: 0.7591\n"
          ]
        }
      ]
    },
    {
      "cell_type": "code",
      "source": [
        "metrics = pd.DataFrame(s_model_hist.history)\n",
        "metrics[['loss', 'val_loss', 'accuracy', 'val_accuracy']].plot()"
      ],
      "metadata": {
        "colab": {
          "base_uri": "https://localhost:8080/",
          "height": 282
        },
        "id": "x-EOJ-6J7dKz",
        "outputId": "3254a903-1c55-4bb4-9f34-0cb728e0a685"
      },
      "execution_count": 89,
      "outputs": [
        {
          "output_type": "execute_result",
          "data": {
            "text/plain": [
              "<matplotlib.axes._subplots.AxesSubplot at 0x7efacc0cc950>"
            ]
          },
          "metadata": {},
          "execution_count": 89
        },
        {
          "output_type": "display_data",
          "data": {
            "image/png": "[encoded data removed]",
            "text/plain": [
              "<Figure size 432x288 with 1 Axes>"
            ]
          },
          "metadata": {
            "needs_background": "light"
          }
        }
      ]
    },
    {
      "cell_type": "markdown",
      "source": [
        "### Functional API"
      ],
      "metadata": {
        "id": "u7OmbBmj6Eai"
      }
    },
    {
      "cell_type": "code",
      "source": [
        "# function API\n",
        "f_model = func_API(all_inputs, all_features)\n",
        "\n",
        "f_model.compile(optimizer='adam',\n",
        "                loss=tf.keras.losses.BinaryCrossentropy(from_logits=True),\n",
        "                metrics=['accuracy'])\n",
        "  \n",
        "model_hist = f_model.fit(train_ds, epochs=100, validation_data=val_ds)"
      ],
      "metadata": {
        "colab": {
          "base_uri": "https://localhost:8080/"
        },
        "id": "uus_rZ13e3Rs",
        "outputId": "85fc2eef-18ef-460c-d59f-76721c8e7c18"
      },
      "execution_count": 90,
      "outputs": [
        {
          "output_type": "stream",
          "name": "stdout",
          "text": [
            "Epoch 1/100\n"
          ]
        },
        {
          "output_type": "stream",
          "name": "stderr",
          "text": [
            "/usr/local/lib/python3.7/dist-packages/keras/engine/functional.py:559: UserWarning: Input dict contained keys ['churn'] which did not match any model input. They will be ignored by the model.\n",
            "  inputs = self._flatten_to_reference_inputs(inputs)\n",
            "/usr/local/lib/python3.7/dist-packages/tensorflow/python/util/dispatch.py:1082: UserWarning: \"`binary_crossentropy` received `from_logits=True`, but the `output` argument was produced by a sigmoid or softmax activation and thus does not represent logits. Was this intended?\"\n",
            "  return dispatch_target(*args, **kwargs)\n"
          ]
        },
        {
          "output_type": "stream",
          "name": "stdout",
          "text": [
            "141/141 [==============================] - 4s 17ms/step - loss: 0.5195 - accuracy: 0.7291 - val_loss: 0.4672 - val_accuracy: 0.7911\n",
            "Epoch 2/100\n",
            "141/141 [==============================] - 2s 12ms/step - loss: 0.4258 - accuracy: 0.7973 - val_loss: 0.4485 - val_accuracy: 0.7956\n",
            "Epoch 3/100\n",
            "141/141 [==============================] - 2s 12ms/step - loss: 0.4186 - accuracy: 0.7962 - val_loss: 0.4454 - val_accuracy: 0.8000\n",
            "Epoch 4/100\n",
            "141/141 [==============================] - 2s 12ms/step - loss: 0.4172 - accuracy: 0.8024 - val_loss: 0.4415 - val_accuracy: 0.8000\n",
            "Epoch 5/100\n",
            "141/141 [==============================] - 2s 12ms/step - loss: 0.4141 - accuracy: 0.8022 - val_loss: 0.4399 - val_accuracy: 0.8018\n",
            "Epoch 6/100\n",
            "141/141 [==============================] - 2s 10ms/step - loss: 0.4133 - accuracy: 0.8042 - val_loss: 0.4369 - val_accuracy: 0.7964\n",
            "Epoch 7/100\n",
            "141/141 [==============================] - 2s 11ms/step - loss: 0.4115 - accuracy: 0.8040 - val_loss: 0.4393 - val_accuracy: 0.8036\n",
            "Epoch 8/100\n",
            "141/141 [==============================] - 2s 11ms/step - loss: 0.4118 - accuracy: 0.8024 - val_loss: 0.4360 - val_accuracy: 0.8000\n",
            "Epoch 9/100\n",
            "141/141 [==============================] - 2s 11ms/step - loss: 0.4094 - accuracy: 0.8004 - val_loss: 0.4364 - val_accuracy: 0.8018\n",
            "Epoch 10/100\n",
            "141/141 [==============================] - 2s 11ms/step - loss: 0.4080 - accuracy: 0.8024 - val_loss: 0.4381 - val_accuracy: 0.8009\n",
            "Epoch 11/100\n",
            "141/141 [==============================] - 2s 11ms/step - loss: 0.4077 - accuracy: 0.8042 - val_loss: 0.4382 - val_accuracy: 0.8009\n",
            "Epoch 12/100\n",
            "141/141 [==============================] - 2s 11ms/step - loss: 0.4059 - accuracy: 0.8058 - val_loss: 0.4354 - val_accuracy: 0.7956\n",
            "Epoch 13/100\n",
            "141/141 [==============================] - 2s 13ms/step - loss: 0.4043 - accuracy: 0.8051 - val_loss: 0.4353 - val_accuracy: 0.7911\n",
            "Epoch 14/100\n",
            "141/141 [==============================] - 2s 11ms/step - loss: 0.4039 - accuracy: 0.8038 - val_loss: 0.4363 - val_accuracy: 0.7982\n",
            "Epoch 15/100\n",
            "141/141 [==============================] - 2s 12ms/step - loss: 0.4026 - accuracy: 0.8080 - val_loss: 0.4362 - val_accuracy: 0.7956\n",
            "Epoch 16/100\n",
            "141/141 [==============================] - 2s 11ms/step - loss: 0.4019 - accuracy: 0.8069 - val_loss: 0.4366 - val_accuracy: 0.7982\n",
            "Epoch 17/100\n",
            "141/141 [==============================] - 2s 12ms/step - loss: 0.4001 - accuracy: 0.8080 - val_loss: 0.4385 - val_accuracy: 0.7831\n",
            "Epoch 18/100\n",
            "141/141 [==============================] - 2s 11ms/step - loss: 0.4006 - accuracy: 0.8078 - val_loss: 0.4378 - val_accuracy: 0.8000\n",
            "Epoch 19/100\n",
            "141/141 [==============================] - 2s 12ms/step - loss: 0.3999 - accuracy: 0.8102 - val_loss: 0.4361 - val_accuracy: 0.7973\n",
            "Epoch 20/100\n",
            "141/141 [==============================] - 2s 11ms/step - loss: 0.3972 - accuracy: 0.8118 - val_loss: 0.4387 - val_accuracy: 0.7991\n",
            "Epoch 21/100\n",
            "141/141 [==============================] - 2s 11ms/step - loss: 0.3980 - accuracy: 0.8093 - val_loss: 0.4385 - val_accuracy: 0.7884\n",
            "Epoch 22/100\n",
            "141/141 [==============================] - 2s 12ms/step - loss: 0.3967 - accuracy: 0.8129 - val_loss: 0.4398 - val_accuracy: 0.7964\n",
            "Epoch 23/100\n",
            "141/141 [==============================] - 2s 11ms/step - loss: 0.3971 - accuracy: 0.8071 - val_loss: 0.4411 - val_accuracy: 0.7956\n",
            "Epoch 24/100\n",
            "141/141 [==============================] - 2s 12ms/step - loss: 0.3943 - accuracy: 0.8124 - val_loss: 0.4459 - val_accuracy: 0.7973\n",
            "Epoch 25/100\n",
            "141/141 [==============================] - 2s 16ms/step - loss: 0.3941 - accuracy: 0.8118 - val_loss: 0.4407 - val_accuracy: 0.7973\n",
            "Epoch 26/100\n",
            "141/141 [==============================] - 3s 23ms/step - loss: 0.3938 - accuracy: 0.8109 - val_loss: 0.4425 - val_accuracy: 0.7938\n",
            "Epoch 27/100\n",
            "141/141 [==============================] - 2s 16ms/step - loss: 0.3924 - accuracy: 0.8122 - val_loss: 0.4405 - val_accuracy: 0.7956\n",
            "Epoch 28/100\n",
            "141/141 [==============================] - 4s 24ms/step - loss: 0.3920 - accuracy: 0.8133 - val_loss: 0.4401 - val_accuracy: 0.7938\n",
            "Epoch 29/100\n",
            "141/141 [==============================] - 4s 26ms/step - loss: 0.3906 - accuracy: 0.8169 - val_loss: 0.4469 - val_accuracy: 0.7964\n",
            "Epoch 30/100\n",
            "141/141 [==============================] - 2s 15ms/step - loss: 0.3901 - accuracy: 0.8153 - val_loss: 0.4442 - val_accuracy: 0.7813\n",
            "Epoch 31/100\n",
            "141/141 [==============================] - 2s 12ms/step - loss: 0.3899 - accuracy: 0.8173 - val_loss: 0.4448 - val_accuracy: 0.7813\n",
            "Epoch 32/100\n",
            "141/141 [==============================] - 2s 11ms/step - loss: 0.3898 - accuracy: 0.8164 - val_loss: 0.4452 - val_accuracy: 0.7858\n",
            "Epoch 33/100\n",
            "141/141 [==============================] - 2s 11ms/step - loss: 0.3879 - accuracy: 0.8162 - val_loss: 0.4444 - val_accuracy: 0.7938\n",
            "Epoch 34/100\n",
            "141/141 [==============================] - 2s 11ms/step - loss: 0.3878 - accuracy: 0.8176 - val_loss: 0.4430 - val_accuracy: 0.7796\n",
            "Epoch 35/100\n",
            "141/141 [==============================] - 2s 11ms/step - loss: 0.3874 - accuracy: 0.8196 - val_loss: 0.4481 - val_accuracy: 0.7938\n",
            "Epoch 36/100\n",
            "141/141 [==============================] - 2s 11ms/step - loss: 0.3866 - accuracy: 0.8204 - val_loss: 0.4517 - val_accuracy: 0.7964\n",
            "Epoch 37/100\n",
            "141/141 [==============================] - 2s 12ms/step - loss: 0.3867 - accuracy: 0.8187 - val_loss: 0.4443 - val_accuracy: 0.7893\n",
            "Epoch 38/100\n",
            "141/141 [==============================] - 2s 11ms/step - loss: 0.3854 - accuracy: 0.8231 - val_loss: 0.4478 - val_accuracy: 0.7849\n",
            "Epoch 39/100\n",
            "141/141 [==============================] - 2s 11ms/step - loss: 0.3844 - accuracy: 0.8193 - val_loss: 0.4466 - val_accuracy: 0.7902\n",
            "Epoch 40/100\n",
            "141/141 [==============================] - 2s 11ms/step - loss: 0.3845 - accuracy: 0.8218 - val_loss: 0.4550 - val_accuracy: 0.7884\n",
            "Epoch 41/100\n",
            "141/141 [==============================] - 2s 12ms/step - loss: 0.3847 - accuracy: 0.8204 - val_loss: 0.4529 - val_accuracy: 0.7911\n",
            "Epoch 42/100\n",
            "141/141 [==============================] - 2s 11ms/step - loss: 0.3831 - accuracy: 0.8218 - val_loss: 0.4649 - val_accuracy: 0.7858\n",
            "Epoch 43/100\n",
            "141/141 [==============================] - 2s 13ms/step - loss: 0.3833 - accuracy: 0.8196 - val_loss: 0.4461 - val_accuracy: 0.7858\n",
            "Epoch 44/100\n",
            "141/141 [==============================] - 2s 11ms/step - loss: 0.3813 - accuracy: 0.8229 - val_loss: 0.4506 - val_accuracy: 0.7911\n",
            "Epoch 45/100\n",
            "141/141 [==============================] - 2s 11ms/step - loss: 0.3824 - accuracy: 0.8236 - val_loss: 0.4518 - val_accuracy: 0.7778\n",
            "Epoch 46/100\n",
            "141/141 [==============================] - 2s 11ms/step - loss: 0.3806 - accuracy: 0.8247 - val_loss: 0.4513 - val_accuracy: 0.7902\n",
            "Epoch 47/100\n",
            "141/141 [==============================] - 2s 14ms/step - loss: 0.3817 - accuracy: 0.8218 - val_loss: 0.4506 - val_accuracy: 0.7893\n",
            "Epoch 48/100\n",
            "141/141 [==============================] - 2s 11ms/step - loss: 0.3783 - accuracy: 0.8253 - val_loss: 0.4504 - val_accuracy: 0.7902\n",
            "Epoch 49/100\n",
            "141/141 [==============================] - 2s 12ms/step - loss: 0.3799 - accuracy: 0.8224 - val_loss: 0.4546 - val_accuracy: 0.7884\n",
            "Epoch 50/100\n",
            "141/141 [==============================] - 2s 11ms/step - loss: 0.3772 - accuracy: 0.8231 - val_loss: 0.4490 - val_accuracy: 0.7813\n",
            "Epoch 51/100\n",
            "141/141 [==============================] - 2s 11ms/step - loss: 0.3765 - accuracy: 0.8253 - val_loss: 0.4528 - val_accuracy: 0.7884\n",
            "Epoch 52/100\n",
            "141/141 [==============================] - 2s 11ms/step - loss: 0.3758 - accuracy: 0.8280 - val_loss: 0.4503 - val_accuracy: 0.7840\n",
            "Epoch 53/100\n",
            "141/141 [==============================] - 2s 11ms/step - loss: 0.3778 - accuracy: 0.8222 - val_loss: 0.4501 - val_accuracy: 0.7867\n",
            "Epoch 54/100\n",
            "141/141 [==============================] - 2s 11ms/step - loss: 0.3756 - accuracy: 0.8224 - val_loss: 0.4493 - val_accuracy: 0.7884\n",
            "Epoch 55/100\n",
            "141/141 [==============================] - 2s 11ms/step - loss: 0.3760 - accuracy: 0.8258 - val_loss: 0.4529 - val_accuracy: 0.7884\n",
            "Epoch 56/100\n",
            "141/141 [==============================] - 2s 11ms/step - loss: 0.3757 - accuracy: 0.8251 - val_loss: 0.4494 - val_accuracy: 0.7840\n",
            "Epoch 57/100\n",
            "141/141 [==============================] - 2s 11ms/step - loss: 0.3741 - accuracy: 0.8258 - val_loss: 0.4557 - val_accuracy: 0.7849\n",
            "Epoch 58/100\n",
            "141/141 [==============================] - 2s 11ms/step - loss: 0.3732 - accuracy: 0.8253 - val_loss: 0.4551 - val_accuracy: 0.7822\n",
            "Epoch 59/100\n",
            "141/141 [==============================] - 2s 11ms/step - loss: 0.3737 - accuracy: 0.8267 - val_loss: 0.4553 - val_accuracy: 0.7778\n",
            "Epoch 60/100\n",
            "141/141 [==============================] - 2s 11ms/step - loss: 0.3717 - accuracy: 0.8304 - val_loss: 0.4625 - val_accuracy: 0.7858\n",
            "Epoch 61/100\n",
            "141/141 [==============================] - 2s 11ms/step - loss: 0.3719 - accuracy: 0.8276 - val_loss: 0.4543 - val_accuracy: 0.7796\n",
            "Epoch 62/100\n",
            "141/141 [==============================] - 2s 12ms/step - loss: 0.3705 - accuracy: 0.8296 - val_loss: 0.4586 - val_accuracy: 0.7716\n",
            "Epoch 63/100\n",
            "141/141 [==============================] - 2s 12ms/step - loss: 0.3707 - accuracy: 0.8264 - val_loss: 0.4599 - val_accuracy: 0.7840\n",
            "Epoch 64/100\n",
            "141/141 [==============================] - 2s 11ms/step - loss: 0.3717 - accuracy: 0.8256 - val_loss: 0.4611 - val_accuracy: 0.7796\n",
            "Epoch 65/100\n",
            "141/141 [==============================] - 2s 11ms/step - loss: 0.3712 - accuracy: 0.8271 - val_loss: 0.4601 - val_accuracy: 0.7671\n",
            "Epoch 66/100\n",
            "141/141 [==============================] - 2s 11ms/step - loss: 0.3692 - accuracy: 0.8333 - val_loss: 0.4631 - val_accuracy: 0.7796\n",
            "Epoch 67/100\n",
            "141/141 [==============================] - 2s 11ms/step - loss: 0.3674 - accuracy: 0.8322 - val_loss: 0.4667 - val_accuracy: 0.7849\n",
            "Epoch 68/100\n",
            "141/141 [==============================] - 2s 12ms/step - loss: 0.3691 - accuracy: 0.8291 - val_loss: 0.4577 - val_accuracy: 0.7787\n",
            "Epoch 69/100\n",
            "141/141 [==============================] - 2s 12ms/step - loss: 0.3674 - accuracy: 0.8291 - val_loss: 0.4635 - val_accuracy: 0.7742\n",
            "Epoch 70/100\n",
            "141/141 [==============================] - 2s 12ms/step - loss: 0.3679 - accuracy: 0.8307 - val_loss: 0.4635 - val_accuracy: 0.7671\n",
            "Epoch 71/100\n",
            "141/141 [==============================] - 2s 12ms/step - loss: 0.3661 - accuracy: 0.8313 - val_loss: 0.4648 - val_accuracy: 0.7796\n",
            "Epoch 72/100\n",
            "141/141 [==============================] - 2s 11ms/step - loss: 0.3657 - accuracy: 0.8320 - val_loss: 0.4644 - val_accuracy: 0.7751\n",
            "Epoch 73/100\n",
            "141/141 [==============================] - 2s 12ms/step - loss: 0.3652 - accuracy: 0.8324 - val_loss: 0.4613 - val_accuracy: 0.7813\n",
            "Epoch 74/100\n",
            "141/141 [==============================] - 2s 11ms/step - loss: 0.3650 - accuracy: 0.8340 - val_loss: 0.4652 - val_accuracy: 0.7787\n",
            "Epoch 75/100\n",
            "141/141 [==============================] - 4s 26ms/step - loss: 0.3646 - accuracy: 0.8322 - val_loss: 0.4694 - val_accuracy: 0.7751\n",
            "Epoch 76/100\n",
            "141/141 [==============================] - 2s 13ms/step - loss: 0.3627 - accuracy: 0.8340 - val_loss: 0.4636 - val_accuracy: 0.7778\n",
            "Epoch 77/100\n",
            "141/141 [==============================] - 2s 16ms/step - loss: 0.3638 - accuracy: 0.8344 - val_loss: 0.4643 - val_accuracy: 0.7742\n",
            "Epoch 78/100\n",
            "141/141 [==============================] - 2s 11ms/step - loss: 0.3623 - accuracy: 0.8307 - val_loss: 0.4709 - val_accuracy: 0.7698\n",
            "Epoch 79/100\n",
            "141/141 [==============================] - 2s 11ms/step - loss: 0.3622 - accuracy: 0.8349 - val_loss: 0.4699 - val_accuracy: 0.7813\n",
            "Epoch 80/100\n",
            "141/141 [==============================] - 2s 12ms/step - loss: 0.3609 - accuracy: 0.8367 - val_loss: 0.4677 - val_accuracy: 0.7689\n",
            "Epoch 81/100\n",
            "141/141 [==============================] - 3s 18ms/step - loss: 0.3618 - accuracy: 0.8331 - val_loss: 0.4683 - val_accuracy: 0.7680\n",
            "Epoch 82/100\n",
            "141/141 [==============================] - 4s 26ms/step - loss: 0.3608 - accuracy: 0.8327 - val_loss: 0.4712 - val_accuracy: 0.7733\n",
            "Epoch 83/100\n",
            "141/141 [==============================] - 3s 24ms/step - loss: 0.3621 - accuracy: 0.8336 - val_loss: 0.4674 - val_accuracy: 0.7698\n",
            "Epoch 84/100\n",
            "141/141 [==============================] - 3s 21ms/step - loss: 0.3611 - accuracy: 0.8353 - val_loss: 0.4677 - val_accuracy: 0.7689\n",
            "Epoch 85/100\n",
            "141/141 [==============================] - 3s 22ms/step - loss: 0.3596 - accuracy: 0.8322 - val_loss: 0.4728 - val_accuracy: 0.7707\n",
            "Epoch 86/100\n",
            "141/141 [==============================] - 2s 17ms/step - loss: 0.3597 - accuracy: 0.8358 - val_loss: 0.4696 - val_accuracy: 0.7671\n",
            "Epoch 87/100\n",
            "141/141 [==============================] - 3s 21ms/step - loss: 0.3590 - accuracy: 0.8342 - val_loss: 0.4656 - val_accuracy: 0.7689\n",
            "Epoch 88/100\n",
            "141/141 [==============================] - 4s 25ms/step - loss: 0.3574 - accuracy: 0.8327 - val_loss: 0.4863 - val_accuracy: 0.7724\n",
            "Epoch 89/100\n",
            "141/141 [==============================] - 3s 20ms/step - loss: 0.3563 - accuracy: 0.8351 - val_loss: 0.4665 - val_accuracy: 0.7707\n",
            "Epoch 90/100\n",
            "141/141 [==============================] - 3s 22ms/step - loss: 0.3567 - accuracy: 0.8344 - val_loss: 0.4758 - val_accuracy: 0.7653\n",
            "Epoch 91/100\n",
            "141/141 [==============================] - 4s 25ms/step - loss: 0.3567 - accuracy: 0.8391 - val_loss: 0.4704 - val_accuracy: 0.7698\n",
            "Epoch 92/100\n",
            "141/141 [==============================] - 2s 12ms/step - loss: 0.3564 - accuracy: 0.8393 - val_loss: 0.4755 - val_accuracy: 0.7680\n",
            "Epoch 93/100\n",
            "141/141 [==============================] - 2s 11ms/step - loss: 0.3576 - accuracy: 0.8349 - val_loss: 0.4758 - val_accuracy: 0.7636\n",
            "Epoch 94/100\n",
            "141/141 [==============================] - 2s 11ms/step - loss: 0.3567 - accuracy: 0.8360 - val_loss: 0.4709 - val_accuracy: 0.7751\n",
            "Epoch 95/100\n",
            "141/141 [==============================] - 2s 12ms/step - loss: 0.3557 - accuracy: 0.8369 - val_loss: 0.4793 - val_accuracy: 0.7724\n",
            "Epoch 96/100\n",
            "141/141 [==============================] - 2s 11ms/step - loss: 0.3556 - accuracy: 0.8393 - val_loss: 0.4843 - val_accuracy: 0.7742\n",
            "Epoch 97/100\n",
            "141/141 [==============================] - 2s 12ms/step - loss: 0.3538 - accuracy: 0.8402 - val_loss: 0.4760 - val_accuracy: 0.7707\n",
            "Epoch 98/100\n",
            "141/141 [==============================] - 3s 23ms/step - loss: 0.3536 - accuracy: 0.8349 - val_loss: 0.4766 - val_accuracy: 0.7724\n",
            "Epoch 99/100\n",
            "141/141 [==============================] - 4s 25ms/step - loss: 0.3511 - accuracy: 0.8402 - val_loss: 0.4798 - val_accuracy: 0.7671\n",
            "Epoch 100/100\n",
            "141/141 [==============================] - 2s 12ms/step - loss: 0.3530 - accuracy: 0.8393 - val_loss: 0.4843 - val_accuracy: 0.7716\n"
          ]
        }
      ]
    },
    {
      "cell_type": "code",
      "source": [
        "metrics = pd.DataFrame(model_hist.history)\n",
        "metrics[['loss', 'val_loss', 'accuracy', 'val_accuracy']].plot()"
      ],
      "metadata": {
        "id": "oJKZg4GLlpqj",
        "colab": {
          "base_uri": "https://localhost:8080/",
          "height": 282
        },
        "outputId": "c23898a5-9d02-4df2-f8d7-bf5f631552f2"
      },
      "execution_count": 91,
      "outputs": [
        {
          "output_type": "execute_result",
          "data": {
            "text/plain": [
              "<matplotlib.axes._subplots.AxesSubplot at 0x7efb6023bf90>"
            ]
          },
          "metadata": {},
          "execution_count": 91
        },
        {
          "output_type": "display_data",
          "data": {
            "image/png": "[encoded data removed]",
            "text/plain": [
              "<Figure size 432x288 with 1 Axes>"
            ]
          },
          "metadata": {
            "needs_background": "light"
          }
        }
      ]
    },
    {
      "cell_type": "markdown",
      "source": [
        "Pada epoch 20, garis loss dan val_loss semakin menjauh, ini menunjukkan bahwa model _overfitting_. Saya akan coba mengevaluasi modelnya."
      ],
      "metadata": {
        "id": "Bx_qtmm4Flzu"
      }
    },
    {
      "cell_type": "markdown",
      "source": [
        "## Model Evaluation"
      ],
      "metadata": {
        "id": "5Hv1d_1OGnMs"
      }
    },
    {
      "cell_type": "markdown",
      "source": [
        "Saya mencoba belasan kombinasi untuk mencoba mengurangi overfitting pada model. Sejauh ini, model arsitektur di bawah ini yang menghasilkan performa terbaik. Performa terbaik yang saya dapatkan adalah nilai akurasi data train dan validasi tidak semakin menjauh, meskipun masih ada perbedaan pada garis loss train dan loss val.\n",
        "\n",
        "Di bawah ini saya hanya menampilkan perbedaan penggunaan optimizer"
      ],
      "metadata": {
        "id": "mt270I0gWnRW"
      }
    },
    {
      "cell_type": "code",
      "source": [
        "def func_API(input, features):\n",
        "  hidden_1 = Dense(20, activation='relu', kernel_initializer='he_uniform')(features)\n",
        "  do_1 = Dropout(0.1)(hidden_1)\n",
        "  hidden_2 = Dense(10, activation='relu', kernel_initializer='he_uniform')(do_1)\n",
        "  do_2 = Dropout(0.1)(hidden_2)\n",
        "  output = Dense(1, activation='sigmoid', kernel_initializer='glorot_uniform')(do_2)\n",
        "\n",
        "  model = Model(inputs=input, outputs=output)\n",
        "  return model"
      ],
      "metadata": {
        "id": "IV_xe6ZC1kzZ"
      },
      "execution_count": 92,
      "outputs": []
    },
    {
      "cell_type": "code",
      "source": [
        "# function API\n",
        "f_model = func_API(all_inputs, all_features)\n",
        "\n",
        "results = {}\n",
        "\n",
        "for opt in ['adam', 'nadam', 'adamax']:\n",
        "  f_model.compile(optimizer=opt,\n",
        "                  loss=tf.keras.losses.BinaryCrossentropy(from_logits=True),\n",
        "                  metrics=['accuracy'])\n",
        "    \n",
        "  model_hist = f_model.fit(train_ds, epochs=100, validation_data=val_ds)\n",
        "  results[opt] = pd.DataFrame(model_hist.history)"
      ],
      "metadata": {
        "id": "CDAHEAQhGtR7",
        "colab": {
          "base_uri": "https://localhost:8080/"
        },
        "outputId": "8332365e-e543-4e4f-bd19-be3d9edcd839"
      },
      "execution_count": 93,
      "outputs": [
        {
          "metadata": {
            "tags": null
          },
          "name": "stdout",
          "output_type": "stream",
          "text": [
            "Epoch 1/100\n"
          ]
        },
        {
          "metadata": {
            "tags": null
          },
          "name": "stderr",
          "output_type": "stream",
          "text": [
            "/usr/local/lib/python3.7/dist-packages/keras/engine/functional.py:559: UserWarning: Input dict contained keys ['churn'] which did not match any model input. They will be ignored by the model.\n",
            "  inputs = self._flatten_to_reference_inputs(inputs)\n",
            "/usr/local/lib/python3.7/dist-packages/tensorflow/python/util/dispatch.py:1082: UserWarning: \"`binary_crossentropy` received `from_logits=True`, but the `output` argument was produced by a sigmoid or softmax activation and thus does not represent logits. Was this intended?\"\n",
            "  return dispatch_target(*args, **kwargs)\n"
          ]
        },
        {
          "output_type": "stream",
          "name": "stdout",
          "text": [
            "141/141 [==============================] - 4s 16ms/step - loss: 0.5908 - accuracy: 0.6860 - val_loss: 0.5254 - val_accuracy: 0.7173\n",
            "Epoch 2/100\n",
            "141/141 [==============================] - 2s 11ms/step - loss: 0.4751 - accuracy: 0.7544 - val_loss: 0.4748 - val_accuracy: 0.7804\n",
            "Epoch 3/100\n",
            "141/141 [==============================] - 2s 12ms/step - loss: 0.4491 - accuracy: 0.7776 - val_loss: 0.4621 - val_accuracy: 0.7822\n",
            "Epoch 4/100\n",
            "141/141 [==============================] - 2s 11ms/step - loss: 0.4364 - accuracy: 0.7856 - val_loss: 0.4536 - val_accuracy: 0.7902\n",
            "Epoch 5/100\n",
            "141/141 [==============================] - 2s 11ms/step - loss: 0.4323 - accuracy: 0.7904 - val_loss: 0.4487 - val_accuracy: 0.7876\n",
            "Epoch 6/100\n",
            "141/141 [==============================] - 2s 11ms/step - loss: 0.4303 - accuracy: 0.7904 - val_loss: 0.4464 - val_accuracy: 0.7893\n",
            "Epoch 7/100\n",
            "141/141 [==============================] - 2s 11ms/step - loss: 0.4264 - accuracy: 0.7967 - val_loss: 0.4460 - val_accuracy: 0.7902\n",
            "Epoch 8/100\n",
            "141/141 [==============================] - 2s 11ms/step - loss: 0.4263 - accuracy: 0.7991 - val_loss: 0.4439 - val_accuracy: 0.7929\n",
            "Epoch 9/100\n",
            "141/141 [==============================] - 2s 12ms/step - loss: 0.4211 - accuracy: 0.8044 - val_loss: 0.4422 - val_accuracy: 0.7884\n",
            "Epoch 10/100\n",
            "141/141 [==============================] - 2s 12ms/step - loss: 0.4203 - accuracy: 0.7980 - val_loss: 0.4448 - val_accuracy: 0.7938\n",
            "Epoch 11/100\n",
            "141/141 [==============================] - 2s 13ms/step - loss: 0.4191 - accuracy: 0.8024 - val_loss: 0.4403 - val_accuracy: 0.7956\n",
            "Epoch 12/100\n",
            "141/141 [==============================] - 2s 13ms/step - loss: 0.4174 - accuracy: 0.8093 - val_loss: 0.4415 - val_accuracy: 0.7947\n",
            "Epoch 13/100\n",
            "141/141 [==============================] - 2s 11ms/step - loss: 0.4166 - accuracy: 0.8051 - val_loss: 0.4436 - val_accuracy: 0.7929\n",
            "Epoch 14/100\n",
            "141/141 [==============================] - 2s 12ms/step - loss: 0.4193 - accuracy: 0.8067 - val_loss: 0.4414 - val_accuracy: 0.7964\n",
            "Epoch 15/100\n",
            "141/141 [==============================] - 3s 17ms/step - loss: 0.4193 - accuracy: 0.8062 - val_loss: 0.4406 - val_accuracy: 0.7947\n",
            "Epoch 16/100\n",
            "141/141 [==============================] - 2s 11ms/step - loss: 0.4185 - accuracy: 0.8042 - val_loss: 0.4371 - val_accuracy: 0.7982\n",
            "Epoch 17/100\n",
            "141/141 [==============================] - 2s 11ms/step - loss: 0.4127 - accuracy: 0.8064 - val_loss: 0.4388 - val_accuracy: 0.7929\n",
            "Epoch 18/100\n",
            "141/141 [==============================] - 2s 12ms/step - loss: 0.4157 - accuracy: 0.8113 - val_loss: 0.4371 - val_accuracy: 0.8000\n",
            "Epoch 19/100\n",
            "141/141 [==============================] - 2s 11ms/step - loss: 0.4136 - accuracy: 0.8036 - val_loss: 0.4413 - val_accuracy: 0.7920\n",
            "Epoch 20/100\n",
            "141/141 [==============================] - 2s 12ms/step - loss: 0.4105 - accuracy: 0.8093 - val_loss: 0.4375 - val_accuracy: 0.7964\n",
            "Epoch 21/100\n",
            "141/141 [==============================] - 2s 12ms/step - loss: 0.4077 - accuracy: 0.8069 - val_loss: 0.4376 - val_accuracy: 0.7991\n",
            "Epoch 22/100\n",
            "141/141 [==============================] - 3s 18ms/step - loss: 0.4096 - accuracy: 0.8098 - val_loss: 0.4387 - val_accuracy: 0.7938\n",
            "Epoch 23/100\n",
            "141/141 [==============================] - 2s 11ms/step - loss: 0.4107 - accuracy: 0.8156 - val_loss: 0.4400 - val_accuracy: 0.7991\n",
            "Epoch 24/100\n",
            "141/141 [==============================] - 2s 12ms/step - loss: 0.4055 - accuracy: 0.8127 - val_loss: 0.4399 - val_accuracy: 0.7973\n",
            "Epoch 25/100\n",
            "141/141 [==============================] - 2s 11ms/step - loss: 0.4037 - accuracy: 0.8124 - val_loss: 0.4384 - val_accuracy: 0.7964\n",
            "Epoch 26/100\n",
            "141/141 [==============================] - 2s 11ms/step - loss: 0.4067 - accuracy: 0.8122 - val_loss: 0.4377 - val_accuracy: 0.7938\n",
            "Epoch 27/100\n",
            "141/141 [==============================] - 2s 11ms/step - loss: 0.4029 - accuracy: 0.8089 - val_loss: 0.4385 - val_accuracy: 0.8000\n",
            "Epoch 28/100\n",
            "141/141 [==============================] - 2s 13ms/step - loss: 0.4079 - accuracy: 0.8127 - val_loss: 0.4379 - val_accuracy: 0.7902\n",
            "Epoch 29/100\n",
            "141/141 [==============================] - 3s 23ms/step - loss: 0.4032 - accuracy: 0.8109 - val_loss: 0.4399 - val_accuracy: 0.7991\n",
            "Epoch 30/100\n",
            "141/141 [==============================] - 3s 22ms/step - loss: 0.4037 - accuracy: 0.8096 - val_loss: 0.4373 - val_accuracy: 0.7982\n",
            "Epoch 31/100\n",
            "141/141 [==============================] - 3s 24ms/step - loss: 0.4006 - accuracy: 0.8129 - val_loss: 0.4405 - val_accuracy: 0.8009\n",
            "Epoch 32/100\n",
            "141/141 [==============================] - 4s 27ms/step - loss: 0.4006 - accuracy: 0.8160 - val_loss: 0.4398 - val_accuracy: 0.7938\n",
            "Epoch 33/100\n",
            "141/141 [==============================] - 3s 22ms/step - loss: 0.3981 - accuracy: 0.8124 - val_loss: 0.4410 - val_accuracy: 0.7929\n",
            "Epoch 34/100\n",
            "141/141 [==============================] - 2s 13ms/step - loss: 0.4022 - accuracy: 0.8129 - val_loss: 0.4422 - val_accuracy: 0.7956\n",
            "Epoch 35/100\n",
            "141/141 [==============================] - 2s 11ms/step - loss: 0.3989 - accuracy: 0.8184 - val_loss: 0.4383 - val_accuracy: 0.7973\n",
            "Epoch 36/100\n",
            "141/141 [==============================] - 2s 11ms/step - loss: 0.4020 - accuracy: 0.8124 - val_loss: 0.4387 - val_accuracy: 0.7956\n",
            "Epoch 37/100\n",
            "141/141 [==============================] - 2s 11ms/step - loss: 0.3944 - accuracy: 0.8198 - val_loss: 0.4398 - val_accuracy: 0.7964\n",
            "Epoch 38/100\n",
            "141/141 [==============================] - 2s 12ms/step - loss: 0.3996 - accuracy: 0.8107 - val_loss: 0.4416 - val_accuracy: 0.7982\n",
            "Epoch 39/100\n",
            "141/141 [==============================] - 2s 11ms/step - loss: 0.3980 - accuracy: 0.8138 - val_loss: 0.4398 - val_accuracy: 0.8000\n",
            "Epoch 40/100\n",
            "141/141 [==============================] - 2s 11ms/step - loss: 0.3933 - accuracy: 0.8198 - val_loss: 0.4430 - val_accuracy: 0.7956\n",
            "Epoch 41/100\n",
            "141/141 [==============================] - 2s 11ms/step - loss: 0.3927 - accuracy: 0.8173 - val_loss: 0.4423 - val_accuracy: 0.8009\n",
            "Epoch 42/100\n",
            "141/141 [==============================] - 2s 12ms/step - loss: 0.3936 - accuracy: 0.8178 - val_loss: 0.4429 - val_accuracy: 0.7964\n",
            "Epoch 43/100\n",
            "141/141 [==============================] - 2s 11ms/step - loss: 0.3938 - accuracy: 0.8169 - val_loss: 0.4412 - val_accuracy: 0.7938\n",
            "Epoch 44/100\n",
            "141/141 [==============================] - 2s 11ms/step - loss: 0.3943 - accuracy: 0.8160 - val_loss: 0.4402 - val_accuracy: 0.7956\n",
            "Epoch 45/100\n",
            "141/141 [==============================] - 2s 12ms/step - loss: 0.3971 - accuracy: 0.8142 - val_loss: 0.4417 - val_accuracy: 0.8018\n",
            "Epoch 46/100\n",
            "141/141 [==============================] - 2s 12ms/step - loss: 0.3920 - accuracy: 0.8198 - val_loss: 0.4411 - val_accuracy: 0.7929\n",
            "Epoch 47/100\n",
            "141/141 [==============================] - 2s 11ms/step - loss: 0.3927 - accuracy: 0.8122 - val_loss: 0.4432 - val_accuracy: 0.7947\n",
            "Epoch 48/100\n",
            "141/141 [==============================] - 2s 11ms/step - loss: 0.3929 - accuracy: 0.8138 - val_loss: 0.4438 - val_accuracy: 0.8000\n",
            "Epoch 49/100\n",
            "141/141 [==============================] - 3s 21ms/step - loss: 0.3891 - accuracy: 0.8240 - val_loss: 0.4470 - val_accuracy: 0.8000\n",
            "Epoch 50/100\n",
            "141/141 [==============================] - 2s 11ms/step - loss: 0.3897 - accuracy: 0.8236 - val_loss: 0.4422 - val_accuracy: 0.7911\n",
            "Epoch 51/100\n",
            "141/141 [==============================] - 2s 12ms/step - loss: 0.3922 - accuracy: 0.8162 - val_loss: 0.4419 - val_accuracy: 0.7929\n",
            "Epoch 52/100\n",
            "141/141 [==============================] - 3s 20ms/step - loss: 0.3908 - accuracy: 0.8198 - val_loss: 0.4430 - val_accuracy: 0.7938\n",
            "Epoch 53/100\n",
            "141/141 [==============================] - 3s 18ms/step - loss: 0.3874 - accuracy: 0.8178 - val_loss: 0.4462 - val_accuracy: 0.7947\n",
            "Epoch 54/100\n",
            "141/141 [==============================] - 2s 11ms/step - loss: 0.3891 - accuracy: 0.8242 - val_loss: 0.4450 - val_accuracy: 0.7991\n",
            "Epoch 55/100\n",
            "141/141 [==============================] - 2s 11ms/step - loss: 0.3872 - accuracy: 0.8218 - val_loss: 0.4452 - val_accuracy: 0.7911\n",
            "Epoch 56/100\n",
            "141/141 [==============================] - 2s 12ms/step - loss: 0.3870 - accuracy: 0.8224 - val_loss: 0.4439 - val_accuracy: 0.7947\n",
            "Epoch 57/100\n",
            "141/141 [==============================] - 2s 12ms/step - loss: 0.3841 - accuracy: 0.8198 - val_loss: 0.4458 - val_accuracy: 0.7982\n",
            "Epoch 58/100\n",
            "141/141 [==============================] - 2s 11ms/step - loss: 0.3852 - accuracy: 0.8169 - val_loss: 0.4483 - val_accuracy: 0.7964\n",
            "Epoch 59/100\n",
            "141/141 [==============================] - 2s 11ms/step - loss: 0.3896 - accuracy: 0.8209 - val_loss: 0.4451 - val_accuracy: 0.7893\n",
            "Epoch 60/100\n",
            "141/141 [==============================] - 2s 10ms/step - loss: 0.3855 - accuracy: 0.8213 - val_loss: 0.4442 - val_accuracy: 0.7911\n",
            "Epoch 61/100\n",
            "141/141 [==============================] - 2s 11ms/step - loss: 0.3879 - accuracy: 0.8204 - val_loss: 0.4455 - val_accuracy: 0.7929\n",
            "Epoch 62/100\n",
            "141/141 [==============================] - 2s 13ms/step - loss: 0.3896 - accuracy: 0.8213 - val_loss: 0.4458 - val_accuracy: 0.7893\n",
            "Epoch 63/100\n",
            "141/141 [==============================] - 2s 12ms/step - loss: 0.3842 - accuracy: 0.8224 - val_loss: 0.4429 - val_accuracy: 0.7929\n",
            "Epoch 64/100\n",
            "141/141 [==============================] - 2s 11ms/step - loss: 0.3869 - accuracy: 0.8209 - val_loss: 0.4447 - val_accuracy: 0.7893\n",
            "Epoch 65/100\n",
            "141/141 [==============================] - 2s 11ms/step - loss: 0.3816 - accuracy: 0.8238 - val_loss: 0.4470 - val_accuracy: 0.7938\n",
            "Epoch 66/100\n",
            "141/141 [==============================] - 2s 11ms/step - loss: 0.3854 - accuracy: 0.8200 - val_loss: 0.4454 - val_accuracy: 0.7902\n",
            "Epoch 67/100\n",
            "141/141 [==============================] - 2s 11ms/step - loss: 0.3883 - accuracy: 0.8202 - val_loss: 0.4467 - val_accuracy: 0.7938\n",
            "Epoch 68/100\n",
            "141/141 [==============================] - 2s 12ms/step - loss: 0.3799 - accuracy: 0.8198 - val_loss: 0.4487 - val_accuracy: 0.7956\n",
            "Epoch 69/100\n",
            "141/141 [==============================] - 2s 11ms/step - loss: 0.3859 - accuracy: 0.8200 - val_loss: 0.4501 - val_accuracy: 0.7947\n",
            "Epoch 70/100\n",
            "141/141 [==============================] - 2s 11ms/step - loss: 0.3857 - accuracy: 0.8176 - val_loss: 0.4449 - val_accuracy: 0.7911\n",
            "Epoch 71/100\n",
            "141/141 [==============================] - 2s 11ms/step - loss: 0.3817 - accuracy: 0.8247 - val_loss: 0.4454 - val_accuracy: 0.7876\n",
            "Epoch 72/100\n",
            "141/141 [==============================] - 2s 11ms/step - loss: 0.3834 - accuracy: 0.8220 - val_loss: 0.4473 - val_accuracy: 0.7893\n",
            "Epoch 73/100\n",
            "141/141 [==============================] - 2s 10ms/step - loss: 0.3858 - accuracy: 0.8182 - val_loss: 0.4463 - val_accuracy: 0.7867\n",
            "Epoch 74/100\n",
            "141/141 [==============================] - 2s 10ms/step - loss: 0.3782 - accuracy: 0.8198 - val_loss: 0.4482 - val_accuracy: 0.7938\n",
            "Epoch 75/100\n",
            "141/141 [==============================] - 2s 12ms/step - loss: 0.3791 - accuracy: 0.8227 - val_loss: 0.4499 - val_accuracy: 0.8000\n",
            "Epoch 76/100\n",
            "141/141 [==============================] - 2s 12ms/step - loss: 0.3792 - accuracy: 0.8280 - val_loss: 0.4466 - val_accuracy: 0.7973\n",
            "Epoch 77/100\n",
            "141/141 [==============================] - 2s 11ms/step - loss: 0.3785 - accuracy: 0.8213 - val_loss: 0.4458 - val_accuracy: 0.7956\n",
            "Epoch 78/100\n",
            "141/141 [==============================] - 2s 11ms/step - loss: 0.3819 - accuracy: 0.8147 - val_loss: 0.4481 - val_accuracy: 0.7876\n",
            "Epoch 79/100\n",
            "141/141 [==============================] - 2s 11ms/step - loss: 0.3814 - accuracy: 0.8196 - val_loss: 0.4457 - val_accuracy: 0.7982\n",
            "Epoch 80/100\n",
            "141/141 [==============================] - 2s 11ms/step - loss: 0.3758 - accuracy: 0.8262 - val_loss: 0.4477 - val_accuracy: 0.8009\n",
            "Epoch 81/100\n",
            "141/141 [==============================] - 2s 11ms/step - loss: 0.3819 - accuracy: 0.8236 - val_loss: 0.4487 - val_accuracy: 0.7858\n",
            "Epoch 82/100\n",
            "141/141 [==============================] - 2s 13ms/step - loss: 0.3811 - accuracy: 0.8256 - val_loss: 0.4462 - val_accuracy: 0.7982\n",
            "Epoch 83/100\n",
            "141/141 [==============================] - 2s 14ms/step - loss: 0.3730 - accuracy: 0.8271 - val_loss: 0.4539 - val_accuracy: 0.7876\n",
            "Epoch 84/100\n",
            "141/141 [==============================] - 2s 11ms/step - loss: 0.3788 - accuracy: 0.8204 - val_loss: 0.4507 - val_accuracy: 0.7938\n",
            "Epoch 85/100\n",
            "141/141 [==============================] - 2s 12ms/step - loss: 0.3736 - accuracy: 0.8289 - val_loss: 0.4505 - val_accuracy: 0.7938\n",
            "Epoch 86/100\n",
            "141/141 [==============================] - 2s 11ms/step - loss: 0.3753 - accuracy: 0.8218 - val_loss: 0.4486 - val_accuracy: 0.7938\n",
            "Epoch 87/100\n",
            "141/141 [==============================] - 2s 12ms/step - loss: 0.3771 - accuracy: 0.8296 - val_loss: 0.4479 - val_accuracy: 0.7893\n",
            "Epoch 88/100\n",
            "141/141 [==============================] - 2s 11ms/step - loss: 0.3791 - accuracy: 0.8222 - val_loss: 0.4551 - val_accuracy: 0.7947\n",
            "Epoch 89/100\n",
            "141/141 [==============================] - 2s 11ms/step - loss: 0.3780 - accuracy: 0.8238 - val_loss: 0.4487 - val_accuracy: 0.8018\n",
            "Epoch 90/100\n",
            "141/141 [==============================] - 2s 11ms/step - loss: 0.3700 - accuracy: 0.8264 - val_loss: 0.4531 - val_accuracy: 0.7920\n",
            "Epoch 91/100\n",
            "141/141 [==============================] - 2s 11ms/step - loss: 0.3759 - accuracy: 0.8249 - val_loss: 0.4513 - val_accuracy: 0.8000\n",
            "Epoch 92/100\n",
            "141/141 [==============================] - 2s 11ms/step - loss: 0.3806 - accuracy: 0.8218 - val_loss: 0.4520 - val_accuracy: 0.7902\n",
            "Epoch 93/100\n",
            "141/141 [==============================] - 2s 12ms/step - loss: 0.3720 - accuracy: 0.8296 - val_loss: 0.4501 - val_accuracy: 0.7893\n",
            "Epoch 94/100\n",
            "141/141 [==============================] - 2s 12ms/step - loss: 0.3792 - accuracy: 0.8238 - val_loss: 0.4533 - val_accuracy: 0.7929\n",
            "Epoch 95/100\n",
            "141/141 [==============================] - 2s 11ms/step - loss: 0.3780 - accuracy: 0.8200 - val_loss: 0.4525 - val_accuracy: 0.7956\n",
            "Epoch 96/100\n",
            "141/141 [==============================] - 2s 12ms/step - loss: 0.3718 - accuracy: 0.8269 - val_loss: 0.4520 - val_accuracy: 0.7947\n",
            "Epoch 97/100\n",
            "141/141 [==============================] - 2s 13ms/step - loss: 0.3744 - accuracy: 0.8280 - val_loss: 0.4488 - val_accuracy: 0.7884\n",
            "Epoch 98/100\n",
            "141/141 [==============================] - 2s 11ms/step - loss: 0.3748 - accuracy: 0.8273 - val_loss: 0.4496 - val_accuracy: 0.7884\n",
            "Epoch 99/100\n",
            "141/141 [==============================] - 2s 12ms/step - loss: 0.3773 - accuracy: 0.8236 - val_loss: 0.4497 - val_accuracy: 0.7982\n",
            "Epoch 100/100\n",
            "141/141 [==============================] - 2s 12ms/step - loss: 0.3737 - accuracy: 0.8304 - val_loss: 0.4514 - val_accuracy: 0.7929\n",
            "Epoch 1/100\n",
            "141/141 [==============================] - 4s 17ms/step - loss: 0.3727 - accuracy: 0.8256 - val_loss: 0.4508 - val_accuracy: 0.7982\n",
            "Epoch 2/100\n",
            "141/141 [==============================] - 2s 13ms/step - loss: 0.3693 - accuracy: 0.8269 - val_loss: 0.4501 - val_accuracy: 0.7929\n",
            "Epoch 3/100\n",
            "141/141 [==============================] - 2s 15ms/step - loss: 0.3771 - accuracy: 0.8276 - val_loss: 0.4522 - val_accuracy: 0.7893\n",
            "Epoch 4/100\n",
            "141/141 [==============================] - 2s 14ms/step - loss: 0.3715 - accuracy: 0.8282 - val_loss: 0.4544 - val_accuracy: 0.8018\n",
            "Epoch 5/100\n",
            "141/141 [==============================] - 2s 12ms/step - loss: 0.3744 - accuracy: 0.8284 - val_loss: 0.4529 - val_accuracy: 0.7920\n",
            "Epoch 6/100\n",
            "141/141 [==============================] - 2s 12ms/step - loss: 0.3712 - accuracy: 0.8253 - val_loss: 0.4561 - val_accuracy: 0.7938\n",
            "Epoch 7/100\n",
            "141/141 [==============================] - 2s 12ms/step - loss: 0.3754 - accuracy: 0.8262 - val_loss: 0.4552 - val_accuracy: 0.7920\n",
            "Epoch 8/100\n",
            "141/141 [==============================] - 2s 13ms/step - loss: 0.3664 - accuracy: 0.8302 - val_loss: 0.4551 - val_accuracy: 0.7929\n",
            "Epoch 9/100\n",
            "141/141 [==============================] - 2s 12ms/step - loss: 0.3729 - accuracy: 0.8253 - val_loss: 0.4557 - val_accuracy: 0.7929\n",
            "Epoch 10/100\n",
            "141/141 [==============================] - 2s 12ms/step - loss: 0.3728 - accuracy: 0.8267 - val_loss: 0.4565 - val_accuracy: 0.7956\n",
            "Epoch 11/100\n",
            "141/141 [==============================] - 2s 12ms/step - loss: 0.3682 - accuracy: 0.8267 - val_loss: 0.4552 - val_accuracy: 0.7973\n",
            "Epoch 12/100\n",
            "141/141 [==============================] - 2s 12ms/step - loss: 0.3740 - accuracy: 0.8273 - val_loss: 0.4547 - val_accuracy: 0.7920\n",
            "Epoch 13/100\n",
            "141/141 [==============================] - 2s 13ms/step - loss: 0.3693 - accuracy: 0.8316 - val_loss: 0.4568 - val_accuracy: 0.7876\n",
            "Epoch 14/100\n",
            "141/141 [==============================] - 2s 13ms/step - loss: 0.3715 - accuracy: 0.8273 - val_loss: 0.4565 - val_accuracy: 0.7893\n",
            "Epoch 15/100\n",
            "141/141 [==============================] - 2s 12ms/step - loss: 0.3717 - accuracy: 0.8309 - val_loss: 0.4596 - val_accuracy: 0.7964\n",
            "Epoch 16/100\n",
            "141/141 [==============================] - 2s 12ms/step - loss: 0.3682 - accuracy: 0.8260 - val_loss: 0.4591 - val_accuracy: 0.7938\n",
            "Epoch 17/100\n",
            "141/141 [==============================] - 2s 12ms/step - loss: 0.3716 - accuracy: 0.8298 - val_loss: 0.4560 - val_accuracy: 0.7947\n",
            "Epoch 18/100\n",
            "141/141 [==============================] - 2s 12ms/step - loss: 0.3656 - accuracy: 0.8353 - val_loss: 0.4561 - val_accuracy: 0.7929\n",
            "Epoch 19/100\n",
            "141/141 [==============================] - 2s 13ms/step - loss: 0.3741 - accuracy: 0.8284 - val_loss: 0.4563 - val_accuracy: 0.7911\n",
            "Epoch 20/100\n",
            "141/141 [==============================] - 2s 12ms/step - loss: 0.3654 - accuracy: 0.8313 - val_loss: 0.4536 - val_accuracy: 0.7964\n",
            "Epoch 21/100\n",
            "141/141 [==============================] - 2s 12ms/step - loss: 0.3684 - accuracy: 0.8269 - val_loss: 0.4586 - val_accuracy: 0.7920\n",
            "Epoch 22/100\n",
            "141/141 [==============================] - 2s 12ms/step - loss: 0.3673 - accuracy: 0.8267 - val_loss: 0.4575 - val_accuracy: 0.7902\n",
            "Epoch 23/100\n",
            "141/141 [==============================] - 3s 23ms/step - loss: 0.3710 - accuracy: 0.8280 - val_loss: 0.4600 - val_accuracy: 0.7929\n",
            "Epoch 24/100\n",
            "141/141 [==============================] - 3s 24ms/step - loss: 0.3679 - accuracy: 0.8313 - val_loss: 0.4579 - val_accuracy: 0.7858\n",
            "Epoch 25/100\n",
            "141/141 [==============================] - 2s 13ms/step - loss: 0.3644 - accuracy: 0.8291 - val_loss: 0.4619 - val_accuracy: 0.7929\n",
            "Epoch 26/100\n",
            "141/141 [==============================] - 2s 12ms/step - loss: 0.3693 - accuracy: 0.8291 - val_loss: 0.4602 - val_accuracy: 0.7920\n",
            "Epoch 27/100\n",
            "141/141 [==============================] - 2s 12ms/step - loss: 0.3635 - accuracy: 0.8309 - val_loss: 0.4614 - val_accuracy: 0.7876\n",
            "Epoch 28/100\n",
            "141/141 [==============================] - 2s 12ms/step - loss: 0.3679 - accuracy: 0.8327 - val_loss: 0.4618 - val_accuracy: 0.7893\n",
            "Epoch 29/100\n",
            "141/141 [==============================] - 2s 12ms/step - loss: 0.3664 - accuracy: 0.8289 - val_loss: 0.4622 - val_accuracy: 0.7884\n",
            "Epoch 30/100\n",
            "141/141 [==============================] - 2s 12ms/step - loss: 0.3660 - accuracy: 0.8296 - val_loss: 0.4599 - val_accuracy: 0.7893\n",
            "Epoch 31/100\n",
            "141/141 [==============================] - 2s 14ms/step - loss: 0.3690 - accuracy: 0.8327 - val_loss: 0.4588 - val_accuracy: 0.7911\n",
            "Epoch 32/100\n",
            "141/141 [==============================] - 2s 12ms/step - loss: 0.3673 - accuracy: 0.8313 - val_loss: 0.4589 - val_accuracy: 0.7956\n",
            "Epoch 33/100\n",
            "141/141 [==============================] - 2s 12ms/step - loss: 0.3647 - accuracy: 0.8298 - val_loss: 0.4610 - val_accuracy: 0.8000\n",
            "Epoch 34/100\n",
            "141/141 [==============================] - 2s 13ms/step - loss: 0.3633 - accuracy: 0.8333 - val_loss: 0.4571 - val_accuracy: 0.7867\n",
            "Epoch 35/100\n",
            "141/141 [==============================] - 2s 12ms/step - loss: 0.3625 - accuracy: 0.8360 - val_loss: 0.4572 - val_accuracy: 0.7884\n",
            "Epoch 36/100\n",
            "141/141 [==============================] - 2s 13ms/step - loss: 0.3648 - accuracy: 0.8338 - val_loss: 0.4595 - val_accuracy: 0.7947\n",
            "Epoch 37/100\n",
            "141/141 [==============================] - 2s 13ms/step - loss: 0.3655 - accuracy: 0.8342 - val_loss: 0.4562 - val_accuracy: 0.7893\n",
            "Epoch 38/100\n",
            "141/141 [==============================] - 2s 12ms/step - loss: 0.3630 - accuracy: 0.8353 - val_loss: 0.4587 - val_accuracy: 0.7893\n",
            "Epoch 39/100\n",
            "141/141 [==============================] - 2s 13ms/step - loss: 0.3611 - accuracy: 0.8264 - val_loss: 0.4631 - val_accuracy: 0.7884\n",
            "Epoch 40/100\n",
            "141/141 [==============================] - 2s 15ms/step - loss: 0.3646 - accuracy: 0.8367 - val_loss: 0.4568 - val_accuracy: 0.7929\n",
            "Epoch 41/100\n",
            "141/141 [==============================] - 2s 15ms/step - loss: 0.3663 - accuracy: 0.8311 - val_loss: 0.4557 - val_accuracy: 0.7938\n",
            "Epoch 42/100\n",
            "141/141 [==============================] - 2s 13ms/step - loss: 0.3604 - accuracy: 0.8293 - val_loss: 0.4587 - val_accuracy: 0.7920\n",
            "Epoch 43/100\n",
            "141/141 [==============================] - 2s 13ms/step - loss: 0.3685 - accuracy: 0.8336 - val_loss: 0.4572 - val_accuracy: 0.7920\n",
            "Epoch 44/100\n",
            "141/141 [==============================] - 2s 12ms/step - loss: 0.3616 - accuracy: 0.8324 - val_loss: 0.4589 - val_accuracy: 0.7840\n",
            "Epoch 45/100\n",
            "141/141 [==============================] - 2s 13ms/step - loss: 0.3550 - accuracy: 0.8331 - val_loss: 0.4623 - val_accuracy: 0.7867\n",
            "Epoch 46/100\n",
            "141/141 [==============================] - 2s 12ms/step - loss: 0.3630 - accuracy: 0.8351 - val_loss: 0.4573 - val_accuracy: 0.7929\n",
            "Epoch 47/100\n",
            "141/141 [==============================] - 2s 12ms/step - loss: 0.3658 - accuracy: 0.8309 - val_loss: 0.4619 - val_accuracy: 0.7902\n",
            "Epoch 48/100\n",
            "141/141 [==============================] - 2s 12ms/step - loss: 0.3617 - accuracy: 0.8327 - val_loss: 0.4595 - val_accuracy: 0.7911\n",
            "Epoch 49/100\n",
            "141/141 [==============================] - 2s 11ms/step - loss: 0.3638 - accuracy: 0.8373 - val_loss: 0.4585 - val_accuracy: 0.7938\n",
            "Epoch 50/100\n",
            "141/141 [==============================] - 2s 12ms/step - loss: 0.3651 - accuracy: 0.8304 - val_loss: 0.4648 - val_accuracy: 0.7902\n",
            "Epoch 51/100\n",
            "141/141 [==============================] - 2s 14ms/step - loss: 0.3621 - accuracy: 0.8329 - val_loss: 0.4619 - val_accuracy: 0.7876\n",
            "Epoch 52/100\n",
            "141/141 [==============================] - 2s 13ms/step - loss: 0.3600 - accuracy: 0.8309 - val_loss: 0.4638 - val_accuracy: 0.7920\n",
            "Epoch 53/100\n",
            "141/141 [==============================] - 2s 13ms/step - loss: 0.3635 - accuracy: 0.8342 - val_loss: 0.4680 - val_accuracy: 0.7858\n",
            "Epoch 54/100\n",
            "141/141 [==============================] - 2s 11ms/step - loss: 0.3611 - accuracy: 0.8349 - val_loss: 0.4672 - val_accuracy: 0.7902\n",
            "Epoch 55/100\n",
            "141/141 [==============================] - 2s 12ms/step - loss: 0.3628 - accuracy: 0.8318 - val_loss: 0.4616 - val_accuracy: 0.7929\n",
            "Epoch 56/100\n",
            "141/141 [==============================] - 2s 12ms/step - loss: 0.3604 - accuracy: 0.8324 - val_loss: 0.4606 - val_accuracy: 0.7920\n",
            "Epoch 57/100\n",
            "141/141 [==============================] - 2s 11ms/step - loss: 0.3584 - accuracy: 0.8320 - val_loss: 0.4628 - val_accuracy: 0.7858\n",
            "Epoch 58/100\n",
            "141/141 [==============================] - 2s 12ms/step - loss: 0.3605 - accuracy: 0.8369 - val_loss: 0.4648 - val_accuracy: 0.7831\n",
            "Epoch 59/100\n",
            "141/141 [==============================] - 2s 11ms/step - loss: 0.3598 - accuracy: 0.8373 - val_loss: 0.4597 - val_accuracy: 0.7867\n",
            "Epoch 60/100\n",
            "141/141 [==============================] - 2s 12ms/step - loss: 0.3613 - accuracy: 0.8340 - val_loss: 0.4672 - val_accuracy: 0.7893\n",
            "Epoch 61/100\n",
            "141/141 [==============================] - 2s 12ms/step - loss: 0.3564 - accuracy: 0.8362 - val_loss: 0.4666 - val_accuracy: 0.7831\n",
            "Epoch 62/100\n",
            "141/141 [==============================] - 2s 11ms/step - loss: 0.3602 - accuracy: 0.8362 - val_loss: 0.4604 - val_accuracy: 0.7822\n",
            "Epoch 63/100\n",
            "141/141 [==============================] - 2s 12ms/step - loss: 0.3619 - accuracy: 0.8313 - val_loss: 0.4686 - val_accuracy: 0.7831\n",
            "Epoch 64/100\n",
            "141/141 [==============================] - 2s 12ms/step - loss: 0.3591 - accuracy: 0.8320 - val_loss: 0.4676 - val_accuracy: 0.7867\n",
            "Epoch 65/100\n",
            "141/141 [==============================] - 2s 13ms/step - loss: 0.3633 - accuracy: 0.8298 - val_loss: 0.4674 - val_accuracy: 0.7813\n",
            "Epoch 66/100\n",
            "141/141 [==============================] - 2s 12ms/step - loss: 0.3565 - accuracy: 0.8384 - val_loss: 0.4673 - val_accuracy: 0.7858\n",
            "Epoch 67/100\n",
            "141/141 [==============================] - 2s 12ms/step - loss: 0.3590 - accuracy: 0.8298 - val_loss: 0.4671 - val_accuracy: 0.7858\n",
            "Epoch 68/100\n",
            "141/141 [==============================] - 2s 12ms/step - loss: 0.3613 - accuracy: 0.8400 - val_loss: 0.4688 - val_accuracy: 0.7920\n",
            "Epoch 69/100\n",
            "141/141 [==============================] - 2s 12ms/step - loss: 0.3587 - accuracy: 0.8322 - val_loss: 0.4657 - val_accuracy: 0.7884\n",
            "Epoch 70/100\n",
            "141/141 [==============================] - 2s 12ms/step - loss: 0.3574 - accuracy: 0.8333 - val_loss: 0.4673 - val_accuracy: 0.7840\n",
            "Epoch 71/100\n",
            "141/141 [==============================] - 2s 14ms/step - loss: 0.3595 - accuracy: 0.8336 - val_loss: 0.4660 - val_accuracy: 0.7858\n",
            "Epoch 72/100\n",
            "141/141 [==============================] - 2s 12ms/step - loss: 0.3489 - accuracy: 0.8444 - val_loss: 0.4673 - val_accuracy: 0.7822\n",
            "Epoch 73/100\n",
            "141/141 [==============================] - 2s 13ms/step - loss: 0.3575 - accuracy: 0.8387 - val_loss: 0.4694 - val_accuracy: 0.7822\n",
            "Epoch 74/100\n",
            "141/141 [==============================] - 2s 12ms/step - loss: 0.3633 - accuracy: 0.8309 - val_loss: 0.4617 - val_accuracy: 0.7902\n",
            "Epoch 75/100\n",
            "141/141 [==============================] - 2s 12ms/step - loss: 0.3650 - accuracy: 0.8331 - val_loss: 0.4639 - val_accuracy: 0.7813\n",
            "Epoch 76/100\n",
            "141/141 [==============================] - 2s 12ms/step - loss: 0.3592 - accuracy: 0.8316 - val_loss: 0.4661 - val_accuracy: 0.7804\n",
            "Epoch 77/100\n",
            "141/141 [==============================] - 2s 12ms/step - loss: 0.3558 - accuracy: 0.8393 - val_loss: 0.4673 - val_accuracy: 0.7840\n",
            "Epoch 78/100\n",
            "141/141 [==============================] - 2s 14ms/step - loss: 0.3511 - accuracy: 0.8418 - val_loss: 0.4650 - val_accuracy: 0.7849\n",
            "Epoch 79/100\n",
            "141/141 [==============================] - 2s 12ms/step - loss: 0.3607 - accuracy: 0.8360 - val_loss: 0.4679 - val_accuracy: 0.7867\n",
            "Epoch 80/100\n",
            "141/141 [==============================] - 2s 12ms/step - loss: 0.3601 - accuracy: 0.8376 - val_loss: 0.4670 - val_accuracy: 0.7804\n",
            "Epoch 81/100\n",
            "141/141 [==============================] - 2s 13ms/step - loss: 0.3560 - accuracy: 0.8382 - val_loss: 0.4677 - val_accuracy: 0.7876\n",
            "Epoch 82/100\n",
            "141/141 [==============================] - 2s 13ms/step - loss: 0.3625 - accuracy: 0.8358 - val_loss: 0.4715 - val_accuracy: 0.7796\n",
            "Epoch 83/100\n",
            "141/141 [==============================] - 2s 14ms/step - loss: 0.3544 - accuracy: 0.8398 - val_loss: 0.4675 - val_accuracy: 0.7831\n",
            "Epoch 84/100\n",
            "141/141 [==============================] - 2s 12ms/step - loss: 0.3590 - accuracy: 0.8367 - val_loss: 0.4660 - val_accuracy: 0.7902\n",
            "Epoch 85/100\n",
            "141/141 [==============================] - 2s 12ms/step - loss: 0.3618 - accuracy: 0.8369 - val_loss: 0.4693 - val_accuracy: 0.7822\n",
            "Epoch 86/100\n",
            "141/141 [==============================] - 2s 12ms/step - loss: 0.3567 - accuracy: 0.8356 - val_loss: 0.4679 - val_accuracy: 0.7876\n",
            "Epoch 87/100\n",
            "141/141 [==============================] - 2s 14ms/step - loss: 0.3528 - accuracy: 0.8378 - val_loss: 0.4672 - val_accuracy: 0.7822\n",
            "Epoch 88/100\n",
            "141/141 [==============================] - 2s 14ms/step - loss: 0.3542 - accuracy: 0.8340 - val_loss: 0.4645 - val_accuracy: 0.7884\n",
            "Epoch 89/100\n",
            "141/141 [==============================] - 2s 14ms/step - loss: 0.3521 - accuracy: 0.8444 - val_loss: 0.4702 - val_accuracy: 0.7867\n",
            "Epoch 90/100\n",
            "141/141 [==============================] - 2s 13ms/step - loss: 0.3617 - accuracy: 0.8376 - val_loss: 0.4700 - val_accuracy: 0.7804\n",
            "Epoch 91/100\n",
            "141/141 [==============================] - 2s 13ms/step - loss: 0.3576 - accuracy: 0.8369 - val_loss: 0.4678 - val_accuracy: 0.7849\n",
            "Epoch 92/100\n",
            "141/141 [==============================] - 2s 13ms/step - loss: 0.3544 - accuracy: 0.8380 - val_loss: 0.4683 - val_accuracy: 0.7822\n",
            "Epoch 93/100\n",
            "141/141 [==============================] - 2s 13ms/step - loss: 0.3552 - accuracy: 0.8351 - val_loss: 0.4735 - val_accuracy: 0.7813\n",
            "Epoch 94/100\n",
            "141/141 [==============================] - 2s 13ms/step - loss: 0.3582 - accuracy: 0.8376 - val_loss: 0.4714 - val_accuracy: 0.7778\n",
            "Epoch 95/100\n",
            "141/141 [==============================] - 2s 12ms/step - loss: 0.3527 - accuracy: 0.8378 - val_loss: 0.4715 - val_accuracy: 0.7858\n",
            "Epoch 96/100\n",
            "141/141 [==============================] - 2s 14ms/step - loss: 0.3580 - accuracy: 0.8378 - val_loss: 0.4666 - val_accuracy: 0.7804\n",
            "Epoch 97/100\n",
            "141/141 [==============================] - 2s 12ms/step - loss: 0.3595 - accuracy: 0.8347 - val_loss: 0.4658 - val_accuracy: 0.7831\n",
            "Epoch 98/100\n",
            "141/141 [==============================] - 2s 12ms/step - loss: 0.3579 - accuracy: 0.8378 - val_loss: 0.4695 - val_accuracy: 0.7831\n",
            "Epoch 99/100\n",
            "141/141 [==============================] - 2s 12ms/step - loss: 0.3522 - accuracy: 0.8369 - val_loss: 0.4732 - val_accuracy: 0.7778\n",
            "Epoch 100/100\n",
            "141/141 [==============================] - 2s 12ms/step - loss: 0.3554 - accuracy: 0.8393 - val_loss: 0.4712 - val_accuracy: 0.7796\n",
            "Epoch 1/100\n",
            "141/141 [==============================] - 4s 16ms/step - loss: 0.3516 - accuracy: 0.8387 - val_loss: 0.4721 - val_accuracy: 0.7796\n",
            "Epoch 2/100\n",
            "141/141 [==============================] - 2s 12ms/step - loss: 0.3462 - accuracy: 0.8469 - val_loss: 0.4714 - val_accuracy: 0.7822\n",
            "Epoch 3/100\n",
            "141/141 [==============================] - 2s 13ms/step - loss: 0.3503 - accuracy: 0.8400 - val_loss: 0.4715 - val_accuracy: 0.7813\n",
            "Epoch 4/100\n",
            "141/141 [==============================] - 2s 11ms/step - loss: 0.3499 - accuracy: 0.8416 - val_loss: 0.4708 - val_accuracy: 0.7822\n",
            "Epoch 5/100\n",
            "141/141 [==============================] - 2s 11ms/step - loss: 0.3454 - accuracy: 0.8442 - val_loss: 0.4692 - val_accuracy: 0.7804\n",
            "Epoch 6/100\n",
            "141/141 [==============================] - 2s 11ms/step - loss: 0.3481 - accuracy: 0.8436 - val_loss: 0.4700 - val_accuracy: 0.7822\n",
            "Epoch 7/100\n",
            "141/141 [==============================] - 2s 11ms/step - loss: 0.3455 - accuracy: 0.8400 - val_loss: 0.4703 - val_accuracy: 0.7822\n",
            "Epoch 8/100\n",
            "141/141 [==============================] - 2s 11ms/step - loss: 0.3511 - accuracy: 0.8387 - val_loss: 0.4706 - val_accuracy: 0.7831\n",
            "Epoch 9/100\n",
            "141/141 [==============================] - 2s 11ms/step - loss: 0.3494 - accuracy: 0.8418 - val_loss: 0.4699 - val_accuracy: 0.7831\n",
            "Epoch 10/100\n",
            "141/141 [==============================] - 2s 11ms/step - loss: 0.3499 - accuracy: 0.8393 - val_loss: 0.4706 - val_accuracy: 0.7804\n",
            "Epoch 11/100\n",
            "141/141 [==============================] - 2s 11ms/step - loss: 0.3507 - accuracy: 0.8398 - val_loss: 0.4687 - val_accuracy: 0.7813\n",
            "Epoch 12/100\n",
            "141/141 [==============================] - 2s 11ms/step - loss: 0.3474 - accuracy: 0.8422 - val_loss: 0.4715 - val_accuracy: 0.7822\n",
            "Epoch 13/100\n",
            "141/141 [==============================] - 2s 12ms/step - loss: 0.3508 - accuracy: 0.8407 - val_loss: 0.4703 - val_accuracy: 0.7822\n",
            "Epoch 14/100\n",
            "141/141 [==============================] - 2s 12ms/step - loss: 0.3453 - accuracy: 0.8420 - val_loss: 0.4702 - val_accuracy: 0.7831\n",
            "Epoch 15/100\n",
            "141/141 [==============================] - 2s 11ms/step - loss: 0.3502 - accuracy: 0.8407 - val_loss: 0.4707 - val_accuracy: 0.7849\n",
            "Epoch 16/100\n",
            "141/141 [==============================] - 2s 12ms/step - loss: 0.3469 - accuracy: 0.8416 - val_loss: 0.4715 - val_accuracy: 0.7804\n",
            "Epoch 17/100\n",
            "141/141 [==============================] - 2s 13ms/step - loss: 0.3511 - accuracy: 0.8378 - val_loss: 0.4707 - val_accuracy: 0.7804\n",
            "Epoch 18/100\n",
            "141/141 [==============================] - 2s 11ms/step - loss: 0.3533 - accuracy: 0.8402 - val_loss: 0.4720 - val_accuracy: 0.7804\n",
            "Epoch 19/100\n",
            "141/141 [==============================] - 2s 11ms/step - loss: 0.3486 - accuracy: 0.8416 - val_loss: 0.4715 - val_accuracy: 0.7849\n",
            "Epoch 20/100\n",
            "141/141 [==============================] - 2s 11ms/step - loss: 0.3459 - accuracy: 0.8478 - val_loss: 0.4709 - val_accuracy: 0.7813\n",
            "Epoch 21/100\n",
            "141/141 [==============================] - 2s 12ms/step - loss: 0.3464 - accuracy: 0.8418 - val_loss: 0.4702 - val_accuracy: 0.7804\n",
            "Epoch 22/100\n",
            "141/141 [==============================] - 2s 11ms/step - loss: 0.3508 - accuracy: 0.8393 - val_loss: 0.4703 - val_accuracy: 0.7831\n",
            "Epoch 23/100\n",
            "141/141 [==============================] - 2s 11ms/step - loss: 0.3472 - accuracy: 0.8427 - val_loss: 0.4713 - val_accuracy: 0.7804\n",
            "Epoch 24/100\n",
            "141/141 [==============================] - 2s 12ms/step - loss: 0.3513 - accuracy: 0.8367 - val_loss: 0.4713 - val_accuracy: 0.7813\n",
            "Epoch 25/100\n",
            "141/141 [==============================] - 2s 12ms/step - loss: 0.3526 - accuracy: 0.8373 - val_loss: 0.4707 - val_accuracy: 0.7769\n",
            "Epoch 26/100\n",
            "141/141 [==============================] - 2s 12ms/step - loss: 0.3471 - accuracy: 0.8424 - val_loss: 0.4716 - val_accuracy: 0.7769\n",
            "Epoch 27/100\n",
            "141/141 [==============================] - 2s 11ms/step - loss: 0.3497 - accuracy: 0.8413 - val_loss: 0.4718 - val_accuracy: 0.7787\n",
            "Epoch 28/100\n",
            "141/141 [==============================] - 2s 12ms/step - loss: 0.3463 - accuracy: 0.8431 - val_loss: 0.4724 - val_accuracy: 0.7804\n",
            "Epoch 29/100\n",
            "141/141 [==============================] - 2s 13ms/step - loss: 0.3434 - accuracy: 0.8431 - val_loss: 0.4720 - val_accuracy: 0.7778\n",
            "Epoch 30/100\n",
            "141/141 [==============================] - 2s 13ms/step - loss: 0.3479 - accuracy: 0.8407 - val_loss: 0.4722 - val_accuracy: 0.7769\n",
            "Epoch 31/100\n",
            "141/141 [==============================] - 2s 11ms/step - loss: 0.3456 - accuracy: 0.8387 - val_loss: 0.4721 - val_accuracy: 0.7787\n",
            "Epoch 32/100\n",
            "141/141 [==============================] - 2s 11ms/step - loss: 0.3505 - accuracy: 0.8331 - val_loss: 0.4716 - val_accuracy: 0.7804\n",
            "Epoch 33/100\n",
            "141/141 [==============================] - 2s 12ms/step - loss: 0.3485 - accuracy: 0.8396 - val_loss: 0.4710 - val_accuracy: 0.7804\n",
            "Epoch 34/100\n",
            "141/141 [==============================] - 2s 11ms/step - loss: 0.3487 - accuracy: 0.8422 - val_loss: 0.4726 - val_accuracy: 0.7787\n",
            "Epoch 35/100\n",
            "141/141 [==============================] - 2s 12ms/step - loss: 0.3498 - accuracy: 0.8413 - val_loss: 0.4719 - val_accuracy: 0.7787\n",
            "Epoch 36/100\n",
            "141/141 [==============================] - 2s 12ms/step - loss: 0.3420 - accuracy: 0.8411 - val_loss: 0.4726 - val_accuracy: 0.7813\n",
            "Epoch 37/100\n",
            "141/141 [==============================] - 2s 11ms/step - loss: 0.3475 - accuracy: 0.8389 - val_loss: 0.4735 - val_accuracy: 0.7796\n",
            "Epoch 38/100\n",
            "141/141 [==============================] - 2s 11ms/step - loss: 0.3494 - accuracy: 0.8436 - val_loss: 0.4734 - val_accuracy: 0.7813\n",
            "Epoch 39/100\n",
            "141/141 [==============================] - 2s 11ms/step - loss: 0.3507 - accuracy: 0.8382 - val_loss: 0.4726 - val_accuracy: 0.7813\n",
            "Epoch 40/100\n",
            "141/141 [==============================] - 2s 12ms/step - loss: 0.3434 - accuracy: 0.8469 - val_loss: 0.4742 - val_accuracy: 0.7813\n",
            "Epoch 41/100\n",
            "141/141 [==============================] - 2s 11ms/step - loss: 0.3558 - accuracy: 0.8340 - val_loss: 0.4745 - val_accuracy: 0.7804\n",
            "Epoch 42/100\n",
            "141/141 [==============================] - 2s 11ms/step - loss: 0.3439 - accuracy: 0.8433 - val_loss: 0.4713 - val_accuracy: 0.7822\n",
            "Epoch 43/100\n",
            "141/141 [==============================] - 2s 13ms/step - loss: 0.3489 - accuracy: 0.8413 - val_loss: 0.4735 - val_accuracy: 0.7813\n",
            "Epoch 44/100\n",
            "141/141 [==============================] - 2s 15ms/step - loss: 0.3420 - accuracy: 0.8464 - val_loss: 0.4732 - val_accuracy: 0.7813\n",
            "Epoch 45/100\n",
            "141/141 [==============================] - 2s 12ms/step - loss: 0.3486 - accuracy: 0.8440 - val_loss: 0.4736 - val_accuracy: 0.7849\n",
            "Epoch 46/100\n",
            "141/141 [==============================] - 2s 11ms/step - loss: 0.3566 - accuracy: 0.8356 - val_loss: 0.4719 - val_accuracy: 0.7804\n",
            "Epoch 47/100\n",
            "141/141 [==============================] - 2s 12ms/step - loss: 0.3447 - accuracy: 0.8456 - val_loss: 0.4730 - val_accuracy: 0.7796\n",
            "Epoch 48/100\n",
            "141/141 [==============================] - 2s 13ms/step - loss: 0.3529 - accuracy: 0.8393 - val_loss: 0.4720 - val_accuracy: 0.7822\n",
            "Epoch 49/100\n",
            "141/141 [==============================] - 2s 13ms/step - loss: 0.3454 - accuracy: 0.8413 - val_loss: 0.4733 - val_accuracy: 0.7796\n",
            "Epoch 50/100\n",
            "141/141 [==============================] - 2s 12ms/step - loss: 0.3500 - accuracy: 0.8393 - val_loss: 0.4739 - val_accuracy: 0.7787\n",
            "Epoch 51/100\n",
            "141/141 [==============================] - 2s 14ms/step - loss: 0.3510 - accuracy: 0.8384 - val_loss: 0.4731 - val_accuracy: 0.7796\n",
            "Epoch 52/100\n",
            "141/141 [==============================] - 2s 11ms/step - loss: 0.3476 - accuracy: 0.8376 - val_loss: 0.4725 - val_accuracy: 0.7849\n",
            "Epoch 53/100\n",
            "141/141 [==============================] - 2s 12ms/step - loss: 0.3411 - accuracy: 0.8427 - val_loss: 0.4714 - val_accuracy: 0.7831\n",
            "Epoch 54/100\n",
            "141/141 [==============================] - 2s 12ms/step - loss: 0.3435 - accuracy: 0.8438 - val_loss: 0.4738 - val_accuracy: 0.7804\n",
            "Epoch 55/100\n",
            "141/141 [==============================] - 2s 12ms/step - loss: 0.3464 - accuracy: 0.8391 - val_loss: 0.4746 - val_accuracy: 0.7822\n",
            "Epoch 56/100\n",
            "141/141 [==============================] - 2s 11ms/step - loss: 0.3517 - accuracy: 0.8373 - val_loss: 0.4746 - val_accuracy: 0.7813\n",
            "Epoch 57/100\n",
            "141/141 [==============================] - 2s 12ms/step - loss: 0.3494 - accuracy: 0.8391 - val_loss: 0.4736 - val_accuracy: 0.7822\n",
            "Epoch 58/100\n",
            "141/141 [==============================] - 2s 11ms/step - loss: 0.3496 - accuracy: 0.8407 - val_loss: 0.4733 - val_accuracy: 0.7804\n",
            "Epoch 59/100\n",
            "141/141 [==============================] - 2s 12ms/step - loss: 0.3467 - accuracy: 0.8404 - val_loss: 0.4735 - val_accuracy: 0.7822\n",
            "Epoch 60/100\n",
            "141/141 [==============================] - 2s 13ms/step - loss: 0.3499 - accuracy: 0.8331 - val_loss: 0.4732 - val_accuracy: 0.7804\n",
            "Epoch 61/100\n",
            "141/141 [==============================] - 2s 13ms/step - loss: 0.3472 - accuracy: 0.8404 - val_loss: 0.4727 - val_accuracy: 0.7822\n",
            "Epoch 62/100\n",
            "141/141 [==============================] - 2s 12ms/step - loss: 0.3463 - accuracy: 0.8398 - val_loss: 0.4750 - val_accuracy: 0.7831\n",
            "Epoch 63/100\n",
            "141/141 [==============================] - 2s 12ms/step - loss: 0.3419 - accuracy: 0.8442 - val_loss: 0.4747 - val_accuracy: 0.7822\n",
            "Epoch 64/100\n",
            "141/141 [==============================] - 2s 13ms/step - loss: 0.3467 - accuracy: 0.8413 - val_loss: 0.4754 - val_accuracy: 0.7831\n",
            "Epoch 65/100\n",
            "141/141 [==============================] - 2s 11ms/step - loss: 0.3484 - accuracy: 0.8380 - val_loss: 0.4754 - val_accuracy: 0.7804\n",
            "Epoch 66/100\n",
            "141/141 [==============================] - 2s 11ms/step - loss: 0.3455 - accuracy: 0.8424 - val_loss: 0.4768 - val_accuracy: 0.7804\n",
            "Epoch 67/100\n",
            "141/141 [==============================] - 2s 11ms/step - loss: 0.3465 - accuracy: 0.8398 - val_loss: 0.4764 - val_accuracy: 0.7813\n",
            "Epoch 68/100\n",
            "141/141 [==============================] - 2s 12ms/step - loss: 0.3491 - accuracy: 0.8409 - val_loss: 0.4772 - val_accuracy: 0.7796\n",
            "Epoch 69/100\n",
            "141/141 [==============================] - 2s 12ms/step - loss: 0.3426 - accuracy: 0.8447 - val_loss: 0.4759 - val_accuracy: 0.7813\n",
            "Epoch 70/100\n",
            "141/141 [==============================] - 2s 12ms/step - loss: 0.3452 - accuracy: 0.8418 - val_loss: 0.4763 - val_accuracy: 0.7804\n",
            "Epoch 71/100\n",
            "141/141 [==============================] - 2s 12ms/step - loss: 0.3496 - accuracy: 0.8380 - val_loss: 0.4771 - val_accuracy: 0.7787\n",
            "Epoch 72/100\n",
            "141/141 [==============================] - 2s 13ms/step - loss: 0.3477 - accuracy: 0.8436 - val_loss: 0.4770 - val_accuracy: 0.7813\n",
            "Epoch 73/100\n",
            "141/141 [==============================] - 2s 14ms/step - loss: 0.3426 - accuracy: 0.8420 - val_loss: 0.4774 - val_accuracy: 0.7804\n",
            "Epoch 74/100\n",
            "141/141 [==============================] - 2s 13ms/step - loss: 0.3512 - accuracy: 0.8402 - val_loss: 0.4765 - val_accuracy: 0.7787\n",
            "Epoch 75/100\n",
            "141/141 [==============================] - 2s 11ms/step - loss: 0.3453 - accuracy: 0.8436 - val_loss: 0.4754 - val_accuracy: 0.7813\n",
            "Epoch 76/100\n",
            "141/141 [==============================] - 2s 11ms/step - loss: 0.3516 - accuracy: 0.8382 - val_loss: 0.4751 - val_accuracy: 0.7796\n",
            "Epoch 77/100\n",
            "141/141 [==============================] - 2s 11ms/step - loss: 0.3479 - accuracy: 0.8400 - val_loss: 0.4766 - val_accuracy: 0.7822\n",
            "Epoch 78/100\n",
            "141/141 [==============================] - 2s 12ms/step - loss: 0.3489 - accuracy: 0.8400 - val_loss: 0.4756 - val_accuracy: 0.7822\n",
            "Epoch 79/100\n",
            "141/141 [==============================] - 2s 14ms/step - loss: 0.3432 - accuracy: 0.8442 - val_loss: 0.4768 - val_accuracy: 0.7804\n",
            "Epoch 80/100\n",
            "141/141 [==============================] - 2s 11ms/step - loss: 0.3459 - accuracy: 0.8398 - val_loss: 0.4767 - val_accuracy: 0.7787\n",
            "Epoch 81/100\n",
            "141/141 [==============================] - 2s 13ms/step - loss: 0.3449 - accuracy: 0.8409 - val_loss: 0.4755 - val_accuracy: 0.7840\n",
            "Epoch 82/100\n",
            "141/141 [==============================] - 2s 11ms/step - loss: 0.3478 - accuracy: 0.8409 - val_loss: 0.4751 - val_accuracy: 0.7813\n",
            "Epoch 83/100\n",
            "141/141 [==============================] - 2s 11ms/step - loss: 0.3505 - accuracy: 0.8429 - val_loss: 0.4755 - val_accuracy: 0.7796\n",
            "Epoch 84/100\n",
            "141/141 [==============================] - 2s 13ms/step - loss: 0.3475 - accuracy: 0.8369 - val_loss: 0.4771 - val_accuracy: 0.7804\n",
            "Epoch 85/100\n",
            "141/141 [==============================] - 2s 12ms/step - loss: 0.3470 - accuracy: 0.8384 - val_loss: 0.4768 - val_accuracy: 0.7813\n",
            "Epoch 86/100\n",
            "141/141 [==============================] - 2s 12ms/step - loss: 0.3472 - accuracy: 0.8382 - val_loss: 0.4762 - val_accuracy: 0.7822\n",
            "Epoch 87/100\n",
            "141/141 [==============================] - 2s 12ms/step - loss: 0.3420 - accuracy: 0.8429 - val_loss: 0.4774 - val_accuracy: 0.7804\n",
            "Epoch 88/100\n",
            "141/141 [==============================] - 2s 12ms/step - loss: 0.3416 - accuracy: 0.8396 - val_loss: 0.4766 - val_accuracy: 0.7840\n",
            "Epoch 89/100\n",
            "141/141 [==============================] - 2s 12ms/step - loss: 0.3445 - accuracy: 0.8413 - val_loss: 0.4767 - val_accuracy: 0.7822\n",
            "Epoch 90/100\n",
            "141/141 [==============================] - 2s 12ms/step - loss: 0.3493 - accuracy: 0.8360 - val_loss: 0.4764 - val_accuracy: 0.7813\n",
            "Epoch 91/100\n",
            "141/141 [==============================] - 2s 12ms/step - loss: 0.3483 - accuracy: 0.8431 - val_loss: 0.4768 - val_accuracy: 0.7804\n",
            "Epoch 92/100\n",
            "141/141 [==============================] - 2s 12ms/step - loss: 0.3518 - accuracy: 0.8376 - val_loss: 0.4749 - val_accuracy: 0.7813\n",
            "Epoch 93/100\n",
            "141/141 [==============================] - 2s 12ms/step - loss: 0.3422 - accuracy: 0.8429 - val_loss: 0.4756 - val_accuracy: 0.7822\n",
            "Epoch 94/100\n",
            "141/141 [==============================] - 2s 11ms/step - loss: 0.3520 - accuracy: 0.8427 - val_loss: 0.4742 - val_accuracy: 0.7796\n",
            "Epoch 95/100\n",
            "141/141 [==============================] - 2s 14ms/step - loss: 0.3491 - accuracy: 0.8404 - val_loss: 0.4750 - val_accuracy: 0.7804\n",
            "Epoch 96/100\n",
            "141/141 [==============================] - 2s 12ms/step - loss: 0.3460 - accuracy: 0.8440 - val_loss: 0.4744 - val_accuracy: 0.7796\n",
            "Epoch 97/100\n",
            "141/141 [==============================] - 2s 12ms/step - loss: 0.3464 - accuracy: 0.8444 - val_loss: 0.4758 - val_accuracy: 0.7796\n",
            "Epoch 98/100\n",
            "141/141 [==============================] - 2s 13ms/step - loss: 0.3429 - accuracy: 0.8462 - val_loss: 0.4763 - val_accuracy: 0.7804\n",
            "Epoch 99/100\n",
            "141/141 [==============================] - 2s 13ms/step - loss: 0.3460 - accuracy: 0.8447 - val_loss: 0.4757 - val_accuracy: 0.7778\n",
            "Epoch 100/100\n",
            "141/141 [==============================] - 2s 12ms/step - loss: 0.3446 - accuracy: 0.8409 - val_loss: 0.4766 - val_accuracy: 0.7796\n"
          ]
        }
      ]
    },
    {
      "cell_type": "code",
      "source": [
        "for opt in ['adam', 'nadam', 'adamax']:\n",
        "  results[opt][['loss', 'val_loss', 'accuracy', 'val_accuracy']].plot()\n",
        "  plt.title(opt)\n",
        "  plt.show()"
      ],
      "metadata": {
        "id": "4LfmnaoBllqM",
        "colab": {
          "base_uri": "https://localhost:8080/",
          "height": 809
        },
        "outputId": "d3a4b19e-e48b-43fa-c8f9-64f95567d04b"
      },
      "execution_count": 99,
      "outputs": [
        {
          "output_type": "display_data",
          "data": {
            "image/png": "[encoded data removed]",
            "text/plain": [
              "<Figure size 432x288 with 1 Axes>"
            ]
          },
          "metadata": {
            "needs_background": "light"
          }
        },
        {
          "output_type": "display_data",
          "data": {
            "image/png": "[encoded data removed]",
            "text/plain": [
              "<Figure size 432x288 with 1 Axes>"
            ]
          },
          "metadata": {
            "needs_background": "light"
          }
        },
        {
          "output_type": "display_data",
          "data": {
            "image/png": "[encoded data removed]",
            "text/plain": [
              "<Figure size 432x288 with 1 Axes>"
            ]
          },
          "metadata": {
            "needs_background": "light"
          }
        }
      ]
    },
    {
      "cell_type": "markdown",
      "source": [
        "Dilihat dari ketiga grafik tersebut, optimizer cukup mempengaruhi hasil akurasi dan loss, meskipun tidak begitu jauh berbeda. Dari ketiga optimizer, optimizer \"adam\" menunjukkan hasil yang lebih baik.\n",
        "Coba kita lihat _classification report_-nya."
      ],
      "metadata": {
        "id": "xPBb46mkBI7R"
      }
    },
    {
      "cell_type": "code",
      "source": [
        "yval_pred = f_model.predict(val_ds)\n",
        "y_pred = []\n",
        "for element in yval_pred:\n",
        "    if element > 0.5:\n",
        "        y_pred.append(1)\n",
        "    else:\n",
        "        y_pred.append(0)"
      ],
      "metadata": {
        "id": "urPz_kWp8zix"
      },
      "execution_count": 106,
      "outputs": []
    },
    {
      "cell_type": "code",
      "source": [
        "print(classification_report(y_val, y_pred))"
      ],
      "metadata": {
        "colab": {
          "base_uri": "https://localhost:8080/"
        },
        "id": "u_H-2zjy9Fz6",
        "outputId": "31eb193f-7672-49c9-fff3-974de999f0a2"
      },
      "execution_count": 107,
      "outputs": [
        {
          "output_type": "stream",
          "name": "stdout",
          "text": [
            "              precision    recall  f1-score   support\n",
            "\n",
            "           0       0.82      0.89      0.85       805\n",
            "           1       0.64      0.51      0.57       320\n",
            "\n",
            "    accuracy                           0.78      1125\n",
            "   macro avg       0.73      0.70      0.71      1125\n",
            "weighted avg       0.77      0.78      0.77      1125\n",
            "\n"
          ]
        }
      ]
    },
    {
      "cell_type": "markdown",
      "source": [
        "Hasilnya menunjukkan akurasi mencapai 78 persen."
      ],
      "metadata": {
        "id": "lFlqADp1AsCm"
      }
    },
    {
      "cell_type": "markdown",
      "source": [
        "## Model Saving"
      ],
      "metadata": {
        "id": "PQEKJ0PIcqDj"
      }
    },
    {
      "cell_type": "code",
      "source": [
        "# membuat pickle untuk website\n",
        "with open('telco_modelANN.pkl', 'wb') as model_file:\n",
        "    pickle.dump(f_model, model_file)"
      ],
      "metadata": {
        "id": "j3GYQcLPcmXr",
        "colab": {
          "base_uri": "https://localhost:8080/"
        },
        "outputId": "26ee9257-63be-4c6e-e9fd-333d97af38d2"
      },
      "execution_count": 95,
      "outputs": [
        {
          "output_type": "stream",
          "name": "stdout",
          "text": [
            "INFO:tensorflow:Assets written to: ram://d1535c2d-ce81-4db3-bc35-3ecab21f0bdd/assets\n"
          ]
        }
      ]
    },
    {
      "cell_type": "markdown",
      "source": [
        "## Model Inference"
      ],
      "metadata": {
        "id": "uggl7WF0dK_3"
      }
    },
    {
      "cell_type": "code",
      "source": [
        "ytest_pred = f_model.predict(test_ds)\n",
        "y_pred = []\n",
        "for element in ytest_pred:\n",
        "    if element > 0.5:\n",
        "        y_pred.append(1)\n",
        "    else:\n",
        "        y_pred.append(0)"
      ],
      "metadata": {
        "id": "zRv9GFzAdKqf"
      },
      "execution_count": 110,
      "outputs": []
    },
    {
      "cell_type": "code",
      "source": [
        "print(classification_report(y_test, y_pred))"
      ],
      "metadata": {
        "colab": {
          "base_uri": "https://localhost:8080/"
        },
        "id": "jVgoggZf9bMI",
        "outputId": "e5cf7b55-f153-489f-b6ea-93cca7d097eb"
      },
      "execution_count": 111,
      "outputs": [
        {
          "output_type": "stream",
          "name": "stdout",
          "text": [
            "              precision    recall  f1-score   support\n",
            "\n",
            "           0       0.84      0.88      0.86      1051\n",
            "           1       0.58      0.51      0.54       356\n",
            "\n",
            "    accuracy                           0.78      1407\n",
            "   macro avg       0.71      0.69      0.70      1407\n",
            "weighted avg       0.78      0.78      0.78      1407\n",
            "\n"
          ]
        }
      ]
    },
    {
      "cell_type": "markdown",
      "source": [
        "Hasilnya menunjukkan akurasi mencapai 78 persen. Tidak jauh berbeda dengan hasil pada validation."
      ],
      "metadata": {
        "id": "9goNL7ZsBgnP"
      }
    },
    {
      "cell_type": "markdown",
      "source": [
        "## Kesimpulan\n",
        "\n",
        "- Berikut ini beberapa karakterisik pelanggan yang hilang.\n",
        "  - Pelanggan yang belum berkeluarga atau pelanggan lanjut usia.\n",
        "  - Pelanggan yang memiliki kendala saat menikmati layanan telco, terutama layanan internet fiber optik. Pelanggan tidak menggunakan layanan _online security_, _device protection_, atau _tech support_ padahal layanan ini dapat membantu kendala teknis dari telco.\n",
        "  - Pelanggan yang membayar atau mengontrak dari bulan ke bulan. Pelanggan ini memiliki banyak alasan, seperti pelanggan baru yang sedang mencoba layanan telco, kemampuan finansial tidak lagi cukup, ada kendala di bulan tersebut, atau sebab lainnya.\n",
        "  - Banyak pelanggan yang hilang adalah pelanggan yang tidak menggunakan tagihan kertas, atau pelanggan yang membayar dengan cek elektronik. Saya hanya bisa menduga, mungkin ada kendala teknis atau birokrasi yang menyulitkan.\n",
        "- Saran untuk perusahaan Telco:\n",
        "  - Sebagian besar fitur mengindikasikan bahwa pelanggan yang hilang adalah pelanggan baru, maka sebaiknya fokus promosi Telco kepada pelanggan baru untuk meningkatkan retensi pelanggan baru. Salah satu contohnya seperti memberi diskon atau bonus jika melakukan pembelian untuk bulan berikutnya.\n",
        "- Model dengan perubahan arsitektur seperti penambahan dropout, penetapan kernel_initializer, dan optimizer dapat mempengaruhi nilai akurasi antara data train dan validasi. Meskipun, nilai loss tidak jauh berbeda.\n"
      ],
      "metadata": {
        "id": "2oS_tmWkdSzV"
      }
    }
  ]
}