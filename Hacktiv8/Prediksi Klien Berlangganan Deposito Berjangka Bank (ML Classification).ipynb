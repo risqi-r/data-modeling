{
 "cells": [
  {
   "cell_type": "markdown",
   "metadata": {},
   "source": [
    "# Milestone 1\n",
    "\n",
    "Milestone ini dibuat guna mengevaluasi pembelajaran pada Hacktiv8 Data Science Fulltime Program khususnya pada Phase 1 dalam konsep Supervised Learning.\n",
    "\n",
    "Milestone ini dibuat oleh Risqi Rahmatullah 007\n",
    "\n",
    "## Description\n",
    "\n",
    "### Data Description\n",
    "The data is related with direct marketing campaigns of a Portuguese banking institution. The marketing campaigns were based on phone calls. Often, more than one contact to the same client was required, in order to access if the product (bank term deposit) would be ('yes') or not ('no') subscribed.\n",
    "\n",
    "**Input variables:**\n",
    "- **bank client data:**\n",
    "    - age (numeric)\n",
    "    - job : type of job (categorical: 'admin.','blue-collar','entrepreneur','housemaid','management','retired','self-employed','services','student','technician','unemployed','unknown')\n",
    "    - marital : marital status (categorical: 'divorced','married','single','unknown'; note: 'divorced' means divorced or widowed)\n",
    "    - education (categorical: 'basic.4y','basic.6y','basic.9y','high.school','illiterate','professional.course','university.degree','unknown')\n",
    "    - default: has credit in default? (categorical: 'no','yes','unknown')\n",
    "    - housing: has housing loan? (categorical: 'no','yes','unknown')\n",
    "    - loan: has personal loan? (categorical: 'no','yes','unknown')\n",
    "\n",
    "- **related with the last contact of the current campaign:**\n",
    "    - contact: contact communication type (categorical: 'cellular','telephone')\n",
    "    - month: last contact month of year (categorical: 'jan', 'feb', 'mar', ..., 'nov', 'dec')\n",
    "    - day_of_week: last contact day of the week (categorical: 'mon','tue','wed','thu','fri')\n",
    "    - duration: last contact duration, in seconds (numeric). Important note: this attribute highly affects the output target (e.g., if duration=0 then y='no'). Yet, the duration is not known before a call is performed. Also, after the end of the call y is obviously known. Thus, this input should only be included for benchmark purposes and should be discarded if the intention is to have a realistic predictive model.\n",
    "\n",
    "- **other attributes:**\n",
    "    - campaign: number of contacts performed during this campaign and for this client (numeric, includes last contact)\n",
    "    - pdays: number of days that passed by after the client was last contacted from a previous campaign (numeric; 999 means client was not previously contacted)\n",
    "    - previous: number of contacts performed before this campaign and for this client (numeric)\n",
    "    - poutcome: outcome of the previous marketing campaign (categorical: 'failure','nonexistent','success')\n",
    "\n",
    "- **social and economic context attributes**\n",
    "    - emp.var.rate: employment variation rate - quarterly indicator (numeric)\n",
    "    - cons.price.idx: consumer price index - monthly indicator (numeric)\n",
    "    - cons.conf.idx: consumer confidence index - monthly indicator (numeric)\n",
    "    - euribor3m: euribor 3 month rate - daily indicator (numeric)\n",
    "    - nr.employed: number of employees - quarterly indicator (numeric)\n",
    "\n",
    "**Output variable (desired target):**\n",
    "- y - has the client subscribed a term deposit? (binary: 'yes','no')\n",
    "\n",
    "Sumber: [Moro et al., 2014] S. Moro, P. Cortez and P. Rita. A Data-Driven Approach to Predict the Success of Bank Telemarketing. Decision Support Systems, Elsevier, 62:22-31, June 2014\n",
    "\n",
    "## Sasaran Tugas\n",
    "Milestones 1 ini dibuat guna mengevaluasi Pembelajaran Phase 1 dalam konsep Supervised Learning sebagai berikut:\n",
    "\n",
    "- Mampu memahami konsep supervised learning\n",
    "- Mampu mempersiapkan data untuk digunakan dalam model supervised learning\n",
    "- Mampu mengimplementasikan supervised learning dengan data yang diberikan\n",
    "- Mampu melakukan evaluasi model\n",
    "- Mampu melakukan model tuning"
   ]
  },
  {
   "cell_type": "markdown",
   "metadata": {},
   "source": [
    "## Libraries"
   ]
  },
  {
   "cell_type": "code",
   "execution_count": 2,
   "metadata": {},
   "outputs": [],
   "source": [
    "import pandas as pd\n",
    "import numpy as np\n",
    "import matplotlib.pyplot as plt\n",
    "import seaborn as sns\n",
    "from sklearn.model_selection import train_test_split, cross_val_score, GridSearchCV\n",
    "from feature_engine.outliers import Winsorizer\n",
    "from sklearn.preprocessing import MinMaxScaler, OneHotEncoder, LabelEncoder\n",
    "from sklearn.pipeline import Pipeline\n",
    "from sklearn.compose import ColumnTransformer\n",
    "from sklearn.linear_model import LogisticRegression\n",
    "from sklearn.svm import SVC\n",
    "from sklearn.neighbors import KNeighborsClassifier\n",
    "from sklearn.tree import DecisionTreeClassifier\n",
    "from sklearn.ensemble import RandomForestClassifier, GradientBoostingClassifier, AdaBoostClassifier\n",
    "from sklearn.naive_bayes import GaussianNB\n",
    "from sklearn.metrics import confusion_matrix, accuracy_score, classification_report\n",
    "from sklearn.metrics import f1_score, precision_score, recall_score, roc_auc_score, roc_curve"
   ]
  },
  {
   "cell_type": "markdown",
   "metadata": {},
   "source": [
    "## Pemuatan Data"
   ]
  },
  {
   "cell_type": "code",
   "execution_count": 3,
   "metadata": {},
   "outputs": [
    {
     "data": {
      "text/html": [
       "<div>\n",
       "<style scoped>\n",
       "    .dataframe tbody tr th:only-of-type {\n",
       "        vertical-align: middle;\n",
       "    }\n",
       "\n",
       "    .dataframe tbody tr th {\n",
       "        vertical-align: top;\n",
       "    }\n",
       "\n",
       "    .dataframe thead th {\n",
       "        text-align: right;\n",
       "    }\n",
       "</style>\n",
       "<table border=\"1\" class=\"dataframe\">\n",
       "  <thead>\n",
       "    <tr style=\"text-align: right;\">\n",
       "      <th></th>\n",
       "      <th>age</th>\n",
       "      <th>job</th>\n",
       "      <th>marital</th>\n",
       "      <th>education</th>\n",
       "      <th>default</th>\n",
       "      <th>housing</th>\n",
       "      <th>loan</th>\n",
       "      <th>contact</th>\n",
       "      <th>month</th>\n",
       "      <th>day_of_week</th>\n",
       "      <th>...</th>\n",
       "      <th>campaign</th>\n",
       "      <th>pdays</th>\n",
       "      <th>previous</th>\n",
       "      <th>poutcome</th>\n",
       "      <th>emp.var.rate</th>\n",
       "      <th>cons.price.idx</th>\n",
       "      <th>cons.conf.idx</th>\n",
       "      <th>euribor3m</th>\n",
       "      <th>nr.employed</th>\n",
       "      <th>y</th>\n",
       "    </tr>\n",
       "  </thead>\n",
       "  <tbody>\n",
       "    <tr>\n",
       "      <th>0</th>\n",
       "      <td>56</td>\n",
       "      <td>housemaid</td>\n",
       "      <td>married</td>\n",
       "      <td>basic.4y</td>\n",
       "      <td>no</td>\n",
       "      <td>no</td>\n",
       "      <td>no</td>\n",
       "      <td>telephone</td>\n",
       "      <td>may</td>\n",
       "      <td>mon</td>\n",
       "      <td>...</td>\n",
       "      <td>1</td>\n",
       "      <td>999</td>\n",
       "      <td>0</td>\n",
       "      <td>nonexistent</td>\n",
       "      <td>1.1</td>\n",
       "      <td>93.994</td>\n",
       "      <td>-36.4</td>\n",
       "      <td>4.857</td>\n",
       "      <td>5191.0</td>\n",
       "      <td>no</td>\n",
       "    </tr>\n",
       "    <tr>\n",
       "      <th>1</th>\n",
       "      <td>57</td>\n",
       "      <td>services</td>\n",
       "      <td>married</td>\n",
       "      <td>high.school</td>\n",
       "      <td>unknown</td>\n",
       "      <td>no</td>\n",
       "      <td>no</td>\n",
       "      <td>telephone</td>\n",
       "      <td>may</td>\n",
       "      <td>mon</td>\n",
       "      <td>...</td>\n",
       "      <td>1</td>\n",
       "      <td>999</td>\n",
       "      <td>0</td>\n",
       "      <td>nonexistent</td>\n",
       "      <td>1.1</td>\n",
       "      <td>93.994</td>\n",
       "      <td>-36.4</td>\n",
       "      <td>4.857</td>\n",
       "      <td>5191.0</td>\n",
       "      <td>no</td>\n",
       "    </tr>\n",
       "    <tr>\n",
       "      <th>2</th>\n",
       "      <td>37</td>\n",
       "      <td>services</td>\n",
       "      <td>married</td>\n",
       "      <td>high.school</td>\n",
       "      <td>no</td>\n",
       "      <td>yes</td>\n",
       "      <td>no</td>\n",
       "      <td>telephone</td>\n",
       "      <td>may</td>\n",
       "      <td>mon</td>\n",
       "      <td>...</td>\n",
       "      <td>1</td>\n",
       "      <td>999</td>\n",
       "      <td>0</td>\n",
       "      <td>nonexistent</td>\n",
       "      <td>1.1</td>\n",
       "      <td>93.994</td>\n",
       "      <td>-36.4</td>\n",
       "      <td>4.857</td>\n",
       "      <td>5191.0</td>\n",
       "      <td>no</td>\n",
       "    </tr>\n",
       "    <tr>\n",
       "      <th>3</th>\n",
       "      <td>40</td>\n",
       "      <td>admin.</td>\n",
       "      <td>married</td>\n",
       "      <td>basic.6y</td>\n",
       "      <td>no</td>\n",
       "      <td>no</td>\n",
       "      <td>no</td>\n",
       "      <td>telephone</td>\n",
       "      <td>may</td>\n",
       "      <td>mon</td>\n",
       "      <td>...</td>\n",
       "      <td>1</td>\n",
       "      <td>999</td>\n",
       "      <td>0</td>\n",
       "      <td>nonexistent</td>\n",
       "      <td>1.1</td>\n",
       "      <td>93.994</td>\n",
       "      <td>-36.4</td>\n",
       "      <td>4.857</td>\n",
       "      <td>5191.0</td>\n",
       "      <td>no</td>\n",
       "    </tr>\n",
       "    <tr>\n",
       "      <th>4</th>\n",
       "      <td>56</td>\n",
       "      <td>services</td>\n",
       "      <td>married</td>\n",
       "      <td>high.school</td>\n",
       "      <td>no</td>\n",
       "      <td>no</td>\n",
       "      <td>yes</td>\n",
       "      <td>telephone</td>\n",
       "      <td>may</td>\n",
       "      <td>mon</td>\n",
       "      <td>...</td>\n",
       "      <td>1</td>\n",
       "      <td>999</td>\n",
       "      <td>0</td>\n",
       "      <td>nonexistent</td>\n",
       "      <td>1.1</td>\n",
       "      <td>93.994</td>\n",
       "      <td>-36.4</td>\n",
       "      <td>4.857</td>\n",
       "      <td>5191.0</td>\n",
       "      <td>no</td>\n",
       "    </tr>\n",
       "  </tbody>\n",
       "</table>\n",
       "<p>5 rows × 21 columns</p>\n",
       "</div>"
      ],
      "text/plain": [
       "   age        job  marital    education  default housing loan    contact  \\\n",
       "0   56  housemaid  married     basic.4y       no      no   no  telephone   \n",
       "1   57   services  married  high.school  unknown      no   no  telephone   \n",
       "2   37   services  married  high.school       no     yes   no  telephone   \n",
       "3   40     admin.  married     basic.6y       no      no   no  telephone   \n",
       "4   56   services  married  high.school       no      no  yes  telephone   \n",
       "\n",
       "  month day_of_week  ...  campaign  pdays  previous     poutcome emp.var.rate  \\\n",
       "0   may         mon  ...         1    999         0  nonexistent          1.1   \n",
       "1   may         mon  ...         1    999         0  nonexistent          1.1   \n",
       "2   may         mon  ...         1    999         0  nonexistent          1.1   \n",
       "3   may         mon  ...         1    999         0  nonexistent          1.1   \n",
       "4   may         mon  ...         1    999         0  nonexistent          1.1   \n",
       "\n",
       "   cons.price.idx  cons.conf.idx  euribor3m  nr.employed   y  \n",
       "0          93.994          -36.4      4.857       5191.0  no  \n",
       "1          93.994          -36.4      4.857       5191.0  no  \n",
       "2          93.994          -36.4      4.857       5191.0  no  \n",
       "3          93.994          -36.4      4.857       5191.0  no  \n",
       "4          93.994          -36.4      4.857       5191.0  no  \n",
       "\n",
       "[5 rows x 21 columns]"
      ]
     },
     "execution_count": 3,
     "metadata": {},
     "output_type": "execute_result"
    }
   ],
   "source": [
    "bank = pd.read_csv('bank-additional/bank-additional-full.csv', sep=';')\n",
    "bank.head()"
   ]
  },
  {
   "cell_type": "code",
   "execution_count": 4,
   "metadata": {},
   "outputs": [
    {
     "name": "stdout",
     "output_type": "stream",
     "text": [
      "<class 'pandas.core.frame.DataFrame'>\n",
      "RangeIndex: 41188 entries, 0 to 41187\n",
      "Data columns (total 21 columns):\n",
      " #   Column          Non-Null Count  Dtype  \n",
      "---  ------          --------------  -----  \n",
      " 0   age             41188 non-null  int64  \n",
      " 1   job             41188 non-null  object \n",
      " 2   marital         41188 non-null  object \n",
      " 3   education       41188 non-null  object \n",
      " 4   default         41188 non-null  object \n",
      " 5   housing         41188 non-null  object \n",
      " 6   loan            41188 non-null  object \n",
      " 7   contact         41188 non-null  object \n",
      " 8   month           41188 non-null  object \n",
      " 9   day_of_week     41188 non-null  object \n",
      " 10  duration        41188 non-null  int64  \n",
      " 11  campaign        41188 non-null  int64  \n",
      " 12  pdays           41188 non-null  int64  \n",
      " 13  previous        41188 non-null  int64  \n",
      " 14  poutcome        41188 non-null  object \n",
      " 15  emp.var.rate    41188 non-null  float64\n",
      " 16  cons.price.idx  41188 non-null  float64\n",
      " 17  cons.conf.idx   41188 non-null  float64\n",
      " 18  euribor3m       41188 non-null  float64\n",
      " 19  nr.employed     41188 non-null  float64\n",
      " 20  y               41188 non-null  object \n",
      "dtypes: float64(5), int64(5), object(11)\n",
      "memory usage: 6.6+ MB\n"
     ]
    }
   ],
   "source": [
    "bank.info()"
   ]
  },
  {
   "cell_type": "markdown",
   "metadata": {},
   "source": [
    "## Pembersihan Data"
   ]
  },
  {
   "cell_type": "markdown",
   "metadata": {},
   "source": [
    "Ada nama kolom yang mengandung tanda titik. Sebaiknya, ini diganti dengan garis bawah agar memudahkan saat _coding_."
   ]
  },
  {
   "cell_type": "code",
   "execution_count": 5,
   "metadata": {},
   "outputs": [
    {
     "data": {
      "text/plain": [
       "Index(['age', 'job', 'marital', 'education', 'default', 'housing', 'loan',\n",
       "       'contact', 'month', 'day_of_week', 'duration', 'campaign', 'pdays',\n",
       "       'previous', 'poutcome', 'emp_var_rate', 'cons_price_idx',\n",
       "       'cons_conf_idx', 'euribor3m', 'nr_employed', 'y'],\n",
       "      dtype='object')"
      ]
     },
     "execution_count": 5,
     "metadata": {},
     "output_type": "execute_result"
    }
   ],
   "source": [
    "# mengganti nama kolom\n",
    "bank.columns = bank.columns.str.replace(\".\", \"_\", regex=False)\n",
    "bank.columns"
   ]
  },
  {
   "cell_type": "markdown",
   "metadata": {},
   "source": [
    "Berdasarkan informasi sumber data untuk menghilangkan kolom 'duration' saat data ini digunakan untuk model."
   ]
  },
  {
   "cell_type": "code",
   "execution_count": 6,
   "metadata": {},
   "outputs": [],
   "source": [
    "# menghapus kolom\n",
    "bank.drop(['duration'], axis=1, inplace=True)"
   ]
  },
  {
   "cell_type": "code",
   "execution_count": 7,
   "metadata": {},
   "outputs": [
    {
     "data": {
      "text/plain": [
       "age               0\n",
       "job               0\n",
       "marital           0\n",
       "education         0\n",
       "default           0\n",
       "housing           0\n",
       "loan              0\n",
       "contact           0\n",
       "month             0\n",
       "day_of_week       0\n",
       "campaign          0\n",
       "pdays             0\n",
       "previous          0\n",
       "poutcome          0\n",
       "emp_var_rate      0\n",
       "cons_price_idx    0\n",
       "cons_conf_idx     0\n",
       "euribor3m         0\n",
       "nr_employed       0\n",
       "y                 0\n",
       "dtype: int64"
      ]
     },
     "execution_count": 7,
     "metadata": {},
     "output_type": "execute_result"
    }
   ],
   "source": [
    "# cek nilai yang hilang\n",
    "bank.isna().sum()"
   ]
  },
  {
   "cell_type": "markdown",
   "metadata": {},
   "source": [
    "Tidak ada nilai yang hilang pada data."
   ]
  },
  {
   "cell_type": "markdown",
   "metadata": {},
   "source": [
    "## Eksplorasi Data"
   ]
  },
  {
   "cell_type": "code",
   "execution_count": 8,
   "metadata": {},
   "outputs": [
    {
     "data": {
      "text/html": [
       "<div>\n",
       "<style scoped>\n",
       "    .dataframe tbody tr th:only-of-type {\n",
       "        vertical-align: middle;\n",
       "    }\n",
       "\n",
       "    .dataframe tbody tr th {\n",
       "        vertical-align: top;\n",
       "    }\n",
       "\n",
       "    .dataframe thead th {\n",
       "        text-align: right;\n",
       "    }\n",
       "</style>\n",
       "<table border=\"1\" class=\"dataframe\">\n",
       "  <thead>\n",
       "    <tr style=\"text-align: right;\">\n",
       "      <th></th>\n",
       "      <th>age</th>\n",
       "      <th>campaign</th>\n",
       "      <th>pdays</th>\n",
       "      <th>previous</th>\n",
       "      <th>emp_var_rate</th>\n",
       "      <th>cons_price_idx</th>\n",
       "      <th>cons_conf_idx</th>\n",
       "      <th>euribor3m</th>\n",
       "      <th>nr_employed</th>\n",
       "    </tr>\n",
       "  </thead>\n",
       "  <tbody>\n",
       "    <tr>\n",
       "      <th>count</th>\n",
       "      <td>41188.00000</td>\n",
       "      <td>41188.000000</td>\n",
       "      <td>41188.000000</td>\n",
       "      <td>41188.000000</td>\n",
       "      <td>41188.000000</td>\n",
       "      <td>41188.000000</td>\n",
       "      <td>41188.000000</td>\n",
       "      <td>41188.000000</td>\n",
       "      <td>41188.000000</td>\n",
       "    </tr>\n",
       "    <tr>\n",
       "      <th>mean</th>\n",
       "      <td>40.02406</td>\n",
       "      <td>2.567593</td>\n",
       "      <td>962.475454</td>\n",
       "      <td>0.172963</td>\n",
       "      <td>0.081886</td>\n",
       "      <td>93.575664</td>\n",
       "      <td>-40.502600</td>\n",
       "      <td>3.621291</td>\n",
       "      <td>5167.035911</td>\n",
       "    </tr>\n",
       "    <tr>\n",
       "      <th>std</th>\n",
       "      <td>10.42125</td>\n",
       "      <td>2.770014</td>\n",
       "      <td>186.910907</td>\n",
       "      <td>0.494901</td>\n",
       "      <td>1.570960</td>\n",
       "      <td>0.578840</td>\n",
       "      <td>4.628198</td>\n",
       "      <td>1.734447</td>\n",
       "      <td>72.251528</td>\n",
       "    </tr>\n",
       "    <tr>\n",
       "      <th>min</th>\n",
       "      <td>17.00000</td>\n",
       "      <td>1.000000</td>\n",
       "      <td>0.000000</td>\n",
       "      <td>0.000000</td>\n",
       "      <td>-3.400000</td>\n",
       "      <td>92.201000</td>\n",
       "      <td>-50.800000</td>\n",
       "      <td>0.634000</td>\n",
       "      <td>4963.600000</td>\n",
       "    </tr>\n",
       "    <tr>\n",
       "      <th>25%</th>\n",
       "      <td>32.00000</td>\n",
       "      <td>1.000000</td>\n",
       "      <td>999.000000</td>\n",
       "      <td>0.000000</td>\n",
       "      <td>-1.800000</td>\n",
       "      <td>93.075000</td>\n",
       "      <td>-42.700000</td>\n",
       "      <td>1.344000</td>\n",
       "      <td>5099.100000</td>\n",
       "    </tr>\n",
       "    <tr>\n",
       "      <th>50%</th>\n",
       "      <td>38.00000</td>\n",
       "      <td>2.000000</td>\n",
       "      <td>999.000000</td>\n",
       "      <td>0.000000</td>\n",
       "      <td>1.100000</td>\n",
       "      <td>93.749000</td>\n",
       "      <td>-41.800000</td>\n",
       "      <td>4.857000</td>\n",
       "      <td>5191.000000</td>\n",
       "    </tr>\n",
       "    <tr>\n",
       "      <th>75%</th>\n",
       "      <td>47.00000</td>\n",
       "      <td>3.000000</td>\n",
       "      <td>999.000000</td>\n",
       "      <td>0.000000</td>\n",
       "      <td>1.400000</td>\n",
       "      <td>93.994000</td>\n",
       "      <td>-36.400000</td>\n",
       "      <td>4.961000</td>\n",
       "      <td>5228.100000</td>\n",
       "    </tr>\n",
       "    <tr>\n",
       "      <th>max</th>\n",
       "      <td>98.00000</td>\n",
       "      <td>56.000000</td>\n",
       "      <td>999.000000</td>\n",
       "      <td>7.000000</td>\n",
       "      <td>1.400000</td>\n",
       "      <td>94.767000</td>\n",
       "      <td>-26.900000</td>\n",
       "      <td>5.045000</td>\n",
       "      <td>5228.100000</td>\n",
       "    </tr>\n",
       "  </tbody>\n",
       "</table>\n",
       "</div>"
      ],
      "text/plain": [
       "               age      campaign         pdays      previous  emp_var_rate  \\\n",
       "count  41188.00000  41188.000000  41188.000000  41188.000000  41188.000000   \n",
       "mean      40.02406      2.567593    962.475454      0.172963      0.081886   \n",
       "std       10.42125      2.770014    186.910907      0.494901      1.570960   \n",
       "min       17.00000      1.000000      0.000000      0.000000     -3.400000   \n",
       "25%       32.00000      1.000000    999.000000      0.000000     -1.800000   \n",
       "50%       38.00000      2.000000    999.000000      0.000000      1.100000   \n",
       "75%       47.00000      3.000000    999.000000      0.000000      1.400000   \n",
       "max       98.00000     56.000000    999.000000      7.000000      1.400000   \n",
       "\n",
       "       cons_price_idx  cons_conf_idx     euribor3m   nr_employed  \n",
       "count    41188.000000   41188.000000  41188.000000  41188.000000  \n",
       "mean        93.575664     -40.502600      3.621291   5167.035911  \n",
       "std          0.578840       4.628198      1.734447     72.251528  \n",
       "min         92.201000     -50.800000      0.634000   4963.600000  \n",
       "25%         93.075000     -42.700000      1.344000   5099.100000  \n",
       "50%         93.749000     -41.800000      4.857000   5191.000000  \n",
       "75%         93.994000     -36.400000      4.961000   5228.100000  \n",
       "max         94.767000     -26.900000      5.045000   5228.100000  "
      ]
     },
     "execution_count": 8,
     "metadata": {},
     "output_type": "execute_result"
    }
   ],
   "source": [
    "bank.describe()"
   ]
  },
  {
   "cell_type": "code",
   "execution_count": 9,
   "metadata": {
    "scrolled": true
   },
   "outputs": [
    {
     "data": {
      "text/html": [
       "<div>\n",
       "<style scoped>\n",
       "    .dataframe tbody tr th:only-of-type {\n",
       "        vertical-align: middle;\n",
       "    }\n",
       "\n",
       "    .dataframe tbody tr th {\n",
       "        vertical-align: top;\n",
       "    }\n",
       "\n",
       "    .dataframe thead th {\n",
       "        text-align: right;\n",
       "    }\n",
       "</style>\n",
       "<table border=\"1\" class=\"dataframe\">\n",
       "  <thead>\n",
       "    <tr style=\"text-align: right;\">\n",
       "      <th></th>\n",
       "      <th>job</th>\n",
       "      <th>marital</th>\n",
       "      <th>education</th>\n",
       "      <th>default</th>\n",
       "      <th>housing</th>\n",
       "      <th>loan</th>\n",
       "      <th>contact</th>\n",
       "      <th>month</th>\n",
       "      <th>day_of_week</th>\n",
       "      <th>poutcome</th>\n",
       "      <th>y</th>\n",
       "    </tr>\n",
       "  </thead>\n",
       "  <tbody>\n",
       "    <tr>\n",
       "      <th>count</th>\n",
       "      <td>41188</td>\n",
       "      <td>41188</td>\n",
       "      <td>41188</td>\n",
       "      <td>41188</td>\n",
       "      <td>41188</td>\n",
       "      <td>41188</td>\n",
       "      <td>41188</td>\n",
       "      <td>41188</td>\n",
       "      <td>41188</td>\n",
       "      <td>41188</td>\n",
       "      <td>41188</td>\n",
       "    </tr>\n",
       "    <tr>\n",
       "      <th>unique</th>\n",
       "      <td>12</td>\n",
       "      <td>4</td>\n",
       "      <td>8</td>\n",
       "      <td>3</td>\n",
       "      <td>3</td>\n",
       "      <td>3</td>\n",
       "      <td>2</td>\n",
       "      <td>10</td>\n",
       "      <td>5</td>\n",
       "      <td>3</td>\n",
       "      <td>2</td>\n",
       "    </tr>\n",
       "    <tr>\n",
       "      <th>top</th>\n",
       "      <td>admin.</td>\n",
       "      <td>married</td>\n",
       "      <td>university.degree</td>\n",
       "      <td>no</td>\n",
       "      <td>yes</td>\n",
       "      <td>no</td>\n",
       "      <td>cellular</td>\n",
       "      <td>may</td>\n",
       "      <td>thu</td>\n",
       "      <td>nonexistent</td>\n",
       "      <td>no</td>\n",
       "    </tr>\n",
       "    <tr>\n",
       "      <th>freq</th>\n",
       "      <td>10422</td>\n",
       "      <td>24928</td>\n",
       "      <td>12168</td>\n",
       "      <td>32588</td>\n",
       "      <td>21576</td>\n",
       "      <td>33950</td>\n",
       "      <td>26144</td>\n",
       "      <td>13769</td>\n",
       "      <td>8623</td>\n",
       "      <td>35563</td>\n",
       "      <td>36548</td>\n",
       "    </tr>\n",
       "  </tbody>\n",
       "</table>\n",
       "</div>"
      ],
      "text/plain": [
       "           job  marital          education default housing   loan   contact  \\\n",
       "count    41188    41188              41188   41188   41188  41188     41188   \n",
       "unique      12        4                  8       3       3      3         2   \n",
       "top     admin.  married  university.degree      no     yes     no  cellular   \n",
       "freq     10422    24928              12168   32588   21576  33950     26144   \n",
       "\n",
       "        month day_of_week     poutcome      y  \n",
       "count   41188       41188        41188  41188  \n",
       "unique     10           5            3      2  \n",
       "top       may         thu  nonexistent     no  \n",
       "freq    13769        8623        35563  36548  "
      ]
     },
     "execution_count": 9,
     "metadata": {},
     "output_type": "execute_result"
    }
   ],
   "source": [
    "bank.describe(exclude=np.number)"
   ]
  },
  {
   "cell_type": "code",
   "execution_count": 10,
   "metadata": {},
   "outputs": [
    {
     "data": {
      "text/plain": [
       "no     88.734583\n",
       "yes    11.265417\n",
       "Name: y, dtype: float64"
      ]
     },
     "execution_count": 10,
     "metadata": {},
     "output_type": "execute_result"
    }
   ],
   "source": [
    "vc = bank.y.value_counts()\n",
    "vc / vc.sum() * 100"
   ]
  },
  {
   "cell_type": "code",
   "execution_count": 11,
   "metadata": {},
   "outputs": [
    {
     "data": {
      "image/png": "[encoded data removed]",
      "text/plain": [
       "<Figure size 432x288 with 1 Axes>"
      ]
     },
     "metadata": {
      "needs_background": "light"
     },
     "output_type": "display_data"
    }
   ],
   "source": [
    "vc.index = vc.index.astype(str)\n",
    "plt.bar(vc.index, vc)\n",
    "xlocs, xlabs = plt.xticks()\n",
    "for i, v in enumerate(vc):\n",
    "    plt.text(xlocs[i]-0.12, v+300, str(v))\n",
    "plt.show()"
   ]
  },
  {
   "cell_type": "markdown",
   "metadata": {},
   "source": [
    "Proposi variabel target tidak seimbang. Jumlah nilai 'yes' 8x lebih kecil dibanding jumlah nilai 'no'"
   ]
  },
  {
   "cell_type": "code",
   "execution_count": 12,
   "metadata": {},
   "outputs": [
    {
     "data": {
      "image/png": "[encoded data removed]",
      "text/plain": [
       "<Figure size 720x720 with 9 Axes>"
      ]
     },
     "metadata": {
      "needs_background": "light"
     },
     "output_type": "display_data"
    }
   ],
   "source": [
    "# melihat sebaran fitur numerik\n",
    "bank.hist(figsize=(10,10))\n",
    "plt.show()"
   ]
  },
  {
   "cell_type": "markdown",
   "metadata": {},
   "source": [
    "Terlihat hanya kolom 'age' saja yang mendekati distribusi normal."
   ]
  },
  {
   "cell_type": "markdown",
   "metadata": {},
   "source": [
    "### Korelasi"
   ]
  },
  {
   "cell_type": "code",
   "execution_count": 13,
   "metadata": {
    "scrolled": false
   },
   "outputs": [
    {
     "data": {
      "image/png": "[encoded data removed]",
      "text/plain": [
       "<Figure size 720x360 with 2 Axes>"
      ]
     },
     "metadata": {
      "needs_background": "light"
     },
     "output_type": "display_data"
    }
   ],
   "source": [
    "df = bank.copy()\n",
    "df.loc[:,'y'].replace({'yes': 1, 'no': 0}, inplace=True)\n",
    "# melihat korelasi data numerik dengan variabel target\n",
    "plt.figure(figsize = (10,5))\n",
    "sns.heatmap(df.corr(), annot=True)\n",
    "plt.show()"
   ]
  },
  {
   "cell_type": "code",
   "execution_count": 14,
   "metadata": {
    "scrolled": true
   },
   "outputs": [
    {
     "name": "stdout",
     "output_type": "stream",
     "text": [
      "job\n"
     ]
    },
    {
     "data": {
      "text/plain": [
       "admin.           0.031426\n",
       "blue-collar     -0.074423\n",
       "entrepreneur    -0.016644\n",
       "housemaid       -0.006505\n",
       "management      -0.000419\n",
       "retired          0.092221\n",
       "self-employed   -0.004663\n",
       "services        -0.032301\n",
       "student          0.093955\n",
       "technician      -0.006149\n",
       "unemployed       0.014752\n",
       "unknown         -0.000151\n",
       "y                1.000000\n",
       "Name: y, dtype: float64"
      ]
     },
     "metadata": {},
     "output_type": "display_data"
    },
    {
     "name": "stdout",
     "output_type": "stream",
     "text": [
      "\n",
      "marital\n"
     ]
    },
    {
     "data": {
      "text/plain": [
       "divorced   -0.010608\n",
       "married    -0.043398\n",
       "single      0.054133\n",
       "unknown     0.005211\n",
       "y           1.000000\n",
       "Name: y, dtype: float64"
      ]
     },
     "metadata": {},
     "output_type": "display_data"
    },
    {
     "name": "stdout",
     "output_type": "stream",
     "text": [
      "\n",
      "education\n"
     ]
    },
    {
     "data": {
      "text/plain": [
       "basic.4y              -0.010798\n",
       "basic.6y              -0.023517\n",
       "basic.9y              -0.045135\n",
       "high.school           -0.007452\n",
       "illiterate             0.007246\n",
       "professional.course    0.001003\n",
       "university.degree      0.050364\n",
       "unknown                0.021430\n",
       "y                      1.000000\n",
       "Name: y, dtype: float64"
      ]
     },
     "metadata": {},
     "output_type": "display_data"
    },
    {
     "name": "stdout",
     "output_type": "stream",
     "text": [
      "\n",
      "default\n"
     ]
    },
    {
     "data": {
      "text/plain": [
       "no         0.099344\n",
       "unknown   -0.099293\n",
       "yes       -0.003041\n",
       "y          1.000000\n",
       "Name: y, dtype: float64"
      ]
     },
     "metadata": {},
     "output_type": "display_data"
    },
    {
     "name": "stdout",
     "output_type": "stream",
     "text": [
      "\n",
      "housing\n"
     ]
    },
    {
     "data": {
      "text/plain": [
       "no        -0.011085\n",
       "unknown   -0.002270\n",
       "yes        0.011743\n",
       "y          1.000000\n",
       "Name: y, dtype: float64"
      ]
     },
     "metadata": {},
     "output_type": "display_data"
    },
    {
     "name": "stdout",
     "output_type": "stream",
     "text": [
      "\n",
      "loan\n"
     ]
    },
    {
     "data": {
      "text/plain": [
       "no         0.005123\n",
       "unknown   -0.002270\n",
       "yes       -0.004466\n",
       "y          1.000000\n",
       "Name: y, dtype: float64"
      ]
     },
     "metadata": {},
     "output_type": "display_data"
    },
    {
     "name": "stdout",
     "output_type": "stream",
     "text": [
      "\n",
      "contact\n"
     ]
    },
    {
     "data": {
      "text/plain": [
       "cellular     0.144773\n",
       "telephone   -0.144773\n",
       "y            1.000000\n",
       "Name: y, dtype: float64"
      ]
     },
     "metadata": {},
     "output_type": "display_data"
    },
    {
     "name": "stdout",
     "output_type": "stream",
     "text": [
      "\n",
      "month\n"
     ]
    },
    {
     "data": {
      "text/plain": [
       "apr    0.076136\n",
       "aug   -0.008813\n",
       "dec    0.079303\n",
       "jul   -0.032230\n",
       "jun   -0.009182\n",
       "mar    0.144014\n",
       "may   -0.108271\n",
       "nov   -0.011796\n",
       "oct    0.137366\n",
       "sep    0.126067\n",
       "y      1.000000\n",
       "Name: y, dtype: float64"
      ]
     },
     "metadata": {},
     "output_type": "display_data"
    },
    {
     "name": "stdout",
     "output_type": "stream",
     "text": [
      "\n",
      "day_of_week\n"
     ]
    },
    {
     "data": {
      "text/plain": [
       "fri   -0.006996\n",
       "mon   -0.021265\n",
       "thu    0.013888\n",
       "tue    0.008046\n",
       "wed    0.006302\n",
       "y      1.000000\n",
       "Name: y, dtype: float64"
      ]
     },
     "metadata": {},
     "output_type": "display_data"
    },
    {
     "name": "stdout",
     "output_type": "stream",
     "text": [
      "\n",
      "poutcome\n"
     ]
    },
    {
     "data": {
      "text/plain": [
       "failure        0.031799\n",
       "nonexistent   -0.193507\n",
       "success        0.316269\n",
       "y              1.000000\n",
       "Name: y, dtype: float64"
      ]
     },
     "metadata": {},
     "output_type": "display_data"
    },
    {
     "name": "stdout",
     "output_type": "stream",
     "text": [
      "\n"
     ]
    }
   ],
   "source": [
    "# melihat korelasi data non numerik dengan variabel target\n",
    "for col in list(df.select_dtypes(['object']).columns):\n",
    "    print(col)\n",
    "    display(pd.concat([pd.get_dummies(df[col]), df['y']], axis=1).corr()['y'])\n",
    "    print()"
   ]
  },
  {
   "cell_type": "markdown",
   "metadata": {},
   "source": [
    "- Beberapa fitur numerik memiliki korelasi yang terhadap variabel target, meskipun masih tergolong rendah.\n",
    "- Antara fitur juga terdapat korelasi (multikolinearitas) bahkan ada yang memiliki korelasi lebih tinggi dibanding variabel target."
   ]
  },
  {
   "cell_type": "markdown",
   "metadata": {},
   "source": [
    "## Pra-pemrosesan Data"
   ]
  },
  {
   "cell_type": "markdown",
   "metadata": {},
   "source": [
    "Proporsi nilai variabel target tidak seimbang sehingga parameter 'stratify' digunakan dalam pemisahan data train dan data test."
   ]
  },
  {
   "cell_type": "code",
   "execution_count": 15,
   "metadata": {},
   "outputs": [
    {
     "name": "stdout",
     "output_type": "stream",
     "text": [
      "Jumlah data train: 28831\n",
      "Jumlah data test: 12357\n"
     ]
    }
   ],
   "source": [
    "X = bank.drop(['y'], axis=1)\n",
    "y = bank['y']\n",
    "\n",
    "X_train, X_test, y_train, y_test = train_test_split(X, y, test_size=0.3, random_state=3, stratify=y)\n",
    "\n",
    "print('Jumlah data train:', X_train.shape[0])\n",
    "print('Jumlah data test:', X_test.shape[0])"
   ]
  },
  {
   "cell_type": "markdown",
   "metadata": {},
   "source": [
    "Pra-pemrosesan saat ini menggunakan salinan X_train untuk melihat hasil dari pra-pemrosesan. Pra-pemrosesan data X_train orisinal akan menggunakan pipeline."
   ]
  },
  {
   "cell_type": "code",
   "execution_count": 16,
   "metadata": {},
   "outputs": [],
   "source": [
    "# membuat salinan X_train untuk pra-pemrosesan data\n",
    "X_train_raw = X_train.copy()"
   ]
  },
  {
   "cell_type": "code",
   "execution_count": 17,
   "metadata": {},
   "outputs": [
    {
     "name": "stdout",
     "output_type": "stream",
     "text": [
      "<class 'pandas.core.frame.DataFrame'>\n",
      "Int64Index: 28831 entries, 20930 to 1907\n",
      "Data columns (total 19 columns):\n",
      " #   Column          Non-Null Count  Dtype  \n",
      "---  ------          --------------  -----  \n",
      " 0   age             28831 non-null  int64  \n",
      " 1   job             28831 non-null  object \n",
      " 2   marital         28831 non-null  object \n",
      " 3   education       28831 non-null  object \n",
      " 4   default         28831 non-null  object \n",
      " 5   housing         28831 non-null  object \n",
      " 6   loan            28831 non-null  object \n",
      " 7   contact         28831 non-null  object \n",
      " 8   month           28831 non-null  object \n",
      " 9   day_of_week     28831 non-null  object \n",
      " 10  campaign        28831 non-null  int64  \n",
      " 11  pdays           28831 non-null  int64  \n",
      " 12  previous        28831 non-null  int64  \n",
      " 13  poutcome        28831 non-null  object \n",
      " 14  emp_var_rate    28831 non-null  float64\n",
      " 15  cons_price_idx  28831 non-null  float64\n",
      " 16  cons_conf_idx   28831 non-null  float64\n",
      " 17  euribor3m       28831 non-null  float64\n",
      " 18  nr_employed     28831 non-null  float64\n",
      "dtypes: float64(5), int64(4), object(10)\n",
      "memory usage: 4.4+ MB\n"
     ]
    }
   ],
   "source": [
    "X_train_raw.info()"
   ]
  },
  {
   "cell_type": "code",
   "execution_count": 18,
   "metadata": {},
   "outputs": [],
   "source": [
    "# memisahkan fitur numerik dan non numerik\n",
    "num_cols = list(X_train_raw.select_dtypes(np.number).columns)\n",
    "cat_cols = list(X_train_raw.select_dtypes(['object']).columns)"
   ]
  },
  {
   "cell_type": "markdown",
   "metadata": {},
   "source": [
    "### Penanganan Pencilan"
   ]
  },
  {
   "cell_type": "code",
   "execution_count": 19,
   "metadata": {
    "scrolled": false
   },
   "outputs": [
    {
     "data": {
      "image/png": "[encoded data removed]",
      "text/plain": [
       "<Figure size 2160x504 with 5 Axes>"
      ]
     },
     "metadata": {
      "needs_background": "light"
     },
     "output_type": "display_data"
    },
    {
     "data": {
      "image/png": "[encoded data removed]",
      "text/plain": [
       "<Figure size 2160x504 with 4 Axes>"
      ]
     },
     "metadata": {
      "needs_background": "light"
     },
     "output_type": "display_data"
    }
   ],
   "source": [
    "# melihat pencilan secara visual\n",
    "for i in range(2):\n",
    "    plt.figure(figsize=(30, 7))\n",
    "    for col in num_cols[i*5:(i+1)*5]:\n",
    "        ind = num_cols.index(col)\n",
    "        pos = (ind+1) % 5 if ind != 4 else 5\n",
    "        plt.subplot(1, 5, pos)\n",
    "        sns.boxplot(y=X_train_raw[col])\n",
    "        plt.title(col)\n",
    "    plt.show()"
   ]
  },
  {
   "cell_type": "code",
   "execution_count": 20,
   "metadata": {},
   "outputs": [
    {
     "name": "stdout",
     "output_type": "stream",
     "text": [
      "-----age-----\n",
      "lower: 9.5 upper: 69.5\n",
      "jumlah outlier: 325\n",
      "persentase outlier: 1.13%\n",
      "\n",
      "-----campaign-----\n",
      "lower: -2.0 upper: 6.0\n",
      "jumlah outlier: 1647\n",
      "persentase outlier: 5.71%\n",
      "\n",
      "-----pdays-----\n",
      "lower: 999.0 upper: 999.0\n",
      "jumlah outlier: 1063\n",
      "persentase outlier: 3.69%\n",
      "\n",
      "-----previous-----\n",
      "lower: 0.0 upper: 0.0\n",
      "jumlah outlier: 3953\n",
      "persentase outlier: 13.71%\n",
      "\n",
      "-----cons_conf_idx-----\n",
      "lower: -52.150000000000006 upper: -26.949999999999992\n",
      "jumlah outlier: 320\n",
      "persentase outlier: 1.11%\n",
      "\n"
     ]
    }
   ],
   "source": [
    "# melihat pencilan setiap kolom numerik\n",
    "for col in num_cols:\n",
    "    q1 = X_train_raw[col].quantile(0.25)\n",
    "    q3 = X_train_raw[col].quantile(0.75)\n",
    "    IQR = q3 - q1\n",
    "    lower = q1 - 1.5 * IQR\n",
    "    upper = q3 + 1.5 * IQR\n",
    "    outliers = len(X_train_raw[(X_train_raw[col] < lower) | (X_train_raw[col] > upper)])\n",
    "    if outliers > 0:\n",
    "        print(f'-----{col}-----')\n",
    "        print('lower:', lower, 'upper:', upper)\n",
    "        print('jumlah outlier:', outliers)\n",
    "        print(f'persentase outlier: {(outliers/len(X_train_raw) * 100):,.2f}%')\n",
    "        print()"
   ]
  },
  {
   "cell_type": "markdown",
   "metadata": {},
   "source": [
    "Ada beberapa kolom yang memiliki pencilan. Oleh karena jumlah data sedikit dan menghindari informasi hilang terlalu banyak, penanganan pencilan menggunakan metode Winsorizer."
   ]
  },
  {
   "cell_type": "code",
   "execution_count": 21,
   "metadata": {},
   "outputs": [
    {
     "data": {
      "text/html": [
       "<div>\n",
       "<style scoped>\n",
       "    .dataframe tbody tr th:only-of-type {\n",
       "        vertical-align: middle;\n",
       "    }\n",
       "\n",
       "    .dataframe tbody tr th {\n",
       "        vertical-align: top;\n",
       "    }\n",
       "\n",
       "    .dataframe thead th {\n",
       "        text-align: right;\n",
       "    }\n",
       "</style>\n",
       "<table border=\"1\" class=\"dataframe\">\n",
       "  <thead>\n",
       "    <tr style=\"text-align: right;\">\n",
       "      <th></th>\n",
       "      <th>age</th>\n",
       "      <th>campaign</th>\n",
       "      <th>pdays</th>\n",
       "      <th>previous</th>\n",
       "      <th>emp_var_rate</th>\n",
       "      <th>cons_price_idx</th>\n",
       "      <th>cons_conf_idx</th>\n",
       "      <th>euribor3m</th>\n",
       "      <th>nr_employed</th>\n",
       "    </tr>\n",
       "  </thead>\n",
       "  <tbody>\n",
       "    <tr>\n",
       "      <th>count</th>\n",
       "      <td>28831.000000</td>\n",
       "      <td>28831.000000</td>\n",
       "      <td>28831.0</td>\n",
       "      <td>28831.0</td>\n",
       "      <td>28831.000000</td>\n",
       "      <td>28831.000000</td>\n",
       "      <td>28831.000000</td>\n",
       "      <td>28831.000000</td>\n",
       "      <td>28831.000000</td>\n",
       "    </tr>\n",
       "    <tr>\n",
       "      <th>mean</th>\n",
       "      <td>39.959228</td>\n",
       "      <td>2.274670</td>\n",
       "      <td>999.0</td>\n",
       "      <td>0.0</td>\n",
       "      <td>0.079890</td>\n",
       "      <td>93.575607</td>\n",
       "      <td>-40.498786</td>\n",
       "      <td>3.617604</td>\n",
       "      <td>5166.837841</td>\n",
       "    </tr>\n",
       "    <tr>\n",
       "      <th>std</th>\n",
       "      <td>10.126416</td>\n",
       "      <td>1.549215</td>\n",
       "      <td>0.0</td>\n",
       "      <td>0.0</td>\n",
       "      <td>1.571319</td>\n",
       "      <td>0.578277</td>\n",
       "      <td>4.629938</td>\n",
       "      <td>1.736384</td>\n",
       "      <td>72.357745</td>\n",
       "    </tr>\n",
       "    <tr>\n",
       "      <th>min</th>\n",
       "      <td>17.000000</td>\n",
       "      <td>1.000000</td>\n",
       "      <td>999.0</td>\n",
       "      <td>0.0</td>\n",
       "      <td>-3.400000</td>\n",
       "      <td>92.201000</td>\n",
       "      <td>-50.800000</td>\n",
       "      <td>0.634000</td>\n",
       "      <td>4963.600000</td>\n",
       "    </tr>\n",
       "    <tr>\n",
       "      <th>25%</th>\n",
       "      <td>32.000000</td>\n",
       "      <td>1.000000</td>\n",
       "      <td>999.0</td>\n",
       "      <td>0.0</td>\n",
       "      <td>-1.800000</td>\n",
       "      <td>93.075000</td>\n",
       "      <td>-42.700000</td>\n",
       "      <td>1.344000</td>\n",
       "      <td>5099.100000</td>\n",
       "    </tr>\n",
       "    <tr>\n",
       "      <th>50%</th>\n",
       "      <td>38.000000</td>\n",
       "      <td>2.000000</td>\n",
       "      <td>999.0</td>\n",
       "      <td>0.0</td>\n",
       "      <td>1.100000</td>\n",
       "      <td>93.749000</td>\n",
       "      <td>-41.800000</td>\n",
       "      <td>4.857000</td>\n",
       "      <td>5191.000000</td>\n",
       "    </tr>\n",
       "    <tr>\n",
       "      <th>75%</th>\n",
       "      <td>47.000000</td>\n",
       "      <td>3.000000</td>\n",
       "      <td>999.0</td>\n",
       "      <td>0.0</td>\n",
       "      <td>1.400000</td>\n",
       "      <td>93.994000</td>\n",
       "      <td>-36.400000</td>\n",
       "      <td>4.961000</td>\n",
       "      <td>5228.100000</td>\n",
       "    </tr>\n",
       "    <tr>\n",
       "      <th>max</th>\n",
       "      <td>69.500000</td>\n",
       "      <td>6.000000</td>\n",
       "      <td>999.0</td>\n",
       "      <td>0.0</td>\n",
       "      <td>1.400000</td>\n",
       "      <td>94.767000</td>\n",
       "      <td>-26.950000</td>\n",
       "      <td>5.045000</td>\n",
       "      <td>5228.100000</td>\n",
       "    </tr>\n",
       "  </tbody>\n",
       "</table>\n",
       "</div>"
      ],
      "text/plain": [
       "                age      campaign    pdays  previous  emp_var_rate  \\\n",
       "count  28831.000000  28831.000000  28831.0   28831.0  28831.000000   \n",
       "mean      39.959228      2.274670    999.0       0.0      0.079890   \n",
       "std       10.126416      1.549215      0.0       0.0      1.571319   \n",
       "min       17.000000      1.000000    999.0       0.0     -3.400000   \n",
       "25%       32.000000      1.000000    999.0       0.0     -1.800000   \n",
       "50%       38.000000      2.000000    999.0       0.0      1.100000   \n",
       "75%       47.000000      3.000000    999.0       0.0      1.400000   \n",
       "max       69.500000      6.000000    999.0       0.0      1.400000   \n",
       "\n",
       "       cons_price_idx  cons_conf_idx     euribor3m   nr_employed  \n",
       "count    28831.000000   28831.000000  28831.000000  28831.000000  \n",
       "mean        93.575607     -40.498786      3.617604   5166.837841  \n",
       "std          0.578277       4.629938      1.736384     72.357745  \n",
       "min         92.201000     -50.800000      0.634000   4963.600000  \n",
       "25%         93.075000     -42.700000      1.344000   5099.100000  \n",
       "50%         93.749000     -41.800000      4.857000   5191.000000  \n",
       "75%         93.994000     -36.400000      4.961000   5228.100000  \n",
       "max         94.767000     -26.950000      5.045000   5228.100000  "
      ]
     },
     "execution_count": 21,
     "metadata": {},
     "output_type": "execute_result"
    }
   ],
   "source": [
    "winso = Winsorizer(capping_method='iqr', tail='both', fold=1.5, variables=list(num_cols))\n",
    "X_train_raw = winso.fit_transform(X_train_raw)\n",
    "X_train_raw.describe()"
   ]
  },
  {
   "cell_type": "markdown",
   "metadata": {},
   "source": [
    "Nilai unik pada kolom 'pdays' dan 'previous' hanya berjumlah 1, sehingga tidak diperlukan dalam model."
   ]
  },
  {
   "cell_type": "code",
   "execution_count": 22,
   "metadata": {
    "scrolled": true
   },
   "outputs": [],
   "source": [
    "# menghapus kolom dalam data\n",
    "X_train_raw.drop(['pdays', 'previous'], axis=1, inplace=True)\n",
    "\n",
    "# menghapus kolom dalam daftar kolom numerik\n",
    "drop_cols = ['pdays', 'previous']\n",
    "num_cols = [e for e in num_cols if e not in drop_cols]"
   ]
  },
  {
   "cell_type": "markdown",
   "metadata": {},
   "source": [
    "### Feature Scaling"
   ]
  },
  {
   "cell_type": "markdown",
   "metadata": {},
   "source": [
    "Sebagian besar fitur numerik tidak terdistribusi normal sehingga metode _feature scaling_ yang digunakan dalah normalisasi (_Min Max Scaler_)."
   ]
  },
  {
   "cell_type": "code",
   "execution_count": 23,
   "metadata": {},
   "outputs": [],
   "source": [
    "# normalisasi\n",
    "norm = MinMaxScaler()\n",
    "X_train_raw[num_cols] = norm.fit_transform(X_train_raw[num_cols])"
   ]
  },
  {
   "cell_type": "markdown",
   "metadata": {},
   "source": [
    "### Encoding"
   ]
  },
  {
   "cell_type": "code",
   "execution_count": 24,
   "metadata": {},
   "outputs": [],
   "source": [
    "ohenc = OneHotEncoder(sparse=False, handle_unknown='ignore')\n",
    "ohenc.fit(X_train_raw[cat_cols])\n",
    "ohenc_cols = list(ohenc.get_feature_names())\n",
    "X_train_raw[ohenc_cols] = ohenc.transform(X_train_raw[cat_cols])\n",
    "\n",
    "X_train_raw.drop(cat_cols, axis=1, inplace=True)"
   ]
  },
  {
   "cell_type": "markdown",
   "metadata": {},
   "source": [
    "#### _Label Encoding_"
   ]
  },
  {
   "cell_type": "code",
   "execution_count": 25,
   "metadata": {},
   "outputs": [],
   "source": [
    "lenc = LabelEncoder()\n",
    "y_train = lenc.fit_transform(y_train)\n",
    "y_test = lenc.transform(y_test)"
   ]
  },
  {
   "cell_type": "markdown",
   "metadata": {},
   "source": [
    "### _Pipeline_"
   ]
  },
  {
   "cell_type": "markdown",
   "metadata": {},
   "source": [
    "#### _Pipeline_ untuk model yang sensitif pencilan dan _feature scaling_\n",
    "\n",
    "Dalam tugas ini, ada beberapa model yang harus digunakan sensitif terhadap pencilan dan _feature scaling_, sehingga penanganan pencilan akan dikhususkan pada model tersebut."
   ]
  },
  {
   "cell_type": "code",
   "execution_count": 26,
   "metadata": {},
   "outputs": [],
   "source": [
    "num_cols = list(X_train.select_dtypes(np.number).columns)\n",
    "cat_cols = list(X_train.select_dtypes(['object']).columns)\n",
    "# seleksi fitur/hapus kolom hasil dari penanganan pencilan\n",
    "drop_cols = ['pdays', 'previous']\n",
    "num_cols = [e for e in num_cols if e not in drop_cols]\n",
    "\n",
    "# model sensitif pencilan dan feature scaling\n",
    "num_pipe = Pipeline([\n",
    "    ('winso', Winsorizer(capping_method='iqr', tail='both', fold=1.5, variables=num_cols, missing_values='ignore')),\n",
    "    ('norm_scaler', MinMaxScaler())\n",
    "    ])\n",
    "\n",
    "cat_pipe = Pipeline([\n",
    "    ('encoder', OneHotEncoder(sparse=False, handle_unknown='ignore'))\n",
    "    ])\n",
    "\n",
    "sensitive_pipe = ColumnTransformer([\n",
    "    (\"num\", num_pipe, num_cols),\n",
    "    (\"cat\", cat_pipe, cat_cols),\n",
    "    ])"
   ]
  },
  {
   "cell_type": "markdown",
   "metadata": {},
   "source": [
    "#### _Pipeline_ untuk model yang tidak sensitif pencilan dan _feature scaling_"
   ]
  },
  {
   "cell_type": "code",
   "execution_count": 27,
   "metadata": {},
   "outputs": [],
   "source": [
    "cat_pipe = Pipeline([\n",
    "    ('encoder', OneHotEncoder(sparse=False, handle_unknown='ignore'))\n",
    "    ])\n",
    "\n",
    "nonsens_pipe = ColumnTransformer([\n",
    "    (\"cat\", cat_pipe, cat_cols),\n",
    "    ])"
   ]
  },
  {
   "cell_type": "markdown",
   "metadata": {},
   "source": [
    "## Pendefinisian Model"
   ]
  },
  {
   "cell_type": "markdown",
   "metadata": {},
   "source": [
    "### Model yang Sensitif Pencilan dan _Feature Scaling_"
   ]
  },
  {
   "cell_type": "code",
   "execution_count": 28,
   "metadata": {
    "scrolled": true
   },
   "outputs": [],
   "source": [
    "# Logistic Regression\n",
    "logr_pipe = Pipeline([\n",
    "    (\"sensitive_prep\", sensitive_pipe),\n",
    "    (\"logreg\", LogisticRegression(max_iter=1000))\n",
    "    ])"
   ]
  },
  {
   "cell_type": "markdown",
   "metadata": {},
   "source": [
    "Saya mengatur parameter max_iter bernilai 1000 (nilai bawaan 100) pada regresi logistik karena saat mencoba menjalankan model ini, selalu muncul peringatan: TOTAL NO. of ITERATIONS REACHED LIMIT."
   ]
  },
  {
   "cell_type": "code",
   "execution_count": 29,
   "metadata": {},
   "outputs": [],
   "source": [
    "# Support Vector Machines (SVM)\n",
    "svm_pipe = Pipeline([\n",
    "    (\"sensitive_prep\", sensitive_pipe),\n",
    "    (\"svm\", SVC())\n",
    "    ])"
   ]
  },
  {
   "cell_type": "code",
   "execution_count": 30,
   "metadata": {},
   "outputs": [],
   "source": [
    "# K-Nearest Neighbour (KNN)\n",
    "knn_pipe = Pipeline([\n",
    "    (\"sensitive_prep\", sensitive_pipe),\n",
    "    (\"knn\", KNeighborsClassifier())\n",
    "    ])"
   ]
  },
  {
   "cell_type": "markdown",
   "metadata": {},
   "source": [
    "### Model yang Tidak Sensitif Pencilan dan _Feature Scaling_"
   ]
  },
  {
   "cell_type": "code",
   "execution_count": 31,
   "metadata": {},
   "outputs": [],
   "source": [
    "# Decision Tree\n",
    "dtc_pipe = Pipeline([\n",
    "    (\"nonsensitive_prep\", nonsens_pipe),\n",
    "    (\"dectree\", DecisionTreeClassifier())\n",
    "    ])"
   ]
  },
  {
   "cell_type": "code",
   "execution_count": 32,
   "metadata": {},
   "outputs": [],
   "source": [
    "# Random Forest\n",
    "rfc_pipe = Pipeline([\n",
    "    (\"nonsensitive_prep\", nonsens_pipe),\n",
    "    (\"randfor\", RandomForestClassifier())\n",
    "    ])"
   ]
  },
  {
   "cell_type": "code",
   "execution_count": 33,
   "metadata": {},
   "outputs": [],
   "source": [
    "# Naive Bayes\n",
    "gnb_pipe = Pipeline([\n",
    "    (\"nonsensitive_prep\", nonsens_pipe),\n",
    "    (\"gausnb\", GaussianNB())\n",
    "    ])"
   ]
  },
  {
   "cell_type": "code",
   "execution_count": 34,
   "metadata": {},
   "outputs": [],
   "source": [
    "# Ada Boost\n",
    "adab_pipe = Pipeline([\n",
    "    (\"nonsensitive_prep\", nonsens_pipe),\n",
    "    (\"adaboost\", AdaBoostClassifier())\n",
    "    ])"
   ]
  },
  {
   "cell_type": "code",
   "execution_count": 35,
   "metadata": {},
   "outputs": [],
   "source": [
    "# Gradient Boost\n",
    "grab_pipe = Pipeline([\n",
    "    (\"nonsensitive_prep\", nonsens_pipe),\n",
    "    (\"gradboost\", GradientBoostingClassifier())\n",
    "    ])"
   ]
  },
  {
   "cell_type": "markdown",
   "metadata": {},
   "source": [
    "## Pelatihan Model"
   ]
  },
  {
   "cell_type": "code",
   "execution_count": 36,
   "metadata": {},
   "outputs": [],
   "source": [
    "model_pipelines = [logr_pipe, svm_pipe, knn_pipe, dtc_pipe, rfc_pipe, gnb_pipe, adab_pipe, grab_pipe]\n",
    "model_names = [\n",
    "    'LogisticRegression',\n",
    "    'SVC',\n",
    "    'KNeighborsClassifier',\n",
    "    'DecisionTreeClassifier',\n",
    "    'RandomForestClassifier',\n",
    "    'GaussianNB',\n",
    "    'AdaBoostClassifier',\n",
    "    'GradientBoostingClassifier'\n",
    "]\n",
    "model_results = pd.DataFrame(index=model_names)"
   ]
  },
  {
   "cell_type": "code",
   "execution_count": 38,
   "metadata": {
    "scrolled": true
   },
   "outputs": [],
   "source": [
    "if len(model_pipelines) == len(model_names):\n",
    "    for model, names in zip(model_pipelines, model_names):\n",
    "        model.fit(X_train, y_train)\n",
    "        ytrain_pred = model.predict(X_train) \n",
    "        ytest_pred = model.predict(X_test)\n",
    "        model_results.loc[names, 'Akurasi Data Train'] = model.score(X_train, y_train)\n",
    "        model_results.loc[names, 'Akurasi Data Test'] = model.score(X_test, y_test)\n",
    "        model_results.loc[names, 'ROC AUC Data Train'] = roc_auc_score(y_train, ytrain_pred)\n",
    "        model_results.loc[names, 'ROC AUC Data Test'] = roc_auc_score(y_test, ytest_pred)\n",
    "        model_results.loc[names, 'Recall'] = recall_score(y_test, ytest_pred, pos_label=0) # fokus label 0\n",
    "        model_results.loc[names, 'Skor F1'] = f1_score(y_test, ytest_pred, pos_label=0) # fokus label 0"
   ]
  },
  {
   "cell_type": "markdown",
   "metadata": {},
   "source": [
    "Pada studi kasus data ini, model berusaha untuk memprediksi apakah klien sudah atau belum berlangganan deposito berjangka (_the client subscribed a term deposit_)? Prediksi ini digunakan untuk menentukan klien yang belum berlangganan dan akan dijadikan target promosi dari deposito berjangka sebuah bank. Sehingga, **model yang dibuat berfokus pada label 0 (label positif)**.\n",
    "\n",
    "Model tentu bisa salah memprediksi klien belum berlangganan padahal sudah (FP/Type I Error) atau klien sudah berlangganan padahal belum (FN/Type II Error). Dalam studi kasus ini, kesalahan prediksi yang perlu kita minimalkan adalah salah memprediksi klien sudah berlangganan. Kesalahan tipe ini mengakibatkan bank kehilangan keuntungan dari peluang untuk mendapatkan pelanggan baru di deposito berjangka. Sehingga, **penilaian yang cocok digunakan terhadap model adalah _recall_**. Namun, penilaian lain tetap ditampilkan untuk melihat kinerja model secara keseluruhan."
   ]
  },
  {
   "cell_type": "code",
   "execution_count": 39,
   "metadata": {},
   "outputs": [
    {
     "data": {
      "text/html": [
       "<div>\n",
       "<style scoped>\n",
       "    .dataframe tbody tr th:only-of-type {\n",
       "        vertical-align: middle;\n",
       "    }\n",
       "\n",
       "    .dataframe tbody tr th {\n",
       "        vertical-align: top;\n",
       "    }\n",
       "\n",
       "    .dataframe thead th {\n",
       "        text-align: right;\n",
       "    }\n",
       "</style>\n",
       "<table border=\"1\" class=\"dataframe\">\n",
       "  <thead>\n",
       "    <tr style=\"text-align: right;\">\n",
       "      <th></th>\n",
       "      <th>Akurasi Data Train</th>\n",
       "      <th>Akurasi Data Test</th>\n",
       "      <th>ROC AUC Data Train</th>\n",
       "      <th>ROC AUC Data Test</th>\n",
       "      <th>Recall</th>\n",
       "      <th>Skor F1</th>\n",
       "    </tr>\n",
       "  </thead>\n",
       "  <tbody>\n",
       "    <tr>\n",
       "      <th>SVC</th>\n",
       "      <td>0.900628</td>\n",
       "      <td>0.901028</td>\n",
       "      <td>0.590005</td>\n",
       "      <td>0.593004</td>\n",
       "      <td>0.990606</td>\n",
       "      <td>0.946703</td>\n",
       "    </tr>\n",
       "    <tr>\n",
       "      <th>AdaBoostClassifier</th>\n",
       "      <td>0.895945</td>\n",
       "      <td>0.895525</td>\n",
       "      <td>0.576212</td>\n",
       "      <td>0.577046</td>\n",
       "      <td>0.988144</td>\n",
       "      <td>0.943774</td>\n",
       "    </tr>\n",
       "    <tr>\n",
       "      <th>GradientBoostingClassifier</th>\n",
       "      <td>0.900246</td>\n",
       "      <td>0.898600</td>\n",
       "      <td>0.594359</td>\n",
       "      <td>0.592577</td>\n",
       "      <td>0.987597</td>\n",
       "      <td>0.945310</td>\n",
       "    </tr>\n",
       "    <tr>\n",
       "      <th>LogisticRegression</th>\n",
       "      <td>0.899449</td>\n",
       "      <td>0.900218</td>\n",
       "      <td>0.604393</td>\n",
       "      <td>0.606347</td>\n",
       "      <td>0.985682</td>\n",
       "      <td>0.946037</td>\n",
       "    </tr>\n",
       "    <tr>\n",
       "      <th>KNeighborsClassifier</th>\n",
       "      <td>0.912733</td>\n",
       "      <td>0.888808</td>\n",
       "      <td>0.666578</td>\n",
       "      <td>0.595840</td>\n",
       "      <td>0.974008</td>\n",
       "      <td>0.939562</td>\n",
       "    </tr>\n",
       "    <tr>\n",
       "      <th>RandomForestClassifier</th>\n",
       "      <td>0.952308</td>\n",
       "      <td>0.884762</td>\n",
       "      <td>0.808894</td>\n",
       "      <td>0.599205</td>\n",
       "      <td>0.967807</td>\n",
       "      <td>0.937125</td>\n",
       "    </tr>\n",
       "    <tr>\n",
       "      <th>DecisionTreeClassifier</th>\n",
       "      <td>0.952308</td>\n",
       "      <td>0.867605</td>\n",
       "      <td>0.795454</td>\n",
       "      <td>0.593301</td>\n",
       "      <td>0.947378</td>\n",
       "      <td>0.927003</td>\n",
       "    </tr>\n",
       "    <tr>\n",
       "      <th>GaussianNB</th>\n",
       "      <td>0.775450</td>\n",
       "      <td>0.778101</td>\n",
       "      <td>0.688944</td>\n",
       "      <td>0.685240</td>\n",
       "      <td>0.805107</td>\n",
       "      <td>0.865575</td>\n",
       "    </tr>\n",
       "  </tbody>\n",
       "</table>\n",
       "</div>"
      ],
      "text/plain": [
       "                            Akurasi Data Train  Akurasi Data Test  \\\n",
       "SVC                                   0.900628           0.901028   \n",
       "AdaBoostClassifier                    0.895945           0.895525   \n",
       "GradientBoostingClassifier            0.900246           0.898600   \n",
       "LogisticRegression                    0.899449           0.900218   \n",
       "KNeighborsClassifier                  0.912733           0.888808   \n",
       "RandomForestClassifier                0.952308           0.884762   \n",
       "DecisionTreeClassifier                0.952308           0.867605   \n",
       "GaussianNB                            0.775450           0.778101   \n",
       "\n",
       "                            ROC AUC Data Train  ROC AUC Data Test    Recall  \\\n",
       "SVC                                   0.590005           0.593004  0.990606   \n",
       "AdaBoostClassifier                    0.576212           0.577046  0.988144   \n",
       "GradientBoostingClassifier            0.594359           0.592577  0.987597   \n",
       "LogisticRegression                    0.604393           0.606347  0.985682   \n",
       "KNeighborsClassifier                  0.666578           0.595840  0.974008   \n",
       "RandomForestClassifier                0.808894           0.599205  0.967807   \n",
       "DecisionTreeClassifier                0.795454           0.593301  0.947378   \n",
       "GaussianNB                            0.688944           0.685240  0.805107   \n",
       "\n",
       "                             Skor F1  \n",
       "SVC                         0.946703  \n",
       "AdaBoostClassifier          0.943774  \n",
       "GradientBoostingClassifier  0.945310  \n",
       "LogisticRegression          0.946037  \n",
       "KNeighborsClassifier        0.939562  \n",
       "RandomForestClassifier      0.937125  \n",
       "DecisionTreeClassifier      0.927003  \n",
       "GaussianNB                  0.865575  "
      ]
     },
     "execution_count": 39,
     "metadata": {},
     "output_type": "execute_result"
    }
   ],
   "source": [
    "model_results = model_results.sort_values('Recall', ascending=False)\n",
    "model_results"
   ]
  },
  {
   "cell_type": "markdown",
   "metadata": {},
   "source": [
    "- Ada empat model terbaik yaitu Support Vector Machine, Ada Boosting, Gradient Boosting, dan Logistic Regression. Keempat model tersebut memiliki akurasi data train dan data test yang sangat mirip. Nilai recall dari keempat model tersebut juga berkisar 0,99.\n",
    "- Pada model KNeighbors, Random Forest, dan Decision Tree, skor akurasi data train dan data test terlihat cukup jauh berbeda. Hal ini menunjukkan model overfitting terhadap data train.\n",
    "- Pada model Gaussian Naive Bayes, skor akurasi jauh berbeda dibandingkan model yang lain. Saya menduga bahwa ini terjadi karena terdapat multikolinearitas yang tinggi, karena model ini sensitif terhadap multikolinearitas."
   ]
  },
  {
   "cell_type": "markdown",
   "metadata": {},
   "source": [
    "## Evaluasi Model"
   ]
  },
  {
   "cell_type": "markdown",
   "metadata": {},
   "source": [
    "### _Cross Validation_ Model yang _Overfitting_\n",
    "\n",
    "Akurasi beberapa model yang overfitting diukur kembali menggunakan cross validation."
   ]
  },
  {
   "cell_type": "code",
   "execution_count": 40,
   "metadata": {},
   "outputs": [
    {
     "name": "stdout",
     "output_type": "stream",
     "text": [
      "Akurasi cross validation: [0.88885036 0.89021852 0.88900451 0.89212626 0.88345473]\n",
      "Rata-rata akurasi cross validatian: 0.8887\n"
     ]
    }
   ],
   "source": [
    "# KNeighborsClassifier\n",
    "scores = cross_val_score(knn_pipe, X_train, y_train, cv=5)\n",
    "print('Akurasi cross validation:', scores)\n",
    "print('Rata-rata akurasi cross validatian:', round(np.mean(scores), 4))"
   ]
  },
  {
   "cell_type": "code",
   "execution_count": 41,
   "metadata": {},
   "outputs": [
    {
     "name": "stdout",
     "output_type": "stream",
     "text": [
      "Akurasi cross validation: [0.88607595 0.881547   0.88241415 0.88692334 0.88050642]\n",
      "Rata-rata akurasi cross validatian: 0.8835\n"
     ]
    }
   ],
   "source": [
    "# RandomForestClassifier\n",
    "scores = cross_val_score(rfc_pipe, X_train, y_train, cv=5)\n",
    "print('Akurasi cross validation:', scores)\n",
    "print('Rata-rata akurasi cross validatian:', round(np.mean(scores), 4))"
   ]
  },
  {
   "cell_type": "code",
   "execution_count": 42,
   "metadata": {},
   "outputs": [
    {
     "name": "stdout",
     "output_type": "stream",
     "text": [
      "Akurasi cross validation: [0.86717531 0.86125564 0.86212279 0.86004162 0.86108221]\n",
      "Rata-rata akurasi cross validatian: 0.8623\n"
     ]
    }
   ],
   "source": [
    "# DecisionTreeClassifier\n",
    "scores = cross_val_score(dtc_pipe, X_train, y_train, cv=5)\n",
    "print('Akurasi cross validation:', scores)\n",
    "print('Rata-rata akurasi cross validatian:', round(np.mean(scores), 4))"
   ]
  },
  {
   "cell_type": "markdown",
   "metadata": {},
   "source": [
    "Rata-rata akurasi cross validation setiap model yang overfitting sudah terlihat tidak jauh berbeda dengan hasil akurasi data train sebelumnya. Namun, nilainya masih lebih rendah dibandingkan empat model terbaik yang telah didapatkan sebelumnya. Sehingga, selanjutnya pada tuning hyperparameter hanya dilakukan pada empat model terbaik saja."
   ]
  },
  {
   "cell_type": "markdown",
   "metadata": {},
   "source": [
    "### Tuning Hyperparameter"
   ]
  },
  {
   "cell_type": "code",
   "execution_count": 54,
   "metadata": {},
   "outputs": [
    {
     "name": "stdout",
     "output_type": "stream",
     "text": [
      "Best parameters: {'svm__C': 10000.0, 'svm__gamma': 0.0001}\n",
      "Best cross-validation score: 0.8966390278608042\n"
     ]
    }
   ],
   "source": [
    "# Support Vector Machine\n",
    "param_grid = {\n",
    "    'svm__C': np.logspace(-4,4,3),\n",
    "    'svm__gamma': np.logspace(-4,4,3)\n",
    "}\n",
    "\n",
    "grid_search = GridSearchCV(svm_pipe, param_grid, cv=5)\n",
    "grid_search.fit(X_train, y_train)\n",
    "\n",
    "print(\"Best parameters: {}\".format(grid_search.best_params_))\n",
    "print(\"Best cross-validation score: {}\".format(grid_search.best_score_))"
   ]
  },
  {
   "cell_type": "code",
   "execution_count": 55,
   "metadata": {
    "scrolled": true
   },
   "outputs": [
    {
     "name": "stdout",
     "output_type": "stream",
     "text": [
      "Ada Boost\n",
      "Best parameters: {'adaboost__n_estimators': 10}\n",
      "Best cross-validation score: 0.8966737199662631\n"
     ]
    }
   ],
   "source": [
    "# AdaBoostClassifier\n",
    "param_grid = {\n",
    "    'adaboost__n_estimators': [10, 50, 100, 250, 500]\n",
    "}\n",
    "\n",
    "grid_adab = GridSearchCV(adab_pipe, param_grid, cv=5)\n",
    "grid_adab.fit(X_train, y_train)\n",
    "print('Ada Boost')\n",
    "print(\"Best parameters: {}\".format(grid_adab.best_params_))\n",
    "print(\"Best cross-validation score: {}\".format(grid_adab.best_score_))"
   ]
  },
  {
   "cell_type": "code",
   "execution_count": 46,
   "metadata": {},
   "outputs": [
    {
     "name": "stdout",
     "output_type": "stream",
     "text": [
      "Gradient Boosting\n",
      "Best parameters: {'gradboost__learning_rate': 1.0, 'gradboost__n_estimators': 50}\n",
      "Best cross-validation score: 0.8899794006601965\n"
     ]
    }
   ],
   "source": [
    "# GradientBoostingClassifier\n",
    "param_grid = {\n",
    "    'gradboost__n_estimators': [10, 50, 100],\n",
    "    'gradboost__learning_rate': np.logspace(-4,4,3)\n",
    "}\n",
    "\n",
    "grid_grad = GridSearchCV(grab_pipe, param_grid, cv=5)\n",
    "grid_grad.fit(X_train, y_train)\n",
    "print('Gradient Boosting')\n",
    "print(\"Best parameters: {}\".format(grid_grad.best_params_))\n",
    "print(\"Best cross-validation score: {}\".format(grid_grad.best_score_))"
   ]
  },
  {
   "cell_type": "code",
   "execution_count": 48,
   "metadata": {},
   "outputs": [
    {
     "name": "stdout",
     "output_type": "stream",
     "text": [
      "Logistic Regression\n",
      "Best parameters: {'logreg__C': 100.0, 'logreg__max_iter': 500, 'logreg__solver': 'liblinear'}\n",
      "Best cross-validation score: 0.8987894692619104\n"
     ]
    }
   ],
   "source": [
    "# LogisticRegression\n",
    "param_grid = {\n",
    "    'logreg__solver': ['liblinear', 'lbfgs'],\n",
    "    'logreg__C': np.logspace(-4,4,5),\n",
    "    'logreg__max_iter': [500, 1000, 5000]\n",
    "}\n",
    "\n",
    "grid_logr = GridSearchCV(logr_pipe, param_grid, cv=5)\n",
    "grid_logr.fit(X_train, y_train)\n",
    "print('Logistic Regression')\n",
    "print(\"Best parameters: {}\".format(grid_logr.best_params_))\n",
    "print(\"Best cross-validation score: {}\".format(grid_logr.best_score_))"
   ]
  },
  {
   "cell_type": "markdown",
   "metadata": {},
   "source": [
    "Skor cross validatian tertinggi di antara keempat model di atas adalah Logistic Regression. Selanjut, parameter terbaik dari model ini akan kita coba lihat kinerja model secara detail pada berikut ini."
   ]
  },
  {
   "cell_type": "code",
   "execution_count": 78,
   "metadata": {},
   "outputs": [],
   "source": [
    "# fungsi untuk membuat confusion matrix\n",
    "def conf_matrix(model_names, y_test, y_pred):\n",
    "    plt.figure(figsize=(6, 6))\n",
    "    plt.title(f'Confusion Matrix of {model_names}')\n",
    "    ax = plt.subplot()\n",
    "    cm = confusion_matrix(y_test, y_pred)\n",
    "    sns.heatmap(cm, annot=True, ax = ax, fmt = 'g', cmap=plt.cm.Blues)\n",
    "    ax.set_xlabel('Label Prediksi')\n",
    "    ax.set_ylabel('Label Aktual')\n",
    "    plt.show()"
   ]
  },
  {
   "cell_type": "code",
   "execution_count": 79,
   "metadata": {},
   "outputs": [],
   "source": [
    "# memasukkan parameter terbaik ke model logistic regression\n",
    "best_params = grid_logr.best_params_\n",
    "logr_pipe.set_params(**best_params)\n",
    "logr_pipe.fit(X_train, y_train)\n",
    "yb_pred = logr_pipe.predict(X_test)"
   ]
  },
  {
   "cell_type": "code",
   "execution_count": 80,
   "metadata": {},
   "outputs": [
    {
     "data": {
      "text/plain": [
       "LogisticRegression(C=100.0, max_iter=500, solver='liblinear')"
      ]
     },
     "execution_count": 80,
     "metadata": {},
     "output_type": "execute_result"
    }
   ],
   "source": [
    "# mengecek parameter yang telah dimasukkan\n",
    "logr_pipe.named_steps['logreg']"
   ]
  },
  {
   "cell_type": "code",
   "execution_count": 81,
   "metadata": {},
   "outputs": [
    {
     "name": "stdout",
     "output_type": "stream",
     "text": [
      "----------   Logistic Regression   ----------\n"
     ]
    },
    {
     "data": {
      "image/png": "[encoded data removed]",
      "text/plain": [
       "<Figure size 432x432 with 2 Axes>"
      ]
     },
     "metadata": {
      "needs_background": "light"
     },
     "output_type": "display_data"
    },
    {
     "name": "stdout",
     "output_type": "stream",
     "text": [
      "Classification Report\n",
      "              precision    recall  f1-score   support\n",
      "\n",
      "           0       0.91      0.98      0.95     10965\n",
      "           1       0.66      0.23      0.34      1392\n",
      "\n",
      "    accuracy                           0.90     12357\n",
      "   macro avg       0.78      0.61      0.65     12357\n",
      "weighted avg       0.88      0.90      0.88     12357\n",
      "\n"
     ]
    }
   ],
   "source": [
    "# membuat confusion matrix dan classification report\n",
    "names = \"Logistic Regression\"\n",
    "\n",
    "print(f'----------   {names}   ----------')\n",
    "conf_matrix(names, y_test, yb_pred)\n",
    "print('Classification Report')\n",
    "print(classification_report(y_test, yb_pred))"
   ]
  },
  {
   "cell_type": "code",
   "execution_count": 83,
   "metadata": {
    "scrolled": true
   },
   "outputs": [
    {
     "name": "stdout",
     "output_type": "stream",
     "text": [
      "Akurasi Data Train: 0.8998300440498075\n",
      "Akurasi Data Test: 0.8998947964716355\n",
      "Recall: 0.9844961240310077\n",
      "Skor F1: 0.9458097866561529\n"
     ]
    }
   ],
   "source": [
    "print('Akurasi Data Train:', logr_pipe.score(X_train, y_train))\n",
    "print('Akurasi Data Test:', logr_pipe.score(X_test, y_test))\n",
    "print('Recall:', recall_score(y_test, yb_pred, pos_label=0))\n",
    "print('Skor F1:', f1_score(y_test, yb_pred, pos_label=0))"
   ]
  },
  {
   "cell_type": "markdown",
   "metadata": {},
   "source": [
    "Hasil dari regresi logistik dengan parameter terbaik terlihat tidak jauh berbeda dengan parameter bawaan. Hasilnya juga masih belum lebih baik dari SVM, bahkan nilai recall lebih rendah dari parameter bawaan. Selanjutnya, mungkin parameter model SVM diatur kembali dengan parameter yang lebih luas, tetapi harus siap dengan waktu lebih. Serta, penilaian pada proses gridsearch bisa berfokus pada recall."
   ]
  },
  {
   "cell_type": "markdown",
   "metadata": {},
   "source": [
    "## Model Inference"
   ]
  },
  {
   "cell_type": "code",
   "execution_count": 90,
   "metadata": {},
   "outputs": [
    {
     "data": {
      "text/html": [
       "<div>\n",
       "<style scoped>\n",
       "    .dataframe tbody tr th:only-of-type {\n",
       "        vertical-align: middle;\n",
       "    }\n",
       "\n",
       "    .dataframe tbody tr th {\n",
       "        vertical-align: top;\n",
       "    }\n",
       "\n",
       "    .dataframe thead th {\n",
       "        text-align: right;\n",
       "    }\n",
       "</style>\n",
       "<table border=\"1\" class=\"dataframe\">\n",
       "  <thead>\n",
       "    <tr style=\"text-align: right;\">\n",
       "      <th></th>\n",
       "      <th>age</th>\n",
       "      <th>job</th>\n",
       "      <th>marital</th>\n",
       "      <th>education</th>\n",
       "      <th>default</th>\n",
       "      <th>housing</th>\n",
       "      <th>loan</th>\n",
       "      <th>contact</th>\n",
       "      <th>month</th>\n",
       "      <th>day_of_week</th>\n",
       "      <th>campaign</th>\n",
       "      <th>pdays</th>\n",
       "      <th>previous</th>\n",
       "      <th>poutcome</th>\n",
       "      <th>emp_var_rate</th>\n",
       "      <th>cons_price_idx</th>\n",
       "      <th>cons_conf_idx</th>\n",
       "      <th>euribor3m</th>\n",
       "      <th>nr_employed</th>\n",
       "    </tr>\n",
       "  </thead>\n",
       "  <tbody>\n",
       "    <tr>\n",
       "      <th>0</th>\n",
       "      <td>31</td>\n",
       "      <td>admin.</td>\n",
       "      <td>married</td>\n",
       "      <td>basic.4y</td>\n",
       "      <td>no</td>\n",
       "      <td>no</td>\n",
       "      <td>no</td>\n",
       "      <td>cellular</td>\n",
       "      <td>may</td>\n",
       "      <td>fri</td>\n",
       "      <td>1</td>\n",
       "      <td>999</td>\n",
       "      <td>0</td>\n",
       "      <td>nonexistent</td>\n",
       "      <td>1.1</td>\n",
       "      <td>93.444</td>\n",
       "      <td>-42.0</td>\n",
       "      <td>4.961</td>\n",
       "      <td>5195.8</td>\n",
       "    </tr>\n",
       "    <tr>\n",
       "      <th>1</th>\n",
       "      <td>42</td>\n",
       "      <td>admin.</td>\n",
       "      <td>married</td>\n",
       "      <td>high.school</td>\n",
       "      <td>no</td>\n",
       "      <td>yes</td>\n",
       "      <td>no</td>\n",
       "      <td>cellular</td>\n",
       "      <td>aug</td>\n",
       "      <td>fri</td>\n",
       "      <td>2</td>\n",
       "      <td>999</td>\n",
       "      <td>0</td>\n",
       "      <td>nonexistent</td>\n",
       "      <td>1.4</td>\n",
       "      <td>93.918</td>\n",
       "      <td>-41.8</td>\n",
       "      <td>4.860</td>\n",
       "      <td>5228.1</td>\n",
       "    </tr>\n",
       "    <tr>\n",
       "      <th>2</th>\n",
       "      <td>27</td>\n",
       "      <td>management</td>\n",
       "      <td>married</td>\n",
       "      <td>professional.course</td>\n",
       "      <td>no</td>\n",
       "      <td>no</td>\n",
       "      <td>no</td>\n",
       "      <td>cellular</td>\n",
       "      <td>jul</td>\n",
       "      <td>mon</td>\n",
       "      <td>1</td>\n",
       "      <td>999</td>\n",
       "      <td>0</td>\n",
       "      <td>nonexistent</td>\n",
       "      <td>-1.8</td>\n",
       "      <td>92.893</td>\n",
       "      <td>-47.1</td>\n",
       "      <td>4.856</td>\n",
       "      <td>5076.2</td>\n",
       "    </tr>\n",
       "  </tbody>\n",
       "</table>\n",
       "</div>"
      ],
      "text/plain": [
       "   age         job  marital            education default housing loan  \\\n",
       "0   31      admin.  married             basic.4y      no      no   no   \n",
       "1   42      admin.  married          high.school      no     yes   no   \n",
       "2   27  management  married  professional.course      no      no   no   \n",
       "\n",
       "    contact month day_of_week  campaign  pdays  previous     poutcome  \\\n",
       "0  cellular   may         fri         1    999         0  nonexistent   \n",
       "1  cellular   aug         fri         2    999         0  nonexistent   \n",
       "2  cellular   jul         mon         1    999         0  nonexistent   \n",
       "\n",
       "   emp_var_rate  cons_price_idx  cons_conf_idx  euribor3m  nr_employed  \n",
       "0           1.1          93.444          -42.0      4.961       5195.8  \n",
       "1           1.4          93.918          -41.8      4.860       5228.1  \n",
       "2          -1.8          92.893          -47.1      4.856       5076.2  "
      ]
     },
     "execution_count": 90,
     "metadata": {},
     "output_type": "execute_result"
    }
   ],
   "source": [
    "# membuat data dummy\n",
    "inf_df = pd.DataFrame(columns=bank.columns[:-1])\n",
    "\n",
    "# membuat data random dari sebaran data dari data mentah\n",
    "for col in bank.columns[:-1]:\n",
    "    inf_df[col] = bank[col].sample(3).values\n",
    "\n",
    "inf_df"
   ]
  },
  {
   "cell_type": "code",
   "execution_count": 91,
   "metadata": {},
   "outputs": [
    {
     "data": {
      "text/html": [
       "<div>\n",
       "<style scoped>\n",
       "    .dataframe tbody tr th:only-of-type {\n",
       "        vertical-align: middle;\n",
       "    }\n",
       "\n",
       "    .dataframe tbody tr th {\n",
       "        vertical-align: top;\n",
       "    }\n",
       "\n",
       "    .dataframe thead th {\n",
       "        text-align: right;\n",
       "    }\n",
       "</style>\n",
       "<table border=\"1\" class=\"dataframe\">\n",
       "  <thead>\n",
       "    <tr style=\"text-align: right;\">\n",
       "      <th></th>\n",
       "      <th>age</th>\n",
       "      <th>job</th>\n",
       "      <th>marital</th>\n",
       "      <th>education</th>\n",
       "      <th>default</th>\n",
       "      <th>housing</th>\n",
       "      <th>loan</th>\n",
       "      <th>contact</th>\n",
       "      <th>month</th>\n",
       "      <th>day_of_week</th>\n",
       "      <th>campaign</th>\n",
       "      <th>pdays</th>\n",
       "      <th>previous</th>\n",
       "      <th>poutcome</th>\n",
       "      <th>emp_var_rate</th>\n",
       "      <th>cons_price_idx</th>\n",
       "      <th>cons_conf_idx</th>\n",
       "      <th>euribor3m</th>\n",
       "      <th>nr_employed</th>\n",
       "      <th>y_prediction</th>\n",
       "    </tr>\n",
       "  </thead>\n",
       "  <tbody>\n",
       "    <tr>\n",
       "      <th>0</th>\n",
       "      <td>31</td>\n",
       "      <td>admin.</td>\n",
       "      <td>married</td>\n",
       "      <td>basic.4y</td>\n",
       "      <td>no</td>\n",
       "      <td>no</td>\n",
       "      <td>no</td>\n",
       "      <td>cellular</td>\n",
       "      <td>may</td>\n",
       "      <td>fri</td>\n",
       "      <td>1</td>\n",
       "      <td>999</td>\n",
       "      <td>0</td>\n",
       "      <td>nonexistent</td>\n",
       "      <td>1.1</td>\n",
       "      <td>93.444</td>\n",
       "      <td>-42.0</td>\n",
       "      <td>4.961</td>\n",
       "      <td>5195.8</td>\n",
       "      <td>no</td>\n",
       "    </tr>\n",
       "    <tr>\n",
       "      <th>1</th>\n",
       "      <td>42</td>\n",
       "      <td>admin.</td>\n",
       "      <td>married</td>\n",
       "      <td>high.school</td>\n",
       "      <td>no</td>\n",
       "      <td>yes</td>\n",
       "      <td>no</td>\n",
       "      <td>cellular</td>\n",
       "      <td>aug</td>\n",
       "      <td>fri</td>\n",
       "      <td>2</td>\n",
       "      <td>999</td>\n",
       "      <td>0</td>\n",
       "      <td>nonexistent</td>\n",
       "      <td>1.4</td>\n",
       "      <td>93.918</td>\n",
       "      <td>-41.8</td>\n",
       "      <td>4.860</td>\n",
       "      <td>5228.1</td>\n",
       "      <td>no</td>\n",
       "    </tr>\n",
       "    <tr>\n",
       "      <th>2</th>\n",
       "      <td>27</td>\n",
       "      <td>management</td>\n",
       "      <td>married</td>\n",
       "      <td>professional.course</td>\n",
       "      <td>no</td>\n",
       "      <td>no</td>\n",
       "      <td>no</td>\n",
       "      <td>cellular</td>\n",
       "      <td>jul</td>\n",
       "      <td>mon</td>\n",
       "      <td>1</td>\n",
       "      <td>999</td>\n",
       "      <td>0</td>\n",
       "      <td>nonexistent</td>\n",
       "      <td>-1.8</td>\n",
       "      <td>92.893</td>\n",
       "      <td>-47.1</td>\n",
       "      <td>4.856</td>\n",
       "      <td>5076.2</td>\n",
       "      <td>no</td>\n",
       "    </tr>\n",
       "  </tbody>\n",
       "</table>\n",
       "</div>"
      ],
      "text/plain": [
       "   age         job  marital            education default housing loan  \\\n",
       "0   31      admin.  married             basic.4y      no      no   no   \n",
       "1   42      admin.  married          high.school      no     yes   no   \n",
       "2   27  management  married  professional.course      no      no   no   \n",
       "\n",
       "    contact month day_of_week  campaign  pdays  previous     poutcome  \\\n",
       "0  cellular   may         fri         1    999         0  nonexistent   \n",
       "1  cellular   aug         fri         2    999         0  nonexistent   \n",
       "2  cellular   jul         mon         1    999         0  nonexistent   \n",
       "\n",
       "   emp_var_rate  cons_price_idx  cons_conf_idx  euribor3m  nr_employed  \\\n",
       "0           1.1          93.444          -42.0      4.961       5195.8   \n",
       "1           1.4          93.918          -41.8      4.860       5228.1   \n",
       "2          -1.8          92.893          -47.1      4.856       5076.2   \n",
       "\n",
       "  y_prediction  \n",
       "0           no  \n",
       "1           no  \n",
       "2           no  "
      ]
     },
     "execution_count": 91,
     "metadata": {},
     "output_type": "execute_result"
    }
   ],
   "source": [
    "# memprediksi data dummy\n",
    "yinf_pred = logr_pipe.predict(inf_df)\n",
    "yinf_pred = np.where(yinf_pred == 0, 'no', 'yes')\n",
    "inf_df['y_prediction'] = yinf_pred\n",
    "inf_df"
   ]
  },
  {
   "cell_type": "markdown",
   "metadata": {},
   "source": [
    "## Kesimpulan"
   ]
  },
  {
   "cell_type": "markdown",
   "metadata": {},
   "source": [
    "- Pada parameter bawaan, ada empat model terbaik yaitu Support Vector Machine, Ada Boosting, Gradient Boosting, dan Logistic Regression (berurut sesuai nilai recall tertinggi). Nilai recall dari keempat model tersebut sekitar 0,99.\n",
    "- Pada model KNeighbors, Random Forest, dan Decision Tree, skor akurasi data train dan data test terlihat cukup jauh berbeda. Hal tersebut menunjukkan model overfitting terhadap data train.\n",
    "- Pada model Gaussian Naive Bayes, skor akurasi jauh berbeda dibandingkan model yang lain. Saya menduga bahwa ini terjadi karena terdapat hubungan korelasi antar fitur, karena model ini sensitif terhadap multikolinearitas.\n",
    "- Setelah dilakukan tuning hyperparameter, regresi logistik memiliki nilai cross validation terbaik. Namun setelah parameter terbaik diuji kembali, nilai recallnya menurun dari parameter bawaan dan nilai akurasinya masih lebih rendah dibandingkan model SVM .\n",
    "- Perlu dilakukan kembali analisa selanjutnya dengan mengatur parameter model SVM dengan lebih luas, tetapi harus siap dengan waktu yang lebih. Serta, acuan penilaian pada proses gridsearch bisa berfokus pada recall."
   ]
  }
 ],
 "metadata": {
  "kernelspec": {
   "display_name": "Python 3",
   "language": "python",
   "name": "python3"
  },
  "language_info": {
   "codemirror_mode": {
    "name": "ipython",
    "version": 3
   },
   "file_extension": ".py",
   "mimetype": "text/x-python",
   "name": "python",
   "nbconvert_exporter": "python",
   "pygments_lexer": "ipython3",
   "version": "3.8.5"
  },
  "varInspector": {
   "cols": {
    "lenName": 16,
    "lenType": 16,
    "lenVar": 40
   },
   "kernels_config": {
    "python": {
     "delete_cmd_postfix": "",
     "delete_cmd_prefix": "del ",
     "library": "var_list.py",
     "varRefreshCmd": "print(var_dic_list())"
    },
    "r": {
     "delete_cmd_postfix": ") ",
     "delete_cmd_prefix": "rm(",
     "library": "var_list.r",
     "varRefreshCmd": "cat(var_dic_list()) "
    }
   },
   "types_to_exclude": [
    "module",
    "function",
    "builtin_function_or_method",
    "instance",
    "_Feature"
   ],
   "window_display": false
  }
 },
 "nbformat": 4,
 "nbformat_minor": 4
}
