{
 "cells": [
  {
   "cell_type": "markdown",
   "metadata": {},
   "source": [
    "# Clasification Customer of E-Commerce\n",
    "by Risqi Rahmatullah"
   ]
  },
  {
   "cell_type": "markdown",
   "metadata": {},
   "source": [
    "## Introduction\n",
    "\n",
    "### Data Description\n",
    "\n",
    "**About**  \n",
    "Datasets contains behavior data for 5 months (Oct 2019 – Feb 2020) from a large electronics online store.\n",
    "\n",
    "Each row in the file represents an event. All events are related to products and users. Each event is like many-to-many relation between products and users.\n",
    "\n",
    "Data collected by Open CDP project. Feel free to use open source customer data platform.\n",
    "\n",
    "**Column Description**\n",
    "\n",
    "| Column Name | Description |\n",
    "| :- | :- |\n",
    "| event_time | Time when event happened at (in UTC). |\n",
    "| event_type | Only one kind of event: purchase. |\n",
    "| product_id | ID of a product |\n",
    "| category_id | Product's category ID |\n",
    "| category_code | Product's category taxonomy (code name) if it was possible to make it. Usually present for meaningful categories and skipped for different kinds of accessories. |\n",
    "| brand | Downcased string of brand name. Can be missed. |\n",
    "| price | Float price of a product. Present. |\n",
    "| user_id | Permanent user ID.|\n",
    "| _user_session_ | Temporary user's session ID. Same for each user's session. Is changed every time user come back to online store from a long pause. |\n",
    "\n",
    "Notes:\n",
    "- Event types can be:\n",
    "    - view: a user viewed a product\n",
    "    - cart: a user added a product to shopping cart\n",
    "    - remove_from_cart: a user removed a product from shopping cart\n",
    "    - purchase: a user purchased a product\n",
    "- Multiple purchases per session: A session can have multiple purchase events. It's ok, because it's a single order.\n",
    "\n",
    "**Source**  \n",
    "[REES46 eCommerce Marketing Platform](https://rees46.com/en/open-cdp)\n",
    "\n",
    "### Objective\n",
    "1. Find the best selling and high earning products\n",
    "1. Find most popular and high revenue brands\n",
    "1. View revenue time by time\n",
    "1. Predicting customers who add items to the cart will buy or not\n"
   ]
  },
  {
   "cell_type": "markdown",
   "metadata": {},
   "source": [
    "How many orders the dataset has?\n",
    "How many unique customer we have?\n",
    "How often do the customers purchase?\n",
    "When do they like to purchase?\n",
    "How many items do they purchase in each order?"
   ]
  },
  {
   "cell_type": "markdown",
   "metadata": {},
   "source": [
    "## Library"
   ]
  },
  {
   "cell_type": "code",
   "execution_count": 3,
   "metadata": {},
   "outputs": [],
   "source": [
    "import pandas as pd\n",
    "import numpy as np\n",
    "import matplotlib.pyplot as plt\n",
    "import seaborn as sns\n",
    "from sklearn.model_selection import train_test_split, cross_val_score, GridSearchCV\n",
    "from feature_engine.outliers import Winsorizer\n",
    "from sklearn.preprocessing import StandardScaler, OrdinalEncoder, OneHotEncoder\n",
    "from sklearn.pipeline import Pipeline\n",
    "from sklearn.compose import ColumnTransformer\n",
    "from sklearn.linear_model import LogisticRegression\n",
    "from sklearn.svm import SVC\n",
    "from sklearn.neighbors import KNeighborsClassifier\n",
    "from sklearn.tree import DecisionTreeClassifier\n",
    "from sklearn.ensemble import RandomForestClassifier, GradientBoostingClassifier, AdaBoostClassifier\n",
    "from sklearn.naive_bayes import GaussianNB\n",
    "from sklearn.metrics import confusion_matrix, accuracy_score, classification_report\n",
    "from sklearn.metrics import f1_score, precision_score, roc_auc_score, roc_curve"
   ]
  },
  {
   "cell_type": "markdown",
   "metadata": {},
   "source": [
    "## Data Loading"
   ]
  },
  {
   "cell_type": "code",
   "execution_count": 4,
   "metadata": {},
   "outputs": [
    {
     "data": {
      "text/html": [
       "<div>\n",
       "<style scoped>\n",
       "    .dataframe tbody tr th:only-of-type {\n",
       "        vertical-align: middle;\n",
       "    }\n",
       "\n",
       "    .dataframe tbody tr th {\n",
       "        vertical-align: top;\n",
       "    }\n",
       "\n",
       "    .dataframe thead th {\n",
       "        text-align: right;\n",
       "    }\n",
       "</style>\n",
       "<table border=\"1\" class=\"dataframe\">\n",
       "  <thead>\n",
       "    <tr style=\"text-align: right;\">\n",
       "      <th></th>\n",
       "      <th>event_time</th>\n",
       "      <th>event_type</th>\n",
       "      <th>product_id</th>\n",
       "      <th>category_id</th>\n",
       "      <th>category_code</th>\n",
       "      <th>brand</th>\n",
       "      <th>price</th>\n",
       "      <th>user_id</th>\n",
       "      <th>user_session</th>\n",
       "    </tr>\n",
       "  </thead>\n",
       "  <tbody>\n",
       "    <tr>\n",
       "      <th>0</th>\n",
       "      <td>2020-09-24 11:57:06 UTC</td>\n",
       "      <td>view</td>\n",
       "      <td>1996170</td>\n",
       "      <td>2144415922528452715</td>\n",
       "      <td>electronics.telephone</td>\n",
       "      <td>NaN</td>\n",
       "      <td>31.90</td>\n",
       "      <td>1515915625519388267</td>\n",
       "      <td>LJuJVLEjPT</td>\n",
       "    </tr>\n",
       "    <tr>\n",
       "      <th>1</th>\n",
       "      <td>2020-09-24 11:57:26 UTC</td>\n",
       "      <td>view</td>\n",
       "      <td>139905</td>\n",
       "      <td>2144415926932472027</td>\n",
       "      <td>computers.components.cooler</td>\n",
       "      <td>zalman</td>\n",
       "      <td>17.16</td>\n",
       "      <td>1515915625519380411</td>\n",
       "      <td>tdicluNnRY</td>\n",
       "    </tr>\n",
       "    <tr>\n",
       "      <th>2</th>\n",
       "      <td>2020-09-24 11:57:27 UTC</td>\n",
       "      <td>view</td>\n",
       "      <td>215454</td>\n",
       "      <td>2144415927158964449</td>\n",
       "      <td>NaN</td>\n",
       "      <td>NaN</td>\n",
       "      <td>9.81</td>\n",
       "      <td>1515915625513238515</td>\n",
       "      <td>4TMArHtXQy</td>\n",
       "    </tr>\n",
       "    <tr>\n",
       "      <th>3</th>\n",
       "      <td>2020-09-24 11:57:33 UTC</td>\n",
       "      <td>view</td>\n",
       "      <td>635807</td>\n",
       "      <td>2144415923107266682</td>\n",
       "      <td>computers.peripherals.printer</td>\n",
       "      <td>pantum</td>\n",
       "      <td>113.81</td>\n",
       "      <td>1515915625519014356</td>\n",
       "      <td>aGFYrNgC08</td>\n",
       "    </tr>\n",
       "    <tr>\n",
       "      <th>4</th>\n",
       "      <td>2020-09-24 11:57:36 UTC</td>\n",
       "      <td>view</td>\n",
       "      <td>3658723</td>\n",
       "      <td>2144415921169498184</td>\n",
       "      <td>NaN</td>\n",
       "      <td>cameronsino</td>\n",
       "      <td>15.87</td>\n",
       "      <td>1515915625510743344</td>\n",
       "      <td>aa4mmk0kwQ</td>\n",
       "    </tr>\n",
       "    <tr>\n",
       "      <th>...</th>\n",
       "      <td>...</td>\n",
       "      <td>...</td>\n",
       "      <td>...</td>\n",
       "      <td>...</td>\n",
       "      <td>...</td>\n",
       "      <td>...</td>\n",
       "      <td>...</td>\n",
       "      <td>...</td>\n",
       "      <td>...</td>\n",
       "    </tr>\n",
       "    <tr>\n",
       "      <th>885124</th>\n",
       "      <td>2021-02-28 23:55:01 UTC</td>\n",
       "      <td>view</td>\n",
       "      <td>953226</td>\n",
       "      <td>2144415927553229037</td>\n",
       "      <td>NaN</td>\n",
       "      <td>NaN</td>\n",
       "      <td>219.94</td>\n",
       "      <td>1515915625611023730</td>\n",
       "      <td>FRLqIttxKU</td>\n",
       "    </tr>\n",
       "    <tr>\n",
       "      <th>885125</th>\n",
       "      <td>2021-02-28 23:58:05 UTC</td>\n",
       "      <td>view</td>\n",
       "      <td>1715907</td>\n",
       "      <td>2144415927049912542</td>\n",
       "      <td>electronics.video.tv</td>\n",
       "      <td>starwind</td>\n",
       "      <td>80.03</td>\n",
       "      <td>1515915625611024014</td>\n",
       "      <td>g6WqPf50Ma</td>\n",
       "    </tr>\n",
       "    <tr>\n",
       "      <th>885126</th>\n",
       "      <td>2021-02-28 23:58:09 UTC</td>\n",
       "      <td>view</td>\n",
       "      <td>4170534</td>\n",
       "      <td>2144415939364389423</td>\n",
       "      <td>electronics.clocks</td>\n",
       "      <td>amazfit</td>\n",
       "      <td>64.92</td>\n",
       "      <td>1515915625611024020</td>\n",
       "      <td>xNIJBqZdkd</td>\n",
       "    </tr>\n",
       "    <tr>\n",
       "      <th>885127</th>\n",
       "      <td>2021-02-28 23:58:14 UTC</td>\n",
       "      <td>view</td>\n",
       "      <td>888273</td>\n",
       "      <td>2144415921932861531</td>\n",
       "      <td>electronics.telephone</td>\n",
       "      <td>NaN</td>\n",
       "      <td>10.16</td>\n",
       "      <td>1515915625611024030</td>\n",
       "      <td>9pCbKMIcSx</td>\n",
       "    </tr>\n",
       "    <tr>\n",
       "      <th>885128</th>\n",
       "      <td>2021-02-28 23:59:09 UTC</td>\n",
       "      <td>view</td>\n",
       "      <td>743182</td>\n",
       "      <td>2144415935631458761</td>\n",
       "      <td>construction.tools.soldering</td>\n",
       "      <td>kada</td>\n",
       "      <td>65.08</td>\n",
       "      <td>1515915625556087775</td>\n",
       "      <td>BejOXRngEW</td>\n",
       "    </tr>\n",
       "  </tbody>\n",
       "</table>\n",
       "<p>885129 rows × 9 columns</p>\n",
       "</div>"
      ],
      "text/plain": [
       "                     event_time event_type  product_id          category_id  \\\n",
       "0       2020-09-24 11:57:06 UTC       view     1996170  2144415922528452715   \n",
       "1       2020-09-24 11:57:26 UTC       view      139905  2144415926932472027   \n",
       "2       2020-09-24 11:57:27 UTC       view      215454  2144415927158964449   \n",
       "3       2020-09-24 11:57:33 UTC       view      635807  2144415923107266682   \n",
       "4       2020-09-24 11:57:36 UTC       view     3658723  2144415921169498184   \n",
       "...                         ...        ...         ...                  ...   \n",
       "885124  2021-02-28 23:55:01 UTC       view      953226  2144415927553229037   \n",
       "885125  2021-02-28 23:58:05 UTC       view     1715907  2144415927049912542   \n",
       "885126  2021-02-28 23:58:09 UTC       view     4170534  2144415939364389423   \n",
       "885127  2021-02-28 23:58:14 UTC       view      888273  2144415921932861531   \n",
       "885128  2021-02-28 23:59:09 UTC       view      743182  2144415935631458761   \n",
       "\n",
       "                        category_code        brand   price  \\\n",
       "0               electronics.telephone          NaN   31.90   \n",
       "1         computers.components.cooler       zalman   17.16   \n",
       "2                                 NaN          NaN    9.81   \n",
       "3       computers.peripherals.printer       pantum  113.81   \n",
       "4                                 NaN  cameronsino   15.87   \n",
       "...                               ...          ...     ...   \n",
       "885124                            NaN          NaN  219.94   \n",
       "885125           electronics.video.tv     starwind   80.03   \n",
       "885126             electronics.clocks      amazfit   64.92   \n",
       "885127          electronics.telephone          NaN   10.16   \n",
       "885128   construction.tools.soldering         kada   65.08   \n",
       "\n",
       "                    user_id user_session  \n",
       "0       1515915625519388267   LJuJVLEjPT  \n",
       "1       1515915625519380411   tdicluNnRY  \n",
       "2       1515915625513238515   4TMArHtXQy  \n",
       "3       1515915625519014356   aGFYrNgC08  \n",
       "4       1515915625510743344   aa4mmk0kwQ  \n",
       "...                     ...          ...  \n",
       "885124  1515915625611023730   FRLqIttxKU  \n",
       "885125  1515915625611024014   g6WqPf50Ma  \n",
       "885126  1515915625611024020   xNIJBqZdkd  \n",
       "885127  1515915625611024030   9pCbKMIcSx  \n",
       "885128  1515915625556087775   BejOXRngEW  \n",
       "\n",
       "[885129 rows x 9 columns]"
      ]
     },
     "execution_count": 4,
     "metadata": {},
     "output_type": "execute_result"
    }
   ],
   "source": [
    "df = pd.read_csv('user-events.csv')\n",
    "df"
   ]
  },
  {
   "cell_type": "code",
   "execution_count": 5,
   "metadata": {},
   "outputs": [
    {
     "name": "stdout",
     "output_type": "stream",
     "text": [
      "<class 'pandas.core.frame.DataFrame'>\n",
      "RangeIndex: 885129 entries, 0 to 885128\n",
      "Data columns (total 9 columns):\n",
      " #   Column         Non-Null Count   Dtype  \n",
      "---  ------         --------------   -----  \n",
      " 0   event_time     885129 non-null  object \n",
      " 1   event_type     885129 non-null  object \n",
      " 2   product_id     885129 non-null  int64  \n",
      " 3   category_id    885129 non-null  int64  \n",
      " 4   category_code  648910 non-null  object \n",
      " 5   brand          672765 non-null  object \n",
      " 6   price          885129 non-null  float64\n",
      " 7   user_id        885129 non-null  int64  \n",
      " 8   user_session   884964 non-null  object \n",
      "dtypes: float64(1), int64(3), object(5)\n",
      "memory usage: 60.8+ MB\n"
     ]
    }
   ],
   "source": [
    "df.info()"
   ]
  },
  {
   "cell_type": "code",
   "execution_count": 6,
   "metadata": {},
   "outputs": [
    {
     "data": {
      "text/html": [
       "<div>\n",
       "<style scoped>\n",
       "    .dataframe tbody tr th:only-of-type {\n",
       "        vertical-align: middle;\n",
       "    }\n",
       "\n",
       "    .dataframe tbody tr th {\n",
       "        vertical-align: top;\n",
       "    }\n",
       "\n",
       "    .dataframe thead th {\n",
       "        text-align: right;\n",
       "    }\n",
       "</style>\n",
       "<table border=\"1\" class=\"dataframe\">\n",
       "  <thead>\n",
       "    <tr style=\"text-align: right;\">\n",
       "      <th></th>\n",
       "      <th>event_time</th>\n",
       "      <th>event_type</th>\n",
       "      <th>product_id</th>\n",
       "      <th>category_id</th>\n",
       "      <th>category_code</th>\n",
       "      <th>brand</th>\n",
       "      <th>price</th>\n",
       "      <th>user_id</th>\n",
       "      <th>user_session</th>\n",
       "    </tr>\n",
       "  </thead>\n",
       "  <tbody>\n",
       "    <tr>\n",
       "      <th>count</th>\n",
       "      <td>885129</td>\n",
       "      <td>885129</td>\n",
       "      <td>8.851290e+05</td>\n",
       "      <td>8.851290e+05</td>\n",
       "      <td>648910</td>\n",
       "      <td>672765</td>\n",
       "      <td>885129.000000</td>\n",
       "      <td>8.851290e+05</td>\n",
       "      <td>884964</td>\n",
       "    </tr>\n",
       "    <tr>\n",
       "      <th>unique</th>\n",
       "      <td>845041</td>\n",
       "      <td>3</td>\n",
       "      <td>NaN</td>\n",
       "      <td>NaN</td>\n",
       "      <td>107</td>\n",
       "      <td>999</td>\n",
       "      <td>NaN</td>\n",
       "      <td>NaN</td>\n",
       "      <td>490398</td>\n",
       "    </tr>\n",
       "    <tr>\n",
       "      <th>top</th>\n",
       "      <td>2021-02-04 21:48:32 UTC</td>\n",
       "      <td>view</td>\n",
       "      <td>NaN</td>\n",
       "      <td>NaN</td>\n",
       "      <td>computers.components.videocards</td>\n",
       "      <td>asus</td>\n",
       "      <td>NaN</td>\n",
       "      <td>NaN</td>\n",
       "      <td>nFlhu5QzOd</td>\n",
       "    </tr>\n",
       "    <tr>\n",
       "      <th>freq</th>\n",
       "      <td>18</td>\n",
       "      <td>793748</td>\n",
       "      <td>NaN</td>\n",
       "      <td>NaN</td>\n",
       "      <td>116717</td>\n",
       "      <td>27706</td>\n",
       "      <td>NaN</td>\n",
       "      <td>NaN</td>\n",
       "      <td>572</td>\n",
       "    </tr>\n",
       "    <tr>\n",
       "      <th>mean</th>\n",
       "      <td>NaN</td>\n",
       "      <td>NaN</td>\n",
       "      <td>1.906621e+06</td>\n",
       "      <td>2.144423e+18</td>\n",
       "      <td>NaN</td>\n",
       "      <td>NaN</td>\n",
       "      <td>146.328713</td>\n",
       "      <td>1.515916e+18</td>\n",
       "      <td>NaN</td>\n",
       "    </tr>\n",
       "    <tr>\n",
       "      <th>std</th>\n",
       "      <td>NaN</td>\n",
       "      <td>NaN</td>\n",
       "      <td>1.458708e+06</td>\n",
       "      <td>6.165105e+14</td>\n",
       "      <td>NaN</td>\n",
       "      <td>NaN</td>\n",
       "      <td>296.807683</td>\n",
       "      <td>3.747287e+07</td>\n",
       "      <td>NaN</td>\n",
       "    </tr>\n",
       "    <tr>\n",
       "      <th>min</th>\n",
       "      <td>NaN</td>\n",
       "      <td>NaN</td>\n",
       "      <td>1.020000e+02</td>\n",
       "      <td>2.144416e+18</td>\n",
       "      <td>NaN</td>\n",
       "      <td>NaN</td>\n",
       "      <td>0.220000</td>\n",
       "      <td>1.515916e+18</td>\n",
       "      <td>NaN</td>\n",
       "    </tr>\n",
       "    <tr>\n",
       "      <th>25%</th>\n",
       "      <td>NaN</td>\n",
       "      <td>NaN</td>\n",
       "      <td>6.988030e+05</td>\n",
       "      <td>2.144416e+18</td>\n",
       "      <td>NaN</td>\n",
       "      <td>NaN</td>\n",
       "      <td>26.460000</td>\n",
       "      <td>1.515916e+18</td>\n",
       "      <td>NaN</td>\n",
       "    </tr>\n",
       "    <tr>\n",
       "      <th>50%</th>\n",
       "      <td>NaN</td>\n",
       "      <td>NaN</td>\n",
       "      <td>1.452883e+06</td>\n",
       "      <td>2.144416e+18</td>\n",
       "      <td>NaN</td>\n",
       "      <td>NaN</td>\n",
       "      <td>65.710000</td>\n",
       "      <td>1.515916e+18</td>\n",
       "      <td>NaN</td>\n",
       "    </tr>\n",
       "    <tr>\n",
       "      <th>75%</th>\n",
       "      <td>NaN</td>\n",
       "      <td>NaN</td>\n",
       "      <td>3.721194e+06</td>\n",
       "      <td>2.144416e+18</td>\n",
       "      <td>NaN</td>\n",
       "      <td>NaN</td>\n",
       "      <td>190.490000</td>\n",
       "      <td>1.515916e+18</td>\n",
       "      <td>NaN</td>\n",
       "    </tr>\n",
       "    <tr>\n",
       "      <th>max</th>\n",
       "      <td>NaN</td>\n",
       "      <td>NaN</td>\n",
       "      <td>4.183880e+06</td>\n",
       "      <td>2.227847e+18</td>\n",
       "      <td>NaN</td>\n",
       "      <td>NaN</td>\n",
       "      <td>64771.060000</td>\n",
       "      <td>1.515916e+18</td>\n",
       "      <td>NaN</td>\n",
       "    </tr>\n",
       "  </tbody>\n",
       "</table>\n",
       "</div>"
      ],
      "text/plain": [
       "                     event_time event_type    product_id   category_id  \\\n",
       "count                    885129     885129  8.851290e+05  8.851290e+05   \n",
       "unique                   845041          3           NaN           NaN   \n",
       "top     2021-02-04 21:48:32 UTC       view           NaN           NaN   \n",
       "freq                         18     793748           NaN           NaN   \n",
       "mean                        NaN        NaN  1.906621e+06  2.144423e+18   \n",
       "std                         NaN        NaN  1.458708e+06  6.165105e+14   \n",
       "min                         NaN        NaN  1.020000e+02  2.144416e+18   \n",
       "25%                         NaN        NaN  6.988030e+05  2.144416e+18   \n",
       "50%                         NaN        NaN  1.452883e+06  2.144416e+18   \n",
       "75%                         NaN        NaN  3.721194e+06  2.144416e+18   \n",
       "max                         NaN        NaN  4.183880e+06  2.227847e+18   \n",
       "\n",
       "                          category_code   brand          price       user_id  \\\n",
       "count                            648910  672765  885129.000000  8.851290e+05   \n",
       "unique                              107     999            NaN           NaN   \n",
       "top     computers.components.videocards    asus            NaN           NaN   \n",
       "freq                             116717   27706            NaN           NaN   \n",
       "mean                                NaN     NaN     146.328713  1.515916e+18   \n",
       "std                                 NaN     NaN     296.807683  3.747287e+07   \n",
       "min                                 NaN     NaN       0.220000  1.515916e+18   \n",
       "25%                                 NaN     NaN      26.460000  1.515916e+18   \n",
       "50%                                 NaN     NaN      65.710000  1.515916e+18   \n",
       "75%                                 NaN     NaN     190.490000  1.515916e+18   \n",
       "max                                 NaN     NaN   64771.060000  1.515916e+18   \n",
       "\n",
       "       user_session  \n",
       "count        884964  \n",
       "unique       490398  \n",
       "top      nFlhu5QzOd  \n",
       "freq            572  \n",
       "mean            NaN  \n",
       "std             NaN  \n",
       "min             NaN  \n",
       "25%             NaN  \n",
       "50%             NaN  \n",
       "75%             NaN  \n",
       "max             NaN  "
      ]
     },
     "execution_count": 6,
     "metadata": {},
     "output_type": "execute_result"
    }
   ],
   "source": [
    "df.describe(include='all', datetime_is_numeric=True)"
   ]
  },
  {
   "cell_type": "code",
   "execution_count": null,
   "metadata": {},
   "outputs": [],
   "source": [
    "# convert data type of event_time to datetime\n",
    "df['event_time'] = pd.to_datetime(df['event_time'])"
   ]
  },
  {
   "cell_type": "code",
   "execution_count": null,
   "metadata": {},
   "outputs": [],
   "source": [
    "# extract hour, day of week, day, monrth name from event_time\n",
    "df['hour'] = df['event_time'].dt.hour\n",
    "df['day_name'] = df['event_time'].dt.day_name()\n",
    "df['day'] = df['event_time'].dt.day\n",
    "df['month_name'] = df['event_time'].dt.month_name(locale='English')"
   ]
  },
  {
   "cell_type": "code",
   "execution_count": null,
   "metadata": {},
   "outputs": [],
   "source": [
    "# divide the days of the month into 3 categories: early month (1-10), midmonth (11-20), and late-month (>20)\n",
    "conditions = [df.day <= 10, df.day >= 21]\n",
    "choices = ['early_month', 'late_month']\n",
    "\n",
    "df['early_mid_late_month'] = np.select(conditions, choices, default='mid_month')"
   ]
  },
  {
   "cell_type": "code",
   "execution_count": null,
   "metadata": {},
   "outputs": [],
   "source": [
    "# divide hour to daylight (7-18) and night (19-6)\n",
    "df['hour_name'] = np.where((df.hour >= 7) & (df.hour <= 18), 'daytime', 'night')"
   ]
  },
  {
   "cell_type": "code",
   "execution_count": null,
   "metadata": {},
   "outputs": [],
   "source": [
    "# separate product categories into 2 features\n",
    "# the category before the first dot is the first category, and after it is the second category\n",
    "# ex: computers.components.videocards >>> category_1: computers; category_2: components.videocards\n",
    "df[['category_1', 'category_2']] = df['category_code'].str.split('.', 1, expand=True)"
   ]
  },
  {
   "cell_type": "code",
   "execution_count": 9,
   "metadata": {},
   "outputs": [
    {
     "name": "stdout",
     "output_type": "stream",
     "text": [
      "<class 'pandas.core.frame.DataFrame'>\n",
      "Int64Index: 37346 entries, 45 to 885096\n",
      "Data columns (total 17 columns):\n",
      " #   Column                Non-Null Count  Dtype  \n",
      "---  ------                --------------  -----  \n",
      " 0   event_time            37346 non-null  object \n",
      " 1   event_type            37346 non-null  object \n",
      " 2   product_id            37346 non-null  int64  \n",
      " 3   category_id           37346 non-null  int64  \n",
      " 4   category_code         29778 non-null  object \n",
      " 5   brand                 27845 non-null  object \n",
      " 6   price                 37346 non-null  float64\n",
      " 7   user_id               37346 non-null  int64  \n",
      " 8   user_session          37346 non-null  object \n",
      " 9   hour                  37346 non-null  int64  \n",
      " 10  day_name              37346 non-null  object \n",
      " 11  day                   37346 non-null  int64  \n",
      " 12  month_name            37346 non-null  object \n",
      " 13  early_mid_late_month  37346 non-null  object \n",
      " 14  hour_name             37346 non-null  object \n",
      " 15  category_1            29778 non-null  object \n",
      " 16  category_2            29778 non-null  object \n",
      "dtypes: float64(1), int64(5), object(11)\n",
      "memory usage: 5.1+ MB\n"
     ]
    }
   ],
   "source": [
    "# create data frame of purchased products\n",
    "purchase_df = df[df.event_type == 'purchase']\n",
    "purchase_df.info()"
   ]
  },
  {
   "cell_type": "code",
   "execution_count": null,
   "metadata": {},
   "outputs": [],
   "source": [
    "# save data into csv to save computation time and size\n",
    "df.to_csv(r'C:\\Users\\Risqi Rahmatullah\\Documents\\Hacktiv8\\first question\\df.csv', index=False)\n",
    "purchase_df.to_csv(r'C:\\Users\\Risqi Rahmatullah\\Documents\\Hacktiv8\\first question\\purchase_df.csv', index=False)"
   ]
  },
  {
   "cell_type": "code",
   "execution_count": 8,
   "metadata": {},
   "outputs": [],
   "source": [
    "# df = pd.read_csv('df.csv')\n",
    "# purchase_df = pd.read_csv('purchase_df.csv')"
   ]
  },
  {
   "cell_type": "markdown",
   "metadata": {},
   "source": [
    "## Exploratory Data Analysis"
   ]
  },
  {
   "cell_type": "markdown",
   "metadata": {},
   "source": [
    "### Best Selling and High Revenue Products"
   ]
  },
  {
   "cell_type": "code",
   "execution_count": 10,
   "metadata": {
    "scrolled": false
   },
   "outputs": [
    {
     "data": {
      "image/png": "[encoded data removed]",
      "text/plain": [
       "<Figure size 1440x360 with 2 Axes>"
      ]
     },
     "metadata": {
      "needs_background": "light"
     },
     "output_type": "display_data"
    }
   ],
   "source": [
    "best_selling_products = purchase_df.groupby('product_id').price.count().sort_values(ascending=False).head(10)\n",
    "high_revenue_products = purchase_df.groupby('product_id').price.sum().sort_values(ascending=False).head(10)\n",
    "\n",
    "plt.figure(figsize=(20, 5))\n",
    "plt.subplot(1, 2, 1)\n",
    "best_selling_products.sort_values().plot.barh()\n",
    "plt.title('Best Selling Products')\n",
    "plt.subplot(1, 2, 2)\n",
    "high_revenue_products.sort_values().plot.barh()\n",
    "plt.title('High Revenue Products')\n",
    "plt.show()"
   ]
  },
  {
   "cell_type": "code",
   "execution_count": 11,
   "metadata": {},
   "outputs": [
    {
     "data": {
      "text/html": [
       "<div>\n",
       "<style scoped>\n",
       "    .dataframe tbody tr th:only-of-type {\n",
       "        vertical-align: middle;\n",
       "    }\n",
       "\n",
       "    .dataframe tbody tr th {\n",
       "        vertical-align: top;\n",
       "    }\n",
       "\n",
       "    .dataframe thead th {\n",
       "        text-align: right;\n",
       "    }\n",
       "</style>\n",
       "<table border=\"1\" class=\"dataframe\">\n",
       "  <thead>\n",
       "    <tr style=\"text-align: right;\">\n",
       "      <th></th>\n",
       "      <th>product_id</th>\n",
       "      <th>category_code</th>\n",
       "      <th>brand</th>\n",
       "      <th>price</th>\n",
       "      <th>number of items sold</th>\n",
       "    </tr>\n",
       "  </thead>\n",
       "  <tbody>\n",
       "    <tr>\n",
       "      <th>0</th>\n",
       "      <td>4099645</td>\n",
       "      <td>computers.components.videocards</td>\n",
       "      <td>gigabyte</td>\n",
       "      <td>292.83</td>\n",
       "      <td>564</td>\n",
       "    </tr>\n",
       "    <tr>\n",
       "      <th>1</th>\n",
       "      <td>3829355</td>\n",
       "      <td>electronics.telephone</td>\n",
       "      <td>NaN</td>\n",
       "      <td>32.22</td>\n",
       "      <td>543</td>\n",
       "    </tr>\n",
       "    <tr>\n",
       "      <th>2</th>\n",
       "      <td>1821813</td>\n",
       "      <td>computers.components.videocards</td>\n",
       "      <td>NaN</td>\n",
       "      <td>397.48</td>\n",
       "      <td>538</td>\n",
       "    </tr>\n",
       "  </tbody>\n",
       "</table>\n",
       "</div>"
      ],
      "text/plain": [
       "   product_id                    category_code     brand   price  \\\n",
       "0     4099645  computers.components.videocards  gigabyte  292.83   \n",
       "1     3829355            electronics.telephone       NaN   32.22   \n",
       "2     1821813  computers.components.videocards       NaN  397.48   \n",
       "\n",
       "   number of items sold  \n",
       "0                   564  \n",
       "1                   543  \n",
       "2                   538  "
      ]
     },
     "execution_count": 11,
     "metadata": {},
     "output_type": "execute_result"
    }
   ],
   "source": [
    "top3_bsp = best_selling_products[:3].index\n",
    "focus_feature = ['product_id', 'category_code', 'brand']\n",
    "\n",
    "purchase_df.loc[purchase_df.product_id.isin(top3_bsp), focus_feature + ['price']].value_counts(dropna=False).reset_index(name='number of items sold')"
   ]
  },
  {
   "cell_type": "markdown",
   "metadata": {},
   "source": [
    "- Tiga produk dengan jumlah penjualan tertinggi ialah product id 4099645, 3829355, dan 1821813. Namun, jika dilihat dari tingkat pendapatan, hanya produk id 3829355 yang tidak masuk 10 besar, karena harga produk tersebut jauh lebih murah dibandingkan 2 produk lainnya.\n",
    "- Product id 3829355 merupakan telefon, sedangkan 4099645 dan 1821813 merupakan video cards untuk komputer.\n",
    "- Merek product id 4099645 ialah Gigabyte, sedangka dua produk lainnya tidak diketahui."
   ]
  },
  {
   "cell_type": "markdown",
   "metadata": {},
   "source": [
    "### Most Popular and High Revenue Brands"
   ]
  },
  {
   "cell_type": "code",
   "execution_count": 12,
   "metadata": {
    "scrolled": true
   },
   "outputs": [
    {
     "data": {
      "image/png": "[encoded data removed]",
      "text/plain": [
       "<Figure size 1440x360 with 2 Axes>"
      ]
     },
     "metadata": {
      "needs_background": "light"
     },
     "output_type": "display_data"
    }
   ],
   "source": [
    "most_popular_brands = purchase_df.groupby('brand').price.count().sort_values(ascending=False).head(10)\n",
    "high_revenue_brands = purchase_df.groupby('brand').price.sum().sort_values(ascending=False).head(10)\n",
    "\n",
    "plt.figure(figsize=(20, 5))\n",
    "plt.subplot(1, 2, 1)\n",
    "most_popular_brands.sort_values().plot.barh()\n",
    "plt.title('Most Popular Brands')\n",
    "plt.subplot(1, 2, 2)\n",
    "high_revenue_brands.sort_values().plot.barh()\n",
    "plt.title('High Revenue Brands')\n",
    "plt.show()"
   ]
  },
  {
   "cell_type": "code",
   "execution_count": 13,
   "metadata": {},
   "outputs": [
    {
     "data": {
      "text/html": [
       "<div>\n",
       "<style scoped>\n",
       "    .dataframe tbody tr th:only-of-type {\n",
       "        vertical-align: middle;\n",
       "    }\n",
       "\n",
       "    .dataframe tbody tr th {\n",
       "        vertical-align: top;\n",
       "    }\n",
       "\n",
       "    .dataframe thead th {\n",
       "        text-align: right;\n",
       "    }\n",
       "</style>\n",
       "<table border=\"1\" class=\"dataframe\">\n",
       "  <thead>\n",
       "    <tr style=\"text-align: right;\">\n",
       "      <th></th>\n",
       "      <th>category_code</th>\n",
       "      <th>brand</th>\n",
       "      <th>price</th>\n",
       "      <th>number of items sold</th>\n",
       "    </tr>\n",
       "  </thead>\n",
       "  <tbody>\n",
       "    <tr>\n",
       "      <th>0</th>\n",
       "      <td>computers.components.videocards</td>\n",
       "      <td>gigabyte</td>\n",
       "      <td>292.83</td>\n",
       "      <td>564</td>\n",
       "    </tr>\n",
       "    <tr>\n",
       "      <th>1</th>\n",
       "      <td>computers.components.videocards</td>\n",
       "      <td>msi</td>\n",
       "      <td>294.41</td>\n",
       "      <td>266</td>\n",
       "    </tr>\n",
       "    <tr>\n",
       "      <th>2</th>\n",
       "      <td>computers.components.videocards</td>\n",
       "      <td>gigabyte</td>\n",
       "      <td>202.67</td>\n",
       "      <td>257</td>\n",
       "    </tr>\n",
       "    <tr>\n",
       "      <th>3</th>\n",
       "      <td>computers.components.videocards</td>\n",
       "      <td>msi</td>\n",
       "      <td>449.51</td>\n",
       "      <td>191</td>\n",
       "    </tr>\n",
       "    <tr>\n",
       "      <th>4</th>\n",
       "      <td>computers.components.motherboard</td>\n",
       "      <td>asus</td>\n",
       "      <td>64.48</td>\n",
       "      <td>187</td>\n",
       "    </tr>\n",
       "    <tr>\n",
       "      <th>5</th>\n",
       "      <td>computers.components.videocards</td>\n",
       "      <td>palit</td>\n",
       "      <td>486.81</td>\n",
       "      <td>169</td>\n",
       "    </tr>\n",
       "    <tr>\n",
       "      <th>6</th>\n",
       "      <td>computers.components.videocards</td>\n",
       "      <td>palit</td>\n",
       "      <td>466.52</td>\n",
       "      <td>149</td>\n",
       "    </tr>\n",
       "    <tr>\n",
       "      <th>7</th>\n",
       "      <td>computers.components.videocards</td>\n",
       "      <td>msi</td>\n",
       "      <td>274.40</td>\n",
       "      <td>120</td>\n",
       "    </tr>\n",
       "    <tr>\n",
       "      <th>8</th>\n",
       "      <td>computers.components.videocards</td>\n",
       "      <td>asus</td>\n",
       "      <td>600.60</td>\n",
       "      <td>111</td>\n",
       "    </tr>\n",
       "    <tr>\n",
       "      <th>9</th>\n",
       "      <td>computers.components.videocards</td>\n",
       "      <td>msi</td>\n",
       "      <td>205.25</td>\n",
       "      <td>103</td>\n",
       "    </tr>\n",
       "  </tbody>\n",
       "</table>\n",
       "</div>"
      ],
      "text/plain": [
       "                      category_code     brand   price  number of items sold\n",
       "0   computers.components.videocards  gigabyte  292.83                   564\n",
       "1   computers.components.videocards       msi  294.41                   266\n",
       "2   computers.components.videocards  gigabyte  202.67                   257\n",
       "3   computers.components.videocards       msi  449.51                   191\n",
       "4  computers.components.motherboard      asus   64.48                   187\n",
       "5   computers.components.videocards     palit  486.81                   169\n",
       "6   computers.components.videocards     palit  466.52                   149\n",
       "7   computers.components.videocards       msi  274.40                   120\n",
       "8   computers.components.videocards      asus  600.60                   111\n",
       "9   computers.components.videocards       msi  205.25                   103"
      ]
     },
     "execution_count": 13,
     "metadata": {},
     "output_type": "execute_result"
    }
   ],
   "source": [
    "top4_mpb = most_popular_brands[:4].index\n",
    "focus_feature = ['category_code', 'brand']\n",
    "\n",
    "vc = purchase_df.loc[purchase_df.brand.isin(top4_mpb), focus_feature + ['price']].value_counts(dropna=False)\n",
    "vc.reset_index(name='number of items sold').head(10)"
   ]
  },
  {
   "cell_type": "markdown",
   "metadata": {},
   "source": [
    "- Merek MSI dan Gigabyte merupakan merek yang banyak dibeli dengan nilai penjualan yang juga tinggi.\n",
    "- Merek Asus lebih banyak dibeli dibandingkan merek Palit, tetapi nilai penjualan Asus lebih rendah dibandingkan merek Palit.\n",
    "- Dari merek yang paling banyak dibeli, sebagian besar merupakan produk dengan kategori video cards untuk komputer mulai dari harga \\\\$64 sampai \\\\$600."
   ]
  },
  {
   "cell_type": "markdown",
   "metadata": {},
   "source": [
    "## Revenue by Time"
   ]
  },
  {
   "cell_type": "markdown",
   "metadata": {},
   "source": [
    "### Month"
   ]
  },
  {
   "cell_type": "code",
   "execution_count": 14,
   "metadata": {},
   "outputs": [
    {
     "data": {
      "image/png": "[encoded data removed]",
      "text/plain": [
       "<Figure size 576x360 with 1 Axes>"
      ]
     },
     "metadata": {
      "needs_background": "light"
     },
     "output_type": "display_data"
    }
   ],
   "source": [
    "# month\n",
    "month_data = purchase_df.groupby('month_name').price.sum()\n",
    "month_data = month_data.reindex(index = ['September','October','November', 'December', 'January', 'February'])\n",
    "\n",
    "ax = month_data.plot.bar(figsize=(8,5))\n",
    "ax.set_xlabel('Month')\n",
    "ax.set_ylabel('Revenue')\n",
    "ax.set_title('Total Revenue from September 2020 to February 2021')\n",
    "ax.set_xticklabels(('Sep 2020','Oct 2020','Nov 2020','Dec 2020','Jan 2021','Feb 2021'), rotation='horizontal')\n",
    "plt.show()"
   ]
  },
  {
   "cell_type": "code",
   "execution_count": 16,
   "metadata": {},
   "outputs": [
    {
     "name": "stdout",
     "output_type": "stream",
     "text": [
      "Date Range of Dataset: 2020-09-24 - 2021-02-28\n"
     ]
    }
   ],
   "source": [
    "print('Date Range of Dataset:', purchase_df.event_time.min()[:10], '-', purchase_df.event_time.max()[:10])"
   ]
  },
  {
   "cell_type": "markdown",
   "metadata": {},
   "source": [
    "Pada grafik, terlihat pendapatan terendah pada September 2020, tetapi dataset hanya berisi data mulai tanggal 24 September 2020 - 28 Februari 2021. Sehingga, pendapatan terendah ialah pada Oktober 2020 dan pendapatan terus naik hingga Januari 2021 yang merupakan pendapatan tertinggi. Pada Februari 2021, pendapatan turun tetapi tidak begitu jauh dan masih lebih tinggi dibandingkan pendapatan pada Desember 2020."
   ]
  },
  {
   "cell_type": "markdown",
   "metadata": {},
   "source": [
    "### Day to Day\n",
    "Saya menggunakan rata-rata pendapatan per hari dibandingkan total pendapatan karena secara total jumlah hari berbeda-beda tiap bulan."
   ]
  },
  {
   "cell_type": "code",
   "execution_count": 17,
   "metadata": {},
   "outputs": [
    {
     "data": {
      "image/png": "[encoded data removed]",
      "text/plain": [
       "<Figure size 576x360 with 1 Axes>"
      ]
     },
     "metadata": {
      "needs_background": "light"
     },
     "output_type": "display_data"
    }
   ],
   "source": [
    "# total revenue each days\n",
    "day_data = purchase_df.groupby('day').price.sum()\n",
    "\n",
    "# number of days in datasets\n",
    "number_of_days = purchase_df[['month_name', 'day']]\n",
    "number_of_days = number_of_days.drop_duplicates().day.value_counts()\n",
    "\n",
    "# average revenue each days\n",
    "avg_rev_day = day_data / number_of_days\n",
    "\n",
    "ax = avg_rev_day.plot.bar(figsize=(8,5))\n",
    "ax.set_xlabel('Month')\n",
    "ax.set_ylabel('Revenue')\n",
    "ax.set_title('Total Revenue from September 2020 to February 2021')\n",
    "# ax.set_xticklabels(('Sep 2020','Oct 2020','Nov 2020','Dec 2020','Jan 2021','Feb 2021'), rotation='horizontal')\n",
    "plt.show()"
   ]
  },
  {
   "cell_type": "markdown",
   "metadata": {},
   "source": [
    "## Model Prediction\n",
    "**Predicting customers who add items to the cart will buy or not.**"
   ]
  },
  {
   "cell_type": "markdown",
   "metadata": {},
   "source": [
    "### Dataset Preparation"
   ]
  },
  {
   "cell_type": "markdown",
   "metadata": {},
   "source": [
    "#### Create a dataframe of customer activities that add items to a cart or make a purchase\n",
    "- Ada beberapa session yang pelanggan langsung melakukan pembelian tanpa memasukkan ke keranjang terlebih dahulu, sehingga dalam satu session yang hanya terdapat event_type purchase tetap terhitung"
   ]
  },
  {
   "cell_type": "code",
   "execution_count": 18,
   "metadata": {},
   "outputs": [
    {
     "data": {
      "text/html": [
       "<div>\n",
       "<style scoped>\n",
       "    .dataframe tbody tr th:only-of-type {\n",
       "        vertical-align: middle;\n",
       "    }\n",
       "\n",
       "    .dataframe tbody tr th {\n",
       "        vertical-align: top;\n",
       "    }\n",
       "\n",
       "    .dataframe thead th {\n",
       "        text-align: right;\n",
       "    }\n",
       "</style>\n",
       "<table border=\"1\" class=\"dataframe\">\n",
       "  <thead>\n",
       "    <tr style=\"text-align: right;\">\n",
       "      <th></th>\n",
       "      <th>event_time</th>\n",
       "      <th>event_type</th>\n",
       "      <th>product_id</th>\n",
       "      <th>category_id</th>\n",
       "      <th>category_code</th>\n",
       "      <th>brand</th>\n",
       "      <th>price</th>\n",
       "      <th>user_id</th>\n",
       "      <th>user_session</th>\n",
       "      <th>hour</th>\n",
       "      <th>day_name</th>\n",
       "      <th>day</th>\n",
       "      <th>month_name</th>\n",
       "      <th>early_mid_late_month</th>\n",
       "      <th>hour_name</th>\n",
       "      <th>category_1</th>\n",
       "      <th>category_2</th>\n",
       "      <th>is_purchased</th>\n",
       "    </tr>\n",
       "  </thead>\n",
       "  <tbody>\n",
       "    <tr>\n",
       "      <th>37</th>\n",
       "      <td>2020-09-24 12:02:53+00:00</td>\n",
       "      <td>cart</td>\n",
       "      <td>1507291</td>\n",
       "      <td>2144415926806642904</td>\n",
       "      <td>computers.components.power_supply</td>\n",
       "      <td>supermicro</td>\n",
       "      <td>217.57</td>\n",
       "      <td>1515915625519390468</td>\n",
       "      <td>UzabYgCPva</td>\n",
       "      <td>12</td>\n",
       "      <td>Thursday</td>\n",
       "      <td>24</td>\n",
       "      <td>September</td>\n",
       "      <td>late_month</td>\n",
       "      <td>daytime</td>\n",
       "      <td>computers</td>\n",
       "      <td>components.power_supply</td>\n",
       "      <td>0.0</td>\n",
       "    </tr>\n",
       "    <tr>\n",
       "      <th>59</th>\n",
       "      <td>2020-09-24 12:08:24+00:00</td>\n",
       "      <td>cart</td>\n",
       "      <td>136700</td>\n",
       "      <td>2144415924491387038</td>\n",
       "      <td>computers.components.motherboard</td>\n",
       "      <td>asrock</td>\n",
       "      <td>77.73</td>\n",
       "      <td>1515915625519392459</td>\n",
       "      <td>0KdrxeTB4x</td>\n",
       "      <td>12</td>\n",
       "      <td>Thursday</td>\n",
       "      <td>24</td>\n",
       "      <td>September</td>\n",
       "      <td>late_month</td>\n",
       "      <td>daytime</td>\n",
       "      <td>computers</td>\n",
       "      <td>components.motherboard</td>\n",
       "      <td>0.0</td>\n",
       "    </tr>\n",
       "    <tr>\n",
       "      <th>71</th>\n",
       "      <td>2020-09-24 12:12:16+00:00</td>\n",
       "      <td>cart</td>\n",
       "      <td>822426</td>\n",
       "      <td>2144415922360680550</td>\n",
       "      <td>computers.peripherals.camera</td>\n",
       "      <td>logitech</td>\n",
       "      <td>123.35</td>\n",
       "      <td>1515915625513574486</td>\n",
       "      <td>2gngxS29Ts</td>\n",
       "      <td>12</td>\n",
       "      <td>Thursday</td>\n",
       "      <td>24</td>\n",
       "      <td>September</td>\n",
       "      <td>late_month</td>\n",
       "      <td>daytime</td>\n",
       "      <td>computers</td>\n",
       "      <td>peripherals.camera</td>\n",
       "      <td>1.0</td>\n",
       "    </tr>\n",
       "    <tr>\n",
       "      <th>75</th>\n",
       "      <td>2020-09-24 12:13:03+00:00</td>\n",
       "      <td>cart</td>\n",
       "      <td>1283197</td>\n",
       "      <td>2144415973413749245</td>\n",
       "      <td>computers.peripherals.nas</td>\n",
       "      <td>zyxel</td>\n",
       "      <td>123.79</td>\n",
       "      <td>1515915625519356010</td>\n",
       "      <td>3jFpdbozOd</td>\n",
       "      <td>12</td>\n",
       "      <td>Thursday</td>\n",
       "      <td>24</td>\n",
       "      <td>September</td>\n",
       "      <td>late_month</td>\n",
       "      <td>daytime</td>\n",
       "      <td>computers</td>\n",
       "      <td>peripherals.nas</td>\n",
       "      <td>1.0</td>\n",
       "    </tr>\n",
       "    <tr>\n",
       "      <th>223</th>\n",
       "      <td>2020-09-24 12:48:47+00:00</td>\n",
       "      <td>cart</td>\n",
       "      <td>741173</td>\n",
       "      <td>2144415923207929981</td>\n",
       "      <td>auto.accessories.player</td>\n",
       "      <td>pioneer</td>\n",
       "      <td>158.57</td>\n",
       "      <td>1515915625519405941</td>\n",
       "      <td>vA2k1StxxD</td>\n",
       "      <td>12</td>\n",
       "      <td>Thursday</td>\n",
       "      <td>24</td>\n",
       "      <td>September</td>\n",
       "      <td>late_month</td>\n",
       "      <td>daytime</td>\n",
       "      <td>auto</td>\n",
       "      <td>accessories.player</td>\n",
       "      <td>0.0</td>\n",
       "    </tr>\n",
       "  </tbody>\n",
       "</table>\n",
       "</div>"
      ],
      "text/plain": [
       "                    event_time event_type  product_id          category_id  \\\n",
       "37   2020-09-24 12:02:53+00:00       cart     1507291  2144415926806642904   \n",
       "59   2020-09-24 12:08:24+00:00       cart      136700  2144415924491387038   \n",
       "71   2020-09-24 12:12:16+00:00       cart      822426  2144415922360680550   \n",
       "75   2020-09-24 12:13:03+00:00       cart     1283197  2144415973413749245   \n",
       "223  2020-09-24 12:48:47+00:00       cart      741173  2144415923207929981   \n",
       "\n",
       "                         category_code       brand   price  \\\n",
       "37   computers.components.power_supply  supermicro  217.57   \n",
       "59    computers.components.motherboard      asrock   77.73   \n",
       "71        computers.peripherals.camera    logitech  123.35   \n",
       "75           computers.peripherals.nas       zyxel  123.79   \n",
       "223            auto.accessories.player     pioneer  158.57   \n",
       "\n",
       "                 user_id user_session  hour  day_name  day month_name  \\\n",
       "37   1515915625519390468   UzabYgCPva    12  Thursday   24  September   \n",
       "59   1515915625519392459   0KdrxeTB4x    12  Thursday   24  September   \n",
       "71   1515915625513574486   2gngxS29Ts    12  Thursday   24  September   \n",
       "75   1515915625519356010   3jFpdbozOd    12  Thursday   24  September   \n",
       "223  1515915625519405941   vA2k1StxxD    12  Thursday   24  September   \n",
       "\n",
       "    early_mid_late_month hour_name category_1               category_2  \\\n",
       "37            late_month   daytime  computers  components.power_supply   \n",
       "59            late_month   daytime  computers   components.motherboard   \n",
       "71            late_month   daytime  computers       peripherals.camera   \n",
       "75            late_month   daytime  computers          peripherals.nas   \n",
       "223           late_month   daytime       auto       accessories.player   \n",
       "\n",
       "     is_purchased  \n",
       "37            0.0  \n",
       "59            0.0  \n",
       "71            1.0  \n",
       "75            1.0  \n",
       "223           0.0  "
      ]
     },
     "execution_count": 18,
     "metadata": {},
     "output_type": "execute_result"
    }
   ],
   "source": [
    "# membuat dataframe aktivitas pelanggan yang menambahkan barang ke keranjang atau melakukan pembelian\n",
    "train_df = df.loc[df[\"event_type\"].isin([\"cart\",\"purchase\"])].drop_duplicates(subset=['event_type',\n",
    "                                                                                      'product_id',\n",
    "                                                                                      'price',\n",
    "                                                                                      'user_id',\n",
    "                                                                                      'user_session'])\n",
    "\n",
    "# menambahkan fitur pelanggan yang melakukan pembelian\n",
    "train_df[\"is_purchased\"] = np.where(train_df[\"event_type\"]==\"purchase\", 1, 0)\n",
    "train_df[\"is_purchased\"] = train_df.groupby([\"user_session\",\"product_id\"])[\"is_purchased\"].transform(\"max\")\n",
    "\n",
    "train_df = train_df.loc[train_df[\"event_type\"]==\"cart\"].drop_duplicates([\"user_session\",\"product_id\",\"is_purchased\"])\n",
    "train_df = train_df.dropna()\n",
    "train_df.head()"
   ]
  },
  {
   "cell_type": "markdown",
   "metadata": {},
   "source": [
    "#### Membuat fitur activity_count dari pelanggan dengan kriteria yang memasukkan barang ke keranjang atau melakukan pembelian"
   ]
  },
  {
   "cell_type": "code",
   "execution_count": 19,
   "metadata": {},
   "outputs": [
    {
     "data": {
      "text/html": [
       "<div>\n",
       "<style scoped>\n",
       "    .dataframe tbody tr th:only-of-type {\n",
       "        vertical-align: middle;\n",
       "    }\n",
       "\n",
       "    .dataframe tbody tr th {\n",
       "        vertical-align: top;\n",
       "    }\n",
       "\n",
       "    .dataframe thead th {\n",
       "        text-align: right;\n",
       "    }\n",
       "</style>\n",
       "<table border=\"1\" class=\"dataframe\">\n",
       "  <thead>\n",
       "    <tr style=\"text-align: right;\">\n",
       "      <th></th>\n",
       "      <th>event_time</th>\n",
       "      <th>event_type</th>\n",
       "      <th>product_id</th>\n",
       "      <th>category_id</th>\n",
       "      <th>category_code</th>\n",
       "      <th>brand</th>\n",
       "      <th>price</th>\n",
       "      <th>user_id</th>\n",
       "      <th>user_session</th>\n",
       "      <th>hour</th>\n",
       "      <th>day_name</th>\n",
       "      <th>day</th>\n",
       "      <th>month_name</th>\n",
       "      <th>early_mid_late_month</th>\n",
       "      <th>hour_name</th>\n",
       "      <th>category_1</th>\n",
       "      <th>category_2</th>\n",
       "      <th>is_purchased</th>\n",
       "      <th>number_of_activity</th>\n",
       "    </tr>\n",
       "  </thead>\n",
       "  <tbody>\n",
       "    <tr>\n",
       "      <th>0</th>\n",
       "      <td>2020-09-24 12:02:53+00:00</td>\n",
       "      <td>cart</td>\n",
       "      <td>1507291</td>\n",
       "      <td>2144415926806642904</td>\n",
       "      <td>computers.components.power_supply</td>\n",
       "      <td>supermicro</td>\n",
       "      <td>217.57</td>\n",
       "      <td>1515915625519390468</td>\n",
       "      <td>UzabYgCPva</td>\n",
       "      <td>12</td>\n",
       "      <td>Thursday</td>\n",
       "      <td>24</td>\n",
       "      <td>September</td>\n",
       "      <td>late_month</td>\n",
       "      <td>daytime</td>\n",
       "      <td>computers</td>\n",
       "      <td>components.power_supply</td>\n",
       "      <td>0.0</td>\n",
       "      <td>2.0</td>\n",
       "    </tr>\n",
       "    <tr>\n",
       "      <th>1</th>\n",
       "      <td>2020-09-24 12:08:24+00:00</td>\n",
       "      <td>cart</td>\n",
       "      <td>136700</td>\n",
       "      <td>2144415924491387038</td>\n",
       "      <td>computers.components.motherboard</td>\n",
       "      <td>asrock</td>\n",
       "      <td>77.73</td>\n",
       "      <td>1515915625519392459</td>\n",
       "      <td>0KdrxeTB4x</td>\n",
       "      <td>12</td>\n",
       "      <td>Thursday</td>\n",
       "      <td>24</td>\n",
       "      <td>September</td>\n",
       "      <td>late_month</td>\n",
       "      <td>daytime</td>\n",
       "      <td>computers</td>\n",
       "      <td>components.motherboard</td>\n",
       "      <td>0.0</td>\n",
       "      <td>3.0</td>\n",
       "    </tr>\n",
       "    <tr>\n",
       "      <th>2</th>\n",
       "      <td>2020-09-24 12:12:16+00:00</td>\n",
       "      <td>cart</td>\n",
       "      <td>822426</td>\n",
       "      <td>2144415922360680550</td>\n",
       "      <td>computers.peripherals.camera</td>\n",
       "      <td>logitech</td>\n",
       "      <td>123.35</td>\n",
       "      <td>1515915625513574486</td>\n",
       "      <td>2gngxS29Ts</td>\n",
       "      <td>12</td>\n",
       "      <td>Thursday</td>\n",
       "      <td>24</td>\n",
       "      <td>September</td>\n",
       "      <td>late_month</td>\n",
       "      <td>daytime</td>\n",
       "      <td>computers</td>\n",
       "      <td>peripherals.camera</td>\n",
       "      <td>1.0</td>\n",
       "      <td>11.0</td>\n",
       "    </tr>\n",
       "    <tr>\n",
       "      <th>3</th>\n",
       "      <td>2020-09-24 12:13:03+00:00</td>\n",
       "      <td>cart</td>\n",
       "      <td>1283197</td>\n",
       "      <td>2144415973413749245</td>\n",
       "      <td>computers.peripherals.nas</td>\n",
       "      <td>zyxel</td>\n",
       "      <td>123.79</td>\n",
       "      <td>1515915625519356010</td>\n",
       "      <td>3jFpdbozOd</td>\n",
       "      <td>12</td>\n",
       "      <td>Thursday</td>\n",
       "      <td>24</td>\n",
       "      <td>September</td>\n",
       "      <td>late_month</td>\n",
       "      <td>daytime</td>\n",
       "      <td>computers</td>\n",
       "      <td>peripherals.nas</td>\n",
       "      <td>1.0</td>\n",
       "      <td>6.0</td>\n",
       "    </tr>\n",
       "    <tr>\n",
       "      <th>4</th>\n",
       "      <td>2020-09-24 12:48:47+00:00</td>\n",
       "      <td>cart</td>\n",
       "      <td>741173</td>\n",
       "      <td>2144415923207929981</td>\n",
       "      <td>auto.accessories.player</td>\n",
       "      <td>pioneer</td>\n",
       "      <td>158.57</td>\n",
       "      <td>1515915625519405941</td>\n",
       "      <td>vA2k1StxxD</td>\n",
       "      <td>12</td>\n",
       "      <td>Thursday</td>\n",
       "      <td>24</td>\n",
       "      <td>September</td>\n",
       "      <td>late_month</td>\n",
       "      <td>daytime</td>\n",
       "      <td>auto</td>\n",
       "      <td>accessories.player</td>\n",
       "      <td>0.0</td>\n",
       "      <td>3.0</td>\n",
       "    </tr>\n",
       "  </tbody>\n",
       "</table>\n",
       "</div>"
      ],
      "text/plain": [
       "                  event_time event_type  product_id          category_id  \\\n",
       "0  2020-09-24 12:02:53+00:00       cart     1507291  2144415926806642904   \n",
       "1  2020-09-24 12:08:24+00:00       cart      136700  2144415924491387038   \n",
       "2  2020-09-24 12:12:16+00:00       cart      822426  2144415922360680550   \n",
       "3  2020-09-24 12:13:03+00:00       cart     1283197  2144415973413749245   \n",
       "4  2020-09-24 12:48:47+00:00       cart      741173  2144415923207929981   \n",
       "\n",
       "                       category_code       brand   price              user_id  \\\n",
       "0  computers.components.power_supply  supermicro  217.57  1515915625519390468   \n",
       "1   computers.components.motherboard      asrock   77.73  1515915625519392459   \n",
       "2       computers.peripherals.camera    logitech  123.35  1515915625513574486   \n",
       "3          computers.peripherals.nas       zyxel  123.79  1515915625519356010   \n",
       "4            auto.accessories.player     pioneer  158.57  1515915625519405941   \n",
       "\n",
       "  user_session  hour  day_name  day month_name early_mid_late_month hour_name  \\\n",
       "0   UzabYgCPva    12  Thursday   24  September           late_month   daytime   \n",
       "1   0KdrxeTB4x    12  Thursday   24  September           late_month   daytime   \n",
       "2   2gngxS29Ts    12  Thursday   24  September           late_month   daytime   \n",
       "3   3jFpdbozOd    12  Thursday   24  September           late_month   daytime   \n",
       "4   vA2k1StxxD    12  Thursday   24  September           late_month   daytime   \n",
       "\n",
       "  category_1               category_2  is_purchased  number_of_activity  \n",
       "0  computers  components.power_supply           0.0                 2.0  \n",
       "1  computers   components.motherboard           0.0                 3.0  \n",
       "2  computers       peripherals.camera           1.0                11.0  \n",
       "3  computers          peripherals.nas           1.0                 6.0  \n",
       "4       auto       accessories.player           0.0                 3.0  "
      ]
     },
     "execution_count": 19,
     "metadata": {},
     "output_type": "execute_result"
    }
   ],
   "source": [
    "# menentukan pelanggan sesuai kriteria\n",
    "cart_users = df.loc[df[\"event_type\"].isin([\"cart\", \"purchase\"])].drop_duplicates(subset=['user_id'])\n",
    "cart_users = cart_users.dropna()\n",
    "\n",
    "# dataframe yang hanya berisi aktivitas dari pelanggan sesuai kriteria\n",
    "cart_users_activity = df.loc[df['user_id'].isin(cart_users['user_id'])]\n",
    "\n",
    "# menghitung jumlah aktivitas dalam satu sesi\n",
    "count_activity = cart_users_activity.groupby(['user_session']).event_type.count().reset_index()\n",
    "count_activity = count_activity.rename(columns={\"event_type\": \"number_of_activity\"})\n",
    "\n",
    "# menggabungkan dengan dataset yang telah disiapkan\n",
    "train_df = train_df.merge(count_activity, on='user_session', how='left')\n",
    "train_df['number_of_activity'] = train_df['number_of_activity'].fillna(0)\n",
    "train_df.head()"
   ]
  },
  {
   "cell_type": "markdown",
   "metadata": {},
   "source": [
    "### Feature and Label Selection"
   ]
  },
  {
   "cell_type": "code",
   "execution_count": 20,
   "metadata": {},
   "outputs": [],
   "source": [
    "X = train_df[['early_mid_late_month',\n",
    "              'day_name',\n",
    "              'month_name',\n",
    "              'hour_name',\n",
    "              'brand',\n",
    "              'price',\n",
    "              'category_1',\n",
    "              'category_2',\n",
    "              'number_of_activity'\n",
    "             ]]\n",
    "y = train_df.is_purchased"
   ]
  },
  {
   "cell_type": "markdown",
   "metadata": {},
   "source": [
    "### View Data Balance"
   ]
  },
  {
   "cell_type": "code",
   "execution_count": 21,
   "metadata": {},
   "outputs": [
    {
     "data": {
      "text/plain": [
       "(0.0    17147\n",
       " 1.0    14255\n",
       " Name: is_purchased, dtype: int64,\n",
       " 0.0    0.546048\n",
       " 1.0    0.453952\n",
       " Name: is_purchased, dtype: float64)"
      ]
     },
     "execution_count": 21,
     "metadata": {},
     "output_type": "execute_result"
    }
   ],
   "source": [
    "y.value_counts(), y.value_counts(normalize=True)"
   ]
  },
  {
   "cell_type": "markdown",
   "metadata": {},
   "source": [
    "The proportion of classes on the label is not much different so it can be said that the data is balanced."
   ]
  },
  {
   "cell_type": "markdown",
   "metadata": {},
   "source": [
    "### Train-Test Data Split"
   ]
  },
  {
   "cell_type": "code",
   "execution_count": 22,
   "metadata": {},
   "outputs": [
    {
     "data": {
      "text/plain": [
       "((21981, 9), (9421, 9))"
      ]
     },
     "execution_count": 22,
     "metadata": {},
     "output_type": "execute_result"
    }
   ],
   "source": [
    "X_train, X_test, y_train, y_test = train_test_split(X, y, test_size = .3, random_state = 4)\n",
    "X_train.shape, X_test.shape"
   ]
  },
  {
   "cell_type": "markdown",
   "metadata": {},
   "source": [
    "### Data Pre-processing"
   ]
  },
  {
   "cell_type": "code",
   "execution_count": 23,
   "metadata": {},
   "outputs": [],
   "source": [
    "num_feature = list(X.select_dtypes(np.number).columns)\n",
    "cat_feature = list(X.select_dtypes(['object']).columns)"
   ]
  },
  {
   "cell_type": "markdown",
   "metadata": {},
   "source": [
    "#### Handling Outlier"
   ]
  },
  {
   "cell_type": "code",
   "execution_count": 24,
   "metadata": {},
   "outputs": [
    {
     "data": {
      "image/png": "[encoded data removed]",
      "text/plain": [
       "<Figure size 720x576 with 2 Axes>"
      ]
     },
     "metadata": {
      "needs_background": "light"
     },
     "output_type": "display_data"
    }
   ],
   "source": [
    "# boxplot numerical feature\n",
    "plt.figure(figsize=(10, 8))\n",
    "plt.subplot(1, 2, 1)\n",
    "sns.boxplot(y=X_train['price'])\n",
    "plt.subplot(1, 2, 2)\n",
    "sns.boxplot(y=X_train['number_of_activity'])\n",
    "plt.show()"
   ]
  },
  {
   "cell_type": "code",
   "execution_count": 25,
   "metadata": {},
   "outputs": [
    {
     "name": "stdout",
     "output_type": "stream",
     "text": [
      "-----price-----\n",
      "lower: -301.345 upper: 649.335\n",
      "number of outlier: 551\n",
      "outlier percentage: 2.51%\n",
      "\n",
      "-----number_of_activity-----\n",
      "lower: -6.0 upper: 18.0\n",
      "number of outlier: 2271\n",
      "outlier percentage: 10.33%\n",
      "\n"
     ]
    }
   ],
   "source": [
    "for col in num_feature:\n",
    "    q1 = X_train[col].quantile(0.25)\n",
    "    q3 = X_train[col].quantile(0.75)\n",
    "    IQR = q3 - q1\n",
    "    lower = q1 - 1.5 * IQR\n",
    "    upper = q3 + 1.5 * IQR\n",
    "    outliers = len(X_train[(X_train[col] < lower) | (X_train[col] > upper)])\n",
    "    if outliers > 0:\n",
    "        print(f'-----{col}-----')\n",
    "        print('lower:', lower, 'upper:', upper)\n",
    "        print('number of outlier:', outliers)\n",
    "        print(f'outlier percentage: {(outliers/len(X_train) * 100):,.2f}%')\n",
    "        print()"
   ]
  },
  {
   "cell_type": "markdown",
   "metadata": {},
   "source": [
    "Handling outliers using the Winsorizer method because if all outliers are deleted there will be a lot of information lost."
   ]
  },
  {
   "cell_type": "code",
   "execution_count": 26,
   "metadata": {
    "scrolled": true
   },
   "outputs": [
    {
     "data": {
      "text/html": [
       "<div>\n",
       "<style scoped>\n",
       "    .dataframe tbody tr th:only-of-type {\n",
       "        vertical-align: middle;\n",
       "    }\n",
       "\n",
       "    .dataframe tbody tr th {\n",
       "        vertical-align: top;\n",
       "    }\n",
       "\n",
       "    .dataframe thead th {\n",
       "        text-align: right;\n",
       "    }\n",
       "</style>\n",
       "<table border=\"1\" class=\"dataframe\">\n",
       "  <thead>\n",
       "    <tr style=\"text-align: right;\">\n",
       "      <th></th>\n",
       "      <th>price</th>\n",
       "      <th>number_of_activity</th>\n",
       "    </tr>\n",
       "  </thead>\n",
       "  <tbody>\n",
       "    <tr>\n",
       "      <th>count</th>\n",
       "      <td>21981.000000</td>\n",
       "      <td>21981.000000</td>\n",
       "    </tr>\n",
       "    <tr>\n",
       "      <th>mean</th>\n",
       "      <td>195.718932</td>\n",
       "      <td>6.662663</td>\n",
       "    </tr>\n",
       "    <tr>\n",
       "      <th>std</th>\n",
       "      <td>172.285564</td>\n",
       "      <td>5.259108</td>\n",
       "    </tr>\n",
       "    <tr>\n",
       "      <th>min</th>\n",
       "      <td>0.900000</td>\n",
       "      <td>0.000000</td>\n",
       "    </tr>\n",
       "    <tr>\n",
       "      <th>25%</th>\n",
       "      <td>55.160000</td>\n",
       "      <td>3.000000</td>\n",
       "    </tr>\n",
       "    <tr>\n",
       "      <th>50%</th>\n",
       "      <td>143.410000</td>\n",
       "      <td>5.000000</td>\n",
       "    </tr>\n",
       "    <tr>\n",
       "      <th>75%</th>\n",
       "      <td>292.830000</td>\n",
       "      <td>9.000000</td>\n",
       "    </tr>\n",
       "    <tr>\n",
       "      <th>max</th>\n",
       "      <td>649.335000</td>\n",
       "      <td>18.000000</td>\n",
       "    </tr>\n",
       "  </tbody>\n",
       "</table>\n",
       "</div>"
      ],
      "text/plain": [
       "              price  number_of_activity\n",
       "count  21981.000000        21981.000000\n",
       "mean     195.718932            6.662663\n",
       "std      172.285564            5.259108\n",
       "min        0.900000            0.000000\n",
       "25%       55.160000            3.000000\n",
       "50%      143.410000            5.000000\n",
       "75%      292.830000            9.000000\n",
       "max      649.335000           18.000000"
      ]
     },
     "execution_count": 26,
     "metadata": {},
     "output_type": "execute_result"
    }
   ],
   "source": [
    "winso = Winsorizer(capping_method='iqr', tail='both', fold=1.5, variables=num_feature)\n",
    "X_handout = winso.fit_transform(X_train)\n",
    "X_handout.describe()"
   ]
  },
  {
   "cell_type": "markdown",
   "metadata": {},
   "source": [
    "#### Feature Scaling"
   ]
  },
  {
   "cell_type": "code",
   "execution_count": 27,
   "metadata": {},
   "outputs": [
    {
     "data": {
      "text/html": [
       "<style>#sk-container-id-1 {color: black;background-color: white;}#sk-container-id-1 pre{padding: 0;}#sk-container-id-1 div.sk-toggleable {background-color: white;}#sk-container-id-1 label.sk-toggleable__label {cursor: pointer;display: block;width: 100%;margin-bottom: 0;padding: 0.3em;box-sizing: border-box;text-align: center;}#sk-container-id-1 label.sk-toggleable__label-arrow:before {content: \"▸\";float: left;margin-right: 0.25em;color: #696969;}#sk-container-id-1 label.sk-toggleable__label-arrow:hover:before {color: black;}#sk-container-id-1 div.sk-estimator:hover label.sk-toggleable__label-arrow:before {color: black;}#sk-container-id-1 div.sk-toggleable__content {max-height: 0;max-width: 0;overflow: hidden;text-align: left;background-color: #f0f8ff;}#sk-container-id-1 div.sk-toggleable__content pre {margin: 0.2em;color: black;border-radius: 0.25em;background-color: #f0f8ff;}#sk-container-id-1 input.sk-toggleable__control:checked~div.sk-toggleable__content {max-height: 200px;max-width: 100%;overflow: auto;}#sk-container-id-1 input.sk-toggleable__control:checked~label.sk-toggleable__label-arrow:before {content: \"▾\";}#sk-container-id-1 div.sk-estimator input.sk-toggleable__control:checked~label.sk-toggleable__label {background-color: #d4ebff;}#sk-container-id-1 div.sk-label input.sk-toggleable__control:checked~label.sk-toggleable__label {background-color: #d4ebff;}#sk-container-id-1 input.sk-hidden--visually {border: 0;clip: rect(1px 1px 1px 1px);clip: rect(1px, 1px, 1px, 1px);height: 1px;margin: -1px;overflow: hidden;padding: 0;position: absolute;width: 1px;}#sk-container-id-1 div.sk-estimator {font-family: monospace;background-color: #f0f8ff;border: 1px dotted black;border-radius: 0.25em;box-sizing: border-box;margin-bottom: 0.5em;}#sk-container-id-1 div.sk-estimator:hover {background-color: #d4ebff;}#sk-container-id-1 div.sk-parallel-item::after {content: \"\";width: 100%;border-bottom: 1px solid gray;flex-grow: 1;}#sk-container-id-1 div.sk-label:hover label.sk-toggleable__label {background-color: #d4ebff;}#sk-container-id-1 div.sk-serial::before {content: \"\";position: absolute;border-left: 1px solid gray;box-sizing: border-box;top: 0;bottom: 0;left: 50%;z-index: 0;}#sk-container-id-1 div.sk-serial {display: flex;flex-direction: column;align-items: center;background-color: white;padding-right: 0.2em;padding-left: 0.2em;position: relative;}#sk-container-id-1 div.sk-item {position: relative;z-index: 1;}#sk-container-id-1 div.sk-parallel {display: flex;align-items: stretch;justify-content: center;background-color: white;position: relative;}#sk-container-id-1 div.sk-item::before, #sk-container-id-1 div.sk-parallel-item::before {content: \"\";position: absolute;border-left: 1px solid gray;box-sizing: border-box;top: 0;bottom: 0;left: 50%;z-index: -1;}#sk-container-id-1 div.sk-parallel-item {display: flex;flex-direction: column;z-index: 1;position: relative;background-color: white;}#sk-container-id-1 div.sk-parallel-item:first-child::after {align-self: flex-end;width: 50%;}#sk-container-id-1 div.sk-parallel-item:last-child::after {align-self: flex-start;width: 50%;}#sk-container-id-1 div.sk-parallel-item:only-child::after {width: 0;}#sk-container-id-1 div.sk-dashed-wrapped {border: 1px dashed gray;margin: 0 0.4em 0.5em 0.4em;box-sizing: border-box;padding-bottom: 0.4em;background-color: white;}#sk-container-id-1 div.sk-label label {font-family: monospace;font-weight: bold;display: inline-block;line-height: 1.2em;}#sk-container-id-1 div.sk-label-container {text-align: center;}#sk-container-id-1 div.sk-container {/* jupyter's `normalize.less` sets `[hidden] { display: none; }` but bootstrap.min.css set `[hidden] { display: none !important; }` so we also need the `!important` here to be able to override the default hidden behavior on the sphinx rendered scikit-learn.org. See: https://github.com/scikit-learn/scikit-learn/issues/21755 */display: inline-block !important;position: relative;}#sk-container-id-1 div.sk-text-repr-fallback {display: none;}</style><div id=\"sk-container-id-1\" class=\"sk-top-container\"><div class=\"sk-text-repr-fallback\"><pre>StandardScaler()</pre><b>In a Jupyter environment, please rerun this cell to show the HTML representation or trust the notebook. <br />On GitHub, the HTML representation is unable to render, please try loading this page with nbviewer.org.</b></div><div class=\"sk-container\" hidden><div class=\"sk-item\"><div class=\"sk-estimator sk-toggleable\"><input class=\"sk-toggleable__control sk-hidden--visually\" id=\"sk-estimator-id-1\" type=\"checkbox\" checked><label for=\"sk-estimator-id-1\" class=\"sk-toggleable__label sk-toggleable__label-arrow\">StandardScaler</label><div class=\"sk-toggleable__content\"><pre>StandardScaler()</pre></div></div></div></div></div>"
      ],
      "text/plain": [
       "StandardScaler()"
      ]
     },
     "execution_count": 27,
     "metadata": {},
     "output_type": "execute_result"
    }
   ],
   "source": [
    "# normalisasi\n",
    "std_scaler = StandardScaler()\n",
    "std_scaler.fit(X_train[num_feature])"
   ]
  },
  {
   "cell_type": "markdown",
   "metadata": {},
   "source": [
    "#### Encoding"
   ]
  },
  {
   "cell_type": "code",
   "execution_count": 28,
   "metadata": {},
   "outputs": [
    {
     "data": {
      "text/plain": [
       "early_mid_late_month      3\n",
       "day_name                  7\n",
       "month_name                6\n",
       "hour_name                 2\n",
       "brand                   414\n",
       "category_1               13\n",
       "category_2               97\n",
       "dtype: int64"
      ]
     },
     "execution_count": 28,
     "metadata": {},
     "output_type": "execute_result"
    }
   ],
   "source": [
    "X[cat_feature].nunique()"
   ]
  },
  {
   "cell_type": "markdown",
   "metadata": {},
   "source": [
    "There are categorical features that have many unique values, so that categorical features that have more than 10 will be encoded with the ordinal encoding method, in addition to the one hot encoding method."
   ]
  },
  {
   "cell_type": "markdown",
   "metadata": {},
   "source": [
    "##### One Hot Encoding"
   ]
  },
  {
   "cell_type": "code",
   "execution_count": 29,
   "metadata": {},
   "outputs": [
    {
     "name": "stdout",
     "output_type": "stream",
     "text": [
      "Index(['early_mid_late_month', 'day_name', 'month_name', 'hour_name'], dtype='object')\n"
     ]
    },
    {
     "data": {
      "text/html": [
       "<style>#sk-container-id-2 {color: black;background-color: white;}#sk-container-id-2 pre{padding: 0;}#sk-container-id-2 div.sk-toggleable {background-color: white;}#sk-container-id-2 label.sk-toggleable__label {cursor: pointer;display: block;width: 100%;margin-bottom: 0;padding: 0.3em;box-sizing: border-box;text-align: center;}#sk-container-id-2 label.sk-toggleable__label-arrow:before {content: \"▸\";float: left;margin-right: 0.25em;color: #696969;}#sk-container-id-2 label.sk-toggleable__label-arrow:hover:before {color: black;}#sk-container-id-2 div.sk-estimator:hover label.sk-toggleable__label-arrow:before {color: black;}#sk-container-id-2 div.sk-toggleable__content {max-height: 0;max-width: 0;overflow: hidden;text-align: left;background-color: #f0f8ff;}#sk-container-id-2 div.sk-toggleable__content pre {margin: 0.2em;color: black;border-radius: 0.25em;background-color: #f0f8ff;}#sk-container-id-2 input.sk-toggleable__control:checked~div.sk-toggleable__content {max-height: 200px;max-width: 100%;overflow: auto;}#sk-container-id-2 input.sk-toggleable__control:checked~label.sk-toggleable__label-arrow:before {content: \"▾\";}#sk-container-id-2 div.sk-estimator input.sk-toggleable__control:checked~label.sk-toggleable__label {background-color: #d4ebff;}#sk-container-id-2 div.sk-label input.sk-toggleable__control:checked~label.sk-toggleable__label {background-color: #d4ebff;}#sk-container-id-2 input.sk-hidden--visually {border: 0;clip: rect(1px 1px 1px 1px);clip: rect(1px, 1px, 1px, 1px);height: 1px;margin: -1px;overflow: hidden;padding: 0;position: absolute;width: 1px;}#sk-container-id-2 div.sk-estimator {font-family: monospace;background-color: #f0f8ff;border: 1px dotted black;border-radius: 0.25em;box-sizing: border-box;margin-bottom: 0.5em;}#sk-container-id-2 div.sk-estimator:hover {background-color: #d4ebff;}#sk-container-id-2 div.sk-parallel-item::after {content: \"\";width: 100%;border-bottom: 1px solid gray;flex-grow: 1;}#sk-container-id-2 div.sk-label:hover label.sk-toggleable__label {background-color: #d4ebff;}#sk-container-id-2 div.sk-serial::before {content: \"\";position: absolute;border-left: 1px solid gray;box-sizing: border-box;top: 0;bottom: 0;left: 50%;z-index: 0;}#sk-container-id-2 div.sk-serial {display: flex;flex-direction: column;align-items: center;background-color: white;padding-right: 0.2em;padding-left: 0.2em;position: relative;}#sk-container-id-2 div.sk-item {position: relative;z-index: 1;}#sk-container-id-2 div.sk-parallel {display: flex;align-items: stretch;justify-content: center;background-color: white;position: relative;}#sk-container-id-2 div.sk-item::before, #sk-container-id-2 div.sk-parallel-item::before {content: \"\";position: absolute;border-left: 1px solid gray;box-sizing: border-box;top: 0;bottom: 0;left: 50%;z-index: -1;}#sk-container-id-2 div.sk-parallel-item {display: flex;flex-direction: column;z-index: 1;position: relative;background-color: white;}#sk-container-id-2 div.sk-parallel-item:first-child::after {align-self: flex-end;width: 50%;}#sk-container-id-2 div.sk-parallel-item:last-child::after {align-self: flex-start;width: 50%;}#sk-container-id-2 div.sk-parallel-item:only-child::after {width: 0;}#sk-container-id-2 div.sk-dashed-wrapped {border: 1px dashed gray;margin: 0 0.4em 0.5em 0.4em;box-sizing: border-box;padding-bottom: 0.4em;background-color: white;}#sk-container-id-2 div.sk-label label {font-family: monospace;font-weight: bold;display: inline-block;line-height: 1.2em;}#sk-container-id-2 div.sk-label-container {text-align: center;}#sk-container-id-2 div.sk-container {/* jupyter's `normalize.less` sets `[hidden] { display: none; }` but bootstrap.min.css set `[hidden] { display: none !important; }` so we also need the `!important` here to be able to override the default hidden behavior on the sphinx rendered scikit-learn.org. See: https://github.com/scikit-learn/scikit-learn/issues/21755 */display: inline-block !important;position: relative;}#sk-container-id-2 div.sk-text-repr-fallback {display: none;}</style><div id=\"sk-container-id-2\" class=\"sk-top-container\"><div class=\"sk-text-repr-fallback\"><pre>OneHotEncoder(handle_unknown=&#x27;ignore&#x27;, sparse=False)</pre><b>In a Jupyter environment, please rerun this cell to show the HTML representation or trust the notebook. <br />On GitHub, the HTML representation is unable to render, please try loading this page with nbviewer.org.</b></div><div class=\"sk-container\" hidden><div class=\"sk-item\"><div class=\"sk-estimator sk-toggleable\"><input class=\"sk-toggleable__control sk-hidden--visually\" id=\"sk-estimator-id-2\" type=\"checkbox\" checked><label for=\"sk-estimator-id-2\" class=\"sk-toggleable__label sk-toggleable__label-arrow\">OneHotEncoder</label><div class=\"sk-toggleable__content\"><pre>OneHotEncoder(handle_unknown=&#x27;ignore&#x27;, sparse=False)</pre></div></div></div></div></div>"
      ],
      "text/plain": [
       "OneHotEncoder(handle_unknown='ignore', sparse=False)"
      ]
     },
     "execution_count": 29,
     "metadata": {},
     "output_type": "execute_result"
    }
   ],
   "source": [
    "# one hot encoding\n",
    "ohe_feature = X[cat_feature].nunique().index[:4]\n",
    "print(ohe_feature)\n",
    "\n",
    "ohe = OneHotEncoder(sparse=False, handle_unknown = 'ignore')\n",
    "ohe.fit(X_train[ohe_feature])"
   ]
  },
  {
   "cell_type": "markdown",
   "metadata": {},
   "source": [
    "##### Ordinal Encoding"
   ]
  },
  {
   "cell_type": "code",
   "execution_count": 30,
   "metadata": {},
   "outputs": [
    {
     "name": "stdout",
     "output_type": "stream",
     "text": [
      "Index(['brand', 'category_1', 'category_2'], dtype='object')\n"
     ]
    },
    {
     "data": {
      "text/html": [
       "<style>#sk-container-id-3 {color: black;background-color: white;}#sk-container-id-3 pre{padding: 0;}#sk-container-id-3 div.sk-toggleable {background-color: white;}#sk-container-id-3 label.sk-toggleable__label {cursor: pointer;display: block;width: 100%;margin-bottom: 0;padding: 0.3em;box-sizing: border-box;text-align: center;}#sk-container-id-3 label.sk-toggleable__label-arrow:before {content: \"▸\";float: left;margin-right: 0.25em;color: #696969;}#sk-container-id-3 label.sk-toggleable__label-arrow:hover:before {color: black;}#sk-container-id-3 div.sk-estimator:hover label.sk-toggleable__label-arrow:before {color: black;}#sk-container-id-3 div.sk-toggleable__content {max-height: 0;max-width: 0;overflow: hidden;text-align: left;background-color: #f0f8ff;}#sk-container-id-3 div.sk-toggleable__content pre {margin: 0.2em;color: black;border-radius: 0.25em;background-color: #f0f8ff;}#sk-container-id-3 input.sk-toggleable__control:checked~div.sk-toggleable__content {max-height: 200px;max-width: 100%;overflow: auto;}#sk-container-id-3 input.sk-toggleable__control:checked~label.sk-toggleable__label-arrow:before {content: \"▾\";}#sk-container-id-3 div.sk-estimator input.sk-toggleable__control:checked~label.sk-toggleable__label {background-color: #d4ebff;}#sk-container-id-3 div.sk-label input.sk-toggleable__control:checked~label.sk-toggleable__label {background-color: #d4ebff;}#sk-container-id-3 input.sk-hidden--visually {border: 0;clip: rect(1px 1px 1px 1px);clip: rect(1px, 1px, 1px, 1px);height: 1px;margin: -1px;overflow: hidden;padding: 0;position: absolute;width: 1px;}#sk-container-id-3 div.sk-estimator {font-family: monospace;background-color: #f0f8ff;border: 1px dotted black;border-radius: 0.25em;box-sizing: border-box;margin-bottom: 0.5em;}#sk-container-id-3 div.sk-estimator:hover {background-color: #d4ebff;}#sk-container-id-3 div.sk-parallel-item::after {content: \"\";width: 100%;border-bottom: 1px solid gray;flex-grow: 1;}#sk-container-id-3 div.sk-label:hover label.sk-toggleable__label {background-color: #d4ebff;}#sk-container-id-3 div.sk-serial::before {content: \"\";position: absolute;border-left: 1px solid gray;box-sizing: border-box;top: 0;bottom: 0;left: 50%;z-index: 0;}#sk-container-id-3 div.sk-serial {display: flex;flex-direction: column;align-items: center;background-color: white;padding-right: 0.2em;padding-left: 0.2em;position: relative;}#sk-container-id-3 div.sk-item {position: relative;z-index: 1;}#sk-container-id-3 div.sk-parallel {display: flex;align-items: stretch;justify-content: center;background-color: white;position: relative;}#sk-container-id-3 div.sk-item::before, #sk-container-id-3 div.sk-parallel-item::before {content: \"\";position: absolute;border-left: 1px solid gray;box-sizing: border-box;top: 0;bottom: 0;left: 50%;z-index: -1;}#sk-container-id-3 div.sk-parallel-item {display: flex;flex-direction: column;z-index: 1;position: relative;background-color: white;}#sk-container-id-3 div.sk-parallel-item:first-child::after {align-self: flex-end;width: 50%;}#sk-container-id-3 div.sk-parallel-item:last-child::after {align-self: flex-start;width: 50%;}#sk-container-id-3 div.sk-parallel-item:only-child::after {width: 0;}#sk-container-id-3 div.sk-dashed-wrapped {border: 1px dashed gray;margin: 0 0.4em 0.5em 0.4em;box-sizing: border-box;padding-bottom: 0.4em;background-color: white;}#sk-container-id-3 div.sk-label label {font-family: monospace;font-weight: bold;display: inline-block;line-height: 1.2em;}#sk-container-id-3 div.sk-label-container {text-align: center;}#sk-container-id-3 div.sk-container {/* jupyter's `normalize.less` sets `[hidden] { display: none; }` but bootstrap.min.css set `[hidden] { display: none !important; }` so we also need the `!important` here to be able to override the default hidden behavior on the sphinx rendered scikit-learn.org. See: https://github.com/scikit-learn/scikit-learn/issues/21755 */display: inline-block !important;position: relative;}#sk-container-id-3 div.sk-text-repr-fallback {display: none;}</style><div id=\"sk-container-id-3\" class=\"sk-top-container\"><div class=\"sk-text-repr-fallback\"><pre>OrdinalEncoder(handle_unknown=&#x27;use_encoded_value&#x27;, unknown_value=-1)</pre><b>In a Jupyter environment, please rerun this cell to show the HTML representation or trust the notebook. <br />On GitHub, the HTML representation is unable to render, please try loading this page with nbviewer.org.</b></div><div class=\"sk-container\" hidden><div class=\"sk-item\"><div class=\"sk-estimator sk-toggleable\"><input class=\"sk-toggleable__control sk-hidden--visually\" id=\"sk-estimator-id-3\" type=\"checkbox\" checked><label for=\"sk-estimator-id-3\" class=\"sk-toggleable__label sk-toggleable__label-arrow\">OrdinalEncoder</label><div class=\"sk-toggleable__content\"><pre>OrdinalEncoder(handle_unknown=&#x27;use_encoded_value&#x27;, unknown_value=-1)</pre></div></div></div></div></div>"
      ],
      "text/plain": [
       "OrdinalEncoder(handle_unknown='use_encoded_value', unknown_value=-1)"
      ]
     },
     "execution_count": 30,
     "metadata": {},
     "output_type": "execute_result"
    }
   ],
   "source": [
    "ord_feature = X[cat_feature].nunique().index[4:]\n",
    "print(ord_feature)\n",
    "\n",
    "ordinal = OrdinalEncoder(handle_unknown = 'use_encoded_value', unknown_value = -1)\n",
    "ordinal.fit(X_train[ord_feature])"
   ]
  },
  {
   "cell_type": "markdown",
   "metadata": {},
   "source": [
    "#### Pipeline"
   ]
  },
  {
   "cell_type": "code",
   "execution_count": 31,
   "metadata": {},
   "outputs": [],
   "source": [
    "num_pipe = Pipeline([\n",
    "    ('winso', Winsorizer(capping_method='iqr', tail='both', fold=1.5, variables=num_feature, missing_values='ignore')),\n",
    "    ('std_scaler', StandardScaler())\n",
    "    ])\n",
    "\n",
    "cat_ohe_pipe = Pipeline([\n",
    "    ('ohe_encoder', OneHotEncoder(sparse=False, handle_unknown='ignore'))\n",
    "    ])\n",
    "\n",
    "cat_ord_pipe = Pipeline([\n",
    "    ('ord_encoder', OrdinalEncoder(handle_unknown = 'use_encoded_value', unknown_value = -1))\n",
    "    ])\n",
    "\n",
    "preprocessing_pipe = ColumnTransformer([\n",
    "    (\"num\", num_pipe, num_feature),\n",
    "    (\"cat_ohe\", cat_ohe_pipe, ohe_feature),\n",
    "    (\"cat_ord\", cat_ord_pipe, ord_feature)    \n",
    "    ])"
   ]
  },
  {
   "cell_type": "markdown",
   "metadata": {},
   "source": [
    "### Model Definition"
   ]
  },
  {
   "cell_type": "code",
   "execution_count": 32,
   "metadata": {},
   "outputs": [],
   "source": [
    "# Logistic Regression\n",
    "logr_pipe = Pipeline([\n",
    "    (\"preproscessing\", preprocessing_pipe),\n",
    "    (\"logreg\", LogisticRegression())\n",
    "    ])\n",
    "\n",
    "# Support Vector Machines (SVM)\n",
    "svm_pipe = Pipeline([\n",
    "    (\"preproscessing\", preprocessing_pipe),\n",
    "    (\"svm\", SVC())\n",
    "    ])\n",
    "\n",
    "# K-Nearest Neighbour (KNN)\n",
    "knn_pipe = Pipeline([\n",
    "    (\"preproscessing\", preprocessing_pipe),\n",
    "    (\"knn\", KNeighborsClassifier())\n",
    "    ])\n",
    "\n",
    "# Decision Tree\n",
    "dtc_pipe = Pipeline([\n",
    "    (\"preproscessing\", preprocessing_pipe),\n",
    "    (\"dectree\", DecisionTreeClassifier())\n",
    "    ])\n",
    "\n",
    "# Random Forest\n",
    "rfc_pipe = Pipeline([\n",
    "    (\"preproscessing\", preprocessing_pipe),\n",
    "    (\"randfor\", RandomForestClassifier())\n",
    "    ])\n",
    "\n",
    "# Naive Bayes\n",
    "gnb_pipe = Pipeline([\n",
    "    (\"preproscessing\", preprocessing_pipe),\n",
    "    (\"gausnb\", GaussianNB())\n",
    "    ])"
   ]
  },
  {
   "cell_type": "markdown",
   "metadata": {},
   "source": [
    "### Model Training"
   ]
  },
  {
   "cell_type": "code",
   "execution_count": 33,
   "metadata": {},
   "outputs": [],
   "source": [
    "model_pipelines = [logr_pipe, svm_pipe, knn_pipe, dtc_pipe, rfc_pipe, gnb_pipe]\n",
    "model_names = [\n",
    "    'LogisticRegression',\n",
    "    'SVC',\n",
    "    'KNeighborsClassifier',\n",
    "    'DecisionTreeClassifier',\n",
    "    'RandomForestClassifier',\n",
    "    'GaussianNB'\n",
    "]\n",
    "\n",
    "model_results = pd.DataFrame(index=model_names)"
   ]
  },
  {
   "cell_type": "code",
   "execution_count": 34,
   "metadata": {},
   "outputs": [
    {
     "name": "stderr",
     "output_type": "stream",
     "text": [
      "C:\\Anaconda3\\lib\\site-packages\\sklearn\\metrics\\_classification.py:1327: UndefinedMetricWarning: Precision is ill-defined and being set to 0.0 due to no predicted samples. Use `zero_division` parameter to control this behavior.\n",
      "  _warn_prf(average, modifier, msg_start, len(result))\n"
     ]
    }
   ],
   "source": [
    "if len(model_pipelines) == len(model_names):\n",
    "    for model, names in zip(model_pipelines, model_names):\n",
    "        model.fit(X_train, y_train)\n",
    "        ytrain_pred = model.predict(X_train) \n",
    "        ytest_pred = model.predict(X_test)\n",
    "        model_results.loc[names, 'Accuracy of Train Data'] = model.score(X_train, y_train)\n",
    "        model_results.loc[names, 'Accuracy of Test Data'] = model.score(X_test, y_test)\n",
    "        model_results.loc[names, 'ROC AUC Train Data'] = roc_auc_score(y_train, ytrain_pred)\n",
    "        model_results.loc[names, 'ROC AUC Test Data'] = roc_auc_score(y_test, ytest_pred)\n",
    "        model_results.loc[names, 'Precision'] = precision_score(y_test, ytest_pred)\n",
    "        model_results.loc[names, 'F1 Score'] = f1_score(y_test, ytest_pred)"
   ]
  },
  {
   "cell_type": "code",
   "execution_count": 35,
   "metadata": {},
   "outputs": [
    {
     "data": {
      "text/html": [
       "<div>\n",
       "<style scoped>\n",
       "    .dataframe tbody tr th:only-of-type {\n",
       "        vertical-align: middle;\n",
       "    }\n",
       "\n",
       "    .dataframe tbody tr th {\n",
       "        vertical-align: top;\n",
       "    }\n",
       "\n",
       "    .dataframe thead th {\n",
       "        text-align: right;\n",
       "    }\n",
       "</style>\n",
       "<table border=\"1\" class=\"dataframe\">\n",
       "  <thead>\n",
       "    <tr style=\"text-align: right;\">\n",
       "      <th></th>\n",
       "      <th>Accuracy of Train Data</th>\n",
       "      <th>Accuracy of Test Data</th>\n",
       "      <th>ROC AUC Train Data</th>\n",
       "      <th>ROC AUC Test Data</th>\n",
       "      <th>Precision</th>\n",
       "      <th>F1 Score</th>\n",
       "    </tr>\n",
       "  </thead>\n",
       "  <tbody>\n",
       "    <tr>\n",
       "      <th>RandomForestClassifier</th>\n",
       "      <td>0.985169</td>\n",
       "      <td>0.642289</td>\n",
       "      <td>0.984820</td>\n",
       "      <td>0.640832</td>\n",
       "      <td>0.602613</td>\n",
       "      <td>0.613532</td>\n",
       "    </tr>\n",
       "    <tr>\n",
       "      <th>DecisionTreeClassifier</th>\n",
       "      <td>0.985169</td>\n",
       "      <td>0.614372</td>\n",
       "      <td>0.983836</td>\n",
       "      <td>0.611071</td>\n",
       "      <td>0.575807</td>\n",
       "      <td>0.575336</td>\n",
       "    </tr>\n",
       "    <tr>\n",
       "      <th>KNeighborsClassifier</th>\n",
       "      <td>0.732451</td>\n",
       "      <td>0.583271</td>\n",
       "      <td>0.728228</td>\n",
       "      <td>0.578294</td>\n",
       "      <td>0.542989</td>\n",
       "      <td>0.533175</td>\n",
       "    </tr>\n",
       "    <tr>\n",
       "      <th>GaussianNB</th>\n",
       "      <td>0.563578</td>\n",
       "      <td>0.570640</td>\n",
       "      <td>0.544606</td>\n",
       "      <td>0.552236</td>\n",
       "      <td>0.542692</td>\n",
       "      <td>0.425834</td>\n",
       "    </tr>\n",
       "    <tr>\n",
       "      <th>LogisticRegression</th>\n",
       "      <td>0.559165</td>\n",
       "      <td>0.551322</td>\n",
       "      <td>0.535822</td>\n",
       "      <td>0.527934</td>\n",
       "      <td>0.511894</td>\n",
       "      <td>0.354755</td>\n",
       "    </tr>\n",
       "    <tr>\n",
       "      <th>SVC</th>\n",
       "      <td>0.546244</td>\n",
       "      <td>0.545590</td>\n",
       "      <td>0.500000</td>\n",
       "      <td>0.500000</td>\n",
       "      <td>0.000000</td>\n",
       "      <td>0.000000</td>\n",
       "    </tr>\n",
       "  </tbody>\n",
       "</table>\n",
       "</div>"
      ],
      "text/plain": [
       "                        Accuracy of Train Data  Accuracy of Test Data  \\\n",
       "RandomForestClassifier                0.985169               0.642289   \n",
       "DecisionTreeClassifier                0.985169               0.614372   \n",
       "KNeighborsClassifier                  0.732451               0.583271   \n",
       "GaussianNB                            0.563578               0.570640   \n",
       "LogisticRegression                    0.559165               0.551322   \n",
       "SVC                                   0.546244               0.545590   \n",
       "\n",
       "                        ROC AUC Train Data  ROC AUC Test Data  Precision  \\\n",
       "RandomForestClassifier            0.984820           0.640832   0.602613   \n",
       "DecisionTreeClassifier            0.983836           0.611071   0.575807   \n",
       "KNeighborsClassifier              0.728228           0.578294   0.542989   \n",
       "GaussianNB                        0.544606           0.552236   0.542692   \n",
       "LogisticRegression                0.535822           0.527934   0.511894   \n",
       "SVC                               0.500000           0.500000   0.000000   \n",
       "\n",
       "                        F1 Score  \n",
       "RandomForestClassifier  0.613532  \n",
       "DecisionTreeClassifier  0.575336  \n",
       "KNeighborsClassifier    0.533175  \n",
       "GaussianNB              0.425834  \n",
       "LogisticRegression      0.354755  \n",
       "SVC                     0.000000  "
      ]
     },
     "execution_count": 35,
     "metadata": {},
     "output_type": "execute_result"
    }
   ],
   "source": [
    "model_results = model_results.sort_values('Precision', ascending=False)\n",
    "model_results"
   ]
  },
  {
   "cell_type": "markdown",
   "metadata": {},
   "source": [
    "Random Forest, Decison Tree, and KNeighbours models show the best results among other models, but these models are still overfitting. These three models still have the potential to improve their performance, so only these three models will be evaluated to the next stage."
   ]
  },
  {
   "cell_type": "markdown",
   "metadata": {},
   "source": [
    "### Model Evaluation"
   ]
  },
  {
   "cell_type": "markdown",
   "metadata": {},
   "source": [
    "#### Cross Validation Models for Overfitting Models\n",
    "The accuracy of some overfitting models was re-measured using cross validation."
   ]
  },
  {
   "cell_type": "code",
   "execution_count": 36,
   "metadata": {},
   "outputs": [
    {
     "name": "stdout",
     "output_type": "stream",
     "text": [
      "Cross validation accuracy: [0.63611553 0.64399454 0.64717925 0.66082803 0.64126479]\n",
      "Average cross-validation accuracy: 0.6459\n"
     ]
    }
   ],
   "source": [
    "# RandomForestClassifier\n",
    "scores = cross_val_score(rfc_pipe, X_train, y_train, cv=5)\n",
    "print('Cross validation accuracy:', scores)\n",
    "print('Average cross-validation accuracy:', round(np.mean(scores), 4))"
   ]
  },
  {
   "cell_type": "code",
   "execution_count": 37,
   "metadata": {},
   "outputs": [
    {
     "name": "stdout",
     "output_type": "stream",
     "text": [
      "Cross validation accuracy: [0.62156015 0.61533212 0.62579618 0.62784349 0.61783439]\n",
      "Average cross-validation accuracy: 0.6217\n"
     ]
    }
   ],
   "source": [
    "# DecisionTreeClassifier\n",
    "scores = cross_val_score(dtc_pipe, X_train, y_train, cv=5)\n",
    "print('Cross validation accuracy:', scores)\n",
    "print('Average cross-validation accuracy:', round(np.mean(scores), 4))"
   ]
  },
  {
   "cell_type": "code",
   "execution_count": 38,
   "metadata": {},
   "outputs": [
    {
     "name": "stdout",
     "output_type": "stream",
     "text": [
      "Cross validation accuracy: [0.57721174 0.57939035 0.58917197 0.58484986 0.5666515 ]\n",
      "Average cross-validation accuracy: 0.5795\n"
     ]
    }
   ],
   "source": [
    "# KNeighborsClassifier\n",
    "scores = cross_val_score(knn_pipe, X_train, y_train, cv=5)\n",
    "print('Cross validation accuracy:', scores)\n",
    "print('Average cross-validation accuracy:', round(np.mean(scores), 4))"
   ]
  },
  {
   "cell_type": "markdown",
   "metadata": {},
   "source": [
    "After cross-validation for the three models, it turns out that the performance of the models is not that much different."
   ]
  },
  {
   "cell_type": "markdown",
   "metadata": {},
   "source": [
    "#### Tuning Hyperparameter"
   ]
  },
  {
   "cell_type": "code",
   "execution_count": 40,
   "metadata": {},
   "outputs": [
    {
     "name": "stdout",
     "output_type": "stream",
     "text": [
      "Best parameters: {'randfor__criterion': 'gini', 'randfor__max_depth': 16, 'randfor__max_features': 'sqrt', 'randfor__n_estimators': 256}\n",
      "Best cross-validation score: 0.6612076477820203\n"
     ]
    }
   ],
   "source": [
    "# Random Forest\n",
    "param_grid = {\n",
    "    'randfor__max_depth': [2, 8, 16],\n",
    "    'randfor__n_estimators': [128, 256],\n",
    "    'randfor__max_features': ['sqrt', 'log2'],\n",
    "    'randfor__criterion' : ['gini', 'entropy']\n",
    "}\n",
    "\n",
    "grid_search_rf = GridSearchCV(rfc_pipe, param_grid, cv=5)\n",
    "grid_model_result_rf = grid_search_rf.fit(X_train, y_train)\n",
    "\n",
    "print(\"Best parameters: {}\".format(grid_model_result_rf.best_params_))\n",
    "print(\"Best cross-validation score: {}\".format(grid_model_result_rf.best_score_))"
   ]
  },
  {
   "cell_type": "code",
   "execution_count": 41,
   "metadata": {},
   "outputs": [
    {
     "name": "stdout",
     "output_type": "stream",
     "text": [
      "Best parameters: {'dectree__criterion': 'gini', 'dectree__max_depth': 8, 'dectree__min_samples_leaf': 5}\n",
      "Best cross-validation score: 0.6497886928861869\n"
     ]
    }
   ],
   "source": [
    "# Decision Tree Classifier\n",
    "param_grid = {\n",
    "    'dectree__max_depth': [2, 8, 16],\n",
    "    'dectree__min_samples_leaf': [5, 10, 20, 50, 100],\n",
    "    'dectree__criterion' : ['gini', 'entropy']\n",
    "}\n",
    "\n",
    "grid_search_dt = GridSearchCV(dtc_pipe, param_grid, cv=5)\n",
    "grid_model_result_dt = grid_search_dt.fit(X_train, y_train)\n",
    "\n",
    "print(\"Best parameters: {}\".format(grid_model_result_dt.best_params_))\n",
    "print(\"Best cross-validation score: {}\".format(grid_model_result_dt.best_score_))"
   ]
  },
  {
   "cell_type": "code",
   "execution_count": 42,
   "metadata": {},
   "outputs": [
    {
     "name": "stdout",
     "output_type": "stream",
     "text": [
      "Best parameters: {'dectree__criterion': 'gini', 'dectree__max_depth': 8, 'dectree__min_samples_leaf': 5}\n",
      "Best cross-validation score: 0.6498796743498907\n"
     ]
    }
   ],
   "source": [
    "# KNeighborsClassifier\n",
    "param_grid = {\n",
    "    'knn__n_neighbors': [5,7,9,11,13,15],\n",
    "    'knn__weights': ['uniform','distance'],\n",
    "    'knn__metric' : ['minkowski','euclidean','manhattan']\n",
    "}\n",
    "\n",
    "grid_search_knn = GridSearchCV(knn_pipe, param_grid, cv=5)\n",
    "grid_model_result_knn = grid_model_result_dt.fit(X_train, y_train)\n",
    "\n",
    "print(\"Best parameters: {}\".format(grid_model_result_dt.best_params_))\n",
    "print(\"Best cross-validation score: {}\".format(grid_model_result_dt.best_score_))"
   ]
  },
  {
   "cell_type": "markdown",
   "metadata": {},
   "source": [
    "After hyperparameter tuning, the performance of the model only improved slightly compared to before. There are a number of things that could possibly be further done to improve the model's performance:\n",
    "- Feature selection by looking at the correlation between features\n",
    "- Improve data pre-processing\n",
    "- Use the ensemble method\n",
    "- Combining random search and grid search methods so that it can increase the possibility of more parameters being used"
   ]
  },
  {
   "cell_type": "markdown",
   "metadata": {},
   "source": [
    "#### Confusion Matrix and Classification Reports After Tuning Hyperparameter"
   ]
  },
  {
   "cell_type": "code",
   "execution_count": 43,
   "metadata": {},
   "outputs": [],
   "source": [
    "# function for create a confusion matrix\n",
    "def conf_matrix(model_names, y_test, y_pred):\n",
    "    plt.figure(figsize=(6, 6))\n",
    "    plt.title(f'Confusion Matrix of {model_names}')\n",
    "    ax = plt.subplot()\n",
    "    cm = confusion_matrix(y_test, y_pred)\n",
    "    sns.heatmap(cm, annot=True, ax = ax, fmt = 'g', cmap=plt.cm.Blues)\n",
    "    ax.set_xlabel('Prediction Label')\n",
    "    ax.set_ylabel('Actual Label')\n",
    "    plt.show()\n",
    "\n",
    "# function for show the results of model\n",
    "def model_results(names, y_pred, y_test=y_test):\n",
    "    score = f1_score(y_test, y_pred)\n",
    "    accscore = accuracy_score(y_test, y_pred)\n",
    "    \n",
    "    print(f'----------   {names}   ----------')\n",
    "    print(\"f1 score:\", score)\n",
    "    print(\"acc score:\", accscore)\n",
    "    print()\n",
    "    conf_matrix(names, y_test, y_pred)\n",
    "    print()\n",
    "    print('Classification Report')\n",
    "    print(classification_report(y_test, y_pred))"
   ]
  },
  {
   "cell_type": "code",
   "execution_count": 44,
   "metadata": {},
   "outputs": [
    {
     "name": "stdout",
     "output_type": "stream",
     "text": [
      "----------   Random Forest   ----------\n",
      "f1 score: 0.6295142494519442\n",
      "acc score: 0.6591656936630931\n",
      "\n"
     ]
    },
    {
     "data": {
      "image/png": "[encoded data removed]",
      "text/plain": [
       "<Figure size 432x432 with 2 Axes>"
      ]
     },
     "metadata": {
      "needs_background": "light"
     },
     "output_type": "display_data"
    },
    {
     "name": "stdout",
     "output_type": "stream",
     "text": [
      "\n",
      "Classification Report\n",
      "              precision    recall  f1-score   support\n",
      "\n",
      "         0.0       0.69      0.68      0.68      5140\n",
      "         1.0       0.62      0.64      0.63      4281\n",
      "\n",
      "    accuracy                           0.66      9421\n",
      "   macro avg       0.66      0.66      0.66      9421\n",
      "weighted avg       0.66      0.66      0.66      9421\n",
      "\n"
     ]
    }
   ],
   "source": [
    "# random forest\n",
    "y_test_pred = grid_model_result_rf.best_estimator_.predict(X_test)\n",
    "model_results('Random Forest', y_test_pred)"
   ]
  },
  {
   "cell_type": "code",
   "execution_count": 45,
   "metadata": {},
   "outputs": [
    {
     "name": "stdout",
     "output_type": "stream",
     "text": [
      "----------   Decision Tree   ----------\n",
      "f1 score: 0.5801181349754932\n",
      "acc score: 0.6453667338923681\n",
      "\n"
     ]
    },
    {
     "data": {
      "image/png": "[encoded data removed]",
      "text/plain": [
       "<Figure size 432x432 with 2 Axes>"
      ]
     },
     "metadata": {
      "needs_background": "light"
     },
     "output_type": "display_data"
    },
    {
     "name": "stdout",
     "output_type": "stream",
     "text": [
      "\n",
      "Classification Report\n",
      "              precision    recall  f1-score   support\n",
      "\n",
      "         0.0       0.66      0.73      0.69      5140\n",
      "         1.0       0.63      0.54      0.58      4281\n",
      "\n",
      "    accuracy                           0.65      9421\n",
      "   macro avg       0.64      0.64      0.64      9421\n",
      "weighted avg       0.64      0.65      0.64      9421\n",
      "\n"
     ]
    }
   ],
   "source": [
    "# Decision Tree Classifier\n",
    "y_test_pred = grid_model_result_dt.best_estimator_.predict(X_test)\n",
    "model_results('Decision Tree', y_test_pred)"
   ]
  },
  {
   "cell_type": "code",
   "execution_count": 46,
   "metadata": {},
   "outputs": [
    {
     "name": "stdout",
     "output_type": "stream",
     "text": [
      "----------   K-Nearest Neighbours   ----------\n",
      "f1 score: 0.5801181349754932\n",
      "acc score: 0.6453667338923681\n",
      "\n"
     ]
    },
    {
     "data": {
      "image/png": "[encoded data removed]",
      "text/plain": [
       "<Figure size 432x432 with 2 Axes>"
      ]
     },
     "metadata": {
      "needs_background": "light"
     },
     "output_type": "display_data"
    },
    {
     "name": "stdout",
     "output_type": "stream",
     "text": [
      "\n",
      "Classification Report\n",
      "              precision    recall  f1-score   support\n",
      "\n",
      "         0.0       0.66      0.73      0.69      5140\n",
      "         1.0       0.63      0.54      0.58      4281\n",
      "\n",
      "    accuracy                           0.65      9421\n",
      "   macro avg       0.64      0.64      0.64      9421\n",
      "weighted avg       0.64      0.65      0.64      9421\n",
      "\n"
     ]
    }
   ],
   "source": [
    "# KNeighborsClassifier\n",
    "y_test_pred = grid_model_result_knn.best_estimator_.predict(X_test)\n",
    "model_results('K-Nearest Neighbours', y_test_pred)"
   ]
  },
  {
   "cell_type": "markdown",
   "metadata": {},
   "source": [
    "## Conclusion"
   ]
  },
  {
   "cell_type": "markdown",
   "metadata": {},
   "source": [
    "- The three products with the highest number of sales are product id 4099645, 3829355, and 1821813. The revenue of product id 3829355 is not in the top 10, because the price of these products is much cheaper than the other 2 products. Product id 3829355 is a phone, while 4099645 and 1821813 are video cards for computers. The brand of product id 4099645 is Gigabyte, while the other two products are unknown.\n",
    "- MSI and Gigabyte brands are the most popular brands with high revenue value.\n",
    "- The lowest revenue is in October 2020 and the revenue continues to rise until January 2021 which is the highest revenue.\n",
    "- The model with the highest accuracy in predicting customers who decide to purchase after add items into the cart and in this case study dataset is Random Forest with an accuracy rate of 0.66\n",
    "- After tuning the hyperparameters, the model performance has not improved much better. Some things that might be done to improve the performance of the model are such as, perform feature selection based on correlation, improve data pre-processing, using the ensemble method, and combine random search and grid search methods."
   ]
  },
  {
   "cell_type": "code",
   "execution_count": null,
   "metadata": {},
   "outputs": [],
   "source": []
  }
 ],
 "metadata": {
  "kernelspec": {
   "display_name": "Python 3",
   "language": "python",
   "name": "python3"
  },
  "varInspector": {
   "cols": {
    "lenName": 16,
    "lenType": 16,
    "lenVar": 40
   },
   "kernels_config": {
    "python": {
     "delete_cmd_postfix": "",
     "delete_cmd_prefix": "del ",
     "library": "var_list.py",
     "varRefreshCmd": "print(var_dic_list())"
    },
    "r": {
     "delete_cmd_postfix": ") ",
     "delete_cmd_prefix": "rm(",
     "library": "var_list.r",
     "varRefreshCmd": "cat(var_dic_list()) "
    }
   },
   "types_to_exclude": [
    "module",
    "function",
    "builtin_function_or_method",
    "instance",
    "_Feature"
   ],
   "window_display": false
  }
 },
 "nbformat": 4,
 "nbformat_minor": 4
}
